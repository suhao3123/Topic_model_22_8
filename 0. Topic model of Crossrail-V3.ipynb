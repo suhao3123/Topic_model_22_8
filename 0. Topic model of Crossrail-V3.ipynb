{
 "cells": [
  {
   "cell_type": "markdown",
   "metadata": {},
   "source": [
    "# Prerequisites"
   ]
  },
  {
   "cell_type": "code",
   "execution_count": 1,
   "metadata": {},
   "outputs": [],
   "source": [
    "# pip install PyMuPDF                    # (install PyMuPDF for extracting info from PDF files)\n",
    "# pip install tika                       # (install tika for extracting paragraphs from PDF files)\n",
    "# pip install spacy==2.2.0               # (install spacy for lemmatization)\n",
    "# conda install gensim                   # (intall gesim for topic modelling)\n",
    "# pip install pyLDAvis                   # (install pyLDAvis for topic modelling visulisation)\n",
    "# conda install -c conda-forge pyldavis  # (if you use aconda to install pyLADvis)"
   ]
  },
  {
   "cell_type": "code",
   "execution_count": 2,
   "metadata": {
    "scrolled": false
   },
   "outputs": [
    {
     "name": "stderr",
     "output_type": "stream",
     "text": [
      "[nltk_data] Error loading stopwords: <urlopen error [Errno 11004]\n",
      "[nltk_data]     getaddrinfo failed>\n"
     ]
    }
   ],
   "source": [
    "import pandas as pd\n",
    "import numpy as np\n",
    "import nltk; nltk.download('stopwords') \n",
    "from nltk.corpus import stopwords      # import stop words\n",
    "stop_words = stopwords.words('english')"
   ]
  },
  {
   "cell_type": "code",
   "execution_count": 3,
   "metadata": {},
   "outputs": [
    {
     "name": "stderr",
     "output_type": "stream",
     "text": [
      "F:\\Anaconda\\lib\\site-packages\\sklearn\\decomposition\\_lda.py:28: DeprecationWarning: `np.float` is a deprecated alias for the builtin `float`. To silence this warning, use `float` by itself. Doing this will not modify any behavior and is safe. If you specifically wanted the numpy scalar type, use `np.float64` here.\n",
      "Deprecated in NumPy 1.20; for more details and guidance: https://numpy.org/devdocs/release/1.20.0-notes.html#deprecations\n",
      "  EPS = np.finfo(np.float).eps\n",
      "\n"
     ]
    }
   ],
   "source": [
    "import re\n",
    "from pprint import pprint\n",
    "\n",
    "# glob for extracting the directories of metadata\n",
    "import glob\n",
    "\n",
    "# PyMuPDF\n",
    "import fitz\n",
    "\n",
    "# tika\n",
    "import tika               \n",
    "from tika import parser   \n",
    "\n",
    "# Gensim\n",
    "import gensim\n",
    "import gensim.corpora as corpora\n",
    "from gensim.utils import simple_preprocess\n",
    "from gensim.models import CoherenceModel\n",
    "\n",
    "# spacy for lemmatization\n",
    "import spacy\n",
    "\n",
    "# Visualisation\n",
    "import plotly.express as px\n",
    "import pyLDAvis\n",
    "import pyLDAvis.gensim_models\n",
    "import matplotlib.pyplot as plt\n",
    "%matplotlib inline\n",
    "\n",
    "# Enable logging for gensim - optional\n",
    "import logging\n",
    "logging.basicConfig(format='%(asctime)s : %(levelname)s : %(message)s', level=logging.ERROR)\n",
    "\n",
    "import warnings\n",
    "warnings.filterwarnings(\"ignore\",category=DeprecationWarning)\n",
    "import os"
   ]
  },
  {
   "cell_type": "markdown",
   "metadata": {},
   "source": [
    "# Import pdf files, data wrangling and overview"
   ]
  },
  {
   "cell_type": "code",
   "execution_count": 4,
   "metadata": {},
   "outputs": [
    {
     "data": {
      "text/plain": [
       "'D:\\\\LEON\\\\Business Analytics\\\\Study\\\\9. Business Project\\\\Data set\\\\Crossrail\\\\British_Railways_(London)_Bill_Lords_(By_Order)_20_Jan_1988.pdf'"
      ]
     },
     "execution_count": 4,
     "metadata": {},
     "output_type": "execute_result"
    }
   ],
   "source": [
    "# Extract the directories of the PDF files\n",
    "pdf_dir = \"D:\\LEON\\Business Analytics\\Study\\9. Business Project\\Data set\\Crossrail\"\n",
    "pdf_files = glob.glob(\"%s/*.pdf\" % pdf_dir)\n",
    "pdf_files[3]"
   ]
  },
  {
   "cell_type": "code",
   "execution_count": 5,
   "metadata": {},
   "outputs": [
    {
     "name": "stderr",
     "output_type": "stream",
     "text": [
      "mupdf: cmsOpenProfileFromMem failed\n"
     ]
    }
   ],
   "source": [
    "# Use PyMuPDF to extract all info of the PDF files (text, title, date, etc)\n",
    "list_metadata = []\n",
    "for i in pdf_files:\n",
    "    with fitz.open(i) as doc:\n",
    "        info = doc.metadata\n",
    "        info['file_name'] = os.path.basename(i)\n",
    "        text = ''\n",
    "        for page in doc:\n",
    "            text+= page.getText()\n",
    "        info['Content'] = text\n",
    "        \n",
    "    list_metadata.append(info)"
   ]
  },
  {
   "cell_type": "code",
   "execution_count": 6,
   "metadata": {},
   "outputs": [
    {
     "data": {
      "text/html": [
       "<div>\n",
       "<style scoped>\n",
       "    .dataframe tbody tr th:only-of-type {\n",
       "        vertical-align: middle;\n",
       "    }\n",
       "\n",
       "    .dataframe tbody tr th {\n",
       "        vertical-align: top;\n",
       "    }\n",
       "\n",
       "    .dataframe thead th {\n",
       "        text-align: right;\n",
       "    }\n",
       "</style>\n",
       "<table border=\"1\" class=\"dataframe\">\n",
       "  <thead>\n",
       "    <tr style=\"text-align: right;\">\n",
       "      <th></th>\n",
       "      <th>format</th>\n",
       "      <th>title</th>\n",
       "      <th>author</th>\n",
       "      <th>subject</th>\n",
       "      <th>keywords</th>\n",
       "      <th>creator</th>\n",
       "      <th>producer</th>\n",
       "      <th>creationDate</th>\n",
       "      <th>modDate</th>\n",
       "      <th>trapped</th>\n",
       "      <th>encryption</th>\n",
       "      <th>file_name</th>\n",
       "      <th>Content</th>\n",
       "      <th>document_id</th>\n",
       "    </tr>\n",
       "  </thead>\n",
       "  <tbody>\n",
       "    <tr>\n",
       "      <th>0</th>\n",
       "      <td>PDF 1.7</td>\n",
       "      <td></td>\n",
       "      <td>Katherine A Bloomfield</td>\n",
       "      <td></td>\n",
       "      <td></td>\n",
       "      <td>Microsoft® Word 2019</td>\n",
       "      <td>Microsoft® Word 2019</td>\n",
       "      <td>D:20201012160043+01'00'</td>\n",
       "      <td>D:20201012160043+01'00'</td>\n",
       "      <td></td>\n",
       "      <td>None</td>\n",
       "      <td>10-Year_Transport_Plan_02_Jul_2002.pdf</td>\n",
       "      <td>10-Year Transport Plan \\n \\n6. \\n \\nMr. Geoffr...</td>\n",
       "      <td>0</td>\n",
       "    </tr>\n",
       "    <tr>\n",
       "      <th>1</th>\n",
       "      <td>PDF 1.4</td>\n",
       "      <td></td>\n",
       "      <td></td>\n",
       "      <td></td>\n",
       "      <td></td>\n",
       "      <td>pdftk 2.02 - www.pdftk.com</td>\n",
       "      <td>itext-paulo-155 (itextpdf.sf.net-lowagie.com)</td>\n",
       "      <td>D:20190730052236Z</td>\n",
       "      <td>D:20190730052236Z</td>\n",
       "      <td></td>\n",
       "      <td>None</td>\n",
       "      <td>10_year_plan_for_transport_21_May_2002.pdf</td>\n",
       "      <td>House of Commons \\nTransport, Local Government...</td>\n",
       "      <td>1</td>\n",
       "    </tr>\n",
       "    <tr>\n",
       "      <th>2</th>\n",
       "      <td>PDF 1.4</td>\n",
       "      <td>Microsoft Word - 021588</td>\n",
       "      <td>stellent</td>\n",
       "      <td></td>\n",
       "      <td></td>\n",
       "      <td>PScript5.dll Version 5.2</td>\n",
       "      <td>Acrobat Distiller 5.0.5 (Windows)</td>\n",
       "      <td>D:20041008151844+01'00'</td>\n",
       "      <td>D:20041008151844+01'00'</td>\n",
       "      <td></td>\n",
       "      <td>None</td>\n",
       "      <td>A_New_deal_for_Transport_Better_for_everyone_W...</td>\n",
       "      <td>AnNew deal for Transport: Better for everyone ...</td>\n",
       "      <td>2</td>\n",
       "    </tr>\n",
       "  </tbody>\n",
       "</table>\n",
       "</div>"
      ],
      "text/plain": [
       "    format                    title                  author subject keywords  \\\n",
       "0  PDF 1.7                           Katherine A Bloomfield                    \n",
       "1  PDF 1.4                                                                     \n",
       "2  PDF 1.4  Microsoft Word - 021588                stellent                    \n",
       "\n",
       "                      creator                                       producer  \\\n",
       "0        Microsoft® Word 2019                           Microsoft® Word 2019   \n",
       "1  pdftk 2.02 - www.pdftk.com  itext-paulo-155 (itextpdf.sf.net-lowagie.com)   \n",
       "2    PScript5.dll Version 5.2              Acrobat Distiller 5.0.5 (Windows)   \n",
       "\n",
       "              creationDate                  modDate trapped encryption  \\\n",
       "0  D:20201012160043+01'00'  D:20201012160043+01'00'               None   \n",
       "1        D:20190730052236Z        D:20190730052236Z               None   \n",
       "2  D:20041008151844+01'00'  D:20041008151844+01'00'               None   \n",
       "\n",
       "                                           file_name  \\\n",
       "0             10-Year_Transport_Plan_02_Jul_2002.pdf   \n",
       "1         10_year_plan_for_transport_21_May_2002.pdf   \n",
       "2  A_New_deal_for_Transport_Better_for_everyone_W...   \n",
       "\n",
       "                                             Content  document_id  \n",
       "0  10-Year Transport Plan \\n \\n6. \\n \\nMr. Geoffr...            0  \n",
       "1  House of Commons \\nTransport, Local Government...            1  \n",
       "2  AnNew deal for Transport: Better for everyone ...            2  "
      ]
     },
     "execution_count": 6,
     "metadata": {},
     "output_type": "execute_result"
    }
   ],
   "source": [
    "df = pd.DataFrame(list_metadata)\n",
    "df['document_id'] = df.index\n",
    "df.head(3)"
   ]
  },
  {
   "cell_type": "code",
   "execution_count": 7,
   "metadata": {},
   "outputs": [
    {
     "name": "stdout",
     "output_type": "stream",
     "text": [
      "<class 'pandas.core.frame.DataFrame'>\n",
      "Int64Index: 229 entries, 0 to 228\n",
      "Data columns (total 15 columns):\n",
      " #   Column        Non-Null Count  Dtype \n",
      "---  ------        --------------  ----- \n",
      " 0   format        229 non-null    object\n",
      " 1   title         229 non-null    object\n",
      " 2   author        229 non-null    object\n",
      " 3   subject       229 non-null    object\n",
      " 4   keywords      229 non-null    object\n",
      " 5   creator       229 non-null    object\n",
      " 6   producer      229 non-null    object\n",
      " 7   creationDate  229 non-null    object\n",
      " 8   modDate       229 non-null    object\n",
      " 9   trapped       229 non-null    object\n",
      " 10  encryption    5 non-null      object\n",
      " 11  file_name     229 non-null    object\n",
      " 12  Content       229 non-null    object\n",
      " 13  document_id   229 non-null    int64 \n",
      " 14  Word_count    229 non-null    int64 \n",
      "dtypes: int64(2), object(13)\n",
      "memory usage: 28.6+ KB\n"
     ]
    }
   ],
   "source": [
    "df = df.drop_duplicates(subset = 'Content') # drop duplicate rows\n",
    "df = df.dropna(subset=['Content']) # drop rows whose text content is NaN\n",
    "df['Word_count'] = df ['Content'].str.count(' ') + 1\n",
    "df.info()"
   ]
  },
  {
   "cell_type": "markdown",
   "metadata": {},
   "source": [
    "### Word count"
   ]
  },
  {
   "cell_type": "code",
   "execution_count": 8,
   "metadata": {},
   "outputs": [
    {
     "data": {
      "text/plain": [
       "11132849"
      ]
     },
     "execution_count": 8,
     "metadata": {},
     "output_type": "execute_result"
    }
   ],
   "source": [
    "# Word count\n",
    "df['Word_count'].sum( )"
   ]
  },
  {
   "cell_type": "code",
   "execution_count": 10,
   "metadata": {},
   "outputs": [],
   "source": [
    "# Word count distribution\n",
    "#import seaborn as sns\n",
    "#ax1 = sns.distplot(df['Word_count'])\n",
    "#ax1.set(title = 'Word Count Distribution',\n",
    "#       xlabel = 'Word Count of Each Document');"
   ]
  },
  {
   "cell_type": "markdown",
   "metadata": {},
   "source": [
    "# Tokenization"
   ]
  },
  {
   "cell_type": "code",
   "execution_count": 11,
   "metadata": {
    "scrolled": false
   },
   "outputs": [],
   "source": [
    "data = df.Content.values.tolist()"
   ]
  },
  {
   "cell_type": "code",
   "execution_count": 12,
   "metadata": {},
   "outputs": [],
   "source": [
    "def sent_to_words(sentences):\n",
    "    for sentence in sentences:\n",
    "        yield(gensim.utils.simple_preprocess(str(sentence).encode('utf-8'), deacc=True))  # deacc=True removes punctuations\n",
    "\n",
    "data_words= list(sent_to_words(data))"
   ]
  },
  {
   "cell_type": "markdown",
   "metadata": {},
   "source": [
    "# Processing words: \n",
    "Remove Stopwords, Make Bigrams and Trigrams,Lemmatisation, remove short words and meaningless words"
   ]
  },
  {
   "cell_type": "code",
   "execution_count": 13,
   "metadata": {},
   "outputs": [],
   "source": [
    "# Build the bigram and trigram models\n",
    "bigram = gensim.models.Phrases(data_words, min_count=5, threshold=100) # higher threshold fewer phrases.\n",
    "trigram = gensim.models.Phrases(bigram[data_words], threshold=100)  \n",
    "bigram_mod = gensim.models.phrases.Phraser(bigram)\n",
    "trigram_mod = gensim.models.phrases.Phraser(trigram)"
   ]
  },
  {
   "cell_type": "code",
   "execution_count": 14,
   "metadata": {},
   "outputs": [],
   "source": [
    "# Define functions for stopwords, bigrams, trigrams and lemmatization\n",
    "def remove_stopwords(texts):\n",
    "    return [[word for word in simple_preprocess(str(doc)) if word not in stop_words] for doc in texts]\n",
    "\n",
    "def make_bigrams(texts):\n",
    "    return [bigram_mod[doc] for doc in texts]\n",
    "\n",
    "def make_trigrams(texts):\n",
    "    return [trigram_mod[bigram_mod[doc]] for doc in texts]\n",
    "\n",
    "def lemmatization(texts, allowed_postags=['NOUN', 'ADJ', 'VERB', 'ADV']):\n",
    "    \"\"\"https://spacy.io/api/annotation\"\"\"\n",
    "    texts_out = []\n",
    "    for sent in texts:\n",
    "        doc = nlp(\" \".join(sent)) \n",
    "        texts_out.append([token.lemma_ for token in doc if token.pos_ in allowed_postags])\n",
    "    return texts_out"
   ]
  },
  {
   "cell_type": "code",
   "execution_count": 15,
   "metadata": {},
   "outputs": [
    {
     "name": "stdout",
     "output_type": "stream",
     "text": [
      "[['year', 'transport', 'plan', 'cotswold', 'make', 'statement', 'recommendation', 'recent', 'report', 'transport', 'committee', 'relate', 'investment', 'transport', 'state', 'transport', 'committee', 'report', 'normal', 'way', 'addition', 'say', 'appoint', 'job', 'look', 'department', 'policy', 'keep', 'house', 'informed', 'policy', 'development', 'appropriate', 'committee', 'stingingly', 'critical', 'report', 'government', 'year', 'remain', 'concerned', 'lack', 'clarity', 'surround', 'financing', 'rail', 'lack', 'detailed', 'implementation', 'plan', 'major', 'barrier', 'improve', 'railway', 'expect', 'government', 'interim', 'target', 'define', 'work', 'programme', 'indeed', 'government', 'respond', 'report', 'revise', 'plan', 'produce', 'matter', 'smuggle', 'summer_recess', 'parliament', 'sit', 'report', 'table', 'normal', 'way', 'house', 'sit', 'time', 'particularly', 'conservative', 'government', 'funding', 'railway', 'indeed', 'everything_else', 'arrange', 'annual', 'basis', 'government', 'first', 'time', 'make', 'clear', 'money', 'available', 'year', 'public', 'source', 'select', 'committee', 'welcome', 'government', 'put', 'place', 'year', 'plan', 'major', 'step', 'forward', 'transport', 'planning', 'give', 'degree', 'certainty', 'industry', 'never', 'past', 'specific', 'problem', 'raise', 'select', 'committee', 'refer', 'take', 'administration', 'network', 'rail', 'put', 'place', 'possible', 'far', 'clear', 'individual', 'project', 'deliver', 'improvement', 'year', 'year', 'however', 'come', 'back', 'point', 'make', 'may', 'difference', 'tory', 'put', 'place', 'money', 'investment', 'never', 'available', 'conservative', 'government', 'railway', 'much', 'difficulty', 'suffer', 'year', 'underinvestment', 'right', 'commitment', 'railway', 'investment', 'year', 'plan', 'support', 'scheme', 'crossrail', 'line', 'may', 'draw_attention', 'wide', 'area', 'also', 'need', 'increase', 'capacity', 'railway', 'upgrade', 'kent', 'line', 'particular', 'would', 'significant', 'improvement', 'add', 'capacity', 'increase', 'comfort', 'encourage', 'people', 'use', 'railway', 'darle', 'aware', 'problem', 'refer', 'know', 'substantial', 'investment', 'programme', 'introduce', 'new', 'railway', 'carriage', 'also', 'aware', 'problem', 'number', 'railway', 'line', 'work', 'address', 'come', 'back', 'point', 'problem', 'encounter', 'railway', 'could', 'foreseen', 'year', 'ago', 'pay', 'high', 'price', 'successive_government', 'underinvestment', 'share', 'hon_friend', 'frustration', 'crossrail', 'rather', 'inappropriately', 'name', 'thameslink', 'consider', 'doubt', 'demand', 'transport', 'substantial', 'likely', 'far', 'great', 'expansion', 'take', 'place', 'particularly', 'anxious', 'ensure', 'money', 'workable', 'plan', 'place', 'sadly', 'say', 'maidenhead', 'always', 'listen', 'say', 'repeat', 'railtrack', 'legacy', 'appalling', 'lack', 'planning', 'need', 'address', 'government', 'high', 'hope', 'rural', 'bus', 'service', 'however', 'secretary', 'state', 'know', 'full', 'well', 'transport', 'mention', 'early', 'local', 'council', 'prevent', 'enter', 'local', 'arrangement', 'bus', 'company', 'partner', 'age', 'concern', 'provide', 'tailor', 'make', 'demand', 'lead', 'service', 'needy', 'people', 'rural', 'area', 'secretary', 'state', 'come', 'forward', 'proposal', 'remove', 'unnecessary', 'regulation', 'council', 'ham', 'provide', 'quality', 'bus', 'service', 'rural', 'people', 'really', 'need', 'darle', 'listening', 'exchange', 'early', 'right', 'member', 'right', 'minister', 'transport', 'bring', 'back', 'memory', 'last', 'time', 'really', 'deal', 'bus', 'people', 'pick', 'piece', 'bus', 'deregulation', 'introduce', 'last', 'conservative', 'government', 'sympathetic', 'call', 'member', 'side', 'house', 'great', 'use', 'bus', 'believe', 'awful_lot', 'bus', 'service', 'can', 'do', 'train', 'car', 'want', 'encourage', 'great', 'use', 'aware', 'council', 'do', 'lot', 'improve', 'bus', 'service', 'rural', 'well', 'urban', 'council', 'area', 'issue', 'want', 'look', 'next', 'month', 'see', 'improve', 'level', 'bus', 'provision', 'rural', 'area', 'well', 'serve', 'present', 'system', 'believe', 'bus', 'transport', 'could', 'enable', 'people', 'move', 'around', 'present', 'exploit', 'enough', 'agree', 'central', 'railway', 'scheme', 'could', 'make', 'enormous', 'contribution', 'rail', 'freight', 'provide', 'vital', 'economic', 'link', 'north', 'midland', 'make', 'great', 'contribution', 'achieve', 'government', 'year', 'transport', 'plan', 'know', 'want', 'freight', 'user', 'use', 'rail', 'service', 'authority', 'currently', 'consider', 'provide', 'advice', 'report', 'later', 'year', 'keep', 'inform', 'effect', 'condemn', 'plan', 'confidence', 'trick', 'previous', 'secretary', 'state', 'promise', 'would', 'revise', 'plan', 'revise', 'plan', 'publish', 'furthermore', 'secretary', 'state', 'confidence', 'crewe', 'nantwich_mrs_dunwoody', 'extend', 'confidence', 'endorse', 'continued', 'membership', 'rmt', 'darle', 'happily', 'last', 'point', 'lie', 'responsibility', 'suspect', 'member', 'crewe', 'share', 'exactly', 'view', 'may', 'describe', 'substantial', 'point', 'year', 'plan', 'make', 'clear', 'early', 'reply', 'want', 'look', 'aspect', 'department', 'policy', 'currently', 'envisage', 'make', 'revisal', 'year', 'year', 'plan', 'set', 'investment', 'strategy', 'bring', 'much', 'benefit', 'board', 'shall', 'however', 'respond', 'committee', 'say', 'next', 'month', 'shall', 'keep', 'house', 'informed', 'improvement', 'development', 'necessary', 'relation', 'plan', 'year', 'plan', 'investment', 'strategy', 'strategy', 'must', 'capable', 'development', 'improvement', 'intend', 'next', 'come', 'hope', 'say', 'prepared', 'match', 'investment', 'make', 'tory', 'still', 'commit', 'cut', 'suggest', 'far']]\n",
      "[['year', 'transport', 'plan', 'cotswold', 'make', 'statement', 'recommendation', 'recent', 'report', 'transport', 'committee', 'relate', 'investment', 'transport', 'state', 'transport', 'committee', 'report', 'normal', 'addition', 'appoint', 'look', 'department', 'policy', 'keep', 'house', 'informed', 'policy', 'development', 'appropriate', 'committee', 'stingingly', 'critical', 'report', 'government', 'year', 'remain', 'concerned', 'lack', 'clarity', 'surround', 'financing', 'rail', 'lack', 'detailed', 'implementation', 'plan', 'major', 'barrier', 'improve', 'railway', 'expect', 'government', 'interim', 'target', 'define', 'work', 'programme', 'indeed', 'government', 'respond', 'report', 'revise', 'plan', 'produce', 'matter', 'smuggle', 'summer_recess', 'parliament', 'report', 'table', 'normal', 'house', 'time', 'particularly', 'conservative', 'government', 'funding', 'railway', 'indeed', 'everything_else', 'arrange', 'annual', 'basis', 'government', 'first', 'time', 'make', 'clear', 'money', 'available', 'year', 'public', 'source', 'select', 'committee', 'welcome', 'government', 'place', 'year', 'plan', 'major', 'step', 'forward', 'transport', 'planning', 'give', 'degree', 'certainty', 'industry', 'never', 'past', 'specific', 'problem', 'raise', 'select', 'committee', 'refer', 'take', 'administration', 'network', 'rail', 'place', 'possible', 'clear', 'individual', 'project', 'deliver', 'improvement', 'year', 'year', 'however', 'come', 'back', 'point', 'make', 'difference', 'tory', 'place', 'money', 'investment', 'never', 'available', 'conservative', 'government', 'railway', 'much', 'difficulty', 'suffer', 'year', 'underinvestment', 'right', 'commitment', 'railway', 'investment', 'year', 'plan', 'support', 'scheme', 'crossrail', 'line', 'draw_attention', 'wide', 'area', 'also', 'need', 'increase', 'capacity', 'railway', 'upgrade', 'kent', 'line', 'particular', 'would', 'significant', 'improvement', 'capacity', 'increase', 'comfort', 'encourage', 'people', 'railway', 'darle', 'aware', 'problem', 'refer', 'know', 'substantial', 'investment', 'programme', 'introduce', 'railway', 'carriage', 'also', 'aware', 'problem', 'number', 'railway', 'line', 'work', 'address', 'come', 'back', 'point', 'problem', 'encounter', 'railway', 'could', 'foreseen', 'year', 'high', 'price', 'successive_government', 'underinvestment', 'share', 'hon_friend', 'frustration', 'crossrail', 'rather', 'inappropriately', 'name', 'thameslink', 'consider', 'doubt', 'demand', 'transport', 'substantial', 'likely', 'great', 'expansion', 'take', 'place', 'particularly', 'anxious', 'ensure', 'money', 'workable', 'plan', 'place', 'sadly', 'maidenhead', 'always', 'listen', 'repeat', 'railtrack', 'legacy', 'appalling', 'lack', 'planning', 'need', 'address', 'government', 'high', 'hope', 'rural', 'service', 'however', 'secretary', 'state', 'know', 'full', 'well', 'transport', 'mention', 'early', 'local', 'council', 'prevent', 'enter', 'local', 'arrangement', 'company', 'partner', 'concern', 'provide', 'tailor', 'make', 'demand', 'lead', 'service', 'needy', 'people', 'rural', 'area', 'secretary', 'state', 'come', 'forward', 'proposal', 'remove', 'unnecessary', 'regulation', 'council', 'provide', 'quality', 'service', 'rural', 'people', 'really', 'need', 'darle', 'listening', 'exchange', 'early', 'right', 'member', 'right', 'minister', 'transport', 'bring', 'back', 'memory', 'last', 'time', 'really', 'deal', 'people', 'pick', 'piece', 'deregulation', 'introduce', 'last', 'conservative', 'government', 'sympathetic', 'call', 'member', 'side', 'house', 'great', 'believe', 'awful_lot', 'service', 'train', 'want', 'encourage', 'great', 'aware', 'council', 'improve', 'service', 'rural', 'well', 'urban', 'council', 'area', 'issue', 'want', 'look', 'next', 'month', 'improve', 'level', 'provision', 'rural', 'area', 'well', 'serve', 'present', 'system', 'believe', 'transport', 'could', 'enable', 'people', 'move', 'around', 'present', 'exploit', 'enough', 'agree', 'central', 'railway', 'scheme', 'could', 'make', 'enormous', 'contribution', 'rail', 'freight', 'provide', 'vital', 'economic', 'link', 'north', 'midland', 'make', 'great', 'contribution', 'achieve', 'government', 'year', 'transport', 'plan', 'know', 'want', 'freight', 'user', 'rail', 'service', 'authority', 'currently', 'consider', 'provide', 'advice', 'report', 'later', 'year', 'keep', 'inform', 'effect', 'condemn', 'plan', 'confidence', 'trick', 'previous', 'secretary', 'state', 'promise', 'would', 'revise', 'plan', 'revise', 'plan', 'publish', 'furthermore', 'secretary', 'state', 'confidence', 'crewe', 'nantwich_mrs_dunwoody', 'extend', 'confidence', 'endorse', 'continued', 'membership', 'darle', 'happily', 'last', 'point', 'responsibility', 'suspect', 'member', 'crewe', 'share', 'exactly', 'view', 'describe', 'substantial', 'point', 'year', 'plan', 'make', 'clear', 'early', 'reply', 'want', 'look', 'aspect', 'department', 'policy', 'currently', 'envisage', 'make', 'revisal', 'year', 'year', 'plan', 'investment', 'strategy', 'bring', 'much', 'benefit', 'board', 'shall', 'however', 'respond', 'committee', 'next', 'month', 'shall', 'keep', 'house', 'informed', 'improvement', 'development', 'necessary', 'relation', 'plan', 'year', 'plan', 'investment', 'strategy', 'strategy', 'must', 'capable', 'development', 'improvement', 'intend', 'next', 'come', 'hope', 'prepared', 'match', 'investment', 'make', 'tory', 'still', 'commit', 'suggest']]\n"
     ]
    }
   ],
   "source": [
    "# Remove Stop Words\n",
    "data_words_nostops = remove_stopwords(data_words)\n",
    "\n",
    "# Form Bigrams\n",
    "# data_words_bigrams = make_bigrams(data_words_nostops)\n",
    "\n",
    "# Form Trigrams\n",
    "data_words_trigrams = make_trigrams(data_words_nostops)\n",
    "\n",
    "# Initialize spacy 'en' model, keeping only tagger component (for efficiency)\n",
    "# python3 -m spacy download en\n",
    "nlp = spacy.load('en_core_web_sm', disable=['parser', 'ner'])\n",
    "\n",
    "#increase the maximum length of text that the parser or NER can process\n",
    "nlp.max_length = 13000000 #\n",
    "\n",
    "# Do lemmatization keeping only noun, adj, vb, adv\n",
    "data_lemmatized1 = lemmatization(data_words_trigrams, allowed_postags=['NOUN', 'ADJ', 'VERB', 'ADV'])\n",
    "print(data_lemmatized1[:1])\n",
    "\n",
    "# Set the length of word threshold for removing the words less than the threshold\n",
    "minimum_len = 4 #\n",
    "data_lemmatized = []\n",
    "for i in data_lemmatized1:\n",
    "    new_element = [x for x in i if len(x) >= minimum_len]\n",
    "    data_lemmatized.append(new_element)\n",
    "print(data_lemmatized[:1])"
   ]
  },
  {
   "cell_type": "markdown",
   "metadata": {},
   "source": [
    "#  Create the Dictionary and Corpus needed for Topic Modeling"
   ]
  },
  {
   "cell_type": "code",
   "execution_count": 16,
   "metadata": {},
   "outputs": [
    {
     "name": "stdout",
     "output_type": "stream",
     "text": [
      "[[(0, 1), (1, 1), (2, 2), (3, 1), (4, 1), (5, 1), (6, 2), (7, 1), (8, 1), (9, 1), (10, 1), (11, 1), (12, 1), (13, 4), (14, 1), (15, 1), (16, 1), (17, 1), (18, 1), (19, 2), (20, 3), (21, 1), (22, 3), (23, 1), (24, 1), (25, 2), (26, 1), (27, 1), (28, 2), (29, 1), (30, 1), (31, 2), (32, 1), (33, 1), (34, 1), (35, 1), (36, 3), (37, 4), (38, 1), (39, 1), (40, 1), (41, 6), (42, 1), (43, 1), (44, 1), (45, 1), (46, 3), (47, 3), (48, 2), (49, 1), (50, 2), (51, 1), (52, 3), (53, 4), (54, 2), (55, 1), (56, 2), (57, 2), (58, 3), (59, 1), (60, 1), (61, 1), (62, 1), (63, 2), (64, 2), (65, 1), (66, 1), (67, 1), (68, 3), (69, 1), (70, 1), (71, 1), (72, 1), (73, 3), (74, 1), (75, 1), (76, 1), (77, 1), (78, 2), (79, 1), (80, 1), (81, 1), (82, 1), (83, 1), (84, 1), (85, 1), (86, 1), (87, 1), (88, 1), (89, 1), (90, 1), (91, 1), (92, 1), (93, 1), (94, 1), (95, 2), (96, 2), (97, 1), (98, 1), (99, 1), (100, 1), (101, 1), (102, 10), (103, 4), (104, 1), (105, 2), (106, 1), (107, 2), (108, 4), (109, 3), (110, 1), (111, 3), (112, 4), (113, 1), (114, 2), (115, 2), (116, 1), (117, 1), (118, 1), (119, 2), (120, 1), (121, 1), (122, 2), (123, 7), (124, 1), (125, 3), (126, 1), (127, 3), (128, 3), (129, 3), (130, 1), (131, 1), (132, 1), (133, 1), (134, 1), (135, 3), (136, 1), (137, 1), (138, 1), (139, 2), (140, 3), (141, 1), (142, 2), (143, 9), (144, 1), (145, 1), (146, 3), (147, 1), (148, 1), (149, 1), (150, 1), (151, 1), (152, 3), (153, 2), (154, 1), (155, 2), (156, 1), (157, 1), (158, 1), (159, 1), (160, 3), (161, 1), (162, 1), (163, 2), (164, 3), (165, 2), (166, 1), (167, 1), (168, 1), (169, 1), (170, 2), (171, 1), (172, 1), (173, 5), (174, 1), (175, 1), (176, 5), (177, 14), (178, 2), (179, 4), (180, 3), (181, 1), (182, 1), (183, 2), (184, 1), (185, 1), (186, 1), (187, 4), (188, 1), (189, 2), (190, 1), (191, 1), (192, 1), (193, 4), (194, 1), (195, 1), (196, 1), (197, 1), (198, 4), (199, 1), (200, 10), (201, 1), (202, 1), (203, 2), (204, 1), (205, 1), (206, 2), (207, 1), (208, 1), (209, 1), (210, 1), (211, 1), (212, 1), (213, 1), (214, 6), (215, 2), (216, 1), (217, 1), (218, 3), (219, 3), (220, 5), (221, 1), (222, 2), (223, 4), (224, 2), (225, 1), (226, 6), (227, 2), (228, 2), (229, 1), (230, 1), (231, 1), (232, 1), (233, 1), (234, 5), (235, 1), (236, 1), (237, 1), (238, 1), (239, 3), (240, 3), (241, 1), (242, 1), (243, 1), (244, 1), (245, 1), (246, 1), (247, 1), (248, 1), (249, 1), (250, 1), (251, 1), (252, 2), (253, 1), (254, 1), (255, 3), (256, 2), (257, 1), (258, 10), (259, 1), (260, 2), (261, 1), (262, 1), (263, 1), (264, 1), (265, 1), (266, 1), (267, 4), (268, 1), (269, 3), (270, 1), (271, 2), (272, 1), (273, 2), (274, 15)]]\n"
     ]
    }
   ],
   "source": [
    "# Create Dictionary\n",
    "id2word = corpora.Dictionary(data_lemmatized)\n",
    "\n",
    "# Create Corpus\n",
    "texts = data_lemmatized\n",
    "\n",
    "# Term Document Frequency\n",
    "corpus = [id2word.doc2bow(text) for text in texts]\n",
    "\n",
    "# View\n",
    "print(corpus[:1])"
   ]
  },
  {
   "cell_type": "markdown",
   "metadata": {},
   "source": [
    "# Building LDA Model, Hyperameter (k) tuning"
   ]
  },
  {
   "cell_type": "code",
   "execution_count": 17,
   "metadata": {},
   "outputs": [],
   "source": [
    "# set training parameters\n",
    "k = 20\n",
    "passes = 20\n",
    "iterations = 100\n",
    "alpha = 50.0/k   \n",
    "eta = 0.01\n",
    "random_state = 12345\n",
    "minimum_probability = 0"
   ]
  },
  {
   "cell_type": "code",
   "execution_count": 36,
   "metadata": {},
   "outputs": [],
   "source": [
    "# create the function for computing the coherence score of different models with different number of topics.\n",
    "def compute_coherence_values(dictionary, corpus, texts, limit, start, step):\n",
    "    coherence_values = []\n",
    "    model_list = []\n",
    "    for k in range(start, limit, step):\n",
    "        model = gensim.models.LdaModel(num_topics=k, corpus=corpus, id2word=id2word, alpha=alpha, eta=eta, \n",
    "                                       iterations=iterations, passes=passes, random_state = random_state, minimum_probability = minimum_probability)\n",
    "        model_list.append(model)\n",
    "        coherencemodel = CoherenceModel(model=model, texts=texts, dictionary=dictionary, coherence='c_v')\n",
    "        coherence_values.append(coherencemodel.get_coherence())\n",
    "\n",
    "    return model_list, coherence_values"
   ]
  },
  {
   "cell_type": "code",
   "execution_count": null,
   "metadata": {},
   "outputs": [],
   "source": [
    "# apply the function, it might take a long time.\n",
    "#limit=80; start=0; step=5;\n",
    "#model_list, coherence_values = compute_coherence_values(dictionary=id2word, corpus=corpus, texts=texts, start=start, limit=limit, step=step)"
   ]
  },
  {
   "cell_type": "code",
   "execution_count": null,
   "metadata": {},
   "outputs": [],
   "source": [
    "# plot the coherence score against number of topics\n",
    "#x = range(start, limit, step)\n",
    "#list_num_topics = [i for i in x]\n",
    "#df_coherence = pd.DataFrame({'Number_of_Topics': list_num_topics, 'Coherence_Score': coherence_values})\n",
    "#fig1 = px.line(df_coherence, x = 'Number_of_Topics', y=\"Coherence_Score\", title = 'Coherence score against number of topics')\n",
    "#fig1.update_layout(autosize=False, width=1000, height=400)\n",
    "#fig1.update_traces(mode = \"lines + markers\")\n",
    "#fig1.show()"
   ]
  },
  {
   "cell_type": "code",
   "execution_count": 28,
   "metadata": {},
   "outputs": [],
   "source": [
    "# num of topics = 35 to get the optimal coherence socre\n",
    "k = 15\n",
    "lda_model = gensim.models.LdaModel(\n",
    "    corpus = corpus,\n",
    "    id2word = id2word,\n",
    "    alpha = alpha,\n",
    "    eta = eta,\n",
    "    iterations = iterations,\n",
    "    num_topics = k,\n",
    "    passes = passes,\n",
    "    random_state = 12345,\n",
    "    minimum_probability = minimum_probability)"
   ]
  },
  {
   "cell_type": "markdown",
   "metadata": {},
   "source": [
    "# Classify the paragraphs based on the trained model"
   ]
  },
  {
   "cell_type": "markdown",
   "metadata": {},
   "source": [
    "### Extract paragraphs from documents"
   ]
  },
  {
   "cell_type": "code",
   "execution_count": 29,
   "metadata": {},
   "outputs": [],
   "source": [
    "# create the funtion for extraction of paragraphs by splitting the documents by new lines\n",
    "def para_split(i):\n",
    "    if '\\n \\n' in i:\n",
    "        return i.split('\\n \\n')\n",
    "    else:\n",
    "        return i.split('\\n\\n')"
   ]
  },
  {
   "cell_type": "code",
   "execution_count": 30,
   "metadata": {},
   "outputs": [
    {
     "name": "stderr",
     "output_type": "stream",
     "text": [
      "2021-08-21 22:01:18,618 [MainThread  ] [WARNI]  Failed to see startup log message; retrying...\n",
      "2021-08-21 22:01:18,618 : WARNING : Failed to see startup log message; retrying...\n"
     ]
    }
   ],
   "source": [
    "list_paragraphs = []\n",
    "list_para_id = []\n",
    "for i in pdf_files:\n",
    "    j = parser.from_file(i)\n",
    "    m = j['content']\n",
    "    para = para_split(m)\n",
    "    para = [w.replace('\\n', '') for w in para]\n",
    "    para = [x.strip() for x in para if x.strip()] # remove empty elements\n",
    "    para_id = [x for x in range(len(para))] \n",
    "    list_paragraphs.append(para)\n",
    "    list_para_id.append(para_id)"
   ]
  },
  {
   "cell_type": "code",
   "execution_count": 69,
   "metadata": {
    "scrolled": true
   },
   "outputs": [
    {
     "data": {
      "text/html": [
       "<div>\n",
       "<style scoped>\n",
       "    .dataframe tbody tr th:only-of-type {\n",
       "        vertical-align: middle;\n",
       "    }\n",
       "\n",
       "    .dataframe tbody tr th {\n",
       "        vertical-align: top;\n",
       "    }\n",
       "\n",
       "    .dataframe thead th {\n",
       "        text-align: right;\n",
       "    }\n",
       "</style>\n",
       "<table border=\"1\" class=\"dataframe\">\n",
       "  <thead>\n",
       "    <tr style=\"text-align: right;\">\n",
       "      <th></th>\n",
       "      <th>creationDate</th>\n",
       "      <th>document_id</th>\n",
       "      <th>file_name</th>\n",
       "      <th>para_id</th>\n",
       "      <th>paragraphs</th>\n",
       "    </tr>\n",
       "  </thead>\n",
       "  <tbody>\n",
       "    <tr>\n",
       "      <th>0</th>\n",
       "      <td>D:20201012160043+01'00'</td>\n",
       "      <td>0</td>\n",
       "      <td>10-Year_Transport_Plan_02_Jul_2002.pdf</td>\n",
       "      <td>0</td>\n",
       "      <td>10-Year Transport Plan</td>\n",
       "    </tr>\n",
       "    <tr>\n",
       "      <th>1</th>\n",
       "      <td>D:20201012160043+01'00'</td>\n",
       "      <td>0</td>\n",
       "      <td>10-Year_Transport_Plan_02_Jul_2002.pdf</td>\n",
       "      <td>1</td>\n",
       "      <td>6.</td>\n",
       "    </tr>\n",
       "    <tr>\n",
       "      <th>2</th>\n",
       "      <td>D:20201012160043+01'00'</td>\n",
       "      <td>0</td>\n",
       "      <td>10-Year_Transport_Plan_02_Jul_2002.pdf</td>\n",
       "      <td>2</td>\n",
       "      <td>Mr. Geoffrey Clifton-Brown  (Cotswold) If he w...</td>\n",
       "    </tr>\n",
       "    <tr>\n",
       "      <th>3</th>\n",
       "      <td>D:20201012160043+01'00'</td>\n",
       "      <td>0</td>\n",
       "      <td>10-Year_Transport_Plan_02_Jul_2002.pdf</td>\n",
       "      <td>3</td>\n",
       "      <td>The Secretary of State for Transport (Mr. Alis...</td>\n",
       "    </tr>\n",
       "    <tr>\n",
       "      <th>4</th>\n",
       "      <td>D:20201012160043+01'00'</td>\n",
       "      <td>0</td>\n",
       "      <td>10-Year_Transport_Plan_02_Jul_2002.pdf</td>\n",
       "      <td>4</td>\n",
       "      <td>Mr. Clifton-Brown Paragraph 84 of the Select C...</td>\n",
       "    </tr>\n",
       "    <tr>\n",
       "      <th>...</th>\n",
       "      <td>...</td>\n",
       "      <td>...</td>\n",
       "      <td>...</td>\n",
       "      <td>...</td>\n",
       "      <td>...</td>\n",
       "    </tr>\n",
       "    <tr>\n",
       "      <th>148647</th>\n",
       "      <td>D:20201012160658+01'00'</td>\n",
       "      <td>228</td>\n",
       "      <td>West_Coast_Main_Line_05_Mar_2002.pdf</td>\n",
       "      <td>7</td>\n",
       "      <td>Mr. Spellar That was rather ungallant of Oppos...</td>\n",
       "    </tr>\n",
       "    <tr>\n",
       "      <th>148648</th>\n",
       "      <td>D:20201012160658+01'00'</td>\n",
       "      <td>228</td>\n",
       "      <td>West_Coast_Main_Line_05_Mar_2002.pdf</td>\n",
       "      <td>8</td>\n",
       "      <td>Chris Grayling  (Epsom and Ewell) The Governme...</td>\n",
       "    </tr>\n",
       "    <tr>\n",
       "      <th>148649</th>\n",
       "      <td>D:20201012160658+01'00'</td>\n",
       "      <td>228</td>\n",
       "      <td>West_Coast_Main_Line_05_Mar_2002.pdf</td>\n",
       "      <td>9</td>\n",
       "      <td>Mr. Spellar That is fine cheek, coming from a ...</td>\n",
       "    </tr>\n",
       "    <tr>\n",
       "      <th>148650</th>\n",
       "      <td>D:20201012160658+01'00'</td>\n",
       "      <td>228</td>\n",
       "      <td>West_Coast_Main_Line_05_Mar_2002.pdf</td>\n",
       "      <td>10</td>\n",
       "      <td>Andrew Bennett  (Denton and Reddish) Does my r...</td>\n",
       "    </tr>\n",
       "    <tr>\n",
       "      <th>148651</th>\n",
       "      <td>D:20201012160658+01'00'</td>\n",
       "      <td>228</td>\n",
       "      <td>West_Coast_Main_Line_05_Mar_2002.pdf</td>\n",
       "      <td>11</td>\n",
       "      <td>Mr. Spellar I will draw my hon. Friend's comme...</td>\n",
       "    </tr>\n",
       "  </tbody>\n",
       "</table>\n",
       "<p>148652 rows × 5 columns</p>\n",
       "</div>"
      ],
      "text/plain": [
       "                   creationDate  document_id  \\\n",
       "0       D:20201012160043+01'00'            0   \n",
       "1       D:20201012160043+01'00'            0   \n",
       "2       D:20201012160043+01'00'            0   \n",
       "3       D:20201012160043+01'00'            0   \n",
       "4       D:20201012160043+01'00'            0   \n",
       "...                         ...          ...   \n",
       "148647  D:20201012160658+01'00'          228   \n",
       "148648  D:20201012160658+01'00'          228   \n",
       "148649  D:20201012160658+01'00'          228   \n",
       "148650  D:20201012160658+01'00'          228   \n",
       "148651  D:20201012160658+01'00'          228   \n",
       "\n",
       "                                     file_name para_id  \\\n",
       "0       10-Year_Transport_Plan_02_Jul_2002.pdf       0   \n",
       "1       10-Year_Transport_Plan_02_Jul_2002.pdf       1   \n",
       "2       10-Year_Transport_Plan_02_Jul_2002.pdf       2   \n",
       "3       10-Year_Transport_Plan_02_Jul_2002.pdf       3   \n",
       "4       10-Year_Transport_Plan_02_Jul_2002.pdf       4   \n",
       "...                                        ...     ...   \n",
       "148647    West_Coast_Main_Line_05_Mar_2002.pdf       7   \n",
       "148648    West_Coast_Main_Line_05_Mar_2002.pdf       8   \n",
       "148649    West_Coast_Main_Line_05_Mar_2002.pdf       9   \n",
       "148650    West_Coast_Main_Line_05_Mar_2002.pdf      10   \n",
       "148651    West_Coast_Main_Line_05_Mar_2002.pdf      11   \n",
       "\n",
       "                                               paragraphs  \n",
       "0                                  10-Year Transport Plan  \n",
       "1                                                      6.  \n",
       "2       Mr. Geoffrey Clifton-Brown  (Cotswold) If he w...  \n",
       "3       The Secretary of State for Transport (Mr. Alis...  \n",
       "4       Mr. Clifton-Brown Paragraph 84 of the Select C...  \n",
       "...                                                   ...  \n",
       "148647  Mr. Spellar That was rather ungallant of Oppos...  \n",
       "148648  Chris Grayling  (Epsom and Ewell) The Governme...  \n",
       "148649  Mr. Spellar That is fine cheek, coming from a ...  \n",
       "148650  Andrew Bennett  (Denton and Reddish) Does my r...  \n",
       "148651  Mr. Spellar I will draw my hon. Friend's comme...  \n",
       "\n",
       "[148652 rows x 5 columns]"
      ]
     },
     "execution_count": 69,
     "metadata": {},
     "output_type": "execute_result"
    }
   ],
   "source": [
    "df_para1 = df.copy()\n",
    "df_para1['paragraphs'] = list_paragraphs\n",
    "df_para1['para_id'] = list_para_id\n",
    "df_para2 = df_para1.apply(pd.Series.explode)\n",
    "df_para3 = df_para2.reset_index()\n",
    "df_para4 = df_para3[['creationDate', 'document_id', 'file_name', 'para_id', 'paragraphs']]\n",
    "df_para4"
   ]
  },
  {
   "cell_type": "markdown",
   "metadata": {},
   "source": [
    "I applied the 148,652 paragraphs above to classify their topics, but it's quite time-consuming and I hadn't got the result after 2 hours. So as shown below I provide users a threshold n for selecting the praragraphs with more than n words for classification. Here I set n = 30, and the number of paragraph to be classified decreased to 52,697, it takes about half an hour to get the result."
   ]
  },
  {
   "cell_type": "code",
   "execution_count": 70,
   "metadata": {},
   "outputs": [
    {
     "data": {
      "text/html": [
       "<div>\n",
       "<style scoped>\n",
       "    .dataframe tbody tr th:only-of-type {\n",
       "        vertical-align: middle;\n",
       "    }\n",
       "\n",
       "    .dataframe tbody tr th {\n",
       "        vertical-align: top;\n",
       "    }\n",
       "\n",
       "    .dataframe thead th {\n",
       "        text-align: right;\n",
       "    }\n",
       "</style>\n",
       "<table border=\"1\" class=\"dataframe\">\n",
       "  <thead>\n",
       "    <tr style=\"text-align: right;\">\n",
       "      <th></th>\n",
       "      <th>index</th>\n",
       "      <th>creationDate</th>\n",
       "      <th>document_id</th>\n",
       "      <th>file_name</th>\n",
       "      <th>para_id</th>\n",
       "      <th>paragraphs</th>\n",
       "    </tr>\n",
       "  </thead>\n",
       "  <tbody>\n",
       "    <tr>\n",
       "      <th>0</th>\n",
       "      <td>2</td>\n",
       "      <td>D:20201012160043+01'00'</td>\n",
       "      <td>0</td>\n",
       "      <td>10-Year_Transport_Plan_02_Jul_2002.pdf</td>\n",
       "      <td>2</td>\n",
       "      <td>Mr. Geoffrey Clifton-Brown  (Cotswold) If he w...</td>\n",
       "    </tr>\n",
       "    <tr>\n",
       "      <th>1</th>\n",
       "      <td>3</td>\n",
       "      <td>D:20201012160043+01'00'</td>\n",
       "      <td>0</td>\n",
       "      <td>10-Year_Transport_Plan_02_Jul_2002.pdf</td>\n",
       "      <td>3</td>\n",
       "      <td>The Secretary of State for Transport (Mr. Alis...</td>\n",
       "    </tr>\n",
       "    <tr>\n",
       "      <th>2</th>\n",
       "      <td>4</td>\n",
       "      <td>D:20201012160043+01'00'</td>\n",
       "      <td>0</td>\n",
       "      <td>10-Year_Transport_Plan_02_Jul_2002.pdf</td>\n",
       "      <td>4</td>\n",
       "      <td>Mr. Clifton-Brown Paragraph 84 of the Select C...</td>\n",
       "    </tr>\n",
       "    <tr>\n",
       "      <th>3</th>\n",
       "      <td>5</td>\n",
       "      <td>D:20201012160043+01'00'</td>\n",
       "      <td>0</td>\n",
       "      <td>10-Year_Transport_Plan_02_Jul_2002.pdf</td>\n",
       "      <td>5</td>\n",
       "      <td>Mr. Darling The report will be tabled in the n...</td>\n",
       "    </tr>\n",
       "    <tr>\n",
       "      <th>4</th>\n",
       "      <td>6</td>\n",
       "      <td>D:20201012160043+01'00'</td>\n",
       "      <td>0</td>\n",
       "      <td>10-Year_Transport_Plan_02_Jul_2002.pdf</td>\n",
       "      <td>6</td>\n",
       "      <td>Clive Efford  (Eltham) I welcome my right hon....</td>\n",
       "    </tr>\n",
       "    <tr>\n",
       "      <th>...</th>\n",
       "      <td>...</td>\n",
       "      <td>...</td>\n",
       "      <td>...</td>\n",
       "      <td>...</td>\n",
       "      <td>...</td>\n",
       "      <td>...</td>\n",
       "    </tr>\n",
       "    <tr>\n",
       "      <th>52692</th>\n",
       "      <td>148647</td>\n",
       "      <td>D:20201012160658+01'00'</td>\n",
       "      <td>228</td>\n",
       "      <td>West_Coast_Main_Line_05_Mar_2002.pdf</td>\n",
       "      <td>7</td>\n",
       "      <td>Mr. Spellar That was rather ungallant of Oppos...</td>\n",
       "    </tr>\n",
       "    <tr>\n",
       "      <th>52693</th>\n",
       "      <td>148648</td>\n",
       "      <td>D:20201012160658+01'00'</td>\n",
       "      <td>228</td>\n",
       "      <td>West_Coast_Main_Line_05_Mar_2002.pdf</td>\n",
       "      <td>8</td>\n",
       "      <td>Chris Grayling  (Epsom and Ewell) The Governme...</td>\n",
       "    </tr>\n",
       "    <tr>\n",
       "      <th>52694</th>\n",
       "      <td>148649</td>\n",
       "      <td>D:20201012160658+01'00'</td>\n",
       "      <td>228</td>\n",
       "      <td>West_Coast_Main_Line_05_Mar_2002.pdf</td>\n",
       "      <td>9</td>\n",
       "      <td>Mr. Spellar That is fine cheek, coming from a ...</td>\n",
       "    </tr>\n",
       "    <tr>\n",
       "      <th>52695</th>\n",
       "      <td>148650</td>\n",
       "      <td>D:20201012160658+01'00'</td>\n",
       "      <td>228</td>\n",
       "      <td>West_Coast_Main_Line_05_Mar_2002.pdf</td>\n",
       "      <td>10</td>\n",
       "      <td>Andrew Bennett  (Denton and Reddish) Does my r...</td>\n",
       "    </tr>\n",
       "    <tr>\n",
       "      <th>52696</th>\n",
       "      <td>148651</td>\n",
       "      <td>D:20201012160658+01'00'</td>\n",
       "      <td>228</td>\n",
       "      <td>West_Coast_Main_Line_05_Mar_2002.pdf</td>\n",
       "      <td>11</td>\n",
       "      <td>Mr. Spellar I will draw my hon. Friend's comme...</td>\n",
       "    </tr>\n",
       "  </tbody>\n",
       "</table>\n",
       "<p>52697 rows × 6 columns</p>\n",
       "</div>"
      ],
      "text/plain": [
       "        index             creationDate  document_id  \\\n",
       "0           2  D:20201012160043+01'00'            0   \n",
       "1           3  D:20201012160043+01'00'            0   \n",
       "2           4  D:20201012160043+01'00'            0   \n",
       "3           5  D:20201012160043+01'00'            0   \n",
       "4           6  D:20201012160043+01'00'            0   \n",
       "...       ...                      ...          ...   \n",
       "52692  148647  D:20201012160658+01'00'          228   \n",
       "52693  148648  D:20201012160658+01'00'          228   \n",
       "52694  148649  D:20201012160658+01'00'          228   \n",
       "52695  148650  D:20201012160658+01'00'          228   \n",
       "52696  148651  D:20201012160658+01'00'          228   \n",
       "\n",
       "                                    file_name para_id  \\\n",
       "0      10-Year_Transport_Plan_02_Jul_2002.pdf       2   \n",
       "1      10-Year_Transport_Plan_02_Jul_2002.pdf       3   \n",
       "2      10-Year_Transport_Plan_02_Jul_2002.pdf       4   \n",
       "3      10-Year_Transport_Plan_02_Jul_2002.pdf       5   \n",
       "4      10-Year_Transport_Plan_02_Jul_2002.pdf       6   \n",
       "...                                       ...     ...   \n",
       "52692    West_Coast_Main_Line_05_Mar_2002.pdf       7   \n",
       "52693    West_Coast_Main_Line_05_Mar_2002.pdf       8   \n",
       "52694    West_Coast_Main_Line_05_Mar_2002.pdf       9   \n",
       "52695    West_Coast_Main_Line_05_Mar_2002.pdf      10   \n",
       "52696    West_Coast_Main_Line_05_Mar_2002.pdf      11   \n",
       "\n",
       "                                              paragraphs  \n",
       "0      Mr. Geoffrey Clifton-Brown  (Cotswold) If he w...  \n",
       "1      The Secretary of State for Transport (Mr. Alis...  \n",
       "2      Mr. Clifton-Brown Paragraph 84 of the Select C...  \n",
       "3      Mr. Darling The report will be tabled in the n...  \n",
       "4      Clive Efford  (Eltham) I welcome my right hon....  \n",
       "...                                                  ...  \n",
       "52692  Mr. Spellar That was rather ungallant of Oppos...  \n",
       "52693  Chris Grayling  (Epsom and Ewell) The Governme...  \n",
       "52694  Mr. Spellar That is fine cheek, coming from a ...  \n",
       "52695  Andrew Bennett  (Denton and Reddish) Does my r...  \n",
       "52696  Mr. Spellar I will draw my hon. Friend's comme...  \n",
       "\n",
       "[52697 rows x 6 columns]"
      ]
     },
     "execution_count": 70,
     "metadata": {},
     "output_type": "execute_result"
    }
   ],
   "source": [
    "n_word_count = 30                                                        # set the threshold of word count\n",
    "para_word_count = df_para4['paragraphs'].str.split().str.len()           # word count of each paragraph\n",
    "df_para = df_para4[(para_word_count>=n_word_count)].reset_index()        # select only the paragraphs with word count above the threshold\n",
    "df_para"
   ]
  },
  {
   "cell_type": "markdown",
   "metadata": {},
   "source": [
    "### Process the paragraphs"
   ]
  },
  {
   "cell_type": "code",
   "execution_count": 49,
   "metadata": {},
   "outputs": [],
   "source": [
    "# tokenization\n",
    "data2 = df_para.paragraphs.values.tolist()\n",
    "data_words2 = list(sent_to_words(data2))"
   ]
  },
  {
   "cell_type": "code",
   "execution_count": 50,
   "metadata": {},
   "outputs": [],
   "source": [
    "# Remove Stop Words\n",
    "data_words_nostops2 = remove_stopwords(data_words2)\n",
    "\n",
    "# Form Trigrams\n",
    "data_words_trigrams2 = make_trigrams(data_words_nostops2)\n",
    "\n",
    "# Do lemmatization keeping only noun, adj, vb, adv\n",
    "data_lemmatized2 = lemmatization(data_words_trigrams2, allowed_postags=['NOUN', 'ADJ', 'VERB', 'ADV'])"
   ]
  },
  {
   "cell_type": "code",
   "execution_count": 51,
   "metadata": {},
   "outputs": [],
   "source": [
    "# set the length of word threshold for removing the words less than the threshold\n",
    "minimum_len = 4 \n",
    "data_lemmatized2_1 = []\n",
    "for i in data_lemmatized2:\n",
    "    new_element = [x for x in i if len(x) >= minimum_len]\n",
    "    data_lemmatized2_1.append(new_element)"
   ]
  },
  {
   "cell_type": "markdown",
   "metadata": {},
   "source": [
    "### Classify topics of paragraphs"
   ]
  },
  {
   "cell_type": "code",
   "execution_count": 52,
   "metadata": {},
   "outputs": [],
   "source": [
    "# create the function for converting a list of tuples into a dictionary\n",
    "def Convert(tup, di):\n",
    "    di = dict(tup)\n",
    "    return di"
   ]
  },
  {
   "cell_type": "code",
   "execution_count": 53,
   "metadata": {},
   "outputs": [],
   "source": [
    "# belong function: classify topics of paragraphs, it might take a long time because there are 148,651 paragraphs in the 11,132,849-word corpus\n",
    "list_topic_para = []\n",
    "dictionary_topic_para = {}\n",
    "for d in data_lemmatized2_1:\n",
    "    bow = id2word.doc2bow(d)\n",
    "    belong = lda_model[bow]\n",
    "    doc_dic = Convert(belong, dictionary_topic_para)\n",
    "    list_topic_para.append(doc_dic)\n",
    "    df_topic_para = pd.DataFrame(list_topic_para)"
   ]
  },
  {
   "cell_type": "code",
   "execution_count": 71,
   "metadata": {},
   "outputs": [
    {
     "data": {
      "text/html": [
       "<div>\n",
       "<style scoped>\n",
       "    .dataframe tbody tr th:only-of-type {\n",
       "        vertical-align: middle;\n",
       "    }\n",
       "\n",
       "    .dataframe tbody tr th {\n",
       "        vertical-align: top;\n",
       "    }\n",
       "\n",
       "    .dataframe thead th {\n",
       "        text-align: right;\n",
       "    }\n",
       "</style>\n",
       "<table border=\"1\" class=\"dataframe\">\n",
       "  <thead>\n",
       "    <tr style=\"text-align: right;\">\n",
       "      <th></th>\n",
       "      <th>index</th>\n",
       "      <th>creationDate</th>\n",
       "      <th>document_id</th>\n",
       "      <th>file_name</th>\n",
       "      <th>para_id</th>\n",
       "      <th>paragraphs</th>\n",
       "      <th>0</th>\n",
       "      <th>1</th>\n",
       "      <th>2</th>\n",
       "      <th>3</th>\n",
       "      <th>...</th>\n",
       "      <th>5</th>\n",
       "      <th>6</th>\n",
       "      <th>7</th>\n",
       "      <th>8</th>\n",
       "      <th>9</th>\n",
       "      <th>10</th>\n",
       "      <th>11</th>\n",
       "      <th>12</th>\n",
       "      <th>13</th>\n",
       "      <th>14</th>\n",
       "    </tr>\n",
       "  </thead>\n",
       "  <tbody>\n",
       "    <tr>\n",
       "      <th>0</th>\n",
       "      <td>2</td>\n",
       "      <td>D:20201012160043+01'00'</td>\n",
       "      <td>0</td>\n",
       "      <td>10-Year_Transport_Plan_02_Jul_2002.pdf</td>\n",
       "      <td>2</td>\n",
       "      <td>Mr. Geoffrey Clifton-Brown  (Cotswold) If he w...</td>\n",
       "      <td>0.072448</td>\n",
       "      <td>0.062922</td>\n",
       "      <td>0.056170</td>\n",
       "      <td>0.059287</td>\n",
       "      <td>...</td>\n",
       "      <td>0.075801</td>\n",
       "      <td>0.064500</td>\n",
       "      <td>0.060214</td>\n",
       "      <td>0.068891</td>\n",
       "      <td>0.064993</td>\n",
       "      <td>0.055450</td>\n",
       "      <td>0.077713</td>\n",
       "      <td>0.076425</td>\n",
       "      <td>0.068982</td>\n",
       "      <td>0.070236</td>\n",
       "    </tr>\n",
       "    <tr>\n",
       "      <th>1</th>\n",
       "      <td>3</td>\n",
       "      <td>D:20201012160043+01'00'</td>\n",
       "      <td>0</td>\n",
       "      <td>10-Year_Transport_Plan_02_Jul_2002.pdf</td>\n",
       "      <td>3</td>\n",
       "      <td>The Secretary of State for Transport (Mr. Alis...</td>\n",
       "      <td>0.070747</td>\n",
       "      <td>0.070882</td>\n",
       "      <td>0.050330</td>\n",
       "      <td>0.061963</td>\n",
       "      <td>...</td>\n",
       "      <td>0.062193</td>\n",
       "      <td>0.065695</td>\n",
       "      <td>0.061436</td>\n",
       "      <td>0.068397</td>\n",
       "      <td>0.062524</td>\n",
       "      <td>0.049954</td>\n",
       "      <td>0.093780</td>\n",
       "      <td>0.076701</td>\n",
       "      <td>0.064980</td>\n",
       "      <td>0.063693</td>\n",
       "    </tr>\n",
       "    <tr>\n",
       "      <th>2</th>\n",
       "      <td>4</td>\n",
       "      <td>D:20201012160043+01'00'</td>\n",
       "      <td>0</td>\n",
       "      <td>10-Year_Transport_Plan_02_Jul_2002.pdf</td>\n",
       "      <td>4</td>\n",
       "      <td>Mr. Clifton-Brown Paragraph 84 of the Select C...</td>\n",
       "      <td>0.086332</td>\n",
       "      <td>0.063053</td>\n",
       "      <td>0.037152</td>\n",
       "      <td>0.042598</td>\n",
       "      <td>...</td>\n",
       "      <td>0.065017</td>\n",
       "      <td>0.061546</td>\n",
       "      <td>0.050136</td>\n",
       "      <td>0.055723</td>\n",
       "      <td>0.066761</td>\n",
       "      <td>0.037708</td>\n",
       "      <td>0.116469</td>\n",
       "      <td>0.081088</td>\n",
       "      <td>0.071017</td>\n",
       "      <td>0.066188</td>\n",
       "    </tr>\n",
       "    <tr>\n",
       "      <th>3</th>\n",
       "      <td>5</td>\n",
       "      <td>D:20201012160043+01'00'</td>\n",
       "      <td>0</td>\n",
       "      <td>10-Year_Transport_Plan_02_Jul_2002.pdf</td>\n",
       "      <td>5</td>\n",
       "      <td>Mr. Darling The report will be tabled in the n...</td>\n",
       "      <td>0.131403</td>\n",
       "      <td>0.068612</td>\n",
       "      <td>0.025374</td>\n",
       "      <td>0.029843</td>\n",
       "      <td>...</td>\n",
       "      <td>0.044684</td>\n",
       "      <td>0.044783</td>\n",
       "      <td>0.040568</td>\n",
       "      <td>0.055095</td>\n",
       "      <td>0.052669</td>\n",
       "      <td>0.024974</td>\n",
       "      <td>0.061665</td>\n",
       "      <td>0.052602</td>\n",
       "      <td>0.235253</td>\n",
       "      <td>0.040666</td>\n",
       "    </tr>\n",
       "    <tr>\n",
       "      <th>4</th>\n",
       "      <td>6</td>\n",
       "      <td>D:20201012160043+01'00'</td>\n",
       "      <td>0</td>\n",
       "      <td>10-Year_Transport_Plan_02_Jul_2002.pdf</td>\n",
       "      <td>6</td>\n",
       "      <td>Clive Efford  (Eltham) I welcome my right hon....</td>\n",
       "      <td>0.069285</td>\n",
       "      <td>0.069053</td>\n",
       "      <td>0.044518</td>\n",
       "      <td>0.049888</td>\n",
       "      <td>...</td>\n",
       "      <td>0.078048</td>\n",
       "      <td>0.061086</td>\n",
       "      <td>0.068690</td>\n",
       "      <td>0.062046</td>\n",
       "      <td>0.102345</td>\n",
       "      <td>0.043165</td>\n",
       "      <td>0.064314</td>\n",
       "      <td>0.079124</td>\n",
       "      <td>0.093914</td>\n",
       "      <td>0.056291</td>\n",
       "    </tr>\n",
       "    <tr>\n",
       "      <th>...</th>\n",
       "      <td>...</td>\n",
       "      <td>...</td>\n",
       "      <td>...</td>\n",
       "      <td>...</td>\n",
       "      <td>...</td>\n",
       "      <td>...</td>\n",
       "      <td>...</td>\n",
       "      <td>...</td>\n",
       "      <td>...</td>\n",
       "      <td>...</td>\n",
       "      <td>...</td>\n",
       "      <td>...</td>\n",
       "      <td>...</td>\n",
       "      <td>...</td>\n",
       "      <td>...</td>\n",
       "      <td>...</td>\n",
       "      <td>...</td>\n",
       "      <td>...</td>\n",
       "      <td>...</td>\n",
       "      <td>...</td>\n",
       "      <td>...</td>\n",
       "    </tr>\n",
       "    <tr>\n",
       "      <th>52692</th>\n",
       "      <td>148647</td>\n",
       "      <td>D:20201012160658+01'00'</td>\n",
       "      <td>228</td>\n",
       "      <td>West_Coast_Main_Line_05_Mar_2002.pdf</td>\n",
       "      <td>7</td>\n",
       "      <td>Mr. Spellar That was rather ungallant of Oppos...</td>\n",
       "      <td>0.096125</td>\n",
       "      <td>0.071386</td>\n",
       "      <td>0.027858</td>\n",
       "      <td>0.041813</td>\n",
       "      <td>...</td>\n",
       "      <td>0.052810</td>\n",
       "      <td>0.040474</td>\n",
       "      <td>0.051293</td>\n",
       "      <td>0.056721</td>\n",
       "      <td>0.133052</td>\n",
       "      <td>0.026874</td>\n",
       "      <td>0.047339</td>\n",
       "      <td>0.051183</td>\n",
       "      <td>0.162787</td>\n",
       "      <td>0.045006</td>\n",
       "    </tr>\n",
       "    <tr>\n",
       "      <th>52693</th>\n",
       "      <td>148648</td>\n",
       "      <td>D:20201012160658+01'00'</td>\n",
       "      <td>228</td>\n",
       "      <td>West_Coast_Main_Line_05_Mar_2002.pdf</td>\n",
       "      <td>8</td>\n",
       "      <td>Chris Grayling  (Epsom and Ewell) The Governme...</td>\n",
       "      <td>0.085474</td>\n",
       "      <td>0.068257</td>\n",
       "      <td>0.047044</td>\n",
       "      <td>0.056173</td>\n",
       "      <td>...</td>\n",
       "      <td>0.066754</td>\n",
       "      <td>0.061583</td>\n",
       "      <td>0.050914</td>\n",
       "      <td>0.060732</td>\n",
       "      <td>0.076330</td>\n",
       "      <td>0.047374</td>\n",
       "      <td>0.057462</td>\n",
       "      <td>0.060376</td>\n",
       "      <td>0.128952</td>\n",
       "      <td>0.061780</td>\n",
       "    </tr>\n",
       "    <tr>\n",
       "      <th>52694</th>\n",
       "      <td>148649</td>\n",
       "      <td>D:20201012160658+01'00'</td>\n",
       "      <td>228</td>\n",
       "      <td>West_Coast_Main_Line_05_Mar_2002.pdf</td>\n",
       "      <td>9</td>\n",
       "      <td>Mr. Spellar That is fine cheek, coming from a ...</td>\n",
       "      <td>0.073769</td>\n",
       "      <td>0.074035</td>\n",
       "      <td>0.047510</td>\n",
       "      <td>0.057346</td>\n",
       "      <td>...</td>\n",
       "      <td>0.059344</td>\n",
       "      <td>0.056209</td>\n",
       "      <td>0.057094</td>\n",
       "      <td>0.060466</td>\n",
       "      <td>0.061084</td>\n",
       "      <td>0.047341</td>\n",
       "      <td>0.054888</td>\n",
       "      <td>0.058834</td>\n",
       "      <td>0.131114</td>\n",
       "      <td>0.070625</td>\n",
       "    </tr>\n",
       "    <tr>\n",
       "      <th>52695</th>\n",
       "      <td>148650</td>\n",
       "      <td>D:20201012160658+01'00'</td>\n",
       "      <td>228</td>\n",
       "      <td>West_Coast_Main_Line_05_Mar_2002.pdf</td>\n",
       "      <td>10</td>\n",
       "      <td>Andrew Bennett  (Denton and Reddish) Does my r...</td>\n",
       "      <td>0.083192</td>\n",
       "      <td>0.059174</td>\n",
       "      <td>0.047981</td>\n",
       "      <td>0.057561</td>\n",
       "      <td>...</td>\n",
       "      <td>0.068059</td>\n",
       "      <td>0.071295</td>\n",
       "      <td>0.062680</td>\n",
       "      <td>0.064459</td>\n",
       "      <td>0.084050</td>\n",
       "      <td>0.046833</td>\n",
       "      <td>0.059579</td>\n",
       "      <td>0.062758</td>\n",
       "      <td>0.117769</td>\n",
       "      <td>0.049012</td>\n",
       "    </tr>\n",
       "    <tr>\n",
       "      <th>52696</th>\n",
       "      <td>148651</td>\n",
       "      <td>D:20201012160658+01'00'</td>\n",
       "      <td>228</td>\n",
       "      <td>West_Coast_Main_Line_05_Mar_2002.pdf</td>\n",
       "      <td>11</td>\n",
       "      <td>Mr. Spellar I will draw my hon. Friend's comme...</td>\n",
       "      <td>0.065911</td>\n",
       "      <td>0.068391</td>\n",
       "      <td>0.044016</td>\n",
       "      <td>0.043735</td>\n",
       "      <td>...</td>\n",
       "      <td>0.087748</td>\n",
       "      <td>0.063180</td>\n",
       "      <td>0.086749</td>\n",
       "      <td>0.068249</td>\n",
       "      <td>0.082650</td>\n",
       "      <td>0.043095</td>\n",
       "      <td>0.060870</td>\n",
       "      <td>0.063127</td>\n",
       "      <td>0.098716</td>\n",
       "      <td>0.053991</td>\n",
       "    </tr>\n",
       "  </tbody>\n",
       "</table>\n",
       "<p>52697 rows × 21 columns</p>\n",
       "</div>"
      ],
      "text/plain": [
       "        index             creationDate  document_id  \\\n",
       "0           2  D:20201012160043+01'00'            0   \n",
       "1           3  D:20201012160043+01'00'            0   \n",
       "2           4  D:20201012160043+01'00'            0   \n",
       "3           5  D:20201012160043+01'00'            0   \n",
       "4           6  D:20201012160043+01'00'            0   \n",
       "...       ...                      ...          ...   \n",
       "52692  148647  D:20201012160658+01'00'          228   \n",
       "52693  148648  D:20201012160658+01'00'          228   \n",
       "52694  148649  D:20201012160658+01'00'          228   \n",
       "52695  148650  D:20201012160658+01'00'          228   \n",
       "52696  148651  D:20201012160658+01'00'          228   \n",
       "\n",
       "                                    file_name para_id  \\\n",
       "0      10-Year_Transport_Plan_02_Jul_2002.pdf       2   \n",
       "1      10-Year_Transport_Plan_02_Jul_2002.pdf       3   \n",
       "2      10-Year_Transport_Plan_02_Jul_2002.pdf       4   \n",
       "3      10-Year_Transport_Plan_02_Jul_2002.pdf       5   \n",
       "4      10-Year_Transport_Plan_02_Jul_2002.pdf       6   \n",
       "...                                       ...     ...   \n",
       "52692    West_Coast_Main_Line_05_Mar_2002.pdf       7   \n",
       "52693    West_Coast_Main_Line_05_Mar_2002.pdf       8   \n",
       "52694    West_Coast_Main_Line_05_Mar_2002.pdf       9   \n",
       "52695    West_Coast_Main_Line_05_Mar_2002.pdf      10   \n",
       "52696    West_Coast_Main_Line_05_Mar_2002.pdf      11   \n",
       "\n",
       "                                              paragraphs         0         1  \\\n",
       "0      Mr. Geoffrey Clifton-Brown  (Cotswold) If he w...  0.072448  0.062922   \n",
       "1      The Secretary of State for Transport (Mr. Alis...  0.070747  0.070882   \n",
       "2      Mr. Clifton-Brown Paragraph 84 of the Select C...  0.086332  0.063053   \n",
       "3      Mr. Darling The report will be tabled in the n...  0.131403  0.068612   \n",
       "4      Clive Efford  (Eltham) I welcome my right hon....  0.069285  0.069053   \n",
       "...                                                  ...       ...       ...   \n",
       "52692  Mr. Spellar That was rather ungallant of Oppos...  0.096125  0.071386   \n",
       "52693  Chris Grayling  (Epsom and Ewell) The Governme...  0.085474  0.068257   \n",
       "52694  Mr. Spellar That is fine cheek, coming from a ...  0.073769  0.074035   \n",
       "52695  Andrew Bennett  (Denton and Reddish) Does my r...  0.083192  0.059174   \n",
       "52696  Mr. Spellar I will draw my hon. Friend's comme...  0.065911  0.068391   \n",
       "\n",
       "              2         3  ...         5         6         7         8  \\\n",
       "0      0.056170  0.059287  ...  0.075801  0.064500  0.060214  0.068891   \n",
       "1      0.050330  0.061963  ...  0.062193  0.065695  0.061436  0.068397   \n",
       "2      0.037152  0.042598  ...  0.065017  0.061546  0.050136  0.055723   \n",
       "3      0.025374  0.029843  ...  0.044684  0.044783  0.040568  0.055095   \n",
       "4      0.044518  0.049888  ...  0.078048  0.061086  0.068690  0.062046   \n",
       "...         ...       ...  ...       ...       ...       ...       ...   \n",
       "52692  0.027858  0.041813  ...  0.052810  0.040474  0.051293  0.056721   \n",
       "52693  0.047044  0.056173  ...  0.066754  0.061583  0.050914  0.060732   \n",
       "52694  0.047510  0.057346  ...  0.059344  0.056209  0.057094  0.060466   \n",
       "52695  0.047981  0.057561  ...  0.068059  0.071295  0.062680  0.064459   \n",
       "52696  0.044016  0.043735  ...  0.087748  0.063180  0.086749  0.068249   \n",
       "\n",
       "              9        10        11        12        13        14  \n",
       "0      0.064993  0.055450  0.077713  0.076425  0.068982  0.070236  \n",
       "1      0.062524  0.049954  0.093780  0.076701  0.064980  0.063693  \n",
       "2      0.066761  0.037708  0.116469  0.081088  0.071017  0.066188  \n",
       "3      0.052669  0.024974  0.061665  0.052602  0.235253  0.040666  \n",
       "4      0.102345  0.043165  0.064314  0.079124  0.093914  0.056291  \n",
       "...         ...       ...       ...       ...       ...       ...  \n",
       "52692  0.133052  0.026874  0.047339  0.051183  0.162787  0.045006  \n",
       "52693  0.076330  0.047374  0.057462  0.060376  0.128952  0.061780  \n",
       "52694  0.061084  0.047341  0.054888  0.058834  0.131114  0.070625  \n",
       "52695  0.084050  0.046833  0.059579  0.062758  0.117769  0.049012  \n",
       "52696  0.082650  0.043095  0.060870  0.063127  0.098716  0.053991  \n",
       "\n",
       "[52697 rows x 21 columns]"
      ]
     },
     "execution_count": 71,
     "metadata": {},
     "output_type": "execute_result"
    }
   ],
   "source": [
    "# topic distribution across paragraphs\n",
    "df_topic_para1_1 = pd.merge(df_para, df_topic_para, how = 'left', left_index=True, right_index=True)\n",
    "df_topic_para1_1"
   ]
  },
  {
   "cell_type": "code",
   "execution_count": 145,
   "metadata": {},
   "outputs": [],
   "source": [
    "# save the result to disk\n",
    "df_topic_para1_1.to_pickle('./df_topic_para1.pkl')"
   ]
  },
  {
   "cell_type": "code",
   "execution_count": 146,
   "metadata": {},
   "outputs": [],
   "source": [
    "# load the result from disk\n",
    "df_topic_para1 = pd.read_pickle('./df_topic_para1.pkl') "
   ]
  },
  {
   "cell_type": "markdown",
   "metadata": {},
   "source": [
    "### Highest N ranked paragraphs overall"
   ]
  },
  {
   "cell_type": "code",
   "execution_count": 212,
   "metadata": {},
   "outputs": [],
   "source": [
    "df_topic_para1_n = df_topic_para1.copy()\n",
    "df_topic_para1_n['highest_p'] = df_topic_para1_n.iloc[:, 6:].max(axis = 1)         # get the highest probability among the topic distribution of each paragraph\n",
    "df_topic_para1_n['salient_topic'] = df_topic_para1.iloc[:, 6:].idxmax(axis = 1)    # get the corresponding topic id\n",
    "df_topic_para1_n = df_topic_para1_n[['file_name', 'para_id', 'paragraphs', 'salient_topic', 'highest_p']]"
   ]
  },
  {
   "cell_type": "code",
   "execution_count": 213,
   "metadata": {},
   "outputs": [
    {
     "data": {
      "text/html": [
       "<div>\n",
       "<style scoped>\n",
       "    .dataframe tbody tr th:only-of-type {\n",
       "        vertical-align: middle;\n",
       "    }\n",
       "\n",
       "    .dataframe tbody tr th {\n",
       "        vertical-align: top;\n",
       "    }\n",
       "\n",
       "    .dataframe thead th {\n",
       "        text-align: right;\n",
       "    }\n",
       "</style>\n",
       "<table border=\"1\" class=\"dataframe\">\n",
       "  <thead>\n",
       "    <tr style=\"text-align: right;\">\n",
       "      <th></th>\n",
       "      <th>file_name</th>\n",
       "      <th>para_id</th>\n",
       "      <th>paragraphs</th>\n",
       "      <th>salient_topic</th>\n",
       "      <th>highest_p</th>\n",
       "    </tr>\n",
       "  </thead>\n",
       "  <tbody>\n",
       "    <tr>\n",
       "      <th>32358</th>\n",
       "      <td>House_of_Commons._Fifth_report_from_the_Transp...</td>\n",
       "      <td>3</td>\n",
       "      <td>TRANSPORT COMMITTEE 35 24 February 1981] [Cont...</td>\n",
       "      <td>8</td>\n",
       "      <td>0.977223</td>\n",
       "    </tr>\n",
       "    <tr>\n",
       "      <th>32362</th>\n",
       "      <td>House_of_Commons._Fifth_report_from_the_Transp...</td>\n",
       "      <td>7</td>\n",
       "      <td>TRANSPORT COMMITTEE 209 IQiMay 1981] [Continue...</td>\n",
       "      <td>8</td>\n",
       "      <td>0.969239</td>\n",
       "    </tr>\n",
       "    <tr>\n",
       "      <th>32889</th>\n",
       "      <td>House_of_Commons._Transport_Committee._Session...</td>\n",
       "      <td>1</td>\n",
       "      <td>TRANSPORT COMMITTEE 185 \\1 March \\9%1] [Contin...</td>\n",
       "      <td>8</td>\n",
       "      <td>0.962825</td>\n",
       "    </tr>\n",
       "    <tr>\n",
       "      <th>49481</th>\n",
       "      <td>Transport_Select_Committee_The_future_of_light...</td>\n",
       "      <td>0</td>\n",
       "      <td>House of Commons Transport Committee Integrate...</td>\n",
       "      <td>6</td>\n",
       "      <td>0.953018</td>\n",
       "    </tr>\n",
       "    <tr>\n",
       "      <th>32360</th>\n",
       "      <td>House_of_Commons._Fifth_report_from_the_Transp...</td>\n",
       "      <td>5</td>\n",
       "      <td>186 MINUTES OF EVIDENCE TAKEN BEFORE THE 13 Ma...</td>\n",
       "      <td>8</td>\n",
       "      <td>0.948732</td>\n",
       "    </tr>\n",
       "  </tbody>\n",
       "</table>\n",
       "</div>"
      ],
      "text/plain": [
       "                                               file_name para_id  \\\n",
       "32358  House_of_Commons._Fifth_report_from_the_Transp...       3   \n",
       "32362  House_of_Commons._Fifth_report_from_the_Transp...       7   \n",
       "32889  House_of_Commons._Transport_Committee._Session...       1   \n",
       "49481  Transport_Select_Committee_The_future_of_light...       0   \n",
       "32360  House_of_Commons._Fifth_report_from_the_Transp...       5   \n",
       "\n",
       "                                              paragraphs  salient_topic  \\\n",
       "32358  TRANSPORT COMMITTEE 35 24 February 1981] [Cont...              8   \n",
       "32362  TRANSPORT COMMITTEE 209 IQiMay 1981] [Continue...              8   \n",
       "32889  TRANSPORT COMMITTEE 185 \\1 March \\9%1] [Contin...              8   \n",
       "49481  House of Commons Transport Committee Integrate...              6   \n",
       "32360  186 MINUTES OF EVIDENCE TAKEN BEFORE THE 13 Ma...              8   \n",
       "\n",
       "       highest_p  \n",
       "32358   0.977223  \n",
       "32362   0.969239  \n",
       "32889   0.962825  \n",
       "49481   0.953018  \n",
       "32360   0.948732  "
      ]
     },
     "execution_count": 213,
     "metadata": {},
     "output_type": "execute_result"
    }
   ],
   "source": [
    "# highest 5 ranked paragraphs overall\n",
    "df_topic_para1_n.nlargest(5,['highest_p'])"
   ]
  },
  {
   "cell_type": "markdown",
   "metadata": {},
   "source": [
    "### Highest N ranked paragraphs from each topic"
   ]
  },
  {
   "cell_type": "code",
   "execution_count": 174,
   "metadata": {},
   "outputs": [],
   "source": [
    "# define the function for extracting the highest N ranked paragraphs from each topic\n",
    "def top_n_filter(df, top_n):\n",
    "    list_topic_id = [x for x in range(0,k)]\n",
    "    list_n_para = []\n",
    "    list_n_p = []\n",
    "    for x in range(0, k): \n",
    "        n_para = [i for i in df.nlargest(top_n, [x])['paragraphs']]\n",
    "        n_p = [i for i in df.nlargest(top_n, [x])[x]]\n",
    "        list_n_para.append(n_para)\n",
    "        list_n_p.append(n_p)\n",
    "    pd_n_para = pd.DataFrame({'topic_id': list_topic_id, 'salient_paragraph': list_n_para, 'probability': list_n_p})\n",
    "    return(pd_n_para.apply(pd.Series.explode))"
   ]
  },
  {
   "cell_type": "code",
   "execution_count": 175,
   "metadata": {},
   "outputs": [
    {
     "data": {
      "text/html": [
       "<div>\n",
       "<style scoped>\n",
       "    .dataframe tbody tr th:only-of-type {\n",
       "        vertical-align: middle;\n",
       "    }\n",
       "\n",
       "    .dataframe tbody tr th {\n",
       "        vertical-align: top;\n",
       "    }\n",
       "\n",
       "    .dataframe thead th {\n",
       "        text-align: right;\n",
       "    }\n",
       "</style>\n",
       "<table border=\"1\" class=\"dataframe\">\n",
       "  <thead>\n",
       "    <tr style=\"text-align: right;\">\n",
       "      <th></th>\n",
       "      <th>topic_id</th>\n",
       "      <th>salient_paragraph</th>\n",
       "      <th>probability</th>\n",
       "    </tr>\n",
       "  </thead>\n",
       "  <tbody>\n",
       "    <tr>\n",
       "      <th>0</th>\n",
       "      <td>0</td>\n",
       "      <td>Lord Falconer of Thoroton My Lords, obviously ...</td>\n",
       "      <td>0.640784</td>\n",
       "    </tr>\n",
       "    <tr>\n",
       "      <th>0</th>\n",
       "      <td>0</td>\n",
       "      <td>Lord Falconer of Thoroton My Lords, it is unaf...</td>\n",
       "      <td>0.629251</td>\n",
       "    </tr>\n",
       "    <tr>\n",
       "      <th>1</th>\n",
       "      <td>1</td>\n",
       "      <td>somewhere—I think it is that one—is number 19 ...</td>\n",
       "      <td>0.707127</td>\n",
       "    </tr>\n",
       "    <tr>\n",
       "      <th>1</th>\n",
       "      <td>1</td>\n",
       "      <td>hall, the big studio there which we designed, ...</td>\n",
       "      <td>0.681743</td>\n",
       "    </tr>\n",
       "    <tr>\n",
       "      <th>2</th>\n",
       "      <td>2</td>\n",
       "      <td>£40 million to £60 million £20 million to £40 ...</td>\n",
       "      <td>0.066667</td>\n",
       "    </tr>\n",
       "    <tr>\n",
       "      <th>2</th>\n",
       "      <td>2</td>\n",
       "      <td>July 1998 July 1998 July 1998 July 1998 July 1...</td>\n",
       "      <td>0.066667</td>\n",
       "    </tr>\n",
       "    <tr>\n",
       "      <th>3</th>\n",
       "      <td>3</td>\n",
       "      <td>1. In the Compulsory Purchase Act 1965 (hereaf...</td>\n",
       "      <td>0.756951</td>\n",
       "    </tr>\n",
       "    <tr>\n",
       "      <th>3</th>\n",
       "      <td>3</td>\n",
       "      <td>Clause 12 requires notice of any street works ...</td>\n",
       "      <td>0.692393</td>\n",
       "    </tr>\n",
       "    <tr>\n",
       "      <th>4</th>\n",
       "      <td>4</td>\n",
       "      <td>Lord Clinton-Davis My Lords, I thank the Minis...</td>\n",
       "      <td>0.789729</td>\n",
       "    </tr>\n",
       "    <tr>\n",
       "      <th>4</th>\n",
       "      <td>4</td>\n",
       "      <td>Lord Brabazon of Tara My Lords, I beg to move ...</td>\n",
       "      <td>0.782108</td>\n",
       "    </tr>\n",
       "    <tr>\n",
       "      <th>5</th>\n",
       "      <td>5</td>\n",
       "      <td>Transport for London &gt; Annual Report and State...</td>\n",
       "      <td>0.933402</td>\n",
       "    </tr>\n",
       "    <tr>\n",
       "      <th>5</th>\n",
       "      <td>5</td>\n",
       "      <td>FIGURE 4 Percentage chance of peak crowding, f...</td>\n",
       "      <td>0.798811</td>\n",
       "    </tr>\n",
       "    <tr>\n",
       "      <th>6</th>\n",
       "      <td>6</td>\n",
       "      <td>House of Commons Transport Committee Integrate...</td>\n",
       "      <td>0.953018</td>\n",
       "    </tr>\n",
       "    <tr>\n",
       "      <th>6</th>\n",
       "      <td>6</td>\n",
       "      <td>Ev 204 Transport Committee: Evidence APPENDIX ...</td>\n",
       "      <td>0.929976</td>\n",
       "    </tr>\n",
       "    <tr>\n",
       "      <th>7</th>\n",
       "      <td>7</td>\n",
       "      <td>18084. What you were suggesting earlier was a ...</td>\n",
       "      <td>0.554868</td>\n",
       "    </tr>\n",
       "    <tr>\n",
       "      <th>7</th>\n",
       "      <td>7</td>\n",
       "      <td>aoi-t House of Commons Transport Committee Ove...</td>\n",
       "      <td>0.53027</td>\n",
       "    </tr>\n",
       "    <tr>\n",
       "      <th>8</th>\n",
       "      <td>8</td>\n",
       "      <td>TRANSPORT COMMITTEE 35 24 February 1981] [Cont...</td>\n",
       "      <td>0.977223</td>\n",
       "    </tr>\n",
       "    <tr>\n",
       "      <th>8</th>\n",
       "      <td>8</td>\n",
       "      <td>TRANSPORT COMMITTEE 209 IQiMay 1981] [Continue...</td>\n",
       "      <td>0.969239</td>\n",
       "    </tr>\n",
       "    <tr>\n",
       "      <th>9</th>\n",
       "      <td>9</td>\n",
       "      <td>Ixx SECOND REPORT FROM FIGURE 4 STATE OF ORDER...</td>\n",
       "      <td>0.880243</td>\n",
       "    </tr>\n",
       "    <tr>\n",
       "      <th>9</th>\n",
       "      <td>9</td>\n",
       "      <td>THE TRANSPORT COMMITTEE XXXIX FIGURE 1 BR : CA...</td>\n",
       "      <td>0.875046</td>\n",
       "    </tr>\n",
       "    <tr>\n",
       "      <th>10</th>\n",
       "      <td>10</td>\n",
       "      <td>£40 million to £60 million £20 million to £40 ...</td>\n",
       "      <td>0.066667</td>\n",
       "    </tr>\n",
       "    <tr>\n",
       "      <th>10</th>\n",
       "      <td>10</td>\n",
       "      <td>July 1998 July 1998 July 1998 July 1998 July 1...</td>\n",
       "      <td>0.066667</td>\n",
       "    </tr>\n",
       "    <tr>\n",
       "      <th>11</th>\n",
       "      <td>11</td>\n",
       "      <td>Figure 7a: Road deaths and serious injuries 19...</td>\n",
       "      <td>0.90439</td>\n",
       "    </tr>\n",
       "    <tr>\n",
       "      <th>11</th>\n",
       "      <td>11</td>\n",
       "      <td>Appendix D Quality of data The data system for...</td>\n",
       "      <td>0.898391</td>\n",
       "    </tr>\n",
       "    <tr>\n",
       "      <th>12</th>\n",
       "      <td>12</td>\n",
       "      <td>Local action Local transport plans New local t...</td>\n",
       "      <td>0.928547</td>\n",
       "    </tr>\n",
       "    <tr>\n",
       "      <th>12</th>\n",
       "      <td>12</td>\n",
       "      <td>The New Deal for Transport will make a big dif...</td>\n",
       "      <td>0.907127</td>\n",
       "    </tr>\n",
       "    <tr>\n",
       "      <th>13</th>\n",
       "      <td>13</td>\n",
       "      <td>Mr. Michael Portillo (Kensington and Chelsea):...</td>\n",
       "      <td>0.829223</td>\n",
       "    </tr>\n",
       "    <tr>\n",
       "      <th>13</th>\n",
       "      <td>13</td>\n",
       "      <td>Mr. Clarke That might be defensible if someone...</td>\n",
       "      <td>0.792528</td>\n",
       "    </tr>\n",
       "    <tr>\n",
       "      <th>14</th>\n",
       "      <td>14</td>\n",
       "      <td>Indeed, experts reject the Promoter’s reasons ...</td>\n",
       "      <td>0.706924</td>\n",
       "    </tr>\n",
       "    <tr>\n",
       "      <th>14</th>\n",
       "      <td>14</td>\n",
       "      <td>Statement does not mean that document ceases t...</td>\n",
       "      <td>0.666361</td>\n",
       "    </tr>\n",
       "  </tbody>\n",
       "</table>\n",
       "</div>"
      ],
      "text/plain": [
       "    topic_id                                  salient_paragraph probability\n",
       "0          0  Lord Falconer of Thoroton My Lords, obviously ...    0.640784\n",
       "0          0  Lord Falconer of Thoroton My Lords, it is unaf...    0.629251\n",
       "1          1  somewhere—I think it is that one—is number 19 ...    0.707127\n",
       "1          1  hall, the big studio there which we designed, ...    0.681743\n",
       "2          2  £40 million to £60 million £20 million to £40 ...    0.066667\n",
       "2          2  July 1998 July 1998 July 1998 July 1998 July 1...    0.066667\n",
       "3          3  1. In the Compulsory Purchase Act 1965 (hereaf...    0.756951\n",
       "3          3  Clause 12 requires notice of any street works ...    0.692393\n",
       "4          4  Lord Clinton-Davis My Lords, I thank the Minis...    0.789729\n",
       "4          4  Lord Brabazon of Tara My Lords, I beg to move ...    0.782108\n",
       "5          5  Transport for London > Annual Report and State...    0.933402\n",
       "5          5  FIGURE 4 Percentage chance of peak crowding, f...    0.798811\n",
       "6          6  House of Commons Transport Committee Integrate...    0.953018\n",
       "6          6  Ev 204 Transport Committee: Evidence APPENDIX ...    0.929976\n",
       "7          7  18084. What you were suggesting earlier was a ...    0.554868\n",
       "7          7  aoi-t House of Commons Transport Committee Ove...     0.53027\n",
       "8          8  TRANSPORT COMMITTEE 35 24 February 1981] [Cont...    0.977223\n",
       "8          8  TRANSPORT COMMITTEE 209 IQiMay 1981] [Continue...    0.969239\n",
       "9          9  Ixx SECOND REPORT FROM FIGURE 4 STATE OF ORDER...    0.880243\n",
       "9          9  THE TRANSPORT COMMITTEE XXXIX FIGURE 1 BR : CA...    0.875046\n",
       "10        10  £40 million to £60 million £20 million to £40 ...    0.066667\n",
       "10        10  July 1998 July 1998 July 1998 July 1998 July 1...    0.066667\n",
       "11        11  Figure 7a: Road deaths and serious injuries 19...     0.90439\n",
       "11        11  Appendix D Quality of data The data system for...    0.898391\n",
       "12        12  Local action Local transport plans New local t...    0.928547\n",
       "12        12  The New Deal for Transport will make a big dif...    0.907127\n",
       "13        13  Mr. Michael Portillo (Kensington and Chelsea):...    0.829223\n",
       "13        13  Mr. Clarke That might be defensible if someone...    0.792528\n",
       "14        14  Indeed, experts reject the Promoter’s reasons ...    0.706924\n",
       "14        14  Statement does not mean that document ceases t...    0.666361"
      ]
     },
     "execution_count": 175,
     "metadata": {},
     "output_type": "execute_result"
    }
   ],
   "source": [
    "# highest 2 ranked paragraphs from each topic\n",
    "top_n_filter(df_topic_para1, 2)"
   ]
  },
  {
   "cell_type": "markdown",
   "metadata": {},
   "source": [
    "### Highest N ranked paragraphs for topic K"
   ]
  },
  {
   "cell_type": "code",
   "execution_count": 221,
   "metadata": {},
   "outputs": [
    {
     "data": {
      "text/html": [
       "<div>\n",
       "<style scoped>\n",
       "    .dataframe tbody tr th:only-of-type {\n",
       "        vertical-align: middle;\n",
       "    }\n",
       "\n",
       "    .dataframe tbody tr th {\n",
       "        vertical-align: top;\n",
       "    }\n",
       "\n",
       "    .dataframe thead th {\n",
       "        text-align: right;\n",
       "    }\n",
       "</style>\n",
       "<table border=\"1\" class=\"dataframe\">\n",
       "  <thead>\n",
       "    <tr style=\"text-align: right;\">\n",
       "      <th></th>\n",
       "      <th>topic_id</th>\n",
       "      <th>salient_paragraph</th>\n",
       "      <th>probability</th>\n",
       "    </tr>\n",
       "  </thead>\n",
       "  <tbody>\n",
       "    <tr>\n",
       "      <th>7</th>\n",
       "      <td>7</td>\n",
       "      <td>18084. What you were suggesting earlier was a ...</td>\n",
       "      <td>0.554868</td>\n",
       "    </tr>\n",
       "    <tr>\n",
       "      <th>7</th>\n",
       "      <td>7</td>\n",
       "      <td>aoi-t House of Commons Transport Committee Ove...</td>\n",
       "      <td>0.53027</td>\n",
       "    </tr>\n",
       "  </tbody>\n",
       "</table>\n",
       "</div>"
      ],
      "text/plain": [
       "   topic_id                                  salient_paragraph probability\n",
       "7         7  18084. What you were suggesting earlier was a ...    0.554868\n",
       "7         7  aoi-t House of Commons Transport Committee Ove...     0.53027"
      ]
     },
     "execution_count": 221,
     "metadata": {},
     "output_type": "execute_result"
    }
   ],
   "source": [
    "df_n_topic_k = top_n_filter(df_topic_para1, 2)\n",
    "topic_id_chosen = 7                    # choose the topic ID\n",
    "num_para = 2                           # set N\n",
    "topic_id_filter = df_n_topic_k['topic_id'] == topic_id_chosen\n",
    "df_n_topic_k[topic_id_filter]"
   ]
  },
  {
   "cell_type": "markdown",
   "metadata": {},
   "source": [
    "### Highest N ranked paragraphs where the belong() function is greater than the threshold for M topics at a time"
   ]
  },
  {
   "cell_type": "code",
   "execution_count": 176,
   "metadata": {},
   "outputs": [
    {
     "data": {
      "text/html": [
       "<div>\n",
       "<style scoped>\n",
       "    .dataframe tbody tr th:only-of-type {\n",
       "        vertical-align: middle;\n",
       "    }\n",
       "\n",
       "    .dataframe tbody tr th {\n",
       "        vertical-align: top;\n",
       "    }\n",
       "\n",
       "    .dataframe thead th {\n",
       "        text-align: right;\n",
       "    }\n",
       "</style>\n",
       "<table border=\"1\" class=\"dataframe\">\n",
       "  <thead>\n",
       "    <tr style=\"text-align: right;\">\n",
       "      <th></th>\n",
       "      <th>index</th>\n",
       "      <th>creationDate</th>\n",
       "      <th>document_id</th>\n",
       "      <th>file_name</th>\n",
       "      <th>para_id</th>\n",
       "      <th>paragraphs</th>\n",
       "      <th>0</th>\n",
       "      <th>1</th>\n",
       "      <th>2</th>\n",
       "      <th>3</th>\n",
       "      <th>...</th>\n",
       "      <th>5</th>\n",
       "      <th>6</th>\n",
       "      <th>7</th>\n",
       "      <th>8</th>\n",
       "      <th>9</th>\n",
       "      <th>10</th>\n",
       "      <th>11</th>\n",
       "      <th>12</th>\n",
       "      <th>13</th>\n",
       "      <th>14</th>\n",
       "    </tr>\n",
       "  </thead>\n",
       "  <tbody>\n",
       "    <tr>\n",
       "      <th>74</th>\n",
       "      <td>255</td>\n",
       "      <td>D:20190730052236Z</td>\n",
       "      <td>1</td>\n",
       "      <td>10_year_plan_for_transport_21_May_2002.pdf</td>\n",
       "      <td>241</td>\n",
       "      <td>45. The Transport Act 2000 makes provisions fo...</td>\n",
       "      <td>0.044262</td>\n",
       "      <td>0.043324</td>\n",
       "      <td>0.030238</td>\n",
       "      <td>0.042949</td>\n",
       "      <td>...</td>\n",
       "      <td>0.044425</td>\n",
       "      <td>0.077738</td>\n",
       "      <td>0.050043</td>\n",
       "      <td>0.061554</td>\n",
       "      <td>0.047844</td>\n",
       "      <td>0.028773</td>\n",
       "      <td>0.055126</td>\n",
       "      <td>0.335951</td>\n",
       "      <td>0.055171</td>\n",
       "      <td>0.043903</td>\n",
       "    </tr>\n",
       "    <tr>\n",
       "      <th>84</th>\n",
       "      <td>283</td>\n",
       "      <td>D:20190730052236Z</td>\n",
       "      <td>1</td>\n",
       "      <td>10_year_plan_for_transport_21_May_2002.pdf</td>\n",
       "      <td>269</td>\n",
       "      <td>51. The power to introduce local charging sche...</td>\n",
       "      <td>0.050313</td>\n",
       "      <td>0.044189</td>\n",
       "      <td>0.026413</td>\n",
       "      <td>0.029249</td>\n",
       "      <td>...</td>\n",
       "      <td>0.037758</td>\n",
       "      <td>0.063563</td>\n",
       "      <td>0.051164</td>\n",
       "      <td>0.056167</td>\n",
       "      <td>0.045450</td>\n",
       "      <td>0.025352</td>\n",
       "      <td>0.052043</td>\n",
       "      <td>0.334488</td>\n",
       "      <td>0.105345</td>\n",
       "      <td>0.037271</td>\n",
       "    </tr>\n",
       "    <tr>\n",
       "      <th>85</th>\n",
       "      <td>285</td>\n",
       "      <td>D:20190730052236Z</td>\n",
       "      <td>1</td>\n",
       "      <td>10_year_plan_for_transport_21_May_2002.pdf</td>\n",
       "      <td>271</td>\n",
       "      <td>52. Hie 10 Year Plan acknowledges that “people...</td>\n",
       "      <td>0.050369</td>\n",
       "      <td>0.035537</td>\n",
       "      <td>0.023224</td>\n",
       "      <td>0.025945</td>\n",
       "      <td>...</td>\n",
       "      <td>0.046300</td>\n",
       "      <td>0.072777</td>\n",
       "      <td>0.041990</td>\n",
       "      <td>0.058119</td>\n",
       "      <td>0.042016</td>\n",
       "      <td>0.022812</td>\n",
       "      <td>0.055307</td>\n",
       "      <td>0.362818</td>\n",
       "      <td>0.093287</td>\n",
       "      <td>0.034373</td>\n",
       "    </tr>\n",
       "    <tr>\n",
       "      <th>153</th>\n",
       "      <td>483</td>\n",
       "      <td>D:20190730052236Z</td>\n",
       "      <td>1</td>\n",
       "      <td>10_year_plan_for_transport_21_May_2002.pdf</td>\n",
       "      <td>469</td>\n",
       "      <td>102. Outside the Department there is overwhelm...</td>\n",
       "      <td>0.039320</td>\n",
       "      <td>0.030659</td>\n",
       "      <td>0.019356</td>\n",
       "      <td>0.022694</td>\n",
       "      <td>...</td>\n",
       "      <td>0.041283</td>\n",
       "      <td>0.046922</td>\n",
       "      <td>0.039678</td>\n",
       "      <td>0.072998</td>\n",
       "      <td>0.030887</td>\n",
       "      <td>0.019056</td>\n",
       "      <td>0.069240</td>\n",
       "      <td>0.466428</td>\n",
       "      <td>0.044025</td>\n",
       "      <td>0.028318</td>\n",
       "    </tr>\n",
       "    <tr>\n",
       "      <th>155</th>\n",
       "      <td>495</td>\n",
       "      <td>D:20190730052236Z</td>\n",
       "      <td>1</td>\n",
       "      <td>10_year_plan_for_transport_21_May_2002.pdf</td>\n",
       "      <td>481</td>\n",
       "      <td>104, The Commission for Integrated Transport b...</td>\n",
       "      <td>0.052787</td>\n",
       "      <td>0.034785</td>\n",
       "      <td>0.020927</td>\n",
       "      <td>0.028427</td>\n",
       "      <td>...</td>\n",
       "      <td>0.039780</td>\n",
       "      <td>0.051108</td>\n",
       "      <td>0.037862</td>\n",
       "      <td>0.079260</td>\n",
       "      <td>0.044644</td>\n",
       "      <td>0.020515</td>\n",
       "      <td>0.060161</td>\n",
       "      <td>0.390724</td>\n",
       "      <td>0.071802</td>\n",
       "      <td>0.032363</td>\n",
       "    </tr>\n",
       "    <tr>\n",
       "      <th>...</th>\n",
       "      <td>...</td>\n",
       "      <td>...</td>\n",
       "      <td>...</td>\n",
       "      <td>...</td>\n",
       "      <td>...</td>\n",
       "      <td>...</td>\n",
       "      <td>...</td>\n",
       "      <td>...</td>\n",
       "      <td>...</td>\n",
       "      <td>...</td>\n",
       "      <td>...</td>\n",
       "      <td>...</td>\n",
       "      <td>...</td>\n",
       "      <td>...</td>\n",
       "      <td>...</td>\n",
       "      <td>...</td>\n",
       "      <td>...</td>\n",
       "      <td>...</td>\n",
       "      <td>...</td>\n",
       "      <td>...</td>\n",
       "      <td>...</td>\n",
       "    </tr>\n",
       "    <tr>\n",
       "      <th>52623</th>\n",
       "      <td>148543</td>\n",
       "      <td>D:20201012155409+01'00'</td>\n",
       "      <td>226</td>\n",
       "      <td>Tube_Investment_debate_in_Commons_Chamber_08_D...</td>\n",
       "      <td>347</td>\n",
       "      <td>Mr. Jenkin: The notes say that income from the...</td>\n",
       "      <td>0.157773</td>\n",
       "      <td>0.030668</td>\n",
       "      <td>0.007399</td>\n",
       "      <td>0.015877</td>\n",
       "      <td>...</td>\n",
       "      <td>0.039327</td>\n",
       "      <td>0.032086</td>\n",
       "      <td>0.023835</td>\n",
       "      <td>0.020724</td>\n",
       "      <td>0.022524</td>\n",
       "      <td>0.007307</td>\n",
       "      <td>0.020543</td>\n",
       "      <td>0.015676</td>\n",
       "      <td>0.562022</td>\n",
       "      <td>0.018751</td>\n",
       "    </tr>\n",
       "    <tr>\n",
       "      <th>52624</th>\n",
       "      <td>148545</td>\n",
       "      <td>D:20201012155409+01'00'</td>\n",
       "      <td>226</td>\n",
       "      <td>Tube_Investment_debate_in_Commons_Chamber_08_D...</td>\n",
       "      <td>349</td>\n",
       "      <td>The Parliamentary Under-Secretary of State for...</td>\n",
       "      <td>0.025860</td>\n",
       "      <td>0.025818</td>\n",
       "      <td>0.009835</td>\n",
       "      <td>0.013093</td>\n",
       "      <td>...</td>\n",
       "      <td>0.015744</td>\n",
       "      <td>0.015999</td>\n",
       "      <td>0.015915</td>\n",
       "      <td>0.019068</td>\n",
       "      <td>0.017515</td>\n",
       "      <td>0.009789</td>\n",
       "      <td>0.015963</td>\n",
       "      <td>0.017362</td>\n",
       "      <td>0.751439</td>\n",
       "      <td>0.016530</td>\n",
       "    </tr>\n",
       "    <tr>\n",
       "      <th>52625</th>\n",
       "      <td>148547</td>\n",
       "      <td>D:20201012155409+01'00'</td>\n",
       "      <td>226</td>\n",
       "      <td>Tube_Investment_debate_in_Commons_Chamber_08_D...</td>\n",
       "      <td>351</td>\n",
       "      <td>Mr. Hill: I am sorry. The hon. Gentleman has n...</td>\n",
       "      <td>0.025708</td>\n",
       "      <td>0.014416</td>\n",
       "      <td>0.009230</td>\n",
       "      <td>0.010668</td>\n",
       "      <td>...</td>\n",
       "      <td>0.015945</td>\n",
       "      <td>0.015724</td>\n",
       "      <td>0.016117</td>\n",
       "      <td>0.023949</td>\n",
       "      <td>0.017505</td>\n",
       "      <td>0.009025</td>\n",
       "      <td>0.018608</td>\n",
       "      <td>0.023142</td>\n",
       "      <td>0.770463</td>\n",
       "      <td>0.012866</td>\n",
       "    </tr>\n",
       "    <tr>\n",
       "      <th>52637</th>\n",
       "      <td>148564</td>\n",
       "      <td>D:20201012155409+01'00'</td>\n",
       "      <td>226</td>\n",
       "      <td>Tube_Investment_debate_in_Commons_Chamber_08_D...</td>\n",
       "      <td>368</td>\n",
       "      <td>Division No. 15] [10.15 pm AYES Adams, Mrs Ire...</td>\n",
       "      <td>0.079947</td>\n",
       "      <td>0.039264</td>\n",
       "      <td>0.022127</td>\n",
       "      <td>0.028502</td>\n",
       "      <td>...</td>\n",
       "      <td>0.031971</td>\n",
       "      <td>0.040964</td>\n",
       "      <td>0.033352</td>\n",
       "      <td>0.036987</td>\n",
       "      <td>0.036890</td>\n",
       "      <td>0.022422</td>\n",
       "      <td>0.054178</td>\n",
       "      <td>0.098775</td>\n",
       "      <td>0.408451</td>\n",
       "      <td>0.032336</td>\n",
       "    </tr>\n",
       "    <tr>\n",
       "      <th>52683</th>\n",
       "      <td>148628</td>\n",
       "      <td>D:20201012163723+01'00'</td>\n",
       "      <td>227</td>\n",
       "      <td>Waterloo_Station_14_Mar_2007.pdf</td>\n",
       "      <td>63</td>\n",
       "      <td>Preliminary conclusions from the study suggest...</td>\n",
       "      <td>0.042676</td>\n",
       "      <td>0.076473</td>\n",
       "      <td>0.028136</td>\n",
       "      <td>0.030269</td>\n",
       "      <td>...</td>\n",
       "      <td>0.051965</td>\n",
       "      <td>0.057587</td>\n",
       "      <td>0.337797</td>\n",
       "      <td>0.056731</td>\n",
       "      <td>0.072070</td>\n",
       "      <td>0.027173</td>\n",
       "      <td>0.040364</td>\n",
       "      <td>0.039031</td>\n",
       "      <td>0.052323</td>\n",
       "      <td>0.047508</td>\n",
       "    </tr>\n",
       "  </tbody>\n",
       "</table>\n",
       "<p>3095 rows × 21 columns</p>\n",
       "</div>"
      ],
      "text/plain": [
       "        index             creationDate  document_id  \\\n",
       "74        255        D:20190730052236Z            1   \n",
       "84        283        D:20190730052236Z            1   \n",
       "85        285        D:20190730052236Z            1   \n",
       "153       483        D:20190730052236Z            1   \n",
       "155       495        D:20190730052236Z            1   \n",
       "...       ...                      ...          ...   \n",
       "52623  148543  D:20201012155409+01'00'          226   \n",
       "52624  148545  D:20201012155409+01'00'          226   \n",
       "52625  148547  D:20201012155409+01'00'          226   \n",
       "52637  148564  D:20201012155409+01'00'          226   \n",
       "52683  148628  D:20201012163723+01'00'          227   \n",
       "\n",
       "                                               file_name para_id  \\\n",
       "74            10_year_plan_for_transport_21_May_2002.pdf     241   \n",
       "84            10_year_plan_for_transport_21_May_2002.pdf     269   \n",
       "85            10_year_plan_for_transport_21_May_2002.pdf     271   \n",
       "153           10_year_plan_for_transport_21_May_2002.pdf     469   \n",
       "155           10_year_plan_for_transport_21_May_2002.pdf     481   \n",
       "...                                                  ...     ...   \n",
       "52623  Tube_Investment_debate_in_Commons_Chamber_08_D...     347   \n",
       "52624  Tube_Investment_debate_in_Commons_Chamber_08_D...     349   \n",
       "52625  Tube_Investment_debate_in_Commons_Chamber_08_D...     351   \n",
       "52637  Tube_Investment_debate_in_Commons_Chamber_08_D...     368   \n",
       "52683                   Waterloo_Station_14_Mar_2007.pdf      63   \n",
       "\n",
       "                                              paragraphs         0         1  \\\n",
       "74     45. The Transport Act 2000 makes provisions fo...  0.044262  0.043324   \n",
       "84     51. The power to introduce local charging sche...  0.050313  0.044189   \n",
       "85     52. Hie 10 Year Plan acknowledges that “people...  0.050369  0.035537   \n",
       "153    102. Outside the Department there is overwhelm...  0.039320  0.030659   \n",
       "155    104, The Commission for Integrated Transport b...  0.052787  0.034785   \n",
       "...                                                  ...       ...       ...   \n",
       "52623  Mr. Jenkin: The notes say that income from the...  0.157773  0.030668   \n",
       "52624  The Parliamentary Under-Secretary of State for...  0.025860  0.025818   \n",
       "52625  Mr. Hill: I am sorry. The hon. Gentleman has n...  0.025708  0.014416   \n",
       "52637  Division No. 15] [10.15 pm AYES Adams, Mrs Ire...  0.079947  0.039264   \n",
       "52683  Preliminary conclusions from the study suggest...  0.042676  0.076473   \n",
       "\n",
       "              2         3  ...         5         6         7         8  \\\n",
       "74     0.030238  0.042949  ...  0.044425  0.077738  0.050043  0.061554   \n",
       "84     0.026413  0.029249  ...  0.037758  0.063563  0.051164  0.056167   \n",
       "85     0.023224  0.025945  ...  0.046300  0.072777  0.041990  0.058119   \n",
       "153    0.019356  0.022694  ...  0.041283  0.046922  0.039678  0.072998   \n",
       "155    0.020927  0.028427  ...  0.039780  0.051108  0.037862  0.079260   \n",
       "...         ...       ...  ...       ...       ...       ...       ...   \n",
       "52623  0.007399  0.015877  ...  0.039327  0.032086  0.023835  0.020724   \n",
       "52624  0.009835  0.013093  ...  0.015744  0.015999  0.015915  0.019068   \n",
       "52625  0.009230  0.010668  ...  0.015945  0.015724  0.016117  0.023949   \n",
       "52637  0.022127  0.028502  ...  0.031971  0.040964  0.033352  0.036987   \n",
       "52683  0.028136  0.030269  ...  0.051965  0.057587  0.337797  0.056731   \n",
       "\n",
       "              9        10        11        12        13        14  \n",
       "74     0.047844  0.028773  0.055126  0.335951  0.055171  0.043903  \n",
       "84     0.045450  0.025352  0.052043  0.334488  0.105345  0.037271  \n",
       "85     0.042016  0.022812  0.055307  0.362818  0.093287  0.034373  \n",
       "153    0.030887  0.019056  0.069240  0.466428  0.044025  0.028318  \n",
       "155    0.044644  0.020515  0.060161  0.390724  0.071802  0.032363  \n",
       "...         ...       ...       ...       ...       ...       ...  \n",
       "52623  0.022524  0.007307  0.020543  0.015676  0.562022  0.018751  \n",
       "52624  0.017515  0.009789  0.015963  0.017362  0.751439  0.016530  \n",
       "52625  0.017505  0.009025  0.018608  0.023142  0.770463  0.012866  \n",
       "52637  0.036890  0.022422  0.054178  0.098775  0.408451  0.032336  \n",
       "52683  0.072070  0.027173  0.040364  0.039031  0.052323  0.047508  \n",
       "\n",
       "[3095 rows x 21 columns]"
      ]
     },
     "execution_count": 176,
     "metadata": {},
     "output_type": "execute_result"
    }
   ],
   "source": [
    "# selecting the paragraphs where the belong() function is greater than the threshold for M topics at a time\n",
    "threshold = 1/3                                                    # set threshold \n",
    "topic_filter = df_topic_para1.iloc[:, 5:].max(axis=1) > threshold  # set filter\n",
    "df_topic_para_M = df_topic_para1[topic_filter]                     # extract the qualified paragraphs\n",
    "df_topic_para_M"
   ]
  },
  {
   "cell_type": "code",
   "execution_count": 214,
   "metadata": {},
   "outputs": [
    {
     "data": {
      "text/html": [
       "<div>\n",
       "<style scoped>\n",
       "    .dataframe tbody tr th:only-of-type {\n",
       "        vertical-align: middle;\n",
       "    }\n",
       "\n",
       "    .dataframe tbody tr th {\n",
       "        vertical-align: top;\n",
       "    }\n",
       "\n",
       "    .dataframe thead th {\n",
       "        text-align: right;\n",
       "    }\n",
       "</style>\n",
       "<table border=\"1\" class=\"dataframe\">\n",
       "  <thead>\n",
       "    <tr style=\"text-align: right;\">\n",
       "      <th></th>\n",
       "      <th>topic_id</th>\n",
       "      <th>salient_paragraph</th>\n",
       "      <th>probability</th>\n",
       "    </tr>\n",
       "  </thead>\n",
       "  <tbody>\n",
       "    <tr>\n",
       "      <th>0</th>\n",
       "      <td>0</td>\n",
       "      <td>Lord Falconer of Thoroton My Lords, obviously ...</td>\n",
       "      <td>0.640784</td>\n",
       "    </tr>\n",
       "    <tr>\n",
       "      <th>0</th>\n",
       "      <td>0</td>\n",
       "      <td>Lord Falconer of Thoroton My Lords, it is unaf...</td>\n",
       "      <td>0.629251</td>\n",
       "    </tr>\n",
       "    <tr>\n",
       "      <th>1</th>\n",
       "      <td>1</td>\n",
       "      <td>somewhere—I think it is that one—is number 19 ...</td>\n",
       "      <td>0.707127</td>\n",
       "    </tr>\n",
       "    <tr>\n",
       "      <th>1</th>\n",
       "      <td>1</td>\n",
       "      <td>hall, the big studio there which we designed, ...</td>\n",
       "      <td>0.681743</td>\n",
       "    </tr>\n",
       "    <tr>\n",
       "      <th>2</th>\n",
       "      <td>2</td>\n",
       "      <td>(3) Subsection (2) shall have effect as if lan...</td>\n",
       "      <td>0.045091</td>\n",
       "    </tr>\n",
       "    <tr>\n",
       "      <th>2</th>\n",
       "      <td>2</td>\n",
       "      <td>(3) Subsection (2) shall have effect as if lan...</td>\n",
       "      <td>0.045091</td>\n",
       "    </tr>\n",
       "    <tr>\n",
       "      <th>3</th>\n",
       "      <td>3</td>\n",
       "      <td>1. In the Compulsory Purchase Act 1965 (hereaf...</td>\n",
       "      <td>0.756951</td>\n",
       "    </tr>\n",
       "    <tr>\n",
       "      <th>3</th>\n",
       "      <td>3</td>\n",
       "      <td>Clause 12 requires notice of any street works ...</td>\n",
       "      <td>0.692393</td>\n",
       "    </tr>\n",
       "    <tr>\n",
       "      <th>4</th>\n",
       "      <td>4</td>\n",
       "      <td>Lord Clinton-Davis My Lords, I thank the Minis...</td>\n",
       "      <td>0.789729</td>\n",
       "    </tr>\n",
       "    <tr>\n",
       "      <th>4</th>\n",
       "      <td>4</td>\n",
       "      <td>Lord Brabazon of Tara My Lords, I beg to move ...</td>\n",
       "      <td>0.782108</td>\n",
       "    </tr>\n",
       "    <tr>\n",
       "      <th>5</th>\n",
       "      <td>5</td>\n",
       "      <td>Transport for London &gt; Annual Report and State...</td>\n",
       "      <td>0.933402</td>\n",
       "    </tr>\n",
       "    <tr>\n",
       "      <th>5</th>\n",
       "      <td>5</td>\n",
       "      <td>FIGURE 4 Percentage chance of peak crowding, f...</td>\n",
       "      <td>0.798811</td>\n",
       "    </tr>\n",
       "    <tr>\n",
       "      <th>6</th>\n",
       "      <td>6</td>\n",
       "      <td>House of Commons Transport Committee Integrate...</td>\n",
       "      <td>0.953018</td>\n",
       "    </tr>\n",
       "    <tr>\n",
       "      <th>6</th>\n",
       "      <td>6</td>\n",
       "      <td>Ev 204 Transport Committee: Evidence APPENDIX ...</td>\n",
       "      <td>0.929976</td>\n",
       "    </tr>\n",
       "    <tr>\n",
       "      <th>7</th>\n",
       "      <td>7</td>\n",
       "      <td>18084. What you were suggesting earlier was a ...</td>\n",
       "      <td>0.554868</td>\n",
       "    </tr>\n",
       "    <tr>\n",
       "      <th>7</th>\n",
       "      <td>7</td>\n",
       "      <td>aoi-t House of Commons Transport Committee Ove...</td>\n",
       "      <td>0.53027</td>\n",
       "    </tr>\n",
       "    <tr>\n",
       "      <th>8</th>\n",
       "      <td>8</td>\n",
       "      <td>TRANSPORT COMMITTEE 35 24 February 1981] [Cont...</td>\n",
       "      <td>0.977223</td>\n",
       "    </tr>\n",
       "    <tr>\n",
       "      <th>8</th>\n",
       "      <td>8</td>\n",
       "      <td>TRANSPORT COMMITTEE 209 IQiMay 1981] [Continue...</td>\n",
       "      <td>0.969239</td>\n",
       "    </tr>\n",
       "    <tr>\n",
       "      <th>9</th>\n",
       "      <td>9</td>\n",
       "      <td>Ixx SECOND REPORT FROM FIGURE 4 STATE OF ORDER...</td>\n",
       "      <td>0.880243</td>\n",
       "    </tr>\n",
       "    <tr>\n",
       "      <th>9</th>\n",
       "      <td>9</td>\n",
       "      <td>THE TRANSPORT COMMITTEE XXXIX FIGURE 1 BR : CA...</td>\n",
       "      <td>0.875046</td>\n",
       "    </tr>\n",
       "    <tr>\n",
       "      <th>10</th>\n",
       "      <td>10</td>\n",
       "      <td>(3) Subsection (2) shall have effect as if lan...</td>\n",
       "      <td>0.045092</td>\n",
       "    </tr>\n",
       "    <tr>\n",
       "      <th>10</th>\n",
       "      <td>10</td>\n",
       "      <td>(3) Subsection (2) shall have effect as if lan...</td>\n",
       "      <td>0.045092</td>\n",
       "    </tr>\n",
       "    <tr>\n",
       "      <th>11</th>\n",
       "      <td>11</td>\n",
       "      <td>Figure 7a: Road deaths and serious injuries 19...</td>\n",
       "      <td>0.90439</td>\n",
       "    </tr>\n",
       "    <tr>\n",
       "      <th>11</th>\n",
       "      <td>11</td>\n",
       "      <td>Appendix D Quality of data The data system for...</td>\n",
       "      <td>0.898391</td>\n",
       "    </tr>\n",
       "    <tr>\n",
       "      <th>12</th>\n",
       "      <td>12</td>\n",
       "      <td>Local action Local transport plans New local t...</td>\n",
       "      <td>0.928547</td>\n",
       "    </tr>\n",
       "    <tr>\n",
       "      <th>12</th>\n",
       "      <td>12</td>\n",
       "      <td>The New Deal for Transport will make a big dif...</td>\n",
       "      <td>0.907127</td>\n",
       "    </tr>\n",
       "    <tr>\n",
       "      <th>13</th>\n",
       "      <td>13</td>\n",
       "      <td>Mr. Michael Portillo (Kensington and Chelsea):...</td>\n",
       "      <td>0.829223</td>\n",
       "    </tr>\n",
       "    <tr>\n",
       "      <th>13</th>\n",
       "      <td>13</td>\n",
       "      <td>Mr. Clarke That might be defensible if someone...</td>\n",
       "      <td>0.792528</td>\n",
       "    </tr>\n",
       "    <tr>\n",
       "      <th>14</th>\n",
       "      <td>14</td>\n",
       "      <td>Indeed, experts reject the Promoter’s reasons ...</td>\n",
       "      <td>0.706924</td>\n",
       "    </tr>\n",
       "    <tr>\n",
       "      <th>14</th>\n",
       "      <td>14</td>\n",
       "      <td>Statement does not mean that document ceases t...</td>\n",
       "      <td>0.666361</td>\n",
       "    </tr>\n",
       "  </tbody>\n",
       "</table>\n",
       "</div>"
      ],
      "text/plain": [
       "    topic_id                                  salient_paragraph probability\n",
       "0          0  Lord Falconer of Thoroton My Lords, obviously ...    0.640784\n",
       "0          0  Lord Falconer of Thoroton My Lords, it is unaf...    0.629251\n",
       "1          1  somewhere—I think it is that one—is number 19 ...    0.707127\n",
       "1          1  hall, the big studio there which we designed, ...    0.681743\n",
       "2          2  (3) Subsection (2) shall have effect as if lan...    0.045091\n",
       "2          2  (3) Subsection (2) shall have effect as if lan...    0.045091\n",
       "3          3  1. In the Compulsory Purchase Act 1965 (hereaf...    0.756951\n",
       "3          3  Clause 12 requires notice of any street works ...    0.692393\n",
       "4          4  Lord Clinton-Davis My Lords, I thank the Minis...    0.789729\n",
       "4          4  Lord Brabazon of Tara My Lords, I beg to move ...    0.782108\n",
       "5          5  Transport for London > Annual Report and State...    0.933402\n",
       "5          5  FIGURE 4 Percentage chance of peak crowding, f...    0.798811\n",
       "6          6  House of Commons Transport Committee Integrate...    0.953018\n",
       "6          6  Ev 204 Transport Committee: Evidence APPENDIX ...    0.929976\n",
       "7          7  18084. What you were suggesting earlier was a ...    0.554868\n",
       "7          7  aoi-t House of Commons Transport Committee Ove...     0.53027\n",
       "8          8  TRANSPORT COMMITTEE 35 24 February 1981] [Cont...    0.977223\n",
       "8          8  TRANSPORT COMMITTEE 209 IQiMay 1981] [Continue...    0.969239\n",
       "9          9  Ixx SECOND REPORT FROM FIGURE 4 STATE OF ORDER...    0.880243\n",
       "9          9  THE TRANSPORT COMMITTEE XXXIX FIGURE 1 BR : CA...    0.875046\n",
       "10        10  (3) Subsection (2) shall have effect as if lan...    0.045092\n",
       "10        10  (3) Subsection (2) shall have effect as if lan...    0.045092\n",
       "11        11  Figure 7a: Road deaths and serious injuries 19...     0.90439\n",
       "11        11  Appendix D Quality of data The data system for...    0.898391\n",
       "12        12  Local action Local transport plans New local t...    0.928547\n",
       "12        12  The New Deal for Transport will make a big dif...    0.907127\n",
       "13        13  Mr. Michael Portillo (Kensington and Chelsea):...    0.829223\n",
       "13        13  Mr. Clarke That might be defensible if someone...    0.792528\n",
       "14        14  Indeed, experts reject the Promoter’s reasons ...    0.706924\n",
       "14        14  Statement does not mean that document ceases t...    0.666361"
      ]
     },
     "execution_count": 214,
     "metadata": {},
     "output_type": "execute_result"
    }
   ],
   "source": [
    "# Highest 2 ranked paragraphs where the belong() function is greater than the threshold for M topics at a time\n",
    "top_n_filter(df_topic_para_M, 2)"
   ]
  },
  {
   "cell_type": "markdown",
   "metadata": {},
   "source": [
    "# Overview of topics"
   ]
  },
  {
   "cell_type": "markdown",
   "metadata": {},
   "source": [
    "### The most frequent 10 words of each topic"
   ]
  },
  {
   "cell_type": "code",
   "execution_count": 222,
   "metadata": {},
   "outputs": [
    {
     "name": "stdout",
     "output_type": "stream",
     "text": [
      "[(0,\n",
      "  '0.016*\"would\" + 0.013*\"railtrack\" + 0.012*\"year\" + 0.010*\"think\" + '\n",
      "  '0.009*\"investment\" + 0.008*\"take\" + 0.008*\"make\" + 0.008*\"public\" + '\n",
      "  '0.008*\"company\" + 0.007*\"cost\"'),\n",
      " (1,\n",
      "  '0.019*\"would\" + 0.016*\"crossrail\" + 0.009*\"committee\" + 0.008*\"think\" + '\n",
      "  '0.008*\"work\" + 0.007*\"make\" + 0.007*\"point\" + 0.007*\"take\" + '\n",
      "  '0.007*\"station\" + 0.006*\"area\"'),\n",
      " (2,\n",
      "  '0.009*\"transport\" + 0.008*\"service\" + 0.007*\"year\" + 0.007*\"rail\" + '\n",
      "  '0.006*\"scheme\" + 0.006*\"would\" + 0.005*\"make\" + 0.005*\"line\" + '\n",
      "  '0.005*\"government\" + 0.005*\"take\"'),\n",
      " (3,\n",
      "  '0.029*\"work\" + 0.023*\"shall\" + 0.019*\"land\" + 0.019*\"paragraph\" + '\n",
      "  '0.014*\"provision\" + 0.014*\"section\" + 0.014*\"part\" + 0.013*\"schedule\" + '\n",
      "  '0.013*\"purpose\" + 0.011*\"railway\"'),\n",
      " (4,\n",
      "  '0.023*\"bill\" + 0.014*\"would\" + 0.013*\"crossrail\" + 0.012*\"make\" + '\n",
      "  '0.009*\"clause\" + 0.009*\"project\" + 0.008*\"government\" + 0.008*\"give\" + '\n",
      "  '0.008*\"amendment\" + 0.007*\"member\"'),\n",
      " (5,\n",
      "  '0.014*\"line\" + 0.012*\"train\" + 0.012*\"year\" + 0.011*\"safety\" + '\n",
      "  '0.009*\"service\" + 0.009*\"station\" + 0.009*\"work\" + 0.007*\"system\" + '\n",
      "  '0.007*\"passenger\" + 0.006*\"project\"'),\n",
      " (6,\n",
      "  '0.022*\"rail\" + 0.020*\"transport\" + 0.017*\"system\" + 0.016*\"light\" + '\n",
      "  '0.014*\"cost\" + 0.011*\"scheme\" + 0.010*\"public\" + 0.009*\"would\" + '\n",
      "  '0.006*\"service\" + 0.006*\"passenger\"'),\n",
      " (7,\n",
      "  '0.018*\"train\" + 0.016*\"transport\" + 0.015*\"ticket\" + 0.014*\"passenger\" + '\n",
      "  '0.009*\"travel\" + 0.009*\"service\" + 0.009*\"would\" + 0.009*\"people\" + '\n",
      "  '0.008*\"fare\" + 0.008*\"operator\"'),\n",
      " (8,\n",
      "  '0.023*\"transport\" + 0.018*\"would\" + 0.013*\"road\" + 0.008*\"public\" + '\n",
      "  '0.008*\"service\" + 0.007*\"think\" + 0.007*\"take\" + 0.006*\"make\" + '\n",
      "  '0.006*\"traffic\" + 0.006*\"information\"'),\n",
      " (9,\n",
      "  '0.018*\"rail\" + 0.014*\"service\" + 0.014*\"railway\" + 0.013*\"train\" + '\n",
      "  '0.011*\"franchise\" + 0.011*\"passenger\" + 0.010*\"would\" + 0.009*\"network\" + '\n",
      "  '0.008*\"transport\" + 0.007*\"freight\"'),\n",
      " (10,\n",
      "  '0.009*\"transport\" + 0.008*\"government\" + 0.006*\"service\" + '\n",
      "  '0.005*\"crossrail\" + 0.005*\"make\" + 0.005*\"would\" + 0.005*\"take\" + '\n",
      "  '0.005*\"line\" + 0.005*\"lord\" + 0.004*\"rail\"'),\n",
      " (11,\n",
      "  '0.018*\"transport\" + 0.014*\"department\" + 0.011*\"service\" + 0.011*\"road\" + '\n",
      "  '0.011*\"report\" + 0.010*\"year\" + 0.008*\"local\" + 0.008*\"target\" + '\n",
      "  '0.008*\"include\" + 0.008*\"work\"'),\n",
      " (12,\n",
      "  '0.031*\"transport\" + 0.017*\"local\" + 0.012*\"road\" + 0.011*\"plan\" + '\n",
      "  '0.010*\"government\" + 0.009*\"authority\" + 0.007*\"scheme\" + 0.007*\"freight\" + '\n",
      "  '0.007*\"traffic\" + 0.006*\"need\"'),\n",
      " (13,\n",
      "  '0.016*\"government\" + 0.014*\"transport\" + 0.012*\"year\" + 0.010*\"would\" + '\n",
      "  '0.009*\"make\" + 0.008*\"people\" + 0.007*\"public\" + 0.007*\"investment\" + '\n",
      "  '0.006*\"service\" + 0.006*\"member\"'),\n",
      " (14,\n",
      "  '0.030*\"crossrail\" + 0.016*\"would\" + 0.013*\"alternative\" + 0.012*\"consider\" '\n",
      "  '+ 0.010*\"route\" + 0.010*\"environmental\" + 0.009*\"information\" + '\n",
      "  '0.009*\"project\" + 0.009*\"option\" + 0.008*\"promoter\"')]\n"
     ]
    }
   ],
   "source": [
    "pprint(lda_model.print_topics())"
   ]
  },
  {
   "cell_type": "markdown",
   "metadata": {},
   "source": [
    "### Topic distribution across documents"
   ]
  },
  {
   "cell_type": "code",
   "execution_count": 226,
   "metadata": {},
   "outputs": [
    {
     "data": {
      "text/html": [
       "<div>\n",
       "<style scoped>\n",
       "    .dataframe tbody tr th:only-of-type {\n",
       "        vertical-align: middle;\n",
       "    }\n",
       "\n",
       "    .dataframe tbody tr th {\n",
       "        vertical-align: top;\n",
       "    }\n",
       "\n",
       "    .dataframe thead th {\n",
       "        text-align: right;\n",
       "    }\n",
       "</style>\n",
       "<table border=\"1\" class=\"dataframe\">\n",
       "  <thead>\n",
       "    <tr style=\"text-align: right;\">\n",
       "      <th></th>\n",
       "      <th>author</th>\n",
       "      <th>creationDate</th>\n",
       "      <th>file_name</th>\n",
       "      <th>Content</th>\n",
       "      <th>document_id</th>\n",
       "      <th>Word_count</th>\n",
       "      <th>0</th>\n",
       "      <th>1</th>\n",
       "      <th>2</th>\n",
       "      <th>3</th>\n",
       "      <th>...</th>\n",
       "      <th>5</th>\n",
       "      <th>6</th>\n",
       "      <th>7</th>\n",
       "      <th>8</th>\n",
       "      <th>9</th>\n",
       "      <th>10</th>\n",
       "      <th>11</th>\n",
       "      <th>12</th>\n",
       "      <th>13</th>\n",
       "      <th>14</th>\n",
       "    </tr>\n",
       "  </thead>\n",
       "  <tbody>\n",
       "    <tr>\n",
       "      <th>0</th>\n",
       "      <td>Katherine A Bloomfield</td>\n",
       "      <td>D:20201012160043+01'00'</td>\n",
       "      <td>10-Year_Transport_Plan_02_Jul_2002.pdf</td>\n",
       "      <td>10-Year Transport Plan \\n \\n6. \\n \\nMr. Geoffr...</td>\n",
       "      <td>0</td>\n",
       "      <td>1437</td>\n",
       "      <td>0.046091</td>\n",
       "      <td>0.025581</td>\n",
       "      <td>0.005751</td>\n",
       "      <td>0.010421</td>\n",
       "      <td>...</td>\n",
       "      <td>0.016342</td>\n",
       "      <td>0.018955</td>\n",
       "      <td>0.016739</td>\n",
       "      <td>0.023464</td>\n",
       "      <td>0.029125</td>\n",
       "      <td>0.005569</td>\n",
       "      <td>0.055000</td>\n",
       "      <td>0.088750</td>\n",
       "      <td>0.511309</td>\n",
       "      <td>0.014800</td>\n",
       "    </tr>\n",
       "    <tr>\n",
       "      <th>1</th>\n",
       "      <td></td>\n",
       "      <td>D:20190730052236Z</td>\n",
       "      <td>10_year_plan_for_transport_21_May_2002.pdf</td>\n",
       "      <td>House of Commons \\nTransport, Local Government...</td>\n",
       "      <td>1</td>\n",
       "      <td>292641</td>\n",
       "      <td>0.116414</td>\n",
       "      <td>0.000963</td>\n",
       "      <td>0.000027</td>\n",
       "      <td>0.000154</td>\n",
       "      <td>...</td>\n",
       "      <td>0.000489</td>\n",
       "      <td>0.039231</td>\n",
       "      <td>0.003378</td>\n",
       "      <td>0.067757</td>\n",
       "      <td>0.028585</td>\n",
       "      <td>0.000026</td>\n",
       "      <td>0.007787</td>\n",
       "      <td>0.617993</td>\n",
       "      <td>0.116872</td>\n",
       "      <td>0.000163</td>\n",
       "    </tr>\n",
       "    <tr>\n",
       "      <th>2</th>\n",
       "      <td>stellent</td>\n",
       "      <td>D:20041008151844+01'00'</td>\n",
       "      <td>A_New_deal_for_Transport_Better_for_everyone_W...</td>\n",
       "      <td>AnNew deal for Transport: Better for everyone ...</td>\n",
       "      <td>2</td>\n",
       "      <td>67602</td>\n",
       "      <td>0.000597</td>\n",
       "      <td>0.000495</td>\n",
       "      <td>0.000098</td>\n",
       "      <td>0.000772</td>\n",
       "      <td>...</td>\n",
       "      <td>0.019016</td>\n",
       "      <td>0.004444</td>\n",
       "      <td>0.009851</td>\n",
       "      <td>0.000971</td>\n",
       "      <td>0.024285</td>\n",
       "      <td>0.000094</td>\n",
       "      <td>0.018857</td>\n",
       "      <td>0.918314</td>\n",
       "      <td>0.001196</td>\n",
       "      <td>0.000385</td>\n",
       "    </tr>\n",
       "    <tr>\n",
       "      <th>3</th>\n",
       "      <td>Katherine A Bloomfield</td>\n",
       "      <td>D:20200429153449+01'00'</td>\n",
       "      <td>British_Railways_(London)_Bill_Lords_(By_Order...</td>\n",
       "      <td>British Railways (London) Bill Lords (By Order...</td>\n",
       "      <td>3</td>\n",
       "      <td>26519</td>\n",
       "      <td>0.001833</td>\n",
       "      <td>0.174634</td>\n",
       "      <td>0.000393</td>\n",
       "      <td>0.004542</td>\n",
       "      <td>...</td>\n",
       "      <td>0.004299</td>\n",
       "      <td>0.003642</td>\n",
       "      <td>0.005085</td>\n",
       "      <td>0.035104</td>\n",
       "      <td>0.068484</td>\n",
       "      <td>0.000375</td>\n",
       "      <td>0.001093</td>\n",
       "      <td>0.001104</td>\n",
       "      <td>0.428075</td>\n",
       "      <td>0.002353</td>\n",
       "    </tr>\n",
       "    <tr>\n",
       "      <th>4</th>\n",
       "      <td>Katherine A Bloomfield</td>\n",
       "      <td>D:20201012144724+01'00'</td>\n",
       "      <td>British_Railways_Bill_19_Mar_1991.pdf</td>\n",
       "      <td>British Railways Bill \\n \\nOrder for Second Re...</td>\n",
       "      <td>4</td>\n",
       "      <td>3167</td>\n",
       "      <td>0.007888</td>\n",
       "      <td>0.047891</td>\n",
       "      <td>0.002888</td>\n",
       "      <td>0.031235</td>\n",
       "      <td>...</td>\n",
       "      <td>0.018869</td>\n",
       "      <td>0.017723</td>\n",
       "      <td>0.032891</td>\n",
       "      <td>0.021458</td>\n",
       "      <td>0.204248</td>\n",
       "      <td>0.002736</td>\n",
       "      <td>0.008439</td>\n",
       "      <td>0.018922</td>\n",
       "      <td>0.307411</td>\n",
       "      <td>0.007159</td>\n",
       "    </tr>\n",
       "    <tr>\n",
       "      <th>...</th>\n",
       "      <td>...</td>\n",
       "      <td>...</td>\n",
       "      <td>...</td>\n",
       "      <td>...</td>\n",
       "      <td>...</td>\n",
       "      <td>...</td>\n",
       "      <td>...</td>\n",
       "      <td>...</td>\n",
       "      <td>...</td>\n",
       "      <td>...</td>\n",
       "      <td>...</td>\n",
       "      <td>...</td>\n",
       "      <td>...</td>\n",
       "      <td>...</td>\n",
       "      <td>...</td>\n",
       "      <td>...</td>\n",
       "      <td>...</td>\n",
       "      <td>...</td>\n",
       "      <td>...</td>\n",
       "      <td>...</td>\n",
       "      <td>...</td>\n",
       "    </tr>\n",
       "    <tr>\n",
       "      <th>224</th>\n",
       "      <td>Katherine A Bloomfield</td>\n",
       "      <td>D:20201012164224+01'00'</td>\n",
       "      <td>Transport__London_Underground_07_May_2008.pdf</td>\n",
       "      <td>Transport: London Underground \\n \\nLord Bridge...</td>\n",
       "      <td>224</td>\n",
       "      <td>512</td>\n",
       "      <td>0.254691</td>\n",
       "      <td>0.034235</td>\n",
       "      <td>0.015145</td>\n",
       "      <td>0.017681</td>\n",
       "      <td>...</td>\n",
       "      <td>0.062010</td>\n",
       "      <td>0.028310</td>\n",
       "      <td>0.026871</td>\n",
       "      <td>0.037356</td>\n",
       "      <td>0.028373</td>\n",
       "      <td>0.016293</td>\n",
       "      <td>0.030588</td>\n",
       "      <td>0.030522</td>\n",
       "      <td>0.077234</td>\n",
       "      <td>0.037115</td>\n",
       "    </tr>\n",
       "    <tr>\n",
       "      <th>225</th>\n",
       "      <td>Katherine A Bloomfield</td>\n",
       "      <td>D:20201012164258+01'00'</td>\n",
       "      <td>Transport__Rail_and_Air_Travel_06_Mar_2008.pdf</td>\n",
       "      <td>Transport: Rail and Air Travel \\n \\nWhat is mi...</td>\n",
       "      <td>225</td>\n",
       "      <td>5173</td>\n",
       "      <td>0.006610</td>\n",
       "      <td>0.021962</td>\n",
       "      <td>0.001528</td>\n",
       "      <td>0.003640</td>\n",
       "      <td>...</td>\n",
       "      <td>0.005300</td>\n",
       "      <td>0.046562</td>\n",
       "      <td>0.016488</td>\n",
       "      <td>0.013617</td>\n",
       "      <td>0.104275</td>\n",
       "      <td>0.001472</td>\n",
       "      <td>0.034401</td>\n",
       "      <td>0.204020</td>\n",
       "      <td>0.524514</td>\n",
       "      <td>0.004688</td>\n",
       "    </tr>\n",
       "    <tr>\n",
       "      <th>226</th>\n",
       "      <td>Katherine A Bloomfield</td>\n",
       "      <td>D:20201012155409+01'00'</td>\n",
       "      <td>Tube_Investment_debate_in_Commons_Chamber_08_D...</td>\n",
       "      <td>Tube Investment \\n \\n[Relevant documents: Seve...</td>\n",
       "      <td>226</td>\n",
       "      <td>59658</td>\n",
       "      <td>0.021269</td>\n",
       "      <td>0.000975</td>\n",
       "      <td>0.000149</td>\n",
       "      <td>0.000874</td>\n",
       "      <td>...</td>\n",
       "      <td>0.000752</td>\n",
       "      <td>0.002586</td>\n",
       "      <td>0.000753</td>\n",
       "      <td>0.001191</td>\n",
       "      <td>0.000849</td>\n",
       "      <td>0.000145</td>\n",
       "      <td>0.001007</td>\n",
       "      <td>0.003048</td>\n",
       "      <td>0.964035</td>\n",
       "      <td>0.000561</td>\n",
       "    </tr>\n",
       "    <tr>\n",
       "      <th>227</th>\n",
       "      <td>Katherine A Bloomfield</td>\n",
       "      <td>D:20201012163723+01'00'</td>\n",
       "      <td>Waterloo_Station_14_Mar_2007.pdf</td>\n",
       "      <td>Waterloo Station \\n \\n11:00:00 \\n \\nSusan Kra...</td>\n",
       "      <td>227</td>\n",
       "      <td>4714</td>\n",
       "      <td>0.009605</td>\n",
       "      <td>0.034907</td>\n",
       "      <td>0.001724</td>\n",
       "      <td>0.005358</td>\n",
       "      <td>...</td>\n",
       "      <td>0.012611</td>\n",
       "      <td>0.010449</td>\n",
       "      <td>0.209508</td>\n",
       "      <td>0.007894</td>\n",
       "      <td>0.287885</td>\n",
       "      <td>0.001658</td>\n",
       "      <td>0.018974</td>\n",
       "      <td>0.006365</td>\n",
       "      <td>0.373946</td>\n",
       "      <td>0.007304</td>\n",
       "    </tr>\n",
       "    <tr>\n",
       "      <th>228</th>\n",
       "      <td>Katherine A Bloomfield</td>\n",
       "      <td>D:20201012160658+01'00'</td>\n",
       "      <td>West_Coast_Main_Line_05_Mar_2002.pdf</td>\n",
       "      <td>West Coast Main Line \\n \\n4. \\n \\nDr. Phyllis ...</td>\n",
       "      <td>228</td>\n",
       "      <td>691</td>\n",
       "      <td>0.088522</td>\n",
       "      <td>0.047916</td>\n",
       "      <td>0.011369</td>\n",
       "      <td>0.019174</td>\n",
       "      <td>...</td>\n",
       "      <td>0.042224</td>\n",
       "      <td>0.028160</td>\n",
       "      <td>0.032036</td>\n",
       "      <td>0.034187</td>\n",
       "      <td>0.192715</td>\n",
       "      <td>0.010964</td>\n",
       "      <td>0.031289</td>\n",
       "      <td>0.032409</td>\n",
       "      <td>0.326357</td>\n",
       "      <td>0.030015</td>\n",
       "    </tr>\n",
       "  </tbody>\n",
       "</table>\n",
       "<p>229 rows × 21 columns</p>\n",
       "</div>"
      ],
      "text/plain": [
       "                     author             creationDate  \\\n",
       "0    Katherine A Bloomfield  D:20201012160043+01'00'   \n",
       "1                                  D:20190730052236Z   \n",
       "2                  stellent  D:20041008151844+01'00'   \n",
       "3    Katherine A Bloomfield  D:20200429153449+01'00'   \n",
       "4    Katherine A Bloomfield  D:20201012144724+01'00'   \n",
       "..                      ...                      ...   \n",
       "224  Katherine A Bloomfield  D:20201012164224+01'00'   \n",
       "225  Katherine A Bloomfield  D:20201012164258+01'00'   \n",
       "226  Katherine A Bloomfield  D:20201012155409+01'00'   \n",
       "227  Katherine A Bloomfield  D:20201012163723+01'00'   \n",
       "228  Katherine A Bloomfield  D:20201012160658+01'00'   \n",
       "\n",
       "                                             file_name  \\\n",
       "0               10-Year_Transport_Plan_02_Jul_2002.pdf   \n",
       "1           10_year_plan_for_transport_21_May_2002.pdf   \n",
       "2    A_New_deal_for_Transport_Better_for_everyone_W...   \n",
       "3    British_Railways_(London)_Bill_Lords_(By_Order...   \n",
       "4                British_Railways_Bill_19_Mar_1991.pdf   \n",
       "..                                                 ...   \n",
       "224      Transport__London_Underground_07_May_2008.pdf   \n",
       "225     Transport__Rail_and_Air_Travel_06_Mar_2008.pdf   \n",
       "226  Tube_Investment_debate_in_Commons_Chamber_08_D...   \n",
       "227                   Waterloo_Station_14_Mar_2007.pdf   \n",
       "228               West_Coast_Main_Line_05_Mar_2002.pdf   \n",
       "\n",
       "                                               Content  document_id  \\\n",
       "0    10-Year Transport Plan \\n \\n6. \\n \\nMr. Geoffr...            0   \n",
       "1    House of Commons \\nTransport, Local Government...            1   \n",
       "2    AnNew deal for Transport: Better for everyone ...            2   \n",
       "3    British Railways (London) Bill Lords (By Order...            3   \n",
       "4    British Railways Bill \\n \\nOrder for Second Re...            4   \n",
       "..                                                 ...          ...   \n",
       "224  Transport: London Underground \\n \\nLord Bridge...          224   \n",
       "225  Transport: Rail and Air Travel \\n \\nWhat is mi...          225   \n",
       "226  Tube Investment \\n \\n[Relevant documents: Seve...          226   \n",
       "227   Waterloo Station \\n \\n11:00:00 \\n \\nSusan Kra...          227   \n",
       "228  West Coast Main Line \\n \\n4. \\n \\nDr. Phyllis ...          228   \n",
       "\n",
       "     Word_count         0         1         2         3  ...         5  \\\n",
       "0          1437  0.046091  0.025581  0.005751  0.010421  ...  0.016342   \n",
       "1        292641  0.116414  0.000963  0.000027  0.000154  ...  0.000489   \n",
       "2         67602  0.000597  0.000495  0.000098  0.000772  ...  0.019016   \n",
       "3         26519  0.001833  0.174634  0.000393  0.004542  ...  0.004299   \n",
       "4          3167  0.007888  0.047891  0.002888  0.031235  ...  0.018869   \n",
       "..          ...       ...       ...       ...       ...  ...       ...   \n",
       "224         512  0.254691  0.034235  0.015145  0.017681  ...  0.062010   \n",
       "225        5173  0.006610  0.021962  0.001528  0.003640  ...  0.005300   \n",
       "226       59658  0.021269  0.000975  0.000149  0.000874  ...  0.000752   \n",
       "227        4714  0.009605  0.034907  0.001724  0.005358  ...  0.012611   \n",
       "228         691  0.088522  0.047916  0.011369  0.019174  ...  0.042224   \n",
       "\n",
       "            6         7         8         9        10        11        12  \\\n",
       "0    0.018955  0.016739  0.023464  0.029125  0.005569  0.055000  0.088750   \n",
       "1    0.039231  0.003378  0.067757  0.028585  0.000026  0.007787  0.617993   \n",
       "2    0.004444  0.009851  0.000971  0.024285  0.000094  0.018857  0.918314   \n",
       "3    0.003642  0.005085  0.035104  0.068484  0.000375  0.001093  0.001104   \n",
       "4    0.017723  0.032891  0.021458  0.204248  0.002736  0.008439  0.018922   \n",
       "..        ...       ...       ...       ...       ...       ...       ...   \n",
       "224  0.028310  0.026871  0.037356  0.028373  0.016293  0.030588  0.030522   \n",
       "225  0.046562  0.016488  0.013617  0.104275  0.001472  0.034401  0.204020   \n",
       "226  0.002586  0.000753  0.001191  0.000849  0.000145  0.001007  0.003048   \n",
       "227  0.010449  0.209508  0.007894  0.287885  0.001658  0.018974  0.006365   \n",
       "228  0.028160  0.032036  0.034187  0.192715  0.010964  0.031289  0.032409   \n",
       "\n",
       "           13        14  \n",
       "0    0.511309  0.014800  \n",
       "1    0.116872  0.000163  \n",
       "2    0.001196  0.000385  \n",
       "3    0.428075  0.002353  \n",
       "4    0.307411  0.007159  \n",
       "..        ...       ...  \n",
       "224  0.077234  0.037115  \n",
       "225  0.524514  0.004688  \n",
       "226  0.964035  0.000561  \n",
       "227  0.373946  0.007304  \n",
       "228  0.326357  0.030015  \n",
       "\n",
       "[229 rows x 21 columns]"
      ]
     },
     "execution_count": 226,
     "metadata": {},
     "output_type": "execute_result"
    }
   ],
   "source": [
    "# topic distribution over documents\n",
    "list_topic = []\n",
    "dictionary_topic = {}\n",
    "for d in texts:\n",
    "    bow = id2word.doc2bow(d)\n",
    "    belong = lda_model[bow]                        # generate a list of tuples of topic distribution of a document\n",
    "    belong_dic = Convert(belong, dictionary_topic) # convert the list of tuples into a dictionary\n",
    "    list_topic.append(belong_dic)           \n",
    "                      \n",
    "df_topic_distribution = pd.DataFrame(list_topic)   # convert the list of dictionaries into a dataframe\n",
    "df_topic = pd.merge(df, df_topic_distribution, how = 'left', left_index=True, right_index=True) # merge with info of documents\n",
    "df_topic.drop(['title','format','creator', 'producer', 'keywords', 'trapped', 'encryption','subject', 'modDate'], axis = 1)"
   ]
  },
  {
   "cell_type": "markdown",
   "metadata": {},
   "source": [
    "# Topic interpretation\n",
    "To interpret the topics, I combined the word frequncy demonstrated by pyLDAvis with prototypical documents or paragraphs suggested by PTBI proposed by Marchetti and Puranam (2020)"
   ]
  },
  {
   "cell_type": "markdown",
   "metadata": {},
   "source": [
    "### Selection of most salient topics for interpretation\n",
    "according to the PTBI proposed by Marchetti and Puranam (2020), not all topics are worth interpretation. To extract most salient topics for interpretation, for each topic, we need to compute the percentage of documents loading on the topic with the probability that the document belong to the document > 1/k. Then graph the metric and select the sub-set of topics scoring the highest on it (e.g., based on scree plot)."
   ]
  },
  {
   "cell_type": "code",
   "execution_count": 265,
   "metadata": {},
   "outputs": [],
   "source": [
    "# percentage of documents above threshold(1/k)\n",
    "list_percent_above = []\n",
    "for i in df_topic_distribution:\n",
    "    num_above = df_topic_distribution[i][df_topic_distribution[i] > 1/k].count()\n",
    "    percent_above =  num_above/len(df_topic_distribution)\n",
    "    list_percent_above.append(percent_above)"
   ]
  },
  {
   "cell_type": "code",
   "execution_count": 262,
   "metadata": {
    "scrolled": true
   },
   "outputs": [
    {
     "data": {
      "text/html": [
       "<div>\n",
       "<style scoped>\n",
       "    .dataframe tbody tr th:only-of-type {\n",
       "        vertical-align: middle;\n",
       "    }\n",
       "\n",
       "    .dataframe tbody tr th {\n",
       "        vertical-align: top;\n",
       "    }\n",
       "\n",
       "    .dataframe thead th {\n",
       "        text-align: right;\n",
       "    }\n",
       "</style>\n",
       "<table border=\"1\" class=\"dataframe\">\n",
       "  <thead>\n",
       "    <tr style=\"text-align: right;\">\n",
       "      <th></th>\n",
       "      <th>topic_id</th>\n",
       "      <th>percentage_of_documents_above_threshold</th>\n",
       "    </tr>\n",
       "  </thead>\n",
       "  <tbody>\n",
       "    <tr>\n",
       "      <th>13</th>\n",
       "      <td>13</td>\n",
       "      <td>0.606987</td>\n",
       "    </tr>\n",
       "    <tr>\n",
       "      <th>4</th>\n",
       "      <td>4</td>\n",
       "      <td>0.305677</td>\n",
       "    </tr>\n",
       "    <tr>\n",
       "      <th>0</th>\n",
       "      <td>0</td>\n",
       "      <td>0.262009</td>\n",
       "    </tr>\n",
       "    <tr>\n",
       "      <th>9</th>\n",
       "      <td>9</td>\n",
       "      <td>0.257642</td>\n",
       "    </tr>\n",
       "    <tr>\n",
       "      <th>12</th>\n",
       "      <td>12</td>\n",
       "      <td>0.235808</td>\n",
       "    </tr>\n",
       "    <tr>\n",
       "      <th>8</th>\n",
       "      <td>8</td>\n",
       "      <td>0.218341</td>\n",
       "    </tr>\n",
       "    <tr>\n",
       "      <th>5</th>\n",
       "      <td>5</td>\n",
       "      <td>0.174672</td>\n",
       "    </tr>\n",
       "    <tr>\n",
       "      <th>1</th>\n",
       "      <td>1</td>\n",
       "      <td>0.131004</td>\n",
       "    </tr>\n",
       "    <tr>\n",
       "      <th>11</th>\n",
       "      <td>11</td>\n",
       "      <td>0.126638</td>\n",
       "    </tr>\n",
       "    <tr>\n",
       "      <th>14</th>\n",
       "      <td>14</td>\n",
       "      <td>0.096070</td>\n",
       "    </tr>\n",
       "    <tr>\n",
       "      <th>6</th>\n",
       "      <td>6</td>\n",
       "      <td>0.091703</td>\n",
       "    </tr>\n",
       "    <tr>\n",
       "      <th>3</th>\n",
       "      <td>3</td>\n",
       "      <td>0.052402</td>\n",
       "    </tr>\n",
       "    <tr>\n",
       "      <th>7</th>\n",
       "      <td>7</td>\n",
       "      <td>0.030568</td>\n",
       "    </tr>\n",
       "    <tr>\n",
       "      <th>2</th>\n",
       "      <td>2</td>\n",
       "      <td>0.000000</td>\n",
       "    </tr>\n",
       "    <tr>\n",
       "      <th>10</th>\n",
       "      <td>10</td>\n",
       "      <td>0.000000</td>\n",
       "    </tr>\n",
       "  </tbody>\n",
       "</table>\n",
       "</div>"
      ],
      "text/plain": [
       "    topic_id  percentage_of_documents_above_threshold\n",
       "13        13                                 0.606987\n",
       "4          4                                 0.305677\n",
       "0          0                                 0.262009\n",
       "9          9                                 0.257642\n",
       "12        12                                 0.235808\n",
       "8          8                                 0.218341\n",
       "5          5                                 0.174672\n",
       "1          1                                 0.131004\n",
       "11        11                                 0.126638\n",
       "14        14                                 0.096070\n",
       "6          6                                 0.091703\n",
       "3          3                                 0.052402\n",
       "7          7                                 0.030568\n",
       "2          2                                 0.000000\n",
       "10        10                                 0.000000"
      ]
     },
     "execution_count": 262,
     "metadata": {},
     "output_type": "execute_result"
    }
   ],
   "source": [
    "df_salient_topic = pd.DataFrame({'topic_id': list_topic_id, 'percentage_of_documents_above_threshold': list_percent_above})\n",
    "df_salient_topic.sort_values(by = 'percentage_of_documents_above_threshold', ascending = False)"
   ]
  },
  {
   "cell_type": "markdown",
   "metadata": {},
   "source": [
    "### Word frequency of each topic"
   ]
  },
  {
   "cell_type": "code",
   "execution_count": 227,
   "metadata": {},
   "outputs": [
    {
     "data": {
      "text/html": [
       "\n",
       "<link rel=\"stylesheet\" type=\"text/css\" href=\"https://cdn.jsdelivr.net/gh/bmabey/pyLDAvis@3.3.1/pyLDAvis/js/ldavis.v1.0.0.css\">\n",
       "\n",
       "\n",
       "<div id=\"ldavis_el5914825697843250568386149803\"></div>\n",
       "<script type=\"text/javascript\">\n",
       "\n",
       "var ldavis_el5914825697843250568386149803_data = {\"mdsDat\": {\"x\": [-0.027717266456978223, -0.04919325578005496, 0.22747234371199823, -0.15240913606699846, -0.06025963747732321, -0.04153273174715627, -0.020552437288068322, -0.008347845949930764, -0.007669192893163765, -0.006175645090511645, 0.2520736911798974, -0.030278013540795082, -0.01584038661535239, 0.020919090135194003, -0.08048957612075686], \"y\": [-0.064967377796274, 0.027274054238617514, 0.07358287888939652, 0.2571160144845394, 0.041609883165394095, -0.06809567035530487, -0.05942983128004461, -0.07928058936907101, -0.043042535722269425, -0.05250699243185331, 0.09069447880914304, -0.07478354778002624, -0.0755871978272561, -0.04916010204256288, 0.07657653501757196], \"topics\": [1, 2, 3, 4, 5, 6, 7, 8, 9, 10, 11, 12, 13, 14, 15], \"cluster\": [1, 1, 1, 1, 1, 1, 1, 1, 1, 1, 1, 1, 1, 1, 1], \"Freq\": [6.1679420016359146, 16.789192554625835, 0.01595427177379793, 1.8176348519999699, 2.1282049495665643, 4.647017456289484, 8.801259020685807, 2.9757571927574085, 10.88554372967712, 14.845282284287881, 0.015587260860014385, 6.039198516133715, 14.18647403264987, 9.919834871462397, 0.7651170055942141]}, \"tinfo\": {\"Term\": [\"transport\", \"crossrail\", \"would\", \"government\", \"rail\", \"service\", \"work\", \"make\", \"train\", \"year\", \"line\", \"railway\", \"scheme\", \"take\", \"public\", \"road\", \"passenger\", \"system\", \"station\", \"project\", \"give\", \"cost\", \"local\", \"people\", \"area\", \"point\", \"time\", \"need\", \"provide\", \"part\", \"winsor\", \"sir_philip_beck\", \"gauge_comer_cracke\", \"sector_comparator\", \"professor_glaister\", \"oversight_exercise\", \"mini_railtrack\", \"mike_grant\", \"loan_facility\", \"chequebook\", \"dividend_payment\", \"runabout\", \"asset_register\", \"os_os_os_os\", \"overreaction\", \"newtrack\", \"blaiklock\", \"unchallengeable\", \"knapp\", \"neutralise\", \"conseiyative\", \"equity_stake\", \"lubricator\", \"wheelwear\", \"noake\", \"subordinated\", \"ttci\", \"noble_lord_lord_shutt\", \"via_external_cladde\", \"ryedale\", \"sir_alastair_morton\", \"bowi\", \"ssra\", \"broken_rail\", \"nicety\", \"periodic_review\", \"comparator\", \"byer\", \"inffaco\", \"bowis\", \"discount_rate\", \"hatfield_accident\", \"railtrack\", \"bond\", \"shareholder\", \"metronet\", \"administrator\", \"arbiter\", \"lender\", \"contract\", \"reporter\", \"hatfield\", \"noble\", \"underground\", \"overrun\", \"money\", \"company\", \"regulator\", \"backlog\", \"tube\", \"renewal\", \"debt\", \"investment\", \"maintenance\", \"think\", \"contractor\", \"year\", \"risk\", \"would\", \"chairman\", \"funding\", \"take\", \"public\", \"value\", \"report\", \"cost\", \"make\", \"question\", \"government\", \"performance\", \"work\", \"line\", \"come\", \"look\", \"give\", \"evidence\", \"network\", \"could\", \"project\", \"time\", \"transport\", \"railway\", \"plan\", \"train\", \"bbfc\", \"sir_peter_soulsby\", \"melrose\", \"linewd\", \"towhlb\", \"batching_plant\", \"weiss\", \"ferrotec\", \"westcc\", \"grand_central_studio\", \"floating_slab_track\", \"farthe\", \"burgesse\", \"design_criterion\", \"findwave\", \"recalled_examine\", \"concrete_batching_plant\", \"dingeman\", \"underneath\", \"pink\", \"mrs_sian_james\", \"grout\", \"drabble\", \"lorry_holding\", \"residents_association\", \"pedroute\", \"spitaifield\", \"market_trader\", \"zoom\", \"guards_club_park\", \"studio\", \"berryman\", \"billingsgate\", \"soho\", \"petitioner\", \"exhibit\", \"slide\", \"liverpool_street\", \"shenfield\", \"billdocument\", \"petition\", \"gateline\", \"tunnel_boring_machine\", \"crossrail\", \"shaft\", \"entrance\", \"vibration\", \"tower_hamlet\", \"dust\", \"noise\", \"whitechapel\", \"select\", \"photograph\", \"promoter\", \"basement\", \"site\", \"pile\", \"screen\", \"building\", \"undertaking\", \"spitalfield\", \"tunnel\", \"explain\", \"committee\", \"yesterday\", \"thank\", \"page\", \"hear\", \"point\", \"would\", \"option\", \"station\", \"think\", \"property\", \"construction\", \"look\", \"come\", \"impact\", \"work\", \"understand\", \"evidence\", \"take\", \"concern\", \"area\", \"could\", \"know\", \"make\", \"give\", \"issue\", \"want\", \"time\", \"line\", \"people\", \"number\", \"level\", \"need\", \"also\", \"effprd\", \"richard_malin\", \"zorie\", \"differentially\", \"ctive\", \"trah\", \"clarborough\", \"tabularise\", \"feducc\", \"prelimenary\", \"altering\", \"dobbin\", \"pipe_subway\", \"furid\", \"irhprovement\", \"rnetre\", \"htodern\", \"rilonth\", \"horm\", \"couw\", \"riear\", \"consequerice\", \"prejudicially\", \"sortie\", \"stipendiary\", \"eyen\", \"tripbility\", \"disposing\", \"developirierit\", \"occasionms\", \"scalable\", \"undulate\", \"joiie\", \"duly_authorise\", \"pecte\", \"querying\", \"liskeard\", \"fortiori\", \"writtle\", \"service\", \"scheme\", \"visit\", \"year\", \"line\", \"transport\", \"crossrail\", \"rail\", \"make\", \"travel\", \"station\", \"take\", \"government\", \"lord\", \"people\", \"train\", \"would\", \"passenger\", \"railway\", \"time\", \"work\", \"need\", \"project\", \"cost\", \"public\", \"provide\", \"area\", \"part\", \"improve\", \"network\", \"also\", \"system\", \"well\", \"plan\", \"relevant_limit\", \"transferor\", \"length_commence\", \"sewer_beneath_point\", \"transferee\", \"sewerage_undertaker\", \"deposited_plans_purpose\", \"supplementary_provision\", \"act_schedule_acquisition\", \"schedule_acquisition\", \"clrs\", \"length_forming_siding\", \"powers_conferred\", \"acting_jointly\", \"act_schedule_protective\", \"subsection_applie\", \"schedule_protective_provision\", \"barber\", \"sewer_commencing\", \"erection_construction_alteration\", \"borrow_pit\", \"temporary_stoppe\", \"schedule_heritage_disapplication\", \"without_material_detriment\", \"reasonably_incurre\", \"lgms\", \"works_authorised\", \"deceased\", \"dispute_arise\", \"thereto\", \"exercisable\", \"commencing\", \"apparatus\", \"undertakers\", \"works_authorise\", \"subsection\", \"terminating\", \"power_conferre\", \"reduce_prejudicial_effect\", \"acquired\", \"deposited_plan\", \"undertaker\", \"metre\", \"schedule\", \"shall\", \"monument\", \"paragraph\", \"junction\", \"land\", \"purpose\", \"enactment\", \"notice\", \"terminate\", \"specify\", \"section\", \"person\", \"highway\", \"provision\", \"consent\", \"work\", \"relation\", \"exercise\", \"apply\", \"part\", \"carry\", \"point\", \"treat\", \"railway\", \"authority\", \"transfer\", \"construction\", \"crossrail\", \"appropriate\", \"road\", \"secretary\", \"make\", \"site\", \"state\", \"include\", \"give\", \"right\", \"stephen_hammond\", \"noble_lord_lord_tordoff\", \"noble_lord_lord_hanningfield\", \"beaulieu\", \"iwaac\", \"conservative_party_conference\", \"dispensed\", \"granny\", \"roding\", \"baroness_gardner\", \"vaux\", \"noble_friend_lord_brabazon\", \"lord_davie\", \"parke\", \"juicy\", \"equivocal\", \"noble_friend_lord_elton\", \"broadhurst\", \"barclay\", \"vestry\", \"urine\", \"wimbledon_stephen_hammond\", \"serrie\", \"premeditate\", \"noble_viscount_lord_astor\", \"tranquility\", \"urging\", \"stamina\", \"lord_belstead\", \"lord_stoddart\", \"noble_baroness_lady\", \"clause\", \"oldham\", \"amendment\", \"haringey\", \"noble_friend\", \"noble_lord_lord_bradshaw\", \"bill\", \"lord\", \"congratulation\", \"honourable_friend\", \"noble_lord\", \"insert\", \"lordship\", \"motion\", \"reading\", \"grateful\", \"woolwich\", \"english_heritage\", \"secretary\", \"hope\", \"parliament\", \"crossrail\", \"parliamentary\", \"shall\", \"member\", \"state\", \"debate\", \"minister\", \"project\", \"matter\", \"agree\", \"make\", \"session\", \"give\", \"would\", \"procedure\", \"committee\", \"read\", \"government\", \"place\", \"however\", \"know\", \"point\", \"station\", \"take\", \"work\", \"question\", \"time\", \"important\", \"right\", \"issue\", \"transport\", \"line\", \"annual_report__full_version_page\", \"professor_davie\", \"receivable\", \"qxd_page_annual\", \"tocu\", \"actuarial_valuation\", \"bame\", \"accounts_qxd_page\", \"fund_earmarked_reserve\", \"nrcg\", \"dabinderjit_singh_sidhu\", \"unfunded_pension_liabilitie\", \"operational_command_unit\", \"confidential_incident_reporte\", \"post_retirement_liabilitie\", \"indemnitie\", \"net_cash_outflow\", \"btec\", \"taxicard\", \"notifiable\", \"btp_video_tape\", \"confidential_reporte\", \"professor_david_begg\", \"fixed_asset_restatement\", \"corporation_single_entity\", \"counterparty\", \"corporate_governance_assurance\", \"continuous_recorde\", \"projecting\", \"cash_flow_statement\", \"extraordinary_review\", \"tlrn\", \"adhesion\", \"cira\", \"financial_instrument\", \"liquidity\", \"chief_officer\", \"professor_stephen_glaister\", \"toole\", \"spad\", \"victoria_coach_station\", \"trespass\", \"accident_inquirie\", \"fatality\", \"vandalism\", \"directorate\", \"abatement\", \"incident\", \"subsidiary\", \"safety\", \"asset\", \"derailment\", \"staff\", \"contractor\", \"creditor\", \"cleaning\", \"depreciation\", \"manager\", \"liability\", \"line\", \"tube\", \"corporation\", \"account\", \"accident\", \"performance\", \"train\", \"audit\", \"management\", \"station\", \"income\", \"year\", \"signal\", \"group\", \"project\", \"work\", \"report\", \"service\", \"include\", \"system\", \"information\", \"passenger\", \"underground\", \"financial\", \"increase\", \"expenditure\", \"number\", \"improve\", \"also\", \"improvement\", \"cost\", \"level\", \"time\", \"provide\", \"transport\", \"plan\", \"make\", \"pphpd\", \"bahn\", \"adelaide\", \"dbom\", \"shrt\", \"trolleybuse\", \"slrt\", \"grenoble\", \"hucknall\", \"ambrose\", \"lrvs\", \"trolleybus\", \"holden\", \"steeper_gradient\", \"sir_howard_bernstein\", \"transitway\", \"rubber_tyred\", \"obtrusive\", \"councillor_leese\", \"libertin\", \"inpatient\", \"permanence\", \"energy_storage\", \"monometro_slrt\", \"consortia_bidde\", \"rtrt\", \"pmol\", \"trackway\", \"essen\", \"stray_current\", \"tramway\", \"metrolink\", \"guideway\", \"supertram\", \"busway\", \"tram\", \"rubber_tyre\", \"segregated\", \"guided_busway\", \"nante\", \"ultra\", \"tom_worsley_continue\", \"light\", \"tramlink\", \"segregate\", \"diverting_utilitie\", \"segregation\", \"standardisation\", \"guide\", \"corridor\", \"beneht\", \"mcnulty\", \"transit\", \"heavy\", \"feeder\", \"system\", \"conventional\", \"ride\", \"rail\", \"patronage\", \"manchester\", \"cost\", \"scheme\", \"utility\", \"dockland\", \"city\", \"urban\", \"transport\", \"public\", \"vehicle\", \"procurement\", \"high\", \"benefit\", \"regeneration\", \"route\", \"integrate\", \"mode\", \"development\", \"risk\", \"build\", \"would\", \"passenger\", \"area\", \"project\", \"local\", \"line\", \"provide\", \"service\", \"operate\", \"need\", \"make\", \"also\", \"evidence\", \"take\", \"well\", \"year\", \"time\", \"itso\", \"plusbus\", \"itso_compliant\", \"dobb\", \"ticket_inspectors_function\", \"modern_smartcard_technologie\", \"fare_dodge\", \"enct\", \"appeal_mechanisms_exist\", \"sniartcard\", \"curator\", \"ticketirig\", \"standee\", \"fare_evader\", \"ticket_vending_machine\", \"postcode_lottery\", \"corte\", \"londori\", \"fare_dodging\", \"thetrainline\", \"itso_card\", \"smaftcard\", \"smartcard_technologie\", \"ariy\", \"ancl\", \"coricession\", \"smartcafd\", \"becau\", \"moriey\", \"wdbc\", \"smartcard\", \"pixc\", \"ticket_inspector\", \"itso_compliant_smartcard\", \"fare_evasion\", \"oyster\", \"concessionary\", \"smartcard_technology\", \"overcrowding\", \"tcas\", \"ticket\", \"card\", \"interoperable\", \"trarisport\", \"overcrowd\", \"ticketing\", \"concessionary_fare\", \"crowding\", \"seat\", \"concession\", \"reader\", \"crowd\", \"fare\", \"train\", \"travel\", \"passenger\", \"platform\", \"operator\", \"peak\", \"free\", \"people\", \"penalty\", \"carriage\", \"journey\", \"transport\", \"integrate\", \"service\", \"scheme\", \"system\", \"station\", \"area\", \"local\", \"would\", \"evidence\", \"think\", \"make\", \"issue\", \"provide\", \"rail\", \"public\", \"take\", \"problem\", \"capacity\", \"number\", \"time\", \"government\", \"also\", \"need\", \"sir_peter_masefield\", \"sir_alan_bailey\", \"athlete\", \"lcci\", \"cmnd\", \"donnelly\", \"paralympic\", \"pewp\", \"handley_stevens_continue\", \"bagier\", \"olympic_family\", \"automatic_fare_collection\", \"ringway\", \"geoffrey_myers_continue\", \"supplementary_license\", \"trrl\", \"ture\", \"prob_lem\", \"bagi\", \"avail_able\", \"glassborow\", \"infraco_ssl\", \"municipality\", \"ssas\", \"cally\", \"osmotherly\", \"outer_orbital\", \"caborn\", \"sailing_event\", \"verbund\", \"midibuse\", \"athen\", \"depart_ment\", \"game\", \"spectator\", \"sir_george_young\", \"sir_peter_parker\", \"olympic\", \"tion\", \"travelator\", \"invest_ment\", \"ment\", \"circular\", \"venue\", \"southern_region\", \"tive\", \"inner\", \"warden\", \"illegal_parke\", \"appendix_memorandum_submitte\", \"road\", \"fare\", \"information\", \"transport\", \"expenditure\", \"traffic\", \"would\", \"rights_reserved_appendice\", \"present\", \"think\", \"problem\", \"public\", \"rights_reserve\", \"minute\", \"capital\", \"could\", \"question\", \"take\", \"system\", \"people\", \"service\", \"area\", \"great\", \"policy\", \"central\", \"make\", \"need\", \"investment\", \"much\", \"year\", \"cost\", \"evidence\", \"level\", \"time\", \"increase\", \"give\", \"also\", \"provide\", \"traf\\ufb01c\", \"signi\\ufb01cant\", \"coucher\", \"\\ufb01nancial\", \"rssb\", \"bene\\ufb01ts\", \"sir_robert_horton\", \"\\ufb01nance\", \"transpennine\", \"ef\\ufb01ciency\", \"speci\\ufb01cation\", \"fldm\", \"derek_twigg\", \"ef\\ufb01cient\", \"metcalfe\", \"signi\\ufb01cantly\", \"charterail\", \"re\\ufb02ecte\", \"re\\ufb02ect\", \"speci\\ufb01c\", \"trallic\", \"cross_validity\", \"ruccs\", \"anti_competitive_practice\", \"suf\\ufb01cient\", \"dutie\", \"orcat\", \"fieet\", \"track_electri\\ufb01ed_annual\", \"trackwork_speed_restriction\", \"franchisee\", \"awarding_franchise\", \"firanchise\", \"franchising_director\", \"sanctions_available\", \"anglo_scottish\", \"franchise\", \"opraf\", \"roscos\", \"vertical_integration\", \"franchising\", \"rugby\", \"franchise_holder\", \"scat\", \"trainload\", \"intercity\", \"rolling_stock_leasing\", \"leasing\", \"franchised\", \"regulator\", \"railway\", \"operator\", \"rolling_stock\", \"train\", \"competition\", \"rail\", \"freight\", \"electrification\", \"wagon\", \"passenger\", \"network\", \"service\", \"locomotive\", \"industry\", \"privatisation\", \"track\", \"specification\", \"capacity\", \"company\", \"strategic\", \"access\", \"market\", \"railtrack\", \"investment\", \"infrastructure\", \"subsidy\", \"government\", \"operate\", \"would\", \"route\", \"line\", \"need\", \"cost\", \"provide\", \"station\", \"transport\", \"take\", \"make\", \"year\", \"also\", \"could\", \"system\", \"time\", \"work\", \"writtle\", \"lord_boyd_carpent\", \"transportqflice\", \"concretely\", \"intermediarie\", \"fadure\", \"exptaed\", \"sourcc\", \"hanly\", \"shenanigan\", \"wurce\", \"solutlon\", \"nugget\", \"stansted\", \"wlule\", \"dcfra\", \"blatant\", \"retptire\", \"perccntage\", \"glitche\", \"mot_test\", \"reck\", \"basdine\", \"mph_zone\", \"convener\", \"rt_hon_alistair_darle\", \"icafict\", \"ofclimate\", \"ivhy\", \"ayailable\", \"probity\", \"lord_boyd_carpenter\", \"panache\", \"lord\", \"identifi\", \"ecps\", \"government\", \"visit\", \"crossrail\", \"transport\", \"line\", \"underground\", \"service\", \"make\", \"take\", \"time\", \"railway\", \"year\", \"would\", \"improve\", \"public\", \"rail\", \"project\", \"plan\", \"need\", \"well\", \"link\", \"good\", \"train\", \"money\", \"provide\", \"area\", \"give\", \"agree\", \"report\", \"people\", \"system\", \"also\", \"investment\", \"cost\", \"devereux\", \"near_cash_resource\", \"vehicle_certification_agency\", \"psa_targets\", \"significantly_higher_incidence\", \"workstream\", \"rfrl\", \"outturn_outturn_outturn_outturn\", \"july_isbn_available\", \"isbn_available\", \"seasonally_adjuste\", \"cashable\", \"severe_weather\", \"stakeholder_equity\", \"ndpbs\", \"resource_del\", \"spring_supplementary_estimate\", \"budgeting_rab\", \"isus\", \"see_useful_addresse\", \"annually_managed_expenditure\", \"standards_agency_dsa\", \"easa\", \"rtfo\", \"electronic_vehicle_licensing\", \"administration_departmental_unallocate\", \"accident_investigation_branch_raib\", \"manchester_metrolink_phase\", \"continuous_registration\", \"sir_david_rowland\", \"raib\", \"general_lighthouse_authoritie\", \"maib\", \"vehicle_licensing_agency\", \"dangerous_good\", \"expenditure_core_table\", \"aaib\", \"international_maritime_organization\", \"rowland\", \"dvla\", \"gov_uk\", \"tast\", \"departmental\", \"making_choices_locally\", \"kyoto_commitment\", \"children_kille\", \"dart\", \"bibliography\", \"biofuel\", \"outsourcing\", \"department\", \"annual\", \"outturn\", \"drink_drive\", \"maritime\", \"chapter\", \"defra\", \"baseline\", \"agency\", \"datum\", \"online\", \"target\", \"aviation\", \"report\", \"publish\", \"review\", \"spending\", \"figure\", \"expenditure\", \"programme\", \"total\", \"security\", \"table\", \"include\", \"road\", \"performance\", \"progress\", \"transport\", \"improve\", \"service\", \"year\", \"safety\", \"vehicle\", \"local\", \"objective\", \"increase\", \"work\", \"authority\", \"support\", \"plan\", \"network\", \"also\", \"scheme\", \"rail\", \"provide\", \"public\", \"cost\", \"make\", \"government\", \"shared_prioritie\", \"ltpl\", \"economic_instrument\", \"paridng\", \"smarter_choice\", \"ninth_report\", \"rspb\", \"narrowboat\", \"inland_waterway_shippe\", \"cfit\", \"hince\", \"teleworke\", \"plarme\", \"vdiicle\", \"deafblind\", \"whitehead\", \"diis\", \"seeda\", \"fqps\", \"audioritie\", \"nsca\", \"qualiqr\", \"muirhead\", \"graduated_fixed_penalty\", \"ftea_believe\", \"species\", \"maricet\", \"innovation_fund_productivity\", \"tonne_lorrie\", \"suitable_methodfor_allocate\", \"waterborne\", \"acpo\", \"odier\", \"biodiversity\", \"eocal\", \"chemist\", \"cargo\", \"ceca\", \"lpac\", \"decriminalise\", \"cycling\", \"coastal_shippe\", \"ltps\", \"devon_county_council\", \"safeway\", \"waterway\", \"traffic_calme\", \"rural\", \"inland\", \"cyclist\", \"port\", \"local\", \"white_paper\", \"multi_modal_studie\", \"airport\", \"boot\", \"emission\", \"cycle\", \"competitiveness\", \"authority\", \"sustainable\", \"transport\", \"guidance\", \"target\", \"plan\", \"fuel\", \"freight\", \"road\", \"regional\", \"store\", \"traffic\", \"policy\", \"delivery\", \"measure\", \"integrate\", \"partnership\", \"reduce\", \"encourage\", \"funding\", \"government\", \"scheme\", \"strategy\", \"planning\", \"vehicle\", \"need\", \"support\", \"development\", \"increase\", \"congestion\", \"public\", \"area\", \"include\", \"make\", \"also\", \"travel\", \"improve\", \"provide\", \"rail\", \"well\", \"service\", \"year\", \"would\", \"network\", \"take\", \"level\", \"cost\", \"hon_gentleman\", \"back_bencher\", \"prisoner\", \"deputy_prime_minist\", \"walliswood\", \"noble_baroness_lady_thoma\", \"caithness\", \"migrant\", \"asylum\", \"rifkind\", \"noble_lord_lord_ezra\", \"noble_lord_lord_ewe\", \"wanstead_harry_cohen\", \"obsess\", \"debating\", \"multiple_occupation\", \"discredit\", \"geraint_davie\", \"comfort_letter\", \"ewell_chris_grayle\", \"right_reverend_prelate\", \"brecon\", \"front_bencher\", \"official_opposition\", \"eastleigh\", \"revelation\", \"noble_lord_lord_astor\", \"botch\", \"sardine\", \"homelessness\", \"prison\", \"west_bromwich_east\", \"streatham\", \"tory\", \"winding\", \"hon_friend\", \"wokingham\", \"spokesman\", \"speech\", \"conservative\", \"conservative_party\", \"liberal_democrat\", \"constituency\", \"liberal\", \"bench\", \"probation\", \"constituent\", \"opposition\", \"epsom\", \"labour\", \"debate\", \"front_bench\", \"immigration\", \"congratulate\", \"deputy_prime_minister\", \"londoner\", \"speaker\", \"member\", \"promise\", \"election\", \"government\", \"minister\", \"interruption\", \"noble_lord\", \"privatisation\", \"year\", \"people\", \"hope\", \"right\", \"country\", \"many\", \"must\", \"investment\", \"underground\", \"today\", \"shall\", \"secretary\", \"know\", \"make\", \"problem\", \"transport\", \"public\", \"want\", \"money\", \"would\", \"time\", \"line\", \"give\", \"need\", \"come\", \"state\", \"service\", \"take\", \"system\", \"road\", \"railway\", \"train\", \"much\", \"rail\", \"plan\", \"well\", \"lawfulness\", \"newly_disclosed_document\", \"eastern_portal_option\", \"conveyor_belt_technology\", \"substandard_curvature\", \"expert_witness_michael_schaba\", \"bindman\", \"clrll\", \"advised\", \"accompanying_nt\", \"dismissing_option\", \"hormone\", \"alternatives_studie\", \"protected_specie\", \"akemative\", \"addressee\", \"crosrail\", \"photocopying\", \"andrew\", \"paras\", \"petitionei\", \"interesl\", \"ettect\", \"shafi\", \"linster\", \"kamlet\", \"urance\", \"whra\", \"shaft_sinke\", \"main_alternatives_studie\", \"corroborate\", \"clrl\", \"sess\", \"main_alternatives_studied\", \"errata\", \"heron_tower\", \"tunnel_drive\", \"homeowner\", \"sincerely\", \"spitalfieid\", \"archaeology\", \"human_right\", \"tunneling\", \"relied_upon\", \"copyright\", \"benchmark\", \"article\", \"spitalfield\", \"alignment\", \"crossrail\", \"alternative\", \"harm\", \"request\", \"rights_reserved\", \"environmental\", \"consider\", \"southern\", \"option\", \"consideration\", \"promoter\", \"letter\", \"statement\", \"route\", \"directive\", \"tunnel\", \"bill\", \"review\", \"information\", \"project\", \"impact\", \"would\", \"reason\", \"present\", \"evidence\", \"construction\", \"give\", \"produce\", \"committee\", \"make\", \"provide\", \"report\", \"public\", \"also\", \"area\"], \"Freq\": [56906.0, 14072.0, 45045.0, 24161.0, 31306.0, 28257.0, 22392.0, 26910.0, 20081.0, 24900.0, 17897.0, 18586.0, 15990.0, 22345.0, 22037.0, 21907.0, 19006.0, 18999.0, 13881.0, 11530.0, 15847.0, 20908.0, 20168.0, 15716.0, 16219.0, 12486.0, 16566.0, 19076.0, 16336.0, 10572.0, 42.24521582098902, 26.454705844330675, 16.91679682523393, 21.035105727555568, 15.802211395408202, 10.554881143807993, 9.492460016999052, 9.49373850875053, 10.523383338031469, 8.333486089384593, 9.393948088545585, 6.316219718871214, 6.3113264986425355, 5.254756081208525, 5.250421626259718, 6.227636796502069, 6.915203221999367, 5.253079785368906, 7.226738089928897, 5.197990127664655, 4.193615285707539, 4.1936704724018465, 4.246091393547168, 4.191756413887584, 4.173794064668434, 4.173120786997871, 4.190545525836633, 4.171950829078534, 5.015645471554638, 3.883496416376139, 82.69156615430107, 18.1695311069219, 188.08982277163824, 16.61434246796373, 6.056689112544977, 74.54638534390092, 75.64319513948992, 127.87435499687498, 8.031675576881325, 17.025040007450446, 7.405839607970056, 40.440070087499755, 3200.926222591115, 337.76723394071746, 354.91519679107046, 561.0768518251399, 107.53110462074271, 141.87741209423933, 80.23327853544586, 1719.6170414552394, 34.08803742324622, 30.07659019622691, 48.505726871401485, 1692.2520936332116, 160.47546052424016, 1695.593081390191, 1975.1286694102405, 789.7517348466779, 153.2896231330197, 535.6138582357573, 442.0810940895721, 209.51113418374644, 2179.5467780990075, 814.9900376497403, 2454.8442634594003, 441.0029373966593, 3037.8182537332013, 1016.6899588223635, 3982.8049500454963, 992.354480905283, 1009.0184490883253, 2112.4571820989295, 2042.9218295387175, 787.9810513642278, 1283.2748337814767, 1892.1617878753734, 2108.57392252545, 1021.2223905183318, 1867.0280896118163, 813.9373992842758, 1685.5526938403032, 1470.164824236591, 1104.0900243021545, 1025.6352068939432, 1237.0257349897015, 1114.3154859500748, 1201.2981928563763, 1108.514967034062, 1031.204736382259, 1117.3692085676144, 1452.3826411787938, 1046.855624022317, 1029.1709227413464, 1027.7210579084758, 100.7416566525543, 159.1057755757422, 95.699957600232, 94.6905782765789, 84.61165668826682, 76.54789350649683, 78.55846523634922, 71.50551847016457, 67.47662372714576, 66.46156113052015, 84.54634161103904, 48.31600217657357, 46.30253122641186, 47.30434453644251, 43.277222373716434, 44.28173961978687, 44.26459966966799, 41.257920435557814, 60.7649337183383, 42.06522310219289, 36.220570213699496, 35.211889406856685, 34.20327369477038, 33.19277273838968, 32.177216923801254, 130.3192518838797, 31.17759430269173, 30.173059531109928, 30.169632041815046, 30.13953072421655, 402.8041500979597, 709.6693647226597, 51.981542996023386, 117.86904849071848, 1715.4427192730893, 738.9954137856614, 659.8510857261134, 157.20830348168744, 335.17358227894863, 82.60071942632017, 1690.9895234785922, 186.57094581242757, 109.87496173486268, 10891.544739819758, 787.6439099639276, 543.4810092446523, 585.4868759434829, 202.28017327061224, 368.0078982223747, 2673.0916204789196, 427.922113575128, 1871.7978408030222, 223.7573169139389, 3069.5431232158444, 181.6766813763192, 3693.083752884091, 186.64443278524226, 349.9110351535891, 2540.466241634172, 909.9219064299241, 516.7831058957019, 1384.963570542331, 1457.264336630953, 5973.328798212644, 606.1286836129176, 1523.9870629318941, 1438.9038498128662, 1754.7471335474568, 4841.182846807433, 12958.394672188453, 2178.607975249134, 4601.537041490449, 5415.010150255788, 1331.4350907160774, 2159.9210933073105, 3227.288268161787, 3442.775386391896, 2316.8259751070223, 5366.419738629488, 1848.9870357882485, 3375.328085348915, 4774.690535915393, 2561.771174595498, 3832.9193073684482, 3635.6359678410536, 2596.8045716763504, 4956.693392094734, 3665.962993996829, 3051.7662058826113, 2517.911649581035, 3192.6919873782113, 3227.0328563663843, 3041.7894430037136, 2723.6049913000943, 2712.5383218764478, 2931.2922755423615, 2775.5785676993783, 0.007652069699112097, 0.00763821894605138, 0.007635421673253486, 0.007700456630146387, 0.007614576251236096, 0.007612376737137305, 0.007567397328080293, 0.007567084471288523, 0.007601420801577619, 0.007566594368633736, 0.007565504128140744, 0.007565838397184422, 0.007565729551570555, 0.0075962348731224115, 0.007562471915356635, 0.007562585519248704, 0.007561938988198032, 0.007561774232815294, 0.007561558325941887, 0.007561213350772255, 0.007561236547378489, 0.007596461486121774, 0.007560987332557668, 0.007560278349105597, 0.007560968299444861, 0.007559583640488132, 0.007559781703818283, 0.00755993040001209, 0.007559404610270788, 0.007559455166976683, 0.007602508068146734, 0.007602954156728154, 0.00758474125212592, 0.007593689789069214, 0.00757881184270168, 0.007621037398249389, 0.007581589487601991, 0.007581476478494697, 0.007603905812368518, 5.16856877174359, 3.748134567122331, 0.7843536651982991, 4.548083508160202, 3.368334130324788, 5.997316791902597, 2.8800364236912515, 4.276354608531379, 3.412103590125807, 1.839064780048981, 2.417771904225698, 2.9619451962599963, 3.006429692042959, 0.5684744278705939, 2.2354735110821506, 2.4931109030480796, 3.699593734337882, 2.3154489761843844, 2.260992042879825, 2.0727798331897045, 2.3851362063573234, 2.1434875427389186, 1.6735432383880815, 2.2024352248116768, 2.2428402393279803, 1.9315414981728363, 1.8710285329028076, 1.5025301107551252, 1.3460675694659754, 1.6851050169615363, 1.7655652935131965, 1.7456391470530064, 1.4584153141553307, 1.4744413474039568, 146.7207012891426, 122.06001271194839, 68.92882979308926, 67.94428060515773, 55.141550290997266, 56.1225649862886, 36.43180240449783, 34.46429346612264, 34.46368414561227, 33.48123396926093, 42.081187989371884, 30.525016851000874, 103.80715546180562, 27.563146712916893, 25.60305153548456, 25.60171580084262, 24.617667513401805, 23.631565750789044, 21.66359711153059, 19.69483917452917, 19.693711606324932, 18.70908435597925, 18.708444677863387, 18.708347099845714, 18.94734385433523, 17.602462899536743, 16.739217282176934, 18.350795222282287, 14.769988802290284, 14.708172043893406, 106.484635551578, 161.50799501076733, 212.54790753883432, 32.66684349695026, 89.79360771552962, 403.18279337415976, 132.25994264586322, 27.036064955846495, 27.686368233636024, 36.35005370969068, 57.24174148100521, 168.30971193236334, 847.0257655819038, 971.6276726438659, 1732.688193445272, 74.09576797457756, 1393.9475535803292, 481.506872725812, 1431.369217753721, 939.3942099862139, 64.89690176598553, 464.7207475221386, 224.72979012614056, 475.2587224036836, 1023.6148812411168, 473.5098467717095, 535.2008726402142, 1052.8804456075927, 241.86022261777836, 2155.2818826361304, 636.7371404330936, 355.751723598963, 548.9594945627155, 1006.4448277375024, 674.6232239290056, 826.0711074631835, 226.12002968035486, 850.3870290515299, 677.1954672109164, 380.5027130421134, 468.85902691490577, 646.207741905305, 409.73250747571046, 622.2856712170968, 391.53841387621156, 626.8491652532832, 429.6186472696899, 432.12923859163374, 470.43973875962035, 418.2429759484129, 410.4198036642005, 23.352811328399515, 12.165740062726806, 17.182225971199212, 8.13072526663022, 7.141125218280385, 5.964828131629221, 7.096439237922559, 4.07884992624178, 4.0687673036176495, 4.03263425620664, 4.044966347800234, 4.051082250242462, 31.488884161640268, 22.086593877762493, 2.7926389237414395, 2.151821451065669, 2.039113153969861, 2.032626254176432, 2.033359680077734, 2.0321563982496134, 1.7267771803543552, 18.835230217190492, 1.1297777002215847, 1.1016095914524842, 23.705127423755577, 1.0895669349181667, 1.0669313360499417, 1.0359591664626004, 1.011493335152658, 1.0113377479401469, 9.70061595033669, 797.7712553582264, 22.206958239956965, 676.0517683718396, 8.916563667975565, 98.41269329350824, 33.20282718212935, 1988.8628607645696, 380.2846824478867, 21.86356639226192, 7.652221197963765, 179.34535732886226, 68.71078118783971, 106.90626158632368, 125.82631658711435, 206.08458677873855, 226.4971111237833, 117.63388262333962, 33.913961506059074, 528.259118174092, 441.0937494166665, 245.67067061403554, 1167.9676737372304, 155.54385310817574, 491.8576933738199, 641.956927726061, 601.4748545034058, 328.5908902792478, 242.12950883091113, 763.5144123241821, 438.28543720362967, 443.622863431471, 1049.764426652022, 138.85598221822042, 714.070698461973, 1211.6449475244378, 217.99174200504228, 604.708483919337, 255.5677856764025, 719.6308576624476, 423.54781020992624, 412.45966480082933, 413.0122928073408, 491.3138804420962, 473.2803497944446, 544.4165815455954, 536.5843266629537, 380.3825825872349, 457.0743019554473, 362.10206735566754, 375.10621192347674, 400.02110680569433, 411.7797259907007, 377.2206111986108, 56.09054043899592, 37.41864901788475, 19.72463863327583, 15.560414464894153, 15.552665625838124, 12.452337240783098, 12.446415082084044, 12.439870632428782, 12.452793217898003, 11.417682895629154, 10.376890183782464, 10.37501291629876, 10.358669116519074, 9.337574893226012, 9.331071329056739, 9.323705011835706, 9.319227704632969, 9.31759367114217, 9.308153974699563, 8.297324087312234, 8.29725409690402, 8.274974971912844, 9.423922960707364, 8.296113461142419, 8.2956644137709, 8.291663179938892, 8.290770628990568, 7.256999133144207, 8.20983607704362, 11.335593848433831, 20.394499505942076, 30.155246801850392, 22.556708336104297, 15.836491283610616, 26.456981350749157, 17.513547393257387, 62.194674199408595, 15.253286852006473, 22.21261331414106, 101.80972755917608, 17.884215209214766, 105.24966326437654, 14.441625412296863, 178.93368014281126, 120.17072020104804, 167.1894393268099, 56.84732385487035, 428.7301178609134, 192.60701737926158, 2042.9215247358184, 755.963022958048, 101.87792732169962, 1024.7227311753263, 523.2237438915411, 61.54213629926271, 51.094284157242406, 134.96189711525156, 343.2752499518689, 201.19508716609317, 2674.8188571178134, 516.1739884360442, 168.17478231099193, 825.0025151539055, 426.80748550509645, 951.8542951994613, 2368.5748474937964, 135.3243282382184, 921.768431760305, 1673.2992573731722, 328.07720285630245, 2202.59292426797, 406.4258351293437, 629.8314483708696, 1181.0265193480654, 1654.2513109535942, 1060.5195901730292, 1795.28757719546, 1128.7396651603779, 1413.2174949425655, 1026.6548988580446, 1371.4744947898928, 763.7126270577467, 606.0317159286635, 1117.0212362525465, 609.1526505986559, 960.8998167505906, 837.7657497879792, 992.9753259360194, 700.9312364327851, 1008.9946751302964, 805.2900229748395, 853.6728925773239, 840.2051968618497, 984.4455990447169, 795.5120109162553, 816.3910949037551, 39.343525114411364, 31.26760658027475, 32.26767322818177, 31.266055246928524, 24.112413574378298, 23.169570390003916, 22.17408424410903, 95.39112521934017, 22.171916052325635, 22.16479461853829, 24.147369760794085, 128.27068789310465, 18.113084658180274, 16.09525540000819, 15.103784083813906, 14.09923405628699, 14.098398016234919, 14.095775711644594, 13.083070028099515, 12.074451359816837, 12.073779377859756, 41.597349973529944, 11.06395455446271, 10.059470150173789, 12.97999298324945, 9.047359669397336, 9.046341196743636, 9.039609564989991, 8.92282513818729, 9.038815523810237, 653.6586890658373, 663.8776026849055, 86.7698539530899, 115.13721003097076, 116.72445241303113, 1280.483962617024, 33.17841877438748, 107.18438756666731, 79.68694888124048, 29.147933994126934, 83.86124830003435, 25.448912188984917, 5824.596471817181, 200.93831274532542, 142.8639310600971, 26.097096535038524, 75.93930550660237, 138.03014434873717, 608.098942358862, 525.9428062760472, 276.94134104095156, 54.597599537884044, 246.56099476246845, 970.9103587622317, 97.80655386434805, 6082.598568382594, 344.60343529318794, 475.16314572534276, 8017.16137678412, 560.7604594114946, 612.8263774257958, 4978.061489538348, 4021.129279458582, 255.47137051617548, 555.1485700924259, 1575.1922336105147, 908.9964611691706, 7225.7608341288515, 3623.432549736461, 1705.3116278652924, 441.44863497018764, 1623.3951793467938, 1748.315785190618, 619.2117599763367, 1695.5897289012298, 912.0290317437305, 805.7235020794617, 1479.2474897560028, 1086.823634455604, 1093.3421954302635, 3171.625144902388, 2037.7165746915975, 1750.4212726576407, 1497.510951376516, 1904.4245856219534, 1806.197119059239, 1696.0305490650746, 2081.4174093109264, 1112.0274097265894, 1591.635464104786, 1740.4154613167116, 1509.8821392063687, 1333.6205998821883, 1533.2410720119342, 1296.4031311825172, 1385.4972709778267, 1300.8627394406822, 178.14482264712282, 63.90525348529992, 29.3915971723234, 27.291931249875912, 22.04100297323847, 20.99169275189169, 17.767211314765273, 13.644741756872873, 13.642964973793616, 11.544109342530625, 12.443534332330229, 9.443487578236804, 13.560733287375697, 8.393545454016682, 8.393516166383506, 8.118586053741383, 7.343943243842192, 7.154106574380758, 9.836441527548294, 6.294523415747017, 6.294145782779872, 6.294002894630141, 6.293789893661599, 6.151477734050144, 5.24443751587313, 5.244319477836395, 5.2440177264642935, 5.243781206638808, 5.243512292916023, 5.2434120049600015, 278.62244893164444, 93.24507189717873, 63.10119612914905, 7.5343811972877415, 47.68786384277053, 179.2178079261231, 144.3458999591308, 21.78665851670194, 814.0898721699917, 18.284855143557472, 1784.422600396084, 257.9580889681765, 32.94440540239343, 15.162392295322526, 177.381285175221, 145.38105626611795, 125.58885006844389, 126.74964854674192, 278.11749463555316, 297.43909649332954, 49.22077146309608, 130.80775719947712, 986.9241404693498, 2183.05476502714, 1117.9664259352567, 1690.051129677027, 348.657025387754, 944.1742212800405, 418.704154700943, 305.4019815015785, 1045.8575892472227, 196.87223700305321, 199.11150198527534, 485.3695670370356, 1918.5823112373198, 410.6400800325718, 1107.694894429299, 808.3642925350543, 856.8326913270164, 736.4483495241323, 752.0497332656046, 771.9444213292767, 1063.1119173048426, 609.8901604479809, 682.1292401282464, 763.2048495893346, 574.8158305605505, 632.9665717793525, 762.0787844689736, 645.6623383086146, 627.1637437931571, 522.9410066791411, 474.46891587039096, 514.7153636760981, 532.6622004826434, 558.584077552709, 522.6182108113472, 522.4518996551094, 135.58836940247423, 163.65777263268365, 66.21829316819179, 118.32196099226036, 56.14279972496887, 58.20066205642083, 36.94726468997178, 31.086613280963846, 27.06354696512521, 27.073371045229607, 24.01427067537833, 24.063369973282782, 21.03853700776129, 18.03393820590492, 19.997864670291236, 18.00599347044603, 17.932872900667014, 19.993676612348516, 18.025511768393034, 17.019689592152545, 16.021972444326014, 14.40994186710286, 14.989426237887457, 13.934176861531501, 13.953373750380578, 45.78832318474293, 13.985405900529303, 12.958290371550968, 12.958136971754229, 13.008819777613377, 16.900242283758296, 18.08654865471251, 13.996225050214665, 781.9991657756888, 184.0411740090547, 117.20510658218959, 52.51338975312845, 651.9098008624771, 153.9853976225086, 84.0202470529137, 40.41819400408048, 165.9262455803063, 217.16247894741068, 204.18035641590387, 66.81290649247491, 41.010804202975486, 380.3363588202132, 97.20329247586167, 41.6697253192969, 96.28937382228982, 5773.4899886357225, 1863.6445922013359, 2772.1661701732037, 10102.44703094116, 1350.6537511556821, 2820.171573315466, 7873.148748769256, 214.94435359868393, 1419.2612307369432, 3330.6285419090773, 2268.304750021182, 3779.522487229572, 1031.6926088055852, 1211.1388793919577, 1193.332581614579, 2428.8743461235995, 1587.2833623189536, 3024.858600331969, 2712.588688937948, 2385.2131992525387, 3420.2630072499137, 2404.3609222493014, 1594.9958301017446, 1705.1950754399936, 997.3766619623464, 2878.316621858275, 2325.531204868995, 1945.8154058529703, 1669.4249829341375, 2552.7305302505197, 2193.4831014887554, 1711.6396719884788, 1733.4169499517704, 1831.9295267372231, 1676.5047617774887, 1677.75341339705, 1665.9231691276186, 1644.168539142783, 96.85690984296426, 64.87718588833978, 47.88323585568136, 43.88527115758477, 49.81784859063756, 37.89311248184274, 34.90386924701937, 34.8880828963611, 34.84543694781515, 29.897825077192234, 27.900162131452355, 24.89795730875853, 24.914943519472455, 23.9001674118225, 22.903344929728384, 20.902334772910773, 20.835742539822604, 18.902278748351428, 18.897415108974588, 18.89667792558247, 27.66116860398543, 16.918388734966125, 34.685330898360824, 16.909076536951254, 16.90116454462862, 18.83443352487305, 15.912786465084778, 15.919536231338753, 14.906400522768564, 14.893782068308852, 1020.1193545569294, 51.222176311334245, 19.61764106931184, 255.44030589398704, 46.85813032548597, 21.61633341528396, 6812.216782672618, 184.20933413520143, 156.89260284892336, 135.16814034773938, 791.0751198017283, 142.2800252520131, 64.98391144790166, 30.641767090621926, 57.675320334948616, 370.57696414141486, 82.65622516478625, 168.1159432734571, 85.92373188561353, 1572.7524043443175, 8258.651179019394, 4297.6334218414995, 599.2689447784353, 7917.148090299175, 1140.6061312346055, 11076.319721209202, 4530.134032801858, 500.33349655170014, 201.14002364950184, 6723.511509526352, 5304.269643453747, 8591.354184164577, 206.5223744827209, 3163.9788635816667, 1239.3320688420306, 2085.365348400967, 523.5031749935582, 2490.461905575824, 2689.942084443112, 1456.9389010547266, 2247.8866497343856, 1375.9712464730437, 1671.99958595407, 3183.180024813362, 2076.2735438689347, 872.4991993775666, 4358.327249156798, 1760.1056906073102, 5929.419011763883, 2253.024140565696, 3229.1662420733214, 3307.563663589981, 3439.7641205499117, 2822.175694731812, 2593.9085088297684, 4849.005865890723, 3117.161829569968, 3196.3430297821637, 3063.222497108421, 2610.204645048221, 2267.982809161977, 2282.170592023911, 2212.1517534280533, 2229.317668643594, 0.008123105943883, 0.008014290453772936, 0.007980650436457314, 0.008021749484041779, 0.007975260711796708, 0.007975140423602126, 0.007973184432959798, 0.00797323150225333, 0.007973444766830198, 0.007973007196731066, 0.007973330870761897, 0.007973244867608283, 0.0079726149526183, 0.007972000146290438, 0.007971843248645331, 0.007971914143136824, 0.00797319198729086, 0.007971631727375632, 0.007972053607710252, 0.00797122844231747, 0.00797107445018431, 0.007971112802942002, 0.007970780993477722, 0.007970916971436814, 0.007970647339928187, 0.00797059562181554, 0.007970411993460526, 0.007970196404474102, 0.007969854135166814, 0.007969997086354578, 0.008001280733481657, 0.00799849492862743, 0.008016069789288921, 2.8979592889317884, 0.008003394783973869, 0.007990939435361966, 4.960433699220575, 0.838017555296455, 3.4568990839227096, 5.7178219870369515, 2.9422205097659706, 1.705061593331342, 3.5859999891134864, 3.337559657536414, 2.958832785941661, 2.3202562649468343, 2.181139943856278, 2.471013229099518, 3.2593107342050525, 1.537956108404235, 2.2312628421163647, 2.601138213355339, 1.6138298942642875, 1.9452417543439715, 1.9149861982128327, 1.638961038490492, 0.9369640626600199, 1.417831961351451, 1.9017786427753265, 1.1514720312826499, 1.64312042992841, 1.6371537263810763, 1.6091177024478536, 0.950530730076465, 1.2793020608992447, 1.5070793212772184, 1.6221278504304915, 1.556840132314133, 1.4178963753890983, 1.58466372380911, 50.192959572418864, 20.462925170394985, 26.572991015438753, 22.46244085722211, 25.509916114880486, 47.7434476233174, 15.339109373806766, 86.45057937652876, 18.394954619220314, 30.572112447063247, 17.351840167188588, 15.326670566955633, 23.308776843094964, 13.17460838605865, 24.437241034693418, 14.295903062645381, 12.260529894382934, 13.278121017065692, 11.237960367104675, 13.26998067713466, 10.213567165928824, 14.253420016338655, 11.203265534065295, 15.25556439596388, 14.243484821060513, 9.19642903483643, 11.191424712136632, 9.656805378761957, 10.194615366669103, 10.178250032315006, 46.21427769772264, 23.257353742081374, 20.25519025157532, 86.24612617014506, 30.11912445901715, 19.201234621084723, 40.5314936936964, 15.206441375510511, 33.23253295785604, 164.84584075058197, 72.82013266766556, 26.72863100078675, 428.4778684995555, 34.96513303129244, 17.11828742945723, 57.40092573511714, 34.33759468530494, 27.683767821679815, 68.21240667771924, 26.69153612284017, 3397.1962063846263, 1721.4220493502403, 136.69805644181906, 44.69256457206471, 197.9112369226077, 630.5164549941505, 100.23954972694742, 156.6078131380602, 757.9299525720248, 578.9917109530153, 94.82032937865912, 2026.3699216790185, 369.07102035360754, 2610.7338139013004, 1045.8358021628735, 1194.8105322908227, 516.8058899842355, 1337.0859868998798, 1037.0937525117236, 1302.6583090280917, 1058.4410361430314, 465.4869680306318, 721.1737358214147, 1901.3877875680805, 2651.6450892601847, 1042.9748117453742, 688.749465941928, 4497.387483528129, 1424.6724782621468, 2830.3348573369517, 2439.58390082384, 1192.4600913136355, 1183.7638055206485, 2042.905544847905, 874.8362066447193, 1525.380170932374, 1889.9159295412185, 1338.000457143726, 1137.6514734452505, 1544.1661770711798, 1431.1647213143872, 1465.3646173631778, 1417.0130839154472, 1670.1810527571358, 1287.4999820237676, 1316.029194257415, 1257.3609655602813, 1261.0872041374064, 1245.0110639373802, 49.280995452144396, 46.26465193199413, 50.25366118062591, 30.09825177212401, 24.985685152668193, 24.047876861739287, 21.0419924768236, 20.038069927328557, 17.03117326567142, 30.940292548300885, 19.01894312926335, 16.942086565860894, 19.994883684068316, 17.01337538850142, 17.01131487116354, 15.013970160065202, 16.011189681649494, 14.010259162658235, 13.00139687190657, 13.997678159980238, 13.984960706205428, 13.984381053484094, 10.989849611375115, 10.973087281676255, 11.978681092667117, 10.917393021208401, 11.97220865653237, 9.981455908498543, 10.785392980331249, 8.987779884389557, 44.19513516828754, 28.51908101576902, 13.288986069242009, 36.7775308454679, 49.32190539493692, 15.793902416463697, 182.45763403964216, 35.827547731870105, 22.45045762226669, 29.4816578251701, 846.3811819058885, 43.325279523570174, 243.9560291339222, 27.767829933711702, 33.89423454903078, 240.84387790412316, 57.21015387914546, 1016.9767857319902, 75.7453450796426, 437.5638459969729, 1324.09375550998, 9720.308962059482, 822.5619061150054, 187.2006826268521, 1046.5120973977387, 67.939060336439, 689.6218293034383, 828.2256801620321, 219.42759689546756, 5019.691698714492, 885.5923783553135, 18110.0642817441, 1104.0704448586516, 2761.10311647242, 6377.677655757937, 685.8061066011929, 3934.6738718464844, 6955.716759308809, 1779.1416876957508, 290.38702447277205, 3784.3100942741403, 3546.9777610179403, 1224.8799556981558, 2151.599684695869, 1449.2908905045558, 1164.2046505440026, 2429.340700765018, 1304.5420099848086, 2175.757240737673, 5592.756451087133, 4046.933631977569, 1840.7164107834094, 1825.9978011866351, 2123.8887305410376, 3766.339878311106, 2287.4533584094493, 2378.987106609026, 2963.1343451368903, 1799.001182274491, 3426.779348002142, 2918.3616643060664, 2549.8388746275396, 3453.044842897889, 2818.3230482890763, 2013.97100434248, 2126.8018535663728, 2611.376770727705, 3256.3535274198484, 2410.6315079720766, 2978.761714807379, 2857.071267224784, 3271.9798139436466, 2439.532027980255, 2372.6498861068953, 2220.25453152232, 2231.1103692324605, 43.11536168473144, 29.690130385764366, 26.786874720857238, 23.828825435822495, 24.864729733670497, 22.940038923740318, 19.133390440087044, 15.27817754000901, 15.293918446350036, 15.301394674209028, 45.75417722360273, 14.337211276937886, 14.319596136188995, 14.250631114619122, 14.283213503780615, 13.386143082713405, 13.184385520843971, 12.418743753632713, 12.239987352621904, 30.429812453193772, 11.40490867688252, 11.469765027522762, 11.439850500835288, 11.403248936546591, 10.510441030433018, 10.430972456050961, 10.49088360888103, 10.39728357333218, 10.258053252335678, 10.501088349261968, 90.6084615800055, 42.368765511838454, 38.23803571599602, 239.3544378226827, 11.372747879517586, 76.24472552235142, 44.14616102366741, 92.0295484151546, 532.4471612707563, 733.9741701189807, 91.22557137984562, 79.0350419224033, 524.2410736935585, 93.37986108218226, 101.93584322367433, 23.964817635967528, 591.6010878975803, 518.8834200550205, 43.317787876397524, 688.5675087943781, 1634.1711751202579, 35.28332514213614, 84.81048267644583, 169.64603009464923, 241.48439650091473, 325.3747854063928, 76.87262215510563, 2425.7557666073485, 449.1917931597595, 174.54205698791836, 6467.450534708236, 742.354267121487, 148.75139628598458, 246.78619292458225, 940.0649974418632, 4685.68679932991, 3318.578246483657, 992.9223958540969, 1981.3108899791275, 1190.3206571275575, 2184.3340674632946, 1892.823404953183, 2739.3173427764114, 1571.643851408237, 895.9257741919707, 1126.4249263244542, 1058.6527048093371, 1722.211234387765, 3843.1229372756725, 1994.3172897983502, 5825.908647073873, 2991.4289767677355, 1634.8077580232907, 1447.553545663298, 3965.3108788246655, 2302.9812296289697, 2379.862342790785, 2144.698923870122, 2321.588688001022, 1748.7977538942023, 1345.5594073886807, 2540.0619711183745, 2275.605513947684, 2104.523385391389, 2161.901241931822, 2021.0477126380133, 2062.0164235679076, 1644.8115011868638, 2125.231643082046, 1815.1595333972161, 1673.0368145736547, 13.919176195841212, 10.705508731106233, 9.634253383191714, 7.495785795867283, 6.42579508884522, 6.42157125215822, 5.353988428697541, 5.353645227704713, 5.466092385975917, 4.2855549049035755, 3.2148679836334284, 3.2124457239666264, 3.2126666139673294, 2.2095893755157263, 2.1407695897284538, 1.0986381776607843, 1.0971059814730553, 1.095971410105807, 1.0954088023612472, 1.0954765754296447, 1.0960185317846758, 1.097656495033692, 1.090613002051558, 1.0976115411802432, 1.0975345263297913, 1.0955501673978543, 1.0976341322030423, 31.156917961999284, 4.312552774493657, 4.309676640641525, 6.749157056196971, 116.28523704226508, 6.452943565253962, 8.601125292382045, 3.2336783188999236, 3.231792310784415, 10.256372727568952, 3.8279913089014483, 18.380821049507855, 13.965204377929894, 6.7173210566534705, 16.374228900061933, 12.947420840020314, 15.04867895906513, 12.513313571448233, 78.06269419793738, 94.2091398688444, 145.1178518378566, 194.4187912919983, 955.2696158067611, 394.2216905508892, 41.93759501268366, 154.87470556081877, 52.31096550636888, 311.55824100111505, 382.686456908877, 79.54940438812493, 270.6459954652493, 173.19766620890275, 239.47474338518788, 125.18181731488525, 195.68697007553973, 324.38662677550843, 59.80569385981544, 134.76547867299854, 200.55043483416327, 186.79600515533414, 284.14191447284225, 277.3017288299092, 195.41617719004955, 496.4791711832071, 143.94530199478487, 157.77272395285465, 212.98381817225786, 153.0704906393725, 227.0237034513346, 121.86726244978776, 180.39346649759602, 209.76554213887187, 186.0505433903163, 163.37978112640744, 167.1276381981736, 162.31477733062025, 156.99986452560083], \"Total\": [56906.0, 14072.0, 45045.0, 24161.0, 31306.0, 28257.0, 22392.0, 26910.0, 20081.0, 24900.0, 17897.0, 18586.0, 15990.0, 22345.0, 22037.0, 21907.0, 19006.0, 18999.0, 13881.0, 11530.0, 15847.0, 20908.0, 20168.0, 15716.0, 16219.0, 12486.0, 16566.0, 19076.0, 16336.0, 10572.0, 42.48818332118178, 26.623618459042437, 17.073610250983812, 21.304184637918027, 16.0168833945217, 10.706234314856024, 9.64287579856065, 9.644698559043855, 10.704467162433412, 8.507778643818115, 9.599927667136852, 6.460400543024527, 6.45657825791539, 5.39780490053741, 5.394129369491683, 6.398264788931092, 7.105106968195955, 5.397833117006686, 7.432142993396057, 5.353674461963895, 4.335407900775765, 4.335529940946813, 4.390325090324783, 4.334602392464609, 4.316196960016458, 4.316051873916856, 4.334296213184423, 4.315614145831425, 5.190608384189619, 4.024444726881792, 86.77078054862015, 19.076009190054414, 208.75593029039956, 17.59839835988095, 6.335686676319251, 85.22259622010816, 87.01118784732061, 151.4899334994054, 8.506735476190796, 18.942401989846932, 7.841035286217692, 48.01986750180249, 5428.476881004049, 478.8019512690606, 509.71755765570737, 845.0521729179089, 140.44585407477692, 198.9882476393011, 111.95056861699406, 4774.945444631461, 46.78605174802891, 42.28801484524217, 75.79387462790156, 6271.829020289025, 348.66476438510284, 6903.351902354083, 8665.918306187692, 2675.9565213831042, 346.2609948812511, 1911.8873850773282, 1515.1209129856504, 559.6918384774726, 13920.742866831493, 3636.9635045923465, 17451.597033659946, 1601.6563236652844, 24900.14010924775, 5264.844009868903, 45045.98984830618, 6364.257684141832, 6633.4508241279555, 22345.554220529717, 22037.3659814782, 4648.662830779721, 10588.074513644668, 20908.66765746365, 26910.32215367323, 7836.70103878229, 24161.315125395773, 5219.35999451021, 22392.596011209273, 17897.895323814184, 10746.694381183355, 9495.610685508316, 15847.605043343925, 12130.608575595521, 15387.00430863642, 14765.633542218655, 11530.349976837255, 16566.93794732059, 56906.326327079376, 18586.12073330715, 17965.466920390663, 20081.35765520997, 100.94258878071007, 159.43128922735892, 95.89867249527596, 94.89030845045313, 84.80214642570557, 76.73185663849294, 78.74958298191287, 71.68778498472996, 67.65260844713255, 66.64422335606835, 84.78093386538151, 48.48571559474391, 46.46794270827369, 47.476892727007744, 43.44166741890606, 44.45061285820776, 44.43424704637982, 41.42404715418564, 61.012624398346276, 42.24672464761394, 36.37987672500321, 35.371063351476465, 34.362353494320914, 33.35349994100238, 32.33616422831472, 130.97226061299017, 31.33578978692892, 30.3270630261773, 30.327027399546417, 30.297808122958745, 405.4760995181034, 718.8155173790882, 52.2922193942419, 120.0295049985118, 1816.2298240459327, 769.1308399279897, 690.6029677063422, 160.99387437391607, 349.94083092253993, 83.85012720089891, 1858.536069950516, 193.92073134985105, 112.9366540437484, 14072.137916990183, 892.114026465263, 606.8035748670867, 658.1396542263966, 217.11564002171127, 411.38690158796413, 3421.8189177275704, 493.9854915152096, 2467.2256595062445, 245.68634375702075, 4249.351621897424, 196.34138787186288, 5675.432719904393, 204.7701450265149, 415.8552706222046, 4119.697922180688, 1266.840373899654, 664.1900427691259, 2189.43997346187, 2379.2754616814473, 13577.158724842822, 851.6738794359826, 2712.1085771379408, 2530.16623711778, 3290.942290132316, 12486.617962203834, 45045.98984830618, 4882.606549142241, 13881.489592368105, 17451.597033659946, 2533.1069936265667, 5223.403201648638, 9495.610685508316, 10746.694381183355, 5893.700328508025, 22392.596011209273, 4340.048324830247, 12130.608575595521, 22345.554220529717, 7675.350676390822, 16219.55733783994, 14765.633542218655, 7943.275353745156, 26910.32215367323, 15847.605043343925, 11424.674561568932, 8205.905278877384, 16566.93794732059, 17897.895323814184, 15716.439682499662, 12128.863479061627, 12702.491230819429, 19076.80843451868, 17235.50738577421, 0.1492600322281644, 0.1490983890360773, 0.14911555991377662, 0.15053142034226102, 0.14921735818953655, 0.14920465527302768, 0.14846028870303776, 0.14846612943110146, 0.14914839239746314, 0.148472701923536, 0.14846717243398125, 0.14847741835061865, 0.14847705293185687, 0.14909142416645071, 0.14846559751567553, 0.14847558394889224, 0.14846703852035223, 0.148464561884486, 0.14846631417788256, 0.14846341489321863, 0.1484668702886829, 0.14916501407746857, 0.14847699693054559, 0.14846612821984329, 0.14847975510930356, 0.14846484860372702, 0.1484690327160372, 0.14847479743503028, 0.14846640497234526, 0.14846809928801513, 0.1493957125113669, 0.1494726273692203, 0.14907835780334555, 0.1493293366687615, 0.14905825548983814, 0.15038668143237627, 0.14914822105930428, 0.14917899364432594, 0.15000112566196663, 28257.44772298248, 15990.663461368273, 877.9753937272911, 24900.14010924775, 17897.895323814184, 56906.326327079376, 14072.137916990183, 31306.901998938378, 26910.32215367323, 7929.29460258908, 13881.489592368105, 22345.554220529717, 24161.315125395773, 862.9646585978744, 15716.439682499662, 20081.35765520997, 45045.98984830618, 19006.3280345348, 18586.12073330715, 16566.93794732059, 22392.596011209273, 19076.80843451868, 11530.349976837255, 20908.66765746365, 22037.3659814782, 16336.788646013609, 16219.55733783994, 10572.478105027512, 9132.20919125979, 15387.00430863642, 17235.50738577421, 18999.66815766085, 13934.267734493727, 17965.466920390663, 146.93849485307447, 122.27962636903939, 69.10486709209083, 68.11961081056602, 55.31156912618653, 56.296751662623265, 36.59220012747567, 34.62147582967922, 34.621647013904116, 33.63626808969846, 42.28832538381181, 30.68070398967494, 104.3733783221275, 27.71692781015553, 25.754391929627538, 25.754270842310294, 24.769090322377043, 23.78388088030022, 21.813377663180294, 19.842848864476196, 19.8429389828976, 18.857593152423405, 18.857644107876283, 18.857566211602915, 19.106754406388124, 17.752627880471035, 16.88706691672493, 18.51444850428043, 14.916599885763882, 14.8564465556359, 108.1669147854466, 165.2678751653511, 218.67718768305258, 33.34653243109857, 93.7796486123726, 449.86316550023, 141.90913483334725, 27.619765077475282, 28.480425601340002, 38.22130136366164, 63.21966783497237, 210.84608008300307, 1523.6363185917448, 1936.9171004177801, 4094.4416647680882, 93.77957369555114, 3436.388845238406, 1063.9585658237202, 4728.2589936100585, 2950.608856641769, 84.92783715665644, 1283.0653238255225, 475.94461350759593, 1418.0853132193831, 4434.17705597545, 1540.0873385567395, 1956.162494254269, 5741.024663096955, 598.3551623047183, 22392.596011209273, 3373.183041292403, 1508.759020796171, 3289.1434181502923, 10572.478105027512, 5271.985298976002, 12486.617962203834, 674.3946415723574, 18586.12073330715, 12338.58045374464, 2813.243400886804, 5223.403201648638, 14072.137916990183, 3786.236989920176, 21907.370811241202, 3745.510990929708, 26910.32215367323, 5675.432719904393, 6066.618078184464, 12398.307439410526, 15847.605043343925, 8005.873533714408, 23.627825922804842, 12.321477384292612, 17.49790813302007, 8.2882666727194, 7.29045379765124, 6.106652212687927, 7.2789945488473915, 4.219586807725322, 4.209977779928404, 4.172824070168345, 4.188403527024625, 4.197636074678738, 32.762756980075196, 23.486508464053554, 2.97145496600176, 2.29359873179934, 2.1777125618990234, 2.171275036376406, 2.172133652855356, 2.1713377505812232, 1.8654392425746422, 20.406734107818522, 1.2687299551320057, 1.2407281791933953, 26.70567771869355, 1.2291858547785088, 1.2066445820566851, 1.1746719739119496, 1.1495683356740962, 1.1494240754074525, 11.21895836888813, 1180.500173232375, 28.5538867537179, 1050.92041636218, 11.06195218664866, 142.42693087475502, 45.29918172732014, 4858.086200004753, 862.9646585978744, 34.012530948988314, 10.114718270462049, 429.08213248043944, 142.7896264761923, 276.84553683758384, 361.18056428697935, 697.8196514670623, 976.4137962199214, 406.020511608298, 74.97955718911382, 3745.510990929708, 3083.945655178952, 1387.0648682701099, 14072.137916990183, 715.8094485804266, 4094.4416647680882, 6255.512030960231, 6066.618078184464, 2727.173137379998, 1677.6052563949834, 11530.349976837255, 5254.537814599552, 5405.457057249734, 26910.32215367323, 706.6376911619345, 15847.605043343925, 45045.98984830618, 1682.7334900556884, 13577.158724842822, 2395.6880719551677, 24161.315125395773, 7756.432110873756, 7908.333311563794, 7943.275353745156, 12486.617962203834, 13881.489592368105, 22345.554220529717, 22392.596011209273, 7836.70103878229, 16566.93794732059, 6782.220935402502, 8005.873533714408, 11424.674561568932, 56906.326327079376, 17897.895323814184, 56.303305991411584, 37.57281972747333, 19.888751755791887, 15.714787542615138, 15.711710920195245, 12.603630076217355, 12.599401811350356, 12.592900730730946, 12.606033381279913, 11.560354535178162, 10.525252612251325, 10.525082247481206, 10.512636894721778, 9.479134013106966, 9.479360203605268, 9.472135621474548, 9.469871049866818, 9.470603637369972, 9.462104690850392, 8.438452336420658, 8.438451837794384, 8.417461702088186, 9.586206677961878, 8.44375828912419, 8.443784556488852, 8.441990524118125, 8.443383850395543, 7.397678692405045, 8.37055166476987, 11.558615603472155, 20.823014240507852, 31.130932412551196, 23.738800603102174, 16.65181808583989, 28.60145536697728, 18.57885669618561, 75.33607063081216, 16.396471900252724, 24.847106190065624, 132.6104616876264, 19.670127045649885, 144.7856209458374, 15.536484613054332, 295.81252036115404, 190.15573153786175, 280.8607862426604, 81.48324864711307, 953.3618817949132, 375.7442387091303, 7436.349883278083, 2151.17189695516, 181.3132525281793, 3547.440853035914, 1601.6563236652844, 101.13611011407647, 79.70545880682887, 286.48533790064437, 1008.8918398706099, 501.68026149153104, 17897.895323814184, 1911.8873850773282, 424.7949804226317, 4096.129853747062, 1642.6596323350063, 5219.35999451021, 20081.35765520997, 326.71220457802156, 5499.036824985058, 13881.489592368105, 1253.1454560934674, 24900.14010924775, 1827.0308888571508, 4033.4121854930763, 11530.349976837255, 22392.596011209273, 10588.074513644668, 28257.44772298248, 12398.307439410526, 18999.66815766085, 10534.81244775008, 19006.3280345348, 6271.829020289025, 4082.190303754169, 14104.618603882676, 4201.856558817026, 12128.863479061627, 9132.20919125979, 17235.50738577421, 6860.33031714368, 20908.66765746365, 12702.491230819429, 16566.93794732059, 16336.788646013609, 56906.326327079376, 17965.466920390663, 26910.32215367323, 39.52930264099787, 31.434996570958813, 32.443590564149474, 31.44127657019406, 24.2804859584133, 23.34551901176562, 22.342768213024144, 96.12124213825572, 22.34305810933752, 22.342927057170638, 24.346318079413308, 129.42384882886208, 18.2863522734531, 16.267543895654853, 15.26550456800902, 14.250306498662763, 14.25052668109723, 14.252161958019386, 13.243329454421653, 12.232247470904408, 12.232012662450131, 42.17791559145012, 11.21953073207199, 10.209792460838466, 13.179908151007417, 9.194243765866325, 9.198321919665418, 9.191583738610559, 9.075707145819047, 9.197494389177388, 672.0594700312679, 690.8252419767165, 89.0070743480771, 119.1030203479225, 121.14811928260772, 1401.8287231108957, 34.400996590947436, 114.07159987774578, 84.93509594284426, 30.165554591028204, 90.73899269253437, 26.35212277349531, 7800.300303536478, 231.9124011806283, 168.5061792308684, 27.37103082207954, 88.74304613872074, 176.96604041556589, 992.1856883899464, 858.5887584396288, 414.05886983119785, 63.2606489435544, 388.0644498842727, 1991.0366468017016, 129.8903838584003, 18999.66815766085, 597.6023159534321, 912.8784798558287, 31306.901998938378, 1147.030834093307, 1326.9554509789032, 20908.66765746365, 15990.663461368273, 449.3992317363444, 1249.0230249820743, 5189.987931563005, 2603.9119268926174, 56906.326327079376, 22037.3659814782, 7436.028077416592, 1021.4989197794667, 8209.353855451725, 9362.486520852506, 1783.8839580086603, 9506.084069011893, 3653.781595239395, 2972.6180123633476, 9286.22295509942, 5264.844009868903, 5458.647463953446, 45045.98984830618, 19006.3280345348, 16219.55733783994, 11530.349976837255, 20168.213472849082, 17897.895323814184, 16336.788646013609, 28257.44772298248, 6303.827812240569, 19076.80843451868, 26910.32215367323, 17235.50738577421, 12130.608575595521, 22345.554220529717, 13934.267734493727, 24900.14010924775, 16566.93794732059, 178.65756949171762, 64.14861311540467, 29.549295373339326, 27.44786184144051, 22.194361839507383, 21.14413918813055, 17.930153464254794, 13.790493676557132, 13.789995853849218, 11.689088961991489, 12.600623839281473, 9.587529832041454, 13.769849823032901, 8.536791688858525, 8.53681925732532, 8.26237954042004, 7.4861344811949575, 7.299916597887299, 10.043302502795862, 6.435534055189833, 6.435372774854545, 6.435344829068227, 6.435254847296122, 6.2937985167042285, 5.384658371740581, 5.384618686694372, 5.3844856906817276, 5.384411097080431, 5.384295459252276, 5.384304361271256, 286.39584331592283, 98.39817423882664, 67.08385846963182, 7.794576167535465, 55.37994753674124, 234.74716019692957, 192.90934532114233, 24.913369807288383, 1354.2008922237098, 21.025271572668498, 3754.5707880628174, 443.274167338616, 41.751629161445024, 17.680666277244722, 330.9670498088653, 268.9151076558695, 240.66351809217633, 244.94245481370385, 725.5000876970918, 828.1107513100785, 84.45982252905911, 325.8088684680099, 5865.4916285095605, 20081.35765520997, 7929.29460258908, 19006.3280345348, 1831.213204529513, 9056.59099648242, 2562.432389238878, 1659.5730023089789, 15716.439682499662, 885.4785349128316, 903.2121650637208, 4314.476658887157, 56906.326327079376, 3653.781595239395, 28257.44772298248, 15990.663461368273, 18999.66815766085, 13881.489592368105, 16219.55733783994, 20168.213472849082, 45045.98984830618, 12130.608575595521, 17451.597033659946, 26910.32215367323, 11424.674561568932, 16336.788646013609, 31306.901998938378, 22037.3659814782, 22345.554220529717, 10589.549786804275, 7760.223072826285, 12128.863479061627, 16566.93794732059, 24161.315125395773, 17235.50738577421, 19076.80843451868, 135.80760241529833, 163.9392960661516, 66.3873561598959, 118.65302281891717, 56.331681763137105, 58.40022403934614, 37.10797896789079, 31.24015397567459, 27.216788505823946, 27.233377969049783, 24.162442597883416, 24.216802988909915, 21.200665111581436, 18.18352186234956, 20.166804302703458, 18.158400024948076, 18.085436099988414, 20.165559698699692, 18.185067260239915, 17.17645997008595, 16.175872491448484, 14.556023013765511, 15.141507562983618, 14.084301165454006, 14.105294152950515, 46.29013150141611, 14.139903691698077, 13.101845963733005, 13.101861950948855, 13.154782818330407, 17.09698851232455, 18.37321955140493, 14.163403226342918, 879.0241470467424, 198.05864927770799, 125.37904706087389, 55.15782491430561, 750.6927447417057, 168.8342935002091, 91.38725969774106, 43.11698189942272, 195.91100318358778, 287.15005908717217, 273.7803809407869, 79.04809640138254, 46.15309185395075, 587.4469974514963, 125.59287204814396, 47.2261257573167, 127.56221075826136, 21907.370811241202, 5865.4916285095605, 10534.81244775008, 56906.326327079376, 4201.856558817026, 11104.718534265334, 45045.98984830618, 400.18343968971567, 5414.942085229363, 17451.597033659946, 10589.549786804275, 22037.3659814782, 3547.2770120013674, 4498.053279957368, 4960.453286951337, 14765.633542218655, 7836.70103878229, 22345.554220529717, 18999.66815766085, 15716.439682499662, 28257.44772298248, 16219.55733783994, 9089.43417137333, 10459.953873040873, 4155.600486732066, 26910.32215367323, 19076.80843451868, 13920.742866831493, 10566.363941858623, 24900.14010924775, 20908.66765746365, 12130.608575595521, 12702.491230819429, 16566.93794732059, 14104.618603882676, 15847.605043343925, 17235.50738577421, 16336.788646013609, 97.05857299277483, 65.05635263836575, 48.05213719541652, 44.05386483255963, 50.01837106487212, 38.05418798660921, 35.06186571649215, 35.05141601315643, 35.02048903488421, 30.05395511989694, 28.054167891634055, 25.052248421706352, 25.070802879279412, 24.052383764151326, 23.058957824782347, 21.051569687973497, 20.994338245871763, 19.051914115799224, 19.04878661695471, 19.04811203098832, 27.893953873701665, 17.06347816413274, 34.98334081965138, 17.055739134097042, 17.050404206927595, 19.00434650813349, 16.061234425272705, 16.068837082947486, 15.052817913040718, 15.041484433712649, 1061.1052612067747, 51.79399108718307, 19.827359312854345, 266.08261442176496, 47.87749282922054, 21.886948952655214, 7969.137178471839, 195.06880852278468, 166.7782407786308, 143.36969865011838, 890.0582701313627, 154.79268534859193, 69.92550501504185, 31.779803175866892, 63.015267582367585, 485.965773597164, 93.98279456624029, 205.77188741320984, 99.96751263964408, 2675.9565213831042, 18586.12073330715, 9056.59099648242, 978.6286294496546, 20081.35765520997, 2111.485866012455, 31306.901998938378, 10804.873751381625, 806.069317716631, 277.53814807515124, 19006.3280345348, 15387.00430863642, 28257.44772298248, 295.36561093515496, 8957.477207899721, 2788.4003415036505, 5748.247901515764, 997.0622334413259, 7760.223072826285, 8665.918306187692, 4106.99103677559, 7711.025192762637, 4048.770832288408, 5428.476881004049, 13920.742866831493, 7726.962331350096, 2133.7534326334644, 24161.315125395773, 6303.827812240569, 45045.98984830618, 9506.084069011893, 17897.895323814184, 19076.80843451868, 20908.66765746365, 16336.788646013609, 13881.489592368105, 56906.326327079376, 22345.554220529717, 26910.32215367323, 24900.14010924775, 17235.50738577421, 14765.633542218655, 18999.66815766085, 16566.93794732059, 22392.596011209273, 0.15000112566196663, 0.14904619878030942, 0.1484635574914764, 0.14928165263774804, 0.14846462161634483, 0.1484629438976186, 0.148464348089207, 0.14846578007383335, 0.14847096350477565, 0.14846365974087777, 0.14846998177411194, 0.14846857347065692, 0.1484614701270163, 0.1484640961159415, 0.14846652966014764, 0.1484679837032437, 0.14849320870413116, 0.14846430418950704, 0.14847428606465385, 0.1484654621447826, 0.1484646506275665, 0.1484698346641148, 0.14846648553256003, 0.14847006279213876, 0.14846619370449105, 0.14847022182144826, 0.14846720463343824, 0.14846855514787072, 0.14846263450174052, 0.14846690541416457, 0.14908507763263845, 0.14905545648816604, 0.14964686203003033, 862.9646585978744, 0.14941306925556122, 0.14911250018142078, 24161.315125395773, 877.9753937272911, 14072.137916990183, 56906.326327079376, 17897.895323814184, 6271.829020289025, 28257.44772298248, 26910.32215367323, 22345.554220529717, 16566.93794732059, 18586.12073330715, 24900.14010924775, 45045.98984830618, 9132.20919125979, 22037.3659814782, 31306.901998938378, 11530.349976837255, 17965.466920390663, 19076.80843451868, 13934.267734493727, 4202.660762734768, 10597.806529468111, 20081.35765520997, 6903.351902354083, 16336.788646013609, 16219.55733783994, 15847.605043343925, 5405.457057249734, 10588.074513644668, 15716.439682499662, 18999.66815766085, 17235.50738577421, 13920.742866831493, 20908.66765746365, 50.35918925399453, 20.61474521101375, 26.773888381608206, 22.666602213593467, 25.741948733366137, 48.17898541317513, 15.48525189554249, 87.27610475116603, 18.5727444097326, 30.878281409117182, 17.53248309446979, 15.487917543779055, 23.561460741351425, 13.318661677613273, 24.720913429904094, 14.465005400549895, 12.406917477093264, 13.444462541067216, 11.381861821343183, 13.443973391273243, 10.35800113923332, 14.466454718000119, 11.374225417051258, 15.490690605454043, 14.46509031778851, 9.34251742232531, 11.371881562732034, 9.813211475565527, 10.36294130731425, 10.34815154748191, 47.21298457153073, 23.69021159399243, 20.60833335420134, 89.21110260130268, 30.855753918425393, 19.590864922920883, 42.08076867008431, 15.49079012570014, 34.64789146902128, 182.30218105090304, 78.87233832689766, 27.780888232813474, 509.73804489728684, 36.98284194157758, 17.53137888962617, 63.439150465299754, 36.87293877635327, 29.30733563340706, 77.61745397946535, 28.318796130051645, 6351.805650912532, 3107.6885353327616, 178.478946652304, 51.09926174461676, 291.15346525060994, 1172.39545479957, 134.69309586211327, 237.93848020755442, 1657.770100154318, 1225.4051621423582, 133.7751616874696, 6339.847255607352, 754.11591139321, 10588.074513644668, 3295.929805420529, 4390.6191123995295, 1431.4929645181944, 5593.123822000899, 4201.856558817026, 5945.044431008122, 4496.543763397325, 1400.17361693816, 2824.328668864964, 12398.307439410526, 21907.370811241202, 5219.35999451021, 2798.732499382975, 56906.326327079376, 9132.20919125979, 28257.44772298248, 24900.14010924775, 7436.349883278083, 7436.028077416592, 20168.213472849082, 4704.732641619559, 14104.618603882676, 22392.596011209273, 12338.58045374464, 8596.236532694176, 17965.466920390663, 15387.00430863642, 17235.50738577421, 15990.663461368273, 31306.901998938378, 16336.788646013609, 22037.3659814782, 20908.66765746365, 26910.32215367323, 24161.315125395773, 49.44873242697984, 46.427128290554656, 50.44260638733473, 30.29157349073893, 25.153785008572303, 24.242913592819683, 21.219811878310352, 20.2121208803565, 17.186120976850567, 31.224417961073517, 19.203001606742635, 17.106098549705127, 20.19814278324184, 17.187472293294817, 17.18733730117568, 15.169807704425915, 16.179838675200546, 14.161844752280897, 13.153414527924124, 14.163482926804058, 14.162176495444857, 14.162191661954573, 11.137310903625133, 11.121044782017876, 12.146412268320496, 11.073657257971204, 12.145692375957884, 10.128772820810957, 10.948357716531657, 9.130167204708073, 45.247481746210354, 29.09988714298785, 13.501424363754255, 38.014231023985616, 51.34868368444646, 16.102683996250065, 197.2404939014613, 37.23981441587065, 23.0786469121112, 30.859495533536546, 1031.7139676261068, 46.10252641065921, 284.77669798621633, 29.1694847524721, 36.06576418155926, 290.99934466620437, 64.20226190853847, 1480.1345700455586, 87.32014950180175, 601.1705079501293, 2072.8739372932723, 20168.213472849082, 1345.0164656722682, 252.73132453416505, 1877.6691587737648, 81.23098012830032, 1168.6182288322705, 1468.2872720884468, 316.134454682261, 12338.58045374464, 1611.663219708656, 56906.326327079376, 2144.3865943637397, 6339.847255607352, 17965.466920390663, 1295.731682281157, 10804.873751381625, 21907.370811241202, 4194.841365627333, 460.4527822673887, 11104.718534265334, 10459.953873040873, 2809.8482557603797, 5905.633996237229, 3653.781595239395, 2783.3013424212695, 7628.5408246377, 3341.5499940745153, 6633.4508241279555, 24161.315125395773, 15990.663461368273, 5466.960160952588, 5527.467293748502, 7436.028077416592, 19076.80843451868, 8596.236532694176, 9286.22295509942, 14104.618603882676, 5749.0616784226395, 22037.3659814782, 16219.55733783994, 12398.307439410526, 26910.32215367323, 17235.50738577421, 7929.29460258908, 9132.20919125979, 16336.788646013609, 31306.901998938378, 13934.267734493727, 28257.44772298248, 24900.14010924775, 45045.98984830618, 15387.00430863642, 22345.554220529717, 12702.491230819429, 20908.66765746365, 43.32137617390446, 29.855747232716805, 26.94432538385161, 23.99281974060185, 25.04259349204071, 23.119519182677884, 19.28888991430937, 15.424582844314086, 15.44260744967233, 15.452494009408102, 46.21199912877052, 14.483596509398096, 14.46944716635691, 14.40541524185615, 14.439839539592873, 13.535264322063858, 13.332205273164154, 12.563566917203454, 12.38815605266039, 30.816759450939962, 11.55240147080491, 11.619182612065908, 11.590172595806914, 11.555981712165924, 10.654727666993459, 10.574565185386628, 10.635327198050861, 10.54369561443845, 10.402622080278315, 10.650593571778767, 93.1815005821656, 43.37382587571461, 39.22567545460464, 255.33642515545446, 11.539799699680566, 81.0855913456328, 46.20791698119198, 99.27014159432586, 617.0653115735319, 872.6807639434218, 99.52636142148602, 85.94396465165039, 633.8739658494427, 104.05939477295861, 114.8324270328567, 25.149807597429678, 802.2860271561383, 702.7098143013683, 48.427274581524614, 1024.3732440068034, 2727.173137379998, 38.70419283937623, 102.57380727086357, 230.3413217580546, 366.9687758147415, 545.3743456808587, 97.61958828260549, 6255.512030960231, 864.4221424430044, 270.1389735836206, 24161.315125395773, 1677.6052563949834, 224.09626900229708, 429.08213248043944, 2788.4003415036505, 24900.14010924775, 15716.439682499662, 3083.945655178952, 8005.873533714408, 4034.9871908706396, 9574.444818715006, 8088.323319400105, 13920.742866831493, 6271.829020289025, 2783.5540345948843, 4094.4416647680882, 3745.510990929708, 7943.275353745156, 26910.32215367323, 10589.549786804275, 56906.326327079376, 22037.3659814782, 8205.905278877384, 6903.351902354083, 45045.98984830618, 16566.93794732059, 17897.895323814184, 15847.605043343925, 19076.80843451868, 10746.694381183355, 6066.618078184464, 28257.44772298248, 22345.554220529717, 18999.66815766085, 21907.370811241202, 18586.12073330715, 20081.35765520997, 10566.363941858623, 31306.901998938378, 17965.466920390663, 13934.267734493727, 14.072163344327537, 10.85746908695643, 9.785768905090999, 7.642751245124225, 6.571473961821974, 6.570708969348965, 5.499585546016666, 5.4994732407912466, 5.640613855711311, 4.427907290372323, 3.355275862721497, 3.354105159185879, 3.35526845998847, 2.34917980452177, 2.2794713076252324, 1.2369125837045518, 1.2353738057195978, 1.2341506496529646, 1.233667747551115, 1.23375307142036, 1.2343865352899772, 1.236621167281549, 1.2288492924753307, 1.2368184646959663, 1.2376167567801533, 1.237458963419767, 1.2424549714494506, 36.17552602528407, 5.264601755390937, 5.27736821781155, 8.396393503991245, 180.44786240375652, 8.482102430052594, 11.644952695008262, 4.202669442523625, 4.206157559822493, 15.760335333254009, 5.157513350494253, 31.70927279111571, 23.066731006256752, 9.92071666477339, 28.801558934707323, 22.951111120177863, 27.972720505738486, 23.553845372813953, 264.19137622820836, 357.90041771509675, 664.1900427691259, 1118.8248958412087, 14072.137916990183, 4108.6666708801395, 147.426598788687, 1109.373359335368, 228.53939325221182, 4959.681005609921, 7223.790944845349, 542.2472931007728, 4882.606549142241, 2313.9867782484816, 4249.351621897424, 1353.5767876081354, 3598.2287487511576, 9506.084069011893, 426.9222499035221, 2189.43997346187, 4858.086200004753, 4390.6191123995295, 10534.81244775008, 11530.349976837255, 5893.700328508025, 45045.98984830618, 4257.050738334023, 5414.942085229363, 12130.608575595521, 5223.403201648638, 15847.605043343925, 3178.475525645117, 13577.158724842822, 26910.32215367323, 16336.788646013609, 10588.074513644668, 22037.3659814782, 17235.50738577421, 16219.55733783994], \"Category\": [\"Default\", \"Default\", \"Default\", \"Default\", \"Default\", \"Default\", \"Default\", \"Default\", \"Default\", \"Default\", \"Default\", \"Default\", \"Default\", \"Default\", \"Default\", \"Default\", \"Default\", \"Default\", \"Default\", \"Default\", \"Default\", \"Default\", \"Default\", \"Default\", \"Default\", \"Default\", \"Default\", \"Default\", \"Default\", \"Default\", \"Topic1\", \"Topic1\", \"Topic1\", \"Topic1\", \"Topic1\", \"Topic1\", \"Topic1\", \"Topic1\", \"Topic1\", \"Topic1\", \"Topic1\", \"Topic1\", \"Topic1\", \"Topic1\", \"Topic1\", \"Topic1\", \"Topic1\", \"Topic1\", \"Topic1\", \"Topic1\", \"Topic1\", \"Topic1\", \"Topic1\", \"Topic1\", \"Topic1\", \"Topic1\", \"Topic1\", \"Topic1\", \"Topic1\", \"Topic1\", \"Topic1\", \"Topic1\", \"Topic1\", \"Topic1\", \"Topic1\", \"Topic1\", \"Topic1\", \"Topic1\", \"Topic1\", \"Topic1\", \"Topic1\", \"Topic1\", \"Topic1\", \"Topic1\", \"Topic1\", \"Topic1\", \"Topic1\", \"Topic1\", \"Topic1\", \"Topic1\", \"Topic1\", \"Topic1\", \"Topic1\", \"Topic1\", \"Topic1\", \"Topic1\", \"Topic1\", \"Topic1\", \"Topic1\", \"Topic1\", \"Topic1\", \"Topic1\", \"Topic1\", \"Topic1\", \"Topic1\", \"Topic1\", \"Topic1\", \"Topic1\", \"Topic1\", \"Topic1\", \"Topic1\", \"Topic1\", \"Topic1\", \"Topic1\", \"Topic1\", \"Topic1\", \"Topic1\", \"Topic1\", \"Topic1\", \"Topic1\", \"Topic1\", \"Topic1\", \"Topic1\", \"Topic1\", \"Topic1\", \"Topic1\", \"Topic1\", \"Topic1\", \"Topic1\", \"Topic1\", \"Topic1\", \"Topic1\", \"Topic1\", \"Topic1\", \"Topic2\", \"Topic2\", \"Topic2\", \"Topic2\", \"Topic2\", \"Topic2\", \"Topic2\", \"Topic2\", \"Topic2\", \"Topic2\", \"Topic2\", \"Topic2\", \"Topic2\", \"Topic2\", \"Topic2\", \"Topic2\", \"Topic2\", \"Topic2\", \"Topic2\", \"Topic2\", \"Topic2\", \"Topic2\", \"Topic2\", \"Topic2\", \"Topic2\", \"Topic2\", \"Topic2\", \"Topic2\", \"Topic2\", \"Topic2\", \"Topic2\", \"Topic2\", \"Topic2\", \"Topic2\", \"Topic2\", \"Topic2\", \"Topic2\", \"Topic2\", \"Topic2\", \"Topic2\", \"Topic2\", \"Topic2\", \"Topic2\", \"Topic2\", \"Topic2\", \"Topic2\", \"Topic2\", \"Topic2\", \"Topic2\", \"Topic2\", \"Topic2\", \"Topic2\", \"Topic2\", \"Topic2\", \"Topic2\", \"Topic2\", \"Topic2\", \"Topic2\", \"Topic2\", \"Topic2\", \"Topic2\", \"Topic2\", \"Topic2\", \"Topic2\", \"Topic2\", \"Topic2\", \"Topic2\", \"Topic2\", \"Topic2\", \"Topic2\", \"Topic2\", \"Topic2\", \"Topic2\", \"Topic2\", \"Topic2\", \"Topic2\", \"Topic2\", \"Topic2\", \"Topic2\", \"Topic2\", \"Topic2\", \"Topic2\", \"Topic2\", \"Topic2\", \"Topic2\", \"Topic2\", \"Topic2\", \"Topic2\", \"Topic2\", \"Topic2\", \"Topic2\", \"Topic2\", \"Topic2\", \"Topic2\", \"Topic2\", \"Topic2\", \"Topic2\", \"Topic3\", \"Topic3\", \"Topic3\", \"Topic3\", \"Topic3\", \"Topic3\", \"Topic3\", \"Topic3\", \"Topic3\", \"Topic3\", \"Topic3\", \"Topic3\", \"Topic3\", \"Topic3\", \"Topic3\", \"Topic3\", \"Topic3\", \"Topic3\", \"Topic3\", \"Topic3\", \"Topic3\", \"Topic3\", \"Topic3\", \"Topic3\", \"Topic3\", \"Topic3\", \"Topic3\", \"Topic3\", \"Topic3\", \"Topic3\", \"Topic3\", \"Topic3\", \"Topic3\", \"Topic3\", \"Topic3\", \"Topic3\", \"Topic3\", \"Topic3\", \"Topic3\", \"Topic3\", \"Topic3\", \"Topic3\", \"Topic3\", \"Topic3\", \"Topic3\", \"Topic3\", \"Topic3\", \"Topic3\", \"Topic3\", \"Topic3\", \"Topic3\", \"Topic3\", \"Topic3\", \"Topic3\", \"Topic3\", \"Topic3\", \"Topic3\", \"Topic3\", \"Topic3\", \"Topic3\", \"Topic3\", \"Topic3\", \"Topic3\", \"Topic3\", \"Topic3\", \"Topic3\", \"Topic3\", \"Topic3\", \"Topic3\", \"Topic3\", \"Topic3\", \"Topic3\", \"Topic3\", \"Topic4\", \"Topic4\", \"Topic4\", \"Topic4\", \"Topic4\", \"Topic4\", \"Topic4\", \"Topic4\", \"Topic4\", \"Topic4\", \"Topic4\", \"Topic4\", \"Topic4\", \"Topic4\", \"Topic4\", \"Topic4\", \"Topic4\", \"Topic4\", \"Topic4\", \"Topic4\", \"Topic4\", \"Topic4\", \"Topic4\", \"Topic4\", \"Topic4\", \"Topic4\", \"Topic4\", \"Topic4\", \"Topic4\", \"Topic4\", \"Topic4\", \"Topic4\", \"Topic4\", \"Topic4\", \"Topic4\", \"Topic4\", \"Topic4\", \"Topic4\", \"Topic4\", \"Topic4\", \"Topic4\", \"Topic4\", \"Topic4\", \"Topic4\", \"Topic4\", \"Topic4\", \"Topic4\", \"Topic4\", \"Topic4\", \"Topic4\", \"Topic4\", \"Topic4\", \"Topic4\", \"Topic4\", \"Topic4\", \"Topic4\", \"Topic4\", \"Topic4\", \"Topic4\", \"Topic4\", \"Topic4\", \"Topic4\", \"Topic4\", \"Topic4\", \"Topic4\", \"Topic4\", \"Topic4\", \"Topic4\", \"Topic4\", \"Topic4\", \"Topic4\", \"Topic4\", \"Topic4\", \"Topic4\", \"Topic4\", \"Topic4\", \"Topic4\", \"Topic4\", \"Topic4\", \"Topic4\", \"Topic4\", \"Topic5\", \"Topic5\", \"Topic5\", \"Topic5\", \"Topic5\", \"Topic5\", \"Topic5\", \"Topic5\", \"Topic5\", \"Topic5\", \"Topic5\", \"Topic5\", \"Topic5\", \"Topic5\", \"Topic5\", \"Topic5\", \"Topic5\", \"Topic5\", \"Topic5\", \"Topic5\", \"Topic5\", \"Topic5\", \"Topic5\", \"Topic5\", \"Topic5\", \"Topic5\", \"Topic5\", \"Topic5\", \"Topic5\", \"Topic5\", \"Topic5\", \"Topic5\", \"Topic5\", \"Topic5\", \"Topic5\", \"Topic5\", \"Topic5\", \"Topic5\", \"Topic5\", \"Topic5\", \"Topic5\", \"Topic5\", \"Topic5\", \"Topic5\", \"Topic5\", \"Topic5\", \"Topic5\", \"Topic5\", \"Topic5\", \"Topic5\", \"Topic5\", \"Topic5\", \"Topic5\", \"Topic5\", \"Topic5\", \"Topic5\", \"Topic5\", \"Topic5\", \"Topic5\", \"Topic5\", \"Topic5\", \"Topic5\", \"Topic5\", \"Topic5\", \"Topic5\", \"Topic5\", \"Topic5\", \"Topic5\", \"Topic5\", \"Topic5\", \"Topic5\", \"Topic5\", \"Topic5\", \"Topic5\", \"Topic5\", \"Topic5\", \"Topic5\", \"Topic5\", \"Topic5\", \"Topic5\", \"Topic5\", \"Topic5\", \"Topic5\", \"Topic5\", \"Topic6\", \"Topic6\", \"Topic6\", \"Topic6\", \"Topic6\", \"Topic6\", \"Topic6\", \"Topic6\", \"Topic6\", \"Topic6\", \"Topic6\", \"Topic6\", \"Topic6\", \"Topic6\", \"Topic6\", \"Topic6\", \"Topic6\", \"Topic6\", \"Topic6\", \"Topic6\", \"Topic6\", \"Topic6\", \"Topic6\", \"Topic6\", \"Topic6\", \"Topic6\", \"Topic6\", \"Topic6\", \"Topic6\", \"Topic6\", \"Topic6\", \"Topic6\", \"Topic6\", \"Topic6\", \"Topic6\", \"Topic6\", \"Topic6\", \"Topic6\", \"Topic6\", \"Topic6\", \"Topic6\", \"Topic6\", \"Topic6\", \"Topic6\", \"Topic6\", \"Topic6\", \"Topic6\", \"Topic6\", \"Topic6\", \"Topic6\", \"Topic6\", \"Topic6\", \"Topic6\", \"Topic6\", \"Topic6\", \"Topic6\", \"Topic6\", \"Topic6\", \"Topic6\", \"Topic6\", \"Topic6\", \"Topic6\", \"Topic6\", \"Topic6\", \"Topic6\", \"Topic6\", \"Topic6\", \"Topic6\", \"Topic6\", \"Topic6\", \"Topic6\", \"Topic6\", \"Topic6\", \"Topic6\", \"Topic6\", \"Topic6\", \"Topic6\", \"Topic6\", \"Topic6\", \"Topic6\", \"Topic6\", \"Topic6\", \"Topic6\", \"Topic6\", \"Topic6\", \"Topic6\", \"Topic6\", \"Topic6\", \"Topic6\", \"Topic6\", \"Topic6\", \"Topic6\", \"Topic6\", \"Topic6\", \"Topic6\", \"Topic6\", \"Topic7\", \"Topic7\", \"Topic7\", \"Topic7\", \"Topic7\", \"Topic7\", \"Topic7\", \"Topic7\", \"Topic7\", \"Topic7\", \"Topic7\", \"Topic7\", \"Topic7\", \"Topic7\", \"Topic7\", \"Topic7\", \"Topic7\", \"Topic7\", \"Topic7\", \"Topic7\", \"Topic7\", \"Topic7\", \"Topic7\", \"Topic7\", \"Topic7\", \"Topic7\", \"Topic7\", \"Topic7\", \"Topic7\", \"Topic7\", \"Topic7\", \"Topic7\", \"Topic7\", \"Topic7\", \"Topic7\", \"Topic7\", \"Topic7\", \"Topic7\", \"Topic7\", \"Topic7\", \"Topic7\", \"Topic7\", \"Topic7\", \"Topic7\", \"Topic7\", \"Topic7\", \"Topic7\", \"Topic7\", \"Topic7\", \"Topic7\", \"Topic7\", \"Topic7\", \"Topic7\", \"Topic7\", \"Topic7\", \"Topic7\", \"Topic7\", \"Topic7\", \"Topic7\", \"Topic7\", \"Topic7\", \"Topic7\", \"Topic7\", \"Topic7\", \"Topic7\", \"Topic7\", \"Topic7\", \"Topic7\", \"Topic7\", \"Topic7\", \"Topic7\", \"Topic7\", \"Topic7\", \"Topic7\", \"Topic7\", \"Topic7\", \"Topic7\", \"Topic7\", \"Topic7\", \"Topic7\", \"Topic7\", \"Topic7\", \"Topic7\", \"Topic7\", \"Topic7\", \"Topic7\", \"Topic7\", \"Topic7\", \"Topic7\", \"Topic7\", \"Topic7\", \"Topic7\", \"Topic7\", \"Topic7\", \"Topic7\", \"Topic7\", \"Topic7\", \"Topic8\", \"Topic8\", \"Topic8\", \"Topic8\", \"Topic8\", \"Topic8\", \"Topic8\", \"Topic8\", \"Topic8\", \"Topic8\", \"Topic8\", \"Topic8\", \"Topic8\", \"Topic8\", \"Topic8\", \"Topic8\", \"Topic8\", \"Topic8\", \"Topic8\", \"Topic8\", \"Topic8\", \"Topic8\", \"Topic8\", \"Topic8\", \"Topic8\", \"Topic8\", \"Topic8\", \"Topic8\", \"Topic8\", \"Topic8\", \"Topic8\", \"Topic8\", \"Topic8\", \"Topic8\", \"Topic8\", \"Topic8\", \"Topic8\", \"Topic8\", \"Topic8\", \"Topic8\", \"Topic8\", \"Topic8\", \"Topic8\", \"Topic8\", \"Topic8\", \"Topic8\", \"Topic8\", \"Topic8\", \"Topic8\", \"Topic8\", \"Topic8\", \"Topic8\", \"Topic8\", \"Topic8\", \"Topic8\", \"Topic8\", \"Topic8\", \"Topic8\", \"Topic8\", \"Topic8\", \"Topic8\", \"Topic8\", \"Topic8\", \"Topic8\", \"Topic8\", \"Topic8\", \"Topic8\", \"Topic8\", \"Topic8\", \"Topic8\", \"Topic8\", \"Topic8\", \"Topic8\", \"Topic8\", \"Topic8\", \"Topic8\", \"Topic8\", \"Topic8\", \"Topic8\", \"Topic8\", \"Topic8\", \"Topic8\", \"Topic8\", \"Topic8\", \"Topic8\", \"Topic8\", \"Topic8\", \"Topic8\", \"Topic9\", \"Topic9\", \"Topic9\", \"Topic9\", \"Topic9\", \"Topic9\", \"Topic9\", \"Topic9\", \"Topic9\", \"Topic9\", \"Topic9\", \"Topic9\", \"Topic9\", \"Topic9\", \"Topic9\", \"Topic9\", \"Topic9\", \"Topic9\", \"Topic9\", \"Topic9\", \"Topic9\", \"Topic9\", \"Topic9\", \"Topic9\", \"Topic9\", \"Topic9\", \"Topic9\", \"Topic9\", \"Topic9\", \"Topic9\", \"Topic9\", \"Topic9\", \"Topic9\", \"Topic9\", \"Topic9\", \"Topic9\", \"Topic9\", \"Topic9\", \"Topic9\", \"Topic9\", \"Topic9\", \"Topic9\", \"Topic9\", \"Topic9\", \"Topic9\", \"Topic9\", \"Topic9\", \"Topic9\", \"Topic9\", \"Topic9\", \"Topic9\", \"Topic9\", \"Topic9\", \"Topic9\", \"Topic9\", \"Topic9\", \"Topic9\", \"Topic9\", \"Topic9\", \"Topic9\", \"Topic9\", \"Topic9\", \"Topic9\", \"Topic9\", \"Topic9\", \"Topic9\", \"Topic9\", \"Topic9\", \"Topic9\", \"Topic9\", \"Topic9\", \"Topic9\", \"Topic9\", \"Topic9\", \"Topic9\", \"Topic9\", \"Topic9\", \"Topic9\", \"Topic9\", \"Topic9\", \"Topic9\", \"Topic9\", \"Topic9\", \"Topic9\", \"Topic9\", \"Topic9\", \"Topic9\", \"Topic9\", \"Topic10\", \"Topic10\", \"Topic10\", \"Topic10\", \"Topic10\", \"Topic10\", \"Topic10\", \"Topic10\", \"Topic10\", \"Topic10\", \"Topic10\", \"Topic10\", \"Topic10\", \"Topic10\", \"Topic10\", \"Topic10\", \"Topic10\", \"Topic10\", \"Topic10\", \"Topic10\", \"Topic10\", \"Topic10\", \"Topic10\", \"Topic10\", \"Topic10\", \"Topic10\", \"Topic10\", \"Topic10\", \"Topic10\", \"Topic10\", \"Topic10\", \"Topic10\", \"Topic10\", \"Topic10\", \"Topic10\", \"Topic10\", \"Topic10\", \"Topic10\", \"Topic10\", \"Topic10\", \"Topic10\", \"Topic10\", \"Topic10\", \"Topic10\", \"Topic10\", \"Topic10\", \"Topic10\", \"Topic10\", \"Topic10\", \"Topic10\", \"Topic10\", \"Topic10\", \"Topic10\", \"Topic10\", \"Topic10\", \"Topic10\", \"Topic10\", \"Topic10\", \"Topic10\", \"Topic10\", \"Topic10\", \"Topic10\", \"Topic10\", \"Topic10\", \"Topic10\", \"Topic10\", \"Topic10\", \"Topic10\", \"Topic10\", \"Topic10\", \"Topic10\", \"Topic10\", \"Topic10\", \"Topic10\", \"Topic10\", \"Topic10\", \"Topic10\", \"Topic10\", \"Topic10\", \"Topic10\", \"Topic10\", \"Topic10\", \"Topic10\", \"Topic10\", \"Topic10\", \"Topic10\", \"Topic10\", \"Topic10\", \"Topic10\", \"Topic10\", \"Topic10\", \"Topic10\", \"Topic10\", \"Topic10\", \"Topic11\", \"Topic11\", \"Topic11\", \"Topic11\", \"Topic11\", \"Topic11\", \"Topic11\", \"Topic11\", \"Topic11\", \"Topic11\", \"Topic11\", \"Topic11\", \"Topic11\", \"Topic11\", \"Topic11\", \"Topic11\", \"Topic11\", \"Topic11\", \"Topic11\", \"Topic11\", \"Topic11\", \"Topic11\", \"Topic11\", \"Topic11\", \"Topic11\", \"Topic11\", \"Topic11\", \"Topic11\", \"Topic11\", \"Topic11\", \"Topic11\", \"Topic11\", \"Topic11\", \"Topic11\", \"Topic11\", \"Topic11\", \"Topic11\", \"Topic11\", \"Topic11\", \"Topic11\", \"Topic11\", \"Topic11\", \"Topic11\", \"Topic11\", \"Topic11\", \"Topic11\", \"Topic11\", \"Topic11\", \"Topic11\", \"Topic11\", \"Topic11\", \"Topic11\", \"Topic11\", \"Topic11\", \"Topic11\", \"Topic11\", \"Topic11\", \"Topic11\", \"Topic11\", \"Topic11\", \"Topic11\", \"Topic11\", \"Topic11\", \"Topic11\", \"Topic11\", \"Topic11\", \"Topic11\", \"Topic11\", \"Topic11\", \"Topic11\", \"Topic12\", \"Topic12\", \"Topic12\", \"Topic12\", \"Topic12\", \"Topic12\", \"Topic12\", \"Topic12\", \"Topic12\", \"Topic12\", \"Topic12\", \"Topic12\", \"Topic12\", \"Topic12\", \"Topic12\", \"Topic12\", \"Topic12\", \"Topic12\", \"Topic12\", \"Topic12\", \"Topic12\", \"Topic12\", \"Topic12\", \"Topic12\", \"Topic12\", \"Topic12\", \"Topic12\", \"Topic12\", \"Topic12\", \"Topic12\", \"Topic12\", \"Topic12\", \"Topic12\", \"Topic12\", \"Topic12\", \"Topic12\", \"Topic12\", \"Topic12\", \"Topic12\", \"Topic12\", \"Topic12\", \"Topic12\", \"Topic12\", \"Topic12\", \"Topic12\", \"Topic12\", \"Topic12\", \"Topic12\", \"Topic12\", \"Topic12\", \"Topic12\", \"Topic12\", \"Topic12\", \"Topic12\", \"Topic12\", \"Topic12\", \"Topic12\", \"Topic12\", \"Topic12\", \"Topic12\", \"Topic12\", \"Topic12\", \"Topic12\", \"Topic12\", \"Topic12\", \"Topic12\", \"Topic12\", \"Topic12\", \"Topic12\", \"Topic12\", \"Topic12\", \"Topic12\", \"Topic12\", \"Topic12\", \"Topic12\", \"Topic12\", \"Topic12\", \"Topic12\", \"Topic12\", \"Topic12\", \"Topic12\", \"Topic12\", \"Topic12\", \"Topic12\", \"Topic12\", \"Topic12\", \"Topic12\", \"Topic12\", \"Topic12\", \"Topic12\", \"Topic12\", \"Topic12\", \"Topic12\", \"Topic12\", \"Topic12\", \"Topic12\", \"Topic12\", \"Topic12\", \"Topic12\", \"Topic13\", \"Topic13\", \"Topic13\", \"Topic13\", \"Topic13\", \"Topic13\", \"Topic13\", \"Topic13\", \"Topic13\", \"Topic13\", \"Topic13\", \"Topic13\", \"Topic13\", \"Topic13\", \"Topic13\", \"Topic13\", \"Topic13\", \"Topic13\", \"Topic13\", \"Topic13\", \"Topic13\", \"Topic13\", \"Topic13\", \"Topic13\", \"Topic13\", \"Topic13\", \"Topic13\", \"Topic13\", \"Topic13\", \"Topic13\", \"Topic13\", \"Topic13\", \"Topic13\", \"Topic13\", \"Topic13\", \"Topic13\", \"Topic13\", \"Topic13\", \"Topic13\", \"Topic13\", \"Topic13\", \"Topic13\", \"Topic13\", \"Topic13\", \"Topic13\", \"Topic13\", \"Topic13\", \"Topic13\", \"Topic13\", \"Topic13\", \"Topic13\", \"Topic13\", \"Topic13\", \"Topic13\", \"Topic13\", \"Topic13\", \"Topic13\", \"Topic13\", \"Topic13\", \"Topic13\", \"Topic13\", \"Topic13\", \"Topic13\", \"Topic13\", \"Topic13\", \"Topic13\", \"Topic13\", \"Topic13\", \"Topic13\", \"Topic13\", \"Topic13\", \"Topic13\", \"Topic13\", \"Topic13\", \"Topic13\", \"Topic13\", \"Topic13\", \"Topic13\", \"Topic13\", \"Topic13\", \"Topic13\", \"Topic13\", \"Topic13\", \"Topic13\", \"Topic13\", \"Topic13\", \"Topic13\", \"Topic13\", \"Topic13\", \"Topic13\", \"Topic13\", \"Topic13\", \"Topic13\", \"Topic13\", \"Topic13\", \"Topic13\", \"Topic13\", \"Topic13\", \"Topic13\", \"Topic13\", \"Topic13\", \"Topic13\", \"Topic13\", \"Topic13\", \"Topic13\", \"Topic13\", \"Topic14\", \"Topic14\", \"Topic14\", \"Topic14\", \"Topic14\", \"Topic14\", \"Topic14\", \"Topic14\", \"Topic14\", \"Topic14\", \"Topic14\", \"Topic14\", \"Topic14\", \"Topic14\", \"Topic14\", \"Topic14\", \"Topic14\", \"Topic14\", \"Topic14\", \"Topic14\", \"Topic14\", \"Topic14\", \"Topic14\", \"Topic14\", \"Topic14\", \"Topic14\", \"Topic14\", \"Topic14\", \"Topic14\", \"Topic14\", \"Topic14\", \"Topic14\", \"Topic14\", \"Topic14\", \"Topic14\", \"Topic14\", \"Topic14\", \"Topic14\", \"Topic14\", \"Topic14\", \"Topic14\", \"Topic14\", \"Topic14\", \"Topic14\", \"Topic14\", \"Topic14\", \"Topic14\", \"Topic14\", \"Topic14\", \"Topic14\", \"Topic14\", \"Topic14\", \"Topic14\", \"Topic14\", \"Topic14\", \"Topic14\", \"Topic14\", \"Topic14\", \"Topic14\", \"Topic14\", \"Topic14\", \"Topic14\", \"Topic14\", \"Topic14\", \"Topic14\", \"Topic14\", \"Topic14\", \"Topic14\", \"Topic14\", \"Topic14\", \"Topic14\", \"Topic14\", \"Topic14\", \"Topic14\", \"Topic14\", \"Topic14\", \"Topic14\", \"Topic14\", \"Topic14\", \"Topic14\", \"Topic14\", \"Topic14\", \"Topic14\", \"Topic14\", \"Topic14\", \"Topic14\", \"Topic14\", \"Topic14\", \"Topic14\", \"Topic14\", \"Topic14\", \"Topic14\", \"Topic14\", \"Topic14\", \"Topic14\", \"Topic14\", \"Topic14\", \"Topic14\", \"Topic14\", \"Topic14\", \"Topic14\", \"Topic15\", \"Topic15\", \"Topic15\", \"Topic15\", \"Topic15\", \"Topic15\", \"Topic15\", \"Topic15\", \"Topic15\", \"Topic15\", \"Topic15\", \"Topic15\", \"Topic15\", \"Topic15\", \"Topic15\", \"Topic15\", \"Topic15\", \"Topic15\", \"Topic15\", \"Topic15\", \"Topic15\", \"Topic15\", \"Topic15\", \"Topic15\", \"Topic15\", \"Topic15\", \"Topic15\", \"Topic15\", \"Topic15\", \"Topic15\", \"Topic15\", \"Topic15\", \"Topic15\", \"Topic15\", \"Topic15\", \"Topic15\", \"Topic15\", \"Topic15\", \"Topic15\", \"Topic15\", \"Topic15\", \"Topic15\", \"Topic15\", \"Topic15\", \"Topic15\", \"Topic15\", \"Topic15\", \"Topic15\", \"Topic15\", \"Topic15\", \"Topic15\", \"Topic15\", \"Topic15\", \"Topic15\", \"Topic15\", \"Topic15\", \"Topic15\", \"Topic15\", \"Topic15\", \"Topic15\", \"Topic15\", \"Topic15\", \"Topic15\", \"Topic15\", \"Topic15\", \"Topic15\", \"Topic15\", \"Topic15\", \"Topic15\", \"Topic15\", \"Topic15\", \"Topic15\", \"Topic15\", \"Topic15\", \"Topic15\", \"Topic15\", \"Topic15\", \"Topic15\", \"Topic15\", \"Topic15\", \"Topic15\", \"Topic15\", \"Topic15\", \"Topic15\"], \"logprob\": [30.0, 29.0, 28.0, 27.0, 26.0, 25.0, 24.0, 23.0, 22.0, 21.0, 20.0, 19.0, 18.0, 17.0, 16.0, 15.0, 14.0, 13.0, 12.0, 11.0, 10.0, 9.0, 8.0, 7.0, 6.0, 5.0, 4.0, 3.0, 2.0, 1.0, -8.697, -9.165, -9.6122, -9.3943, -9.6803, -10.0839, -10.19, -10.1898, -10.0869, -10.3202, -10.2004, -10.5973, -10.5981, -10.7813, -10.7822, -10.6115, -10.5067, -10.7816, -10.4627, -10.7922, -11.0069, -11.0069, -10.9945, -11.0073, -11.0116, -11.0118, -11.0076, -11.0121, -10.8279, -11.0837, -8.0253, -9.5407, -7.2035, -9.6302, -10.6393, -8.129, -8.1144, -7.5894, -10.3571, -9.6058, -10.4382, -8.7406, -4.3693, -6.6181, -6.5686, -6.1106, -7.7627, -7.4855, -8.0555, -4.9906, -8.9115, -9.0367, -8.5588, -5.0066, -7.3623, -5.0047, -4.8521, -5.7687, -7.4081, -6.157, -6.349, -7.0957, -4.7536, -5.7373, -4.6346, -6.3514, -4.4216, -5.5162, -4.1507, -5.5404, -5.5237, -4.7849, -4.8183, -5.771, -5.2833, -4.895, -4.7867, -5.5117, -4.9084, -5.7386, -5.0106, -5.1473, -5.4337, -5.5074, -5.32, -5.4245, -5.3493, -5.4297, -5.502, -5.4217, -5.1595, -5.4869, -5.504, -5.5054, -8.8293, -8.3723, -8.8806, -8.8912, -9.0038, -9.1039, -9.078, -9.1721, -9.23, -9.2452, -9.0045, -9.5641, -9.6066, -9.5852, -9.6742, -9.6513, -9.6516, -9.722, -9.3348, -9.7026, -9.8522, -9.8804, -9.9095, -9.9395, -9.9706, -8.5718, -10.0021, -10.0349, -10.035, -10.036, -7.4434, -6.877, -9.4909, -8.6723, -5.9944, -6.8365, -6.9498, -8.3843, -7.6272, -9.0278, -6.0088, -8.213, -8.7425, -4.1461, -6.7728, -7.1438, -7.0694, -8.1322, -7.5337, -5.5508, -7.3829, -5.9072, -8.0313, -5.4125, -8.2396, -5.2276, -8.2126, -7.5842, -5.6017, -6.6285, -7.1942, -6.2084, -6.1575, -4.7468, -7.0347, -6.1127, -6.1702, -5.9717, -4.9569, -3.9723, -5.7554, -5.0077, -4.8449, -6.2478, -5.764, -5.3624, -5.2978, -5.6939, -4.8539, -5.9194, -5.3176, -4.9707, -5.5934, -5.1904, -5.2433, -5.5798, -4.9333, -5.235, -5.4184, -5.6106, -5.3732, -5.3625, -5.4216, -5.5321, -5.5362, -5.4586, -5.5132, -11.3558, -11.3577, -11.358, -11.3495, -11.3608, -11.361, -11.367, -11.367, -11.3625, -11.3671, -11.3672, -11.3672, -11.3672, -11.3632, -11.3676, -11.3676, -11.3677, -11.3677, -11.3677, -11.3678, -11.3678, -11.3631, -11.3678, -11.3679, -11.3678, -11.368, -11.368, -11.368, -11.368, -11.368, -11.3623, -11.3623, -11.3647, -11.3635, -11.3655, -11.3599, -11.3651, -11.3651, -11.3622, -4.8405, -5.1618, -6.726, -4.9684, -5.2686, -4.6918, -5.4253, -5.03, -5.2557, -5.8738, -5.6002, -5.3972, -5.3823, -7.0479, -5.6786, -5.5695, -5.1748, -5.6435, -5.6673, -5.7542, -5.6138, -5.7206, -5.9681, -5.6935, -5.6753, -5.8247, -5.8566, -6.0759, -6.1859, -5.9612, -5.9146, -5.9259, -6.1057, -6.0948, -6.2301, -6.4141, -6.9856, -6.9999, -7.2087, -7.1911, -7.6232, -7.6787, -7.6787, -7.7076, -7.479, -7.8001, -6.5761, -7.9022, -7.9759, -7.976, -8.0152, -8.056, -8.143, -8.2383, -8.2383, -8.2896, -8.2897, -8.2897, -8.277, -8.3506, -8.4009, -8.309, -8.526, -8.5302, -6.5506, -6.1341, -5.8595, -7.7323, -6.7211, -5.2192, -6.3339, -7.9215, -7.8977, -7.6254, -7.1713, -6.0928, -4.4769, -4.3397, -3.7612, -6.9133, -3.9787, -5.0417, -3.9522, -4.3734, -7.0458, -5.0772, -5.8037, -5.0548, -4.2875, -5.0585, -4.936, -4.2593, -5.7303, -3.543, -4.7623, -5.3444, -4.9106, -4.3045, -4.7045, -4.5019, -5.7976, -4.4729, -4.7007, -5.2771, -5.0683, -4.7475, -5.2031, -4.7852, -5.2485, -4.7779, -5.1557, -5.1499, -5.065, -5.1826, -5.2014, -8.2257, -8.8777, -8.5325, -9.2807, -9.4105, -9.5905, -9.4168, -9.9706, -9.973, -9.982, -9.9789, -9.9774, -7.9267, -8.2814, -10.3494, -10.6101, -10.6639, -10.667, -10.6667, -10.6673, -10.8301, -8.4406, -11.2544, -11.2796, -8.2107, -11.2906, -11.3116, -11.341, -11.3649, -11.3651, -9.1042, -4.6946, -8.276, -4.8601, -9.1885, -6.7872, -7.8737, -3.7811, -5.4355, -8.2916, -9.3414, -6.1871, -7.1465, -6.7044, -6.5415, -6.0481, -5.9536, -6.6088, -7.8525, -5.1068, -5.2871, -5.8724, -4.3134, -6.3294, -5.1782, -4.9119, -4.977, -5.5816, -5.8869, -4.7384, -5.2935, -5.2814, -4.4201, -6.4429, -4.8054, -4.2766, -5.9919, -4.9716, -5.8329, -4.7976, -5.3277, -5.3542, -5.3529, -5.1793, -5.2167, -5.0767, -5.0911, -5.4352, -5.2515, -5.4844, -5.4492, -5.3849, -5.3559, -5.4435, -8.1304, -8.5352, -9.1755, -9.4126, -9.4131, -9.6354, -9.6359, -9.6364, -9.6354, -9.7222, -9.8177, -9.8179, -9.8195, -9.9233, -9.924, -9.9248, -9.9252, -9.9254, -9.9264, -10.0414, -10.0414, -10.0441, -9.9141, -10.0415, -10.0416, -10.0421, -10.0422, -10.1754, -10.052, -9.7294, -9.1421, -8.751, -9.0413, -9.395, -8.8818, -9.2943, -8.0271, -9.4325, -9.0567, -7.5342, -9.2734, -7.501, -9.4872, -6.9703, -7.3684, -7.0382, -8.117, -6.0965, -6.8967, -4.5352, -5.5293, -7.5335, -5.2251, -5.8973, -8.0376, -8.2236, -7.2523, -6.3188, -6.853, -4.2657, -5.9109, -7.0323, -5.4419, -6.101, -5.2989, -4.3873, -7.2496, -5.331, -4.7348, -6.3641, -4.4599, -6.1499, -5.7119, -5.0832, -4.7462, -5.1908, -4.6644, -5.1285, -4.9037, -5.2233, -4.9337, -5.5191, -5.7504, -5.1389, -5.7453, -5.2894, -5.4266, -5.2566, -5.6049, -5.2406, -5.4661, -5.4078, -5.4237, -5.2652, -5.4783, -5.4524, -9.1237, -9.3534, -9.3219, -9.3535, -9.6133, -9.6531, -9.6971, -8.238, -9.6972, -9.6975, -9.6118, -7.9418, -9.8994, -10.0175, -10.081, -10.1499, -10.1499, -10.1501, -10.2247, -10.3049, -10.305, -9.068, -10.3923, -10.4875, -10.2326, -10.5935, -10.5936, -10.5944, -10.6074, -10.5945, -6.3134, -6.2979, -8.3327, -8.0499, -8.0362, -5.641, -9.2941, -8.1214, -8.4179, -9.4236, -8.3668, -9.5593, -4.1261, -7.493, -7.8341, -9.5342, -8.4661, -7.8685, -6.3857, -6.5308, -7.1722, -8.796, -7.2884, -5.9178, -8.213, -4.0828, -6.9536, -6.6323, -3.8066, -6.4667, -6.3779, -4.2832, -4.4967, -7.2529, -6.4768, -5.4339, -5.9836, -3.9106, -4.6008, -5.3545, -6.7059, -5.4037, -5.3296, -6.3675, -5.3602, -5.9803, -6.1042, -5.4967, -5.805, -5.799, -4.734, -5.1764, -5.3284, -5.4844, -5.2441, -5.297, -5.3599, -5.1552, -5.782, -5.4235, -5.3341, -5.4762, -5.6003, -5.4609, -5.6286, -5.5622, -5.6252, -6.529, -7.5542, -8.3309, -8.405, -8.6187, -8.6675, -8.8342, -9.0982, -9.0984, -9.2654, -9.1904, -9.4663, -9.1044, -9.5841, -9.5841, -9.6174, -9.7177, -9.7439, -9.4255, -9.8719, -9.872, -9.872, -9.872, -9.8949, -10.0544, -10.0544, -10.0545, -10.0546, -10.0546, -10.0546, -6.0817, -7.1764, -7.5669, -9.6921, -7.8469, -6.523, -6.7394, -8.6303, -5.0095, -8.8055, -4.2247, -6.1588, -8.2168, -8.9928, -6.5333, -6.7322, -6.8786, -6.8694, -6.0835, -6.0164, -7.8153, -6.8379, -4.817, -4.0231, -4.6923, -4.2791, -5.8575, -4.8613, -5.6744, -5.99, -4.759, -6.429, -6.4177, -5.5267, -4.1523, -5.6939, -4.7016, -5.0166, -4.9584, -5.1098, -5.0888, -5.0627, -4.7426, -5.2983, -5.1864, -5.0741, -5.3575, -5.2612, -5.0755, -5.2413, -5.2704, -5.4521, -5.5494, -5.468, -5.4337, -5.3862, -5.4527, -5.4531, -8.0989, -7.9108, -8.8156, -8.2351, -8.9806, -8.9446, -9.399, -9.5718, -9.7103, -9.71, -9.8299, -9.8278, -9.9622, -10.1163, -10.0129, -10.1178, -10.1219, -10.0131, -10.1167, -10.1742, -10.2346, -10.3406, -10.3012, -10.3742, -10.3728, -9.1845, -10.3705, -10.4468, -10.4468, -10.4429, -10.1812, -10.1134, -10.3697, -6.3467, -7.7934, -8.2446, -9.0475, -6.5286, -7.9717, -8.5775, -9.3093, -7.897, -7.6279, -7.6895, -8.8066, -9.2947, -7.0675, -8.4317, -9.2788, -8.4412, -4.3475, -5.4782, -5.0811, -3.788, -5.8002, -5.064, -4.0373, -7.6382, -5.7506, -4.8976, -5.2817, -4.7712, -6.0696, -5.9092, -5.924, -5.2133, -5.6388, -4.9939, -5.1029, -5.2315, -4.8711, -5.2235, -5.6339, -5.5671, -6.1034, -5.0436, -5.2568, -5.4351, -5.5883, -5.1636, -5.3153, -5.5633, -5.5507, -5.4954, -5.5841, -5.5833, -5.5904, -5.6035, -8.7455, -9.1463, -9.45, -9.5372, -9.4104, -9.684, -9.7662, -9.7666, -9.7679, -9.921, -9.9901, -10.104, -10.1033, -10.1449, -10.1875, -10.2789, -10.2821, -10.3795, -10.3798, -10.3798, -9.9987, -10.4904, -9.7725, -10.4909, -10.4914, -10.3831, -10.5517, -10.5512, -10.617, -10.6178, -6.3911, -9.3826, -10.3423, -7.7758, -9.4717, -10.2453, -4.4923, -8.1027, -8.2632, -8.4123, -6.6454, -8.361, -9.1446, -9.8964, -9.2639, -7.4037, -8.9041, -8.1941, -8.8653, -5.9582, -4.2998, -4.953, -6.9231, -4.342, -6.2795, -4.0062, -4.9003, -7.1035, -8.0148, -4.5054, -4.7425, -4.2603, -7.9884, -5.2592, -6.1964, -5.6761, -7.0582, -5.4986, -5.4215, -6.0347, -5.601, -6.0919, -5.897, -5.2531, -5.6804, -6.5474, -4.9389, -5.8456, -4.6311, -5.5987, -5.2388, -5.2148, -5.1756, -5.3735, -5.4579, -4.8322, -5.2741, -5.249, -5.2916, -5.4516, -5.5921, -5.5859, -5.6171, -5.6093, -11.2728, -11.2863, -11.2905, -11.2854, -11.2912, -11.2912, -11.2915, -11.2915, -11.2914, -11.2915, -11.2914, -11.2915, -11.2915, -11.2916, -11.2916, -11.2916, -11.2915, -11.2917, -11.2916, -11.2917, -11.2917, -11.2917, -11.2918, -11.2917, -11.2918, -11.2918, -11.2918, -11.2918, -11.2919, -11.2919, -11.2879, -11.2883, -11.2861, -5.3958, -11.2877, -11.2892, -4.8583, -6.6365, -5.2194, -4.7162, -5.3806, -5.9262, -5.1828, -5.2546, -5.375, -5.6181, -5.6799, -5.5552, -5.2783, -6.0293, -5.6572, -5.5038, -5.9812, -5.7944, -5.8101, -5.9657, -6.5249, -6.1107, -5.817, -6.3188, -5.9632, -5.9668, -5.9841, -6.5105, -6.2135, -6.0496, -5.9761, -6.0171, -6.1106, -5.9994, -8.5035, -9.4008, -9.1395, -9.3075, -9.1803, -8.5535, -9.689, -7.9598, -9.5073, -8.9993, -9.5657, -9.6898, -9.2705, -9.8411, -9.2233, -9.7594, -9.913, -9.8332, -10.0001, -9.8339, -10.0956, -9.7624, -10.0032, -9.6944, -9.7631, -10.2006, -10.0042, -10.1517, -10.0975, -10.0991, -8.5861, -9.2727, -9.411, -7.9622, -9.0142, -9.4644, -8.7173, -9.6976, -8.9158, -7.3144, -8.1314, -9.1336, -6.3591, -8.865, -9.5792, -8.3693, -8.8831, -9.0985, -8.1967, -9.135, -4.2887, -4.9685, -7.5016, -8.6196, -7.1315, -5.9728, -7.8118, -7.3656, -5.7888, -6.0581, -7.8674, -4.8054, -6.5084, -4.552, -5.4668, -5.3336, -6.1717, -5.2211, -5.4752, -5.2472, -5.4548, -6.2763, -5.8385, -4.869, -4.5364, -5.4695, -5.8845, -4.0081, -5.1577, -4.4712, -4.6198, -5.3356, -5.3429, -4.7972, -5.6453, -5.0894, -4.8751, -5.2204, -5.3826, -5.0771, -5.1531, -5.1295, -5.1631, -4.9987, -5.2589, -5.237, -5.2826, -5.2796, -5.2925, -9.3758, -9.439, -9.3563, -9.8689, -10.0551, -10.0933, -10.2269, -10.2757, -10.4383, -9.8413, -10.3279, -10.4436, -10.2779, -10.4394, -10.4395, -10.5644, -10.5001, -10.6336, -10.7083, -10.6345, -10.6354, -10.6354, -10.8764, -10.8779, -10.7903, -10.883, -10.7908, -10.9727, -10.8952, -11.0775, -9.4848, -9.9228, -10.6864, -9.6685, -9.375, -10.5138, -8.0669, -9.6947, -10.1621, -9.8896, -6.5324, -9.5046, -7.7764, -9.9495, -9.7501, -7.7892, -9.2267, -6.3488, -8.946, -7.1922, -6.0849, -4.0914, -6.561, -8.0412, -6.3202, -9.0548, -6.7372, -6.5541, -7.8824, -4.7523, -6.4871, -3.4692, -6.2666, -5.35, -4.5128, -6.7428, -4.9958, -4.4261, -5.7895, -7.6022, -5.0348, -5.0995, -6.1628, -5.5994, -5.9946, -6.2136, -5.478, -6.0998, -5.5883, -4.6442, -4.9677, -5.7555, -5.7635, -5.6124, -5.0395, -5.5382, -5.499, -5.2794, -5.7784, -5.134, -5.2946, -5.4296, -5.1264, -5.3295, -5.6655, -5.611, -5.4058, -5.185, -5.4857, -5.2741, -5.3158, -5.1802, -5.4738, -5.5016, -5.568, -5.5631, -9.1518, -9.5248, -9.6277, -9.7447, -9.7022, -9.7827, -9.9642, -10.1892, -10.1882, -10.1877, -9.0923, -10.2528, -10.254, -10.2588, -10.2565, -10.3214, -10.3366, -10.3964, -10.4109, -9.5002, -10.4816, -10.4759, -10.4785, -10.4817, -10.5633, -10.5709, -10.5651, -10.5741, -10.5876, -10.5642, -8.4091, -9.1692, -9.2718, -7.4377, -10.4844, -8.5817, -9.1281, -8.3935, -6.6381, -6.3172, -8.4023, -8.5457, -6.6537, -8.379, -8.2913, -9.739, -6.5328, -6.664, -9.1471, -6.381, -5.5167, -9.3522, -8.4752, -7.7819, -7.4288, -7.1307, -8.5735, -5.1217, -6.8082, -7.7535, -4.1411, -6.3058, -7.9134, -7.4071, -6.0697, -4.4634, -4.8083, -6.015, -5.3241, -5.8337, -5.2266, -5.3698, -5.0002, -5.5558, -6.1178, -5.8888, -5.9509, -5.4643, -4.6616, -5.3176, -4.2456, -4.9121, -5.5164, -5.638, -4.6303, -5.1737, -5.1408, -5.2449, -5.1656, -5.4489, -5.7111, -5.0757, -5.1856, -5.2638, -5.2369, -5.3043, -5.2842, -5.5102, -5.254, -5.4117, -5.4932, -7.7201, -7.9826, -8.088, -8.339, -8.493, -8.4937, -8.6755, -8.6756, -8.6548, -8.8981, -9.1856, -9.1863, -9.1863, -9.5606, -9.5922, -10.2593, -10.2607, -10.2617, -10.2622, -10.2622, -10.2617, -10.2602, -10.2666, -10.2602, -10.2603, -10.2621, -10.2602, -6.9143, -8.8918, -8.8925, -8.444, -5.5973, -8.4888, -8.2015, -9.1797, -9.1803, -8.0255, -9.011, -7.4421, -7.7168, -8.4487, -7.5577, -7.7925, -7.6421, -7.8266, -5.9959, -5.8079, -5.3758, -5.0834, -3.4914, -4.3765, -6.6172, -5.3108, -6.3962, -4.6118, -4.4062, -5.977, -4.7526, -5.1989, -4.8749, -5.5236, -5.0769, -4.5714, -6.2623, -5.4498, -5.0523, -5.1234, -4.7039, -4.7283, -5.0782, -4.1458, -5.3839, -5.2922, -4.9922, -5.3225, -4.9283, -5.5504, -5.1582, -5.0074, -5.1273, -5.2573, -5.2346, -5.2638, -5.2971], \"loglift\": [30.0, 29.0, 28.0, 27.0, 26.0, 25.0, 24.0, 23.0, 22.0, 21.0, 20.0, 19.0, 18.0, 17.0, 16.0, 15.0, 14.0, 13.0, 12.0, 11.0, 10.0, 9.0, 8.0, 7.0, 6.0, 5.0, 4.0, 3.0, 2.0, 1.0, 2.7801, 2.7794, 2.7766, 2.7731, 2.7723, 2.7716, 2.7701, 2.77, 2.7687, 2.7651, 2.7641, 2.7632, 2.7631, 2.7589, 2.7588, 2.7588, 2.7587, 2.7586, 2.7578, 2.7563, 2.7526, 2.7525, 2.7524, 2.7523, 2.7523, 2.7521, 2.7521, 2.7519, 2.7515, 2.7502, 2.7377, 2.7371, 2.6816, 2.7283, 2.7408, 2.652, 2.6458, 2.6163, 2.7283, 2.6791, 2.7287, 2.614, 2.2576, 2.4369, 2.4238, 2.3763, 2.5188, 2.4475, 2.4527, 1.7645, 2.4692, 2.445, 2.3395, 1.4758, 2.0098, 1.3818, 1.307, 1.5655, 1.9709, 1.5134, 1.554, 1.8032, 0.9315, 1.2901, 0.8244, 1.4961, 0.6821, 1.1413, 0.3601, 0.9274, 0.9027, 0.427, 0.4074, 1.0109, 0.6755, 0.3834, 0.2393, 0.748, 0.2254, 0.9276, 0.1992, 0.2865, 0.5102, 0.5603, 0.2355, 0.3983, 0.2357, 0.1965, 0.3716, 0.0894, -0.8824, -0.0908, -0.0739, -0.1866, 1.7824, 1.7824, 1.7824, 1.7823, 1.7822, 1.782, 1.782, 1.7819, 1.7818, 1.7817, 1.7817, 1.7809, 1.7809, 1.7808, 1.7806, 1.7806, 1.7806, 1.7804, 1.7804, 1.7801, 1.78, 1.7799, 1.7798, 1.7796, 1.7795, 1.7794, 1.7794, 1.7793, 1.7792, 1.7792, 1.7778, 1.7716, 1.7785, 1.7663, 1.7273, 1.7445, 1.7389, 1.7606, 1.7413, 1.7694, 1.69, 1.7458, 1.757, 1.5282, 1.6599, 1.6742, 1.6675, 1.7137, 1.673, 1.5375, 1.6409, 1.5082, 1.6909, 1.4592, 1.7068, 1.3547, 1.6918, 1.6118, 1.301, 1.4535, 1.5335, 1.3265, 1.2942, 0.9634, 1.4443, 1.208, 1.22, 1.1556, 0.8369, 0.5385, 0.9774, 0.6803, 0.6142, 1.1412, 0.9014, 0.7052, 0.6461, 0.8507, 0.3559, 0.9312, 0.5052, 0.2411, 0.6871, 0.3418, 0.3829, 0.6664, 0.0927, 0.3205, 0.4644, 0.603, 0.1379, 0.0713, 0.1422, 0.2908, 0.2405, -0.0886, -0.0417, 5.7725, 5.7718, 5.7713, 5.7703, 5.7679, 5.7677, 5.7667, 5.7666, 5.7666, 5.7665, 5.7664, 5.7664, 5.7664, 5.7663, 5.766, 5.766, 5.766, 5.766, 5.7659, 5.7659, 5.7659, 5.7658, 5.7658, 5.7658, 5.7657, 5.7657, 5.7657, 5.7656, 5.7656, 5.7656, 5.7651, 5.7646, 5.7649, 5.7644, 5.7642, 5.7609, 5.764, 5.7638, 5.7612, 0.1367, 0.3847, 1.7227, 0.1353, 0.1652, -0.4147, 0.249, -0.1553, -0.2297, 0.3741, 0.0877, -0.1853, -0.2486, 1.418, -0.1148, -0.2508, -0.664, -0.2697, -0.2712, -0.2431, -0.404, -0.3506, -0.0946, -0.4152, -0.4496, -0.2997, -0.3243, -0.1157, -0.0792, -0.3763, -0.4431, -0.5519, -0.4216, -0.6647, 4.0062, 4.0058, 4.0051, 4.0051, 4.0046, 4.0045, 4.0032, 4.0031, 4.0031, 4.003, 4.0027, 4.0025, 4.0022, 4.0021, 4.0017, 4.0017, 4.0015, 4.0012, 4.0007, 4.0001, 4.0001, 3.9997, 3.9997, 3.9997, 3.9993, 3.9991, 3.9988, 3.9988, 3.9978, 3.9976, 3.992, 3.9846, 3.9792, 3.987, 3.9642, 3.8981, 3.9372, 3.9863, 3.9794, 3.9574, 3.9083, 3.7823, 3.4205, 3.3178, 3.1477, 3.772, 3.1054, 3.2148, 2.8127, 2.8631, 3.7386, 2.9921, 3.2572, 2.9144, 2.5416, 2.8282, 2.7115, 2.3115, 3.1018, 1.6668, 2.3404, 2.5628, 2.2173, 1.6558, 1.9516, 1.2919, 2.9149, 0.9232, 1.1051, 2.007, 1.597, 0.9268, 1.784, 0.4465, 1.7494, 0.2481, 1.4266, 1.3658, 0.736, 0.3729, 1.0369, 3.8382, 3.8372, 3.8317, 3.8307, 3.8292, 3.8264, 3.8245, 3.816, 3.8158, 3.8157, 3.815, 3.8144, 3.8102, 3.7884, 3.7878, 3.7861, 3.7841, 3.7839, 3.7839, 3.7836, 3.7727, 3.7698, 3.7339, 3.731, 3.7307, 3.7293, 3.7268, 3.7242, 3.7219, 3.7219, 3.7045, 3.458, 3.5985, 3.4087, 3.6343, 3.4802, 3.5392, 2.9568, 3.0304, 3.408, 3.5709, 2.9776, 3.1184, 2.8984, 2.7954, 2.6302, 2.3887, 2.6111, 3.0565, 1.8912, 1.9052, 2.1189, 1.361, 2.3234, 1.7307, 1.5732, 1.5387, 1.7337, 1.9142, 1.1351, 1.3659, 1.3497, 0.6059, 2.2228, 0.7501, 0.2342, 1.8062, 0.7385, 1.612, 0.3361, 0.9423, 0.8964, 0.8933, 0.6146, 0.4713, 0.1352, 0.1186, 0.8245, 0.2596, 0.9198, 0.7892, 0.4979, -1.0788, -0.0097, 3.0652, 3.0648, 3.0607, 3.0591, 3.0588, 3.0569, 3.0567, 3.0567, 3.0567, 3.0565, 3.0547, 3.0546, 3.0542, 3.0539, 3.0532, 3.0532, 3.0529, 3.0527, 3.0525, 3.0521, 3.0521, 3.0519, 3.0519, 3.0513, 3.0512, 3.051, 3.0507, 3.0497, 3.0496, 3.0495, 3.0482, 3.0371, 3.0179, 3.0187, 2.991, 3.0099, 2.8773, 2.9967, 2.9569, 2.8046, 2.9738, 2.75, 2.9959, 2.5662, 2.61, 2.5502, 2.7089, 2.2698, 2.4007, 1.7769, 2.0232, 2.4925, 1.8271, 1.9502, 2.5722, 2.6243, 2.3162, 1.9909, 2.1553, 1.1681, 1.7595, 2.1423, 1.4665, 1.7212, 1.3672, 0.9314, 2.1875, 1.2829, 0.9532, 1.7288, 0.6437, 1.5659, 1.212, 0.7903, 0.4636, 0.768, 0.3128, 0.6725, 0.4704, 0.7406, 0.4401, 0.9633, 1.1615, 0.5331, 1.1377, 0.5335, 0.6801, 0.2149, 0.7878, 0.0377, 0.3106, 0.1033, 0.1014, -0.9881, -0.0483, -0.4264, 2.4256, 2.4249, 2.4248, 2.4247, 2.4233, 2.4227, 2.4227, 2.4227, 2.4226, 2.4223, 2.4221, 2.4213, 2.4208, 2.4196, 2.4196, 2.4196, 2.4195, 2.4192, 2.4181, 2.4173, 2.4173, 2.4164, 2.4163, 2.4154, 2.415, 2.4142, 2.4136, 2.4136, 2.4133, 2.4129, 2.4025, 2.3905, 2.4048, 2.3964, 2.3931, 2.3397, 2.3941, 2.368, 2.3665, 2.396, 2.3515, 2.3954, 2.1382, 2.2869, 2.2652, 2.3826, 2.2745, 2.1818, 1.9407, 1.9402, 2.0281, 2.283, 1.9767, 1.7121, 2.1466, 1.2913, 1.8797, 1.7773, 1.068, 1.7146, 1.6577, 0.9952, 1.0498, 1.8655, 1.6194, 1.2379, 1.3778, 0.3665, 0.625, 0.9577, 1.5913, 0.8095, 0.7522, 1.3722, 0.7064, 1.0424, 1.1248, 0.5933, 0.8525, 0.8223, -0.2232, 0.1973, 0.2039, 0.3891, 0.0703, 0.1368, 0.1651, -0.178, 0.6953, -0.0534, -0.3081, -0.0047, 0.2224, -0.249, 0.0555, -0.4585, -0.1141, 3.5118, 3.5109, 3.5093, 3.509, 3.5077, 3.5074, 3.5055, 3.504, 3.504, 3.5022, 3.5021, 3.4995, 3.4994, 3.4977, 3.4977, 3.4971, 3.4955, 3.4945, 3.4939, 3.4925, 3.4925, 3.4925, 3.4924, 3.4918, 3.4883, 3.4883, 3.4882, 3.4882, 3.4882, 3.4882, 3.4872, 3.4609, 3.4535, 3.4807, 3.3651, 3.2448, 3.2247, 3.3806, 3.0058, 3.375, 2.7708, 2.9733, 3.2778, 3.361, 2.891, 2.8996, 2.8643, 2.8559, 2.5559, 2.4907, 2.9747, 2.6021, 1.7324, 1.2956, 1.5556, 1.0947, 1.856, 1.2537, 1.7031, 1.822, 0.8048, 2.0111, 2.0026, 1.3299, 0.1249, 1.3289, 0.2756, 0.5299, 0.4157, 0.5782, 0.4435, 0.2517, -0.2318, 0.5245, 0.2727, -0.0481, 0.5252, 0.2639, -0.2009, -0.0155, -0.0585, 0.5065, 0.7201, 0.3549, 0.0774, -0.2524, 0.0188, -0.083, 2.2161, 2.216, 2.2152, 2.2149, 2.2144, 2.2143, 2.2134, 2.2128, 2.2121, 2.2118, 2.2116, 2.2114, 2.2101, 2.2095, 2.2093, 2.2093, 2.2093, 2.2092, 2.2089, 2.2086, 2.2082, 2.2076, 2.2076, 2.207, 2.2069, 2.2068, 2.2067, 2.2067, 2.2067, 2.2066, 2.2062, 2.202, 2.2059, 2.1008, 2.1443, 2.1503, 2.1686, 2.0766, 2.1257, 2.1337, 2.1531, 2.0516, 1.9384, 1.9244, 2.0496, 2.0996, 1.783, 1.9615, 2.0926, 1.9365, 0.8842, 1.0712, 0.8827, 0.4891, 1.0828, 0.8472, 0.4735, 1.5962, 0.8787, 0.5615, 0.6769, 0.4546, 0.9828, 0.9057, 0.793, 0.4129, 0.6209, 0.218, 0.2712, 0.3323, 0.1061, 0.3088, 0.4775, 0.4039, 0.7907, -0.0176, 0.1132, 0.25, 0.3725, -0.06, -0.0369, 0.2595, 0.226, 0.0157, 0.0879, -0.0278, -0.1189, -0.0785, 1.9054, 1.9047, 1.904, 1.9037, 1.9035, 1.9032, 1.903, 1.9028, 1.9025, 1.9023, 1.902, 1.9013, 1.9013, 1.9011, 1.9007, 1.9004, 1.8999, 1.8996, 1.8995, 1.8995, 1.8991, 1.8989, 1.8989, 1.8989, 1.8987, 1.8985, 1.8982, 1.8982, 1.8977, 1.8976, 1.8681, 1.8964, 1.8969, 1.8667, 1.886, 1.895, 1.7506, 1.8502, 1.8464, 1.8486, 1.7896, 1.8232, 1.8342, 1.871, 1.8189, 1.6364, 1.7791, 1.7054, 1.7561, 1.376, 1.0963, 1.1621, 1.417, 0.9767, 1.2917, 0.8685, 1.0382, 1.4306, 1.5855, 0.8683, 0.8425, 0.7169, 1.5497, 0.8668, 1.0966, 0.8935, 1.2632, 0.7709, 0.7376, 0.8711, 0.6748, 0.8282, 0.7298, 0.432, 0.5933, 1.0132, 0.1948, 0.6317, -0.1203, 0.4678, 0.195, 0.1552, 0.1027, 0.1516, 0.2301, -0.5551, -0.0622, -0.223, -0.1879, 0.0199, 0.0341, -0.2118, -0.106, -0.3995, 5.8505, 5.8434, 5.8432, 5.8428, 5.8425, 5.8425, 5.8422, 5.8422, 5.8422, 5.8422, 5.8422, 5.8422, 5.8422, 5.8421, 5.842, 5.842, 5.842, 5.842, 5.842, 5.842, 5.8419, 5.8419, 5.8419, 5.8419, 5.8419, 5.8418, 5.8418, 5.8418, 5.8418, 5.8418, 5.8416, 5.8414, 5.8396, 3.0701, 5.8396, 5.8401, 0.2755, 1.8121, 0.4549, -0.4391, 0.0532, 0.5562, -0.2056, -0.2286, -0.1631, -0.107, -0.2839, -0.4515, -0.7675, 0.0774, -0.4315, -0.6292, -0.1077, -0.3643, -0.44, -0.2816, 0.3579, -0.1528, -0.4983, 0.0678, -0.4381, -0.4345, -0.4286, 0.1206, -0.2547, -0.4858, -0.602, -0.5456, -0.4255, -0.7211, 2.8036, 2.7995, 2.7994, 2.7979, 2.7978, 2.7978, 2.7974, 2.7974, 2.7973, 2.7969, 2.7965, 2.7964, 2.7961, 2.796, 2.7954, 2.7951, 2.795, 2.7944, 2.7942, 2.7939, 2.7929, 2.7921, 2.7918, 2.7916, 2.7915, 2.7911, 2.7909, 2.7908, 2.7905, 2.7903, 2.7855, 2.7885, 2.7896, 2.7731, 2.7827, 2.7868, 2.7694, 2.7884, 2.7652, 2.7062, 2.7271, 2.7683, 2.6332, 2.7508, 2.7831, 2.7069, 2.7357, 2.7499, 2.6777, 2.7477, 2.1811, 2.2162, 2.5402, 2.6729, 2.4209, 2.1866, 2.5115, 2.3886, 2.0243, 2.0572, 2.4627, 1.6663, 2.0923, 1.4068, 1.659, 1.5054, 1.7881, 1.3759, 1.4078, 1.2887, 1.3604, 1.7056, 1.4418, 0.9319, 0.6953, 1.1966, 1.4049, 0.269, 0.949, 0.5059, 0.4839, 0.9765, 0.9693, 0.5172, 1.1246, 0.5826, 0.3347, 0.5853, 0.7845, 0.3529, 0.4319, 0.342, 0.3834, -0.124, 0.2662, -0.0112, -0.0042, -0.2536, -0.1587, 1.9495, 1.9494, 1.9491, 1.9465, 1.9462, 1.9448, 1.9445, 1.9442, 1.9438, 1.9437, 1.9433, 1.9432, 1.9428, 1.9427, 1.9426, 1.9426, 1.9424, 1.9421, 1.9413, 1.9411, 1.9403, 1.9402, 1.9396, 1.9395, 1.939, 1.9387, 1.9385, 1.9382, 1.9379, 1.9372, 1.9293, 1.9327, 1.937, 1.9198, 1.9126, 1.9335, 1.875, 1.9142, 1.9253, 1.9072, 1.7549, 1.8907, 1.7982, 1.9036, 1.8908, 1.7637, 1.8376, 1.5776, 1.8107, 1.6352, 1.5047, 1.223, 1.4611, 1.6527, 1.3683, 1.7742, 1.4254, 1.3803, 1.5877, 1.0535, 1.3541, 0.8079, 1.289, 1.1217, 0.9172, 1.3166, 0.9427, 0.8056, 1.0952, 1.4919, 0.8764, 0.8714, 1.1226, 0.9432, 1.0282, 1.0813, 0.8086, 1.0123, 0.8381, 0.4896, 0.5788, 0.8643, 0.8453, 0.6998, 0.3305, 0.629, 0.591, 0.3926, 0.7911, 0.0918, 0.2377, 0.3714, -0.1004, 0.1421, 0.5824, 0.4957, 0.1193, -0.3103, 0.1984, -0.297, -0.2122, -0.6694, 0.1112, -0.2897, 0.2087, -0.2848, 2.3059, 2.3051, 2.3048, 2.3038, 2.3035, 2.3028, 2.3025, 2.3011, 2.301, 2.3008, 2.3007, 2.3005, 2.3002, 2.2998, 2.2997, 2.2996, 2.2995, 2.299, 2.2986, 2.298, 2.2978, 2.2977, 2.2976, 2.2973, 2.297, 2.297, 2.297, 2.2967, 2.2966, 2.2965, 2.2826, 2.2872, 2.2851, 2.246, 2.2961, 2.2491, 2.265, 2.2349, 2.1631, 2.1375, 2.2235, 2.2268, 2.1207, 2.2023, 2.1915, 2.2624, 2.006, 2.0074, 2.1991, 1.9134, 1.7985, 2.2181, 2.1205, 2.0048, 1.8922, 1.7941, 2.0717, 1.3633, 1.656, 1.8739, 0.9927, 1.4953, 1.9008, 1.7575, 1.2234, 0.6403, 0.7555, 1.1773, 0.9142, 1.0899, 0.8328, 0.8583, 0.685, 0.9267, 1.177, 1.0201, 1.0471, 0.7819, 0.3644, 0.6411, 0.0315, 0.3136, 0.6973, 0.7485, -0.1195, 0.3374, 0.293, 0.3106, 0.2044, 0.495, 0.8046, -0.0985, 0.0263, 0.1103, -0.0052, 0.0918, 0.0345, 0.4506, -0.3793, 0.0184, 0.1909, 4.862, 4.8588, 4.8573, 4.8535, 4.8505, 4.8499, 4.8461, 4.846, 4.8415, 4.8402, 4.8301, 4.8297, 4.8295, 4.8116, 4.8101, 4.7543, 4.7542, 4.7542, 4.754, 4.754, 4.754, 4.7537, 4.7536, 4.7535, 4.7528, 4.7511, 4.749, 4.7236, 4.6734, 4.6703, 4.6545, 4.4335, 4.5995, 4.5699, 4.6108, 4.6094, 4.4433, 4.5748, 4.3276, 4.3711, 4.483, 4.3082, 4.3004, 4.253, 4.2404, 3.6537, 3.5382, 3.3519, 3.1229, 2.1829, 2.529, 3.6157, 2.904, 3.3984, 2.1054, 1.935, 2.9536, 1.9803, 2.2806, 1.9968, 2.4922, 1.9612, 1.4951, 2.9074, 2.085, 1.6856, 1.7157, 1.2599, 1.1453, 1.4664, 0.365, 1.486, 1.3371, 0.8306, 1.3429, 0.6272, 1.6117, 0.5519, 0.0186, 0.3977, 0.7015, -0.0088, 0.2077, 0.2352]}, \"token.table\": {\"Topic\": [12, 13, 2, 6, 12, 13, 14, 1, 2, 4, 5, 6, 7, 8, 9, 10, 12, 13, 14, 15, 1, 2, 4, 5, 6, 7, 8, 9, 10, 12, 13, 14, 15, 6, 10, 12, 15, 1, 2, 4, 5, 6, 7, 8, 9, 10, 12, 13, 14, 15, 6, 13, 2, 4, 10, 4, 4, 4, 6, 15, 7, 6, 7, 12, 1, 6, 7, 8, 9, 10, 13, 14, 15, 1, 2, 4, 6, 7, 8, 9, 10, 12, 13, 14, 15, 1, 2, 4, 5, 6, 7, 8, 9, 10, 11, 12, 13, 14, 15, 1, 2, 5, 6, 7, 8, 9, 10, 12, 13, 14, 15, 2, 5, 6, 7, 9, 10, 12, 13, 14, 15, 1, 2, 3, 4, 5, 6, 7, 8, 9, 10, 11, 12, 13, 14, 15, 1, 2, 4, 5, 6, 7, 8, 9, 10, 12, 13, 14, 15, 15, 7, 1, 2, 4, 5, 6, 7, 8, 9, 10, 12, 13, 14, 15, 8, 15, 10, 1, 2, 4, 5, 6, 7, 8, 9, 10, 12, 13, 14, 6, 12, 10, 2, 4, 6, 10, 8, 9, 10, 13, 1, 2, 4, 5, 6, 7, 8, 9, 10, 12, 13, 14, 15, 1, 2, 4, 5, 6, 7, 8, 9, 10, 12, 13, 14, 15, 1, 2, 5, 6, 8, 9, 12, 2, 14, 15, 1, 2, 3, 4, 5, 6, 7, 8, 9, 10, 11, 12, 13, 14, 15, 8, 1, 2, 4, 7, 8, 9, 10, 12, 13, 14, 15, 1, 2, 4, 5, 6, 7, 8, 9, 10, 12, 13, 14, 1, 14, 9, 9, 13, 1, 2, 6, 7, 8, 9, 10, 12, 13, 14, 15, 1, 2, 3, 4, 5, 6, 7, 8, 9, 10, 11, 12, 13, 14, 15, 9, 9, 1, 2, 6, 7, 9, 10, 12, 13, 14, 10, 14, 1, 6, 9, 10, 12, 13, 14, 9, 9, 7, 6, 4, 5, 5, 1, 2, 6, 8, 9, 10, 12, 13, 14, 15, 2, 4, 14, 15, 2, 2, 5, 8, 1, 2, 5, 9, 14, 1, 2, 6, 7, 8, 9, 10, 12, 13, 14, 15, 1, 2, 3, 4, 5, 6, 7, 8, 9, 10, 11, 12, 13, 14, 15, 7, 13, 10, 2, 15, 7, 12, 13, 1, 2, 4, 5, 6, 7, 8, 9, 10, 12, 13, 14, 15, 2, 15, 2, 15, 13, 14, 9, 10, 12, 13, 1, 1, 2, 4, 5, 6, 7, 9, 10, 12, 14, 2, 6, 13, 14, 4, 14, 1, 14, 1, 14, 14, 5, 1, 6, 6, 6, 12, 1, 2, 4, 5, 6, 7, 8, 9, 10, 12, 13, 14, 15, 1, 2, 4, 5, 6, 7, 8, 9, 10, 12, 13, 14, 15, 2, 7, 9, 10, 1, 13, 14, 9, 14, 9, 1, 2, 3, 4, 5, 6, 7, 8, 9, 10, 11, 12, 13, 14, 15, 1, 2, 4, 5, 6, 7, 8, 9, 10, 12, 13, 14, 15, 1, 2, 5, 6, 7, 8, 9, 10, 12, 13, 14, 2, 6, 7, 10, 13, 14, 1, 2, 4, 5, 6, 7, 8, 9, 10, 12, 13, 14, 15, 1, 2, 4, 5, 6, 7, 8, 9, 10, 12, 13, 14, 15, 6, 12, 10, 13, 1, 2, 3, 4, 5, 6, 7, 8, 9, 10, 12, 13, 14, 15, 13, 1, 2, 5, 6, 7, 8, 9, 10, 12, 13, 14, 15, 2, 4, 6, 7, 9, 10, 12, 13, 14, 15, 10, 13, 1, 6, 9, 10, 13, 12, 13, 14, 15, 6, 10, 2, 7, 9, 12, 13, 14, 1, 2, 4, 5, 6, 7, 8, 9, 10, 12, 13, 14, 15, 1, 2, 4, 5, 7, 8, 9, 10, 12, 13, 14, 15, 1, 2, 4, 6, 8, 9, 10, 13, 14, 2, 4, 5, 12, 15, 15, 4, 9, 10, 13, 14, 1, 2, 3, 4, 5, 6, 7, 8, 9, 10, 11, 12, 13, 14, 15, 14, 2, 4, 9, 1, 2, 3, 4, 5, 6, 7, 8, 9, 10, 12, 13, 14, 15, 1, 2, 3, 4, 5, 6, 7, 8, 9, 10, 12, 13, 14, 15, 1, 2, 7, 9, 10, 14, 1, 2, 4, 5, 6, 7, 8, 9, 10, 12, 13, 14, 1, 2, 7, 9, 10, 12, 13, 14, 1, 2, 4, 5, 6, 7, 8, 9, 10, 12, 13, 14, 15, 1, 2, 5, 6, 7, 8, 9, 10, 12, 13, 14, 7, 8, 10, 12, 13, 14, 8, 9, 10, 12, 13, 14, 2, 6, 6, 1, 2, 4, 5, 6, 7, 8, 9, 10, 12, 13, 14, 15, 1, 2, 5, 6, 8, 9, 10, 12, 14, 2, 5, 6, 14, 1, 1, 2, 4, 5, 7, 8, 9, 10, 12, 13, 14, 15, 1, 2, 5, 7, 8, 9, 10, 12, 14, 15, 5, 14, 5, 1, 2, 3, 4, 5, 6, 7, 8, 9, 10, 12, 13, 14, 15, 1, 2, 4, 5, 6, 7, 8, 9, 10, 12, 13, 14, 15, 7, 1, 2, 5, 8, 9, 10, 14, 1, 2, 5, 6, 7, 8, 9, 10, 13, 14, 1, 2, 4, 5, 6, 7, 8, 9, 10, 12, 13, 14, 15, 6, 12, 1, 2, 4, 5, 6, 7, 8, 9, 10, 12, 13, 14, 15, 1, 2, 4, 5, 6, 7, 8, 9, 10, 12, 13, 14, 1, 2, 6, 7, 8, 9, 10, 12, 13, 14, 15, 15, 2, 4, 13, 15, 8, 6, 1, 2, 4, 5, 6, 7, 9, 10, 12, 13, 14, 6, 1, 2, 5, 7, 8, 9, 10, 12, 13, 14, 15, 1, 14, 15, 8, 1, 2, 3, 4, 5, 6, 7, 8, 9, 10, 11, 12, 13, 14, 15, 10, 1, 2, 3, 4, 5, 6, 7, 8, 9, 10, 11, 12, 13, 14, 15, 7, 6, 1, 2, 4, 5, 6, 7, 8, 9, 10, 12, 13, 14, 15, 1, 6, 10, 12, 13, 14, 15, 10, 1, 2, 3, 4, 5, 6, 7, 8, 9, 10, 11, 12, 13, 14, 15, 1, 2, 4, 6, 7, 8, 9, 10, 12, 13, 14, 1, 2, 4, 6, 8, 10, 12, 13, 14, 15, 8, 1, 2, 6, 7, 8, 9, 10, 12, 13, 14, 15, 1, 2, 6, 7, 8, 9, 10, 12, 13, 14, 1, 2, 4, 6, 7, 8, 9, 10, 12, 13, 14, 6, 12, 13, 6, 12, 1, 2, 4, 6, 7, 8, 9, 10, 12, 13, 14, 15, 7, 13, 1, 2, 5, 6, 7, 8, 9, 10, 12, 13, 14, 15, 14, 1, 2, 4, 5, 6, 7, 8, 9, 10, 12, 13, 14, 4, 13, 14, 2, 12, 13, 1, 2, 4, 5, 6, 7, 8, 9, 10, 12, 13, 14, 9, 1, 2, 3, 4, 5, 6, 7, 8, 9, 10, 11, 12, 13, 14, 15, 1, 2, 7, 8, 9, 10, 12, 13, 14, 2, 4, 4, 2, 4, 6, 8, 9, 10, 12, 13, 14, 14, 1, 2, 7, 10, 12, 13, 14, 1, 6, 10, 12, 14, 10, 2, 1, 2, 3, 4, 5, 6, 7, 8, 9, 10, 11, 12, 13, 14, 15, 12, 10, 13, 13, 2, 1, 2, 5, 6, 7, 9, 10, 12, 13, 14, 15, 1, 2, 4, 6, 7, 9, 10, 12, 13, 14, 1, 14, 15, 5, 4, 7, 12, 1, 8, 1, 2, 4, 5, 6, 7, 8, 9, 10, 12, 13, 14, 9, 2, 12, 13, 1, 2, 4, 6, 7, 9, 14, 15, 10, 8, 12, 13, 12, 15, 14, 13, 10, 10, 1, 2, 5, 6, 7, 8, 9, 10, 12, 13, 14, 1, 2, 4, 5, 7, 9, 10, 12, 13, 14, 12, 2, 4, 6, 7, 9, 10, 12, 13, 14, 15, 2, 4, 5, 7, 10, 13, 15, 1, 2, 5, 6, 7, 8, 9, 10, 12, 13, 14, 15, 8, 7, 2, 5, 10, 15, 2, 4, 5, 6, 7, 8, 9, 10, 13, 14, 15, 1, 2, 4, 5, 6, 7, 8, 9, 10, 12, 13, 14, 15, 10, 13, 1, 5, 14, 1, 5, 4, 2, 15, 7, 15, 1, 2, 3, 4, 5, 6, 7, 8, 9, 10, 12, 13, 14, 15, 14, 1, 4, 1, 2, 4, 5, 6, 7, 8, 9, 10, 12, 13, 14, 15, 1, 2, 4, 7, 8, 9, 10, 12, 15, 1, 2, 4, 5, 6, 7, 8, 9, 10, 12, 13, 14, 12, 15, 1, 2, 4, 5, 6, 7, 8, 9, 10, 12, 13, 14, 15, 6, 1, 2, 3, 4, 5, 6, 7, 8, 9, 10, 12, 13, 14, 15, 8, 8, 8, 6, 7, 8, 10, 2, 1, 2, 5, 6, 9, 10, 12, 13, 14, 2, 7, 8, 9, 10, 13, 14, 2, 10, 1, 2, 4, 5, 6, 7, 8, 9, 10, 12, 13, 14, 15, 1, 2, 4, 5, 6, 7, 8, 9, 10, 12, 13, 14, 15, 6, 14, 2, 10, 6, 10, 2, 13, 1, 2, 4, 5, 6, 7, 8, 9, 10, 12, 13, 14, 15, 8, 10, 13, 14, 2, 8, 10, 12, 13, 2, 4, 6, 7, 8, 10, 12, 13, 14, 1, 5, 6, 7, 8, 10, 12, 13, 14, 1, 10, 13, 14, 1, 2, 4, 5, 6, 7, 8, 9, 10, 12, 13, 14, 15, 1, 2, 3, 4, 5, 6, 7, 8, 9, 10, 12, 13, 14, 15, 5, 14, 14, 13, 2, 4, 6, 7, 8, 9, 10, 12, 13, 14, 6, 1, 2, 3, 4, 5, 6, 7, 8, 9, 10, 12, 13, 14, 15, 1, 2, 5, 6, 7, 9, 10, 12, 14, 2, 6, 8, 1, 12, 9, 14, 1, 2, 3, 4, 5, 6, 7, 8, 9, 10, 11, 12, 13, 14, 15, 9, 1, 2, 3, 4, 5, 6, 7, 8, 9, 10, 11, 12, 13, 14, 15, 6, 12, 13, 1, 2, 3, 4, 5, 6, 7, 8, 9, 10, 11, 12, 13, 14, 15, 13, 2, 5, 1, 2, 5, 6, 7, 8, 9, 10, 12, 13, 14, 15, 1, 2, 3, 4, 5, 6, 7, 8, 9, 10, 11, 12, 13, 14, 15, 7, 9, 1, 2, 4, 5, 6, 7, 8, 9, 10, 12, 13, 14, 15, 2, 2, 1, 2, 5, 6, 7, 8, 9, 10, 12, 13, 14, 15, 1, 2, 5, 6, 7, 8, 9, 10, 12, 13, 14, 15, 7, 12, 13, 7, 12, 9, 5, 7, 9, 1, 2, 6, 7, 9, 10, 12, 13, 14, 15, 1, 2, 10, 12, 14, 1, 10, 13, 1, 2, 5, 6, 7, 8, 9, 10, 12, 13, 14, 15, 1, 2, 5, 6, 7, 8, 9, 10, 12, 13, 14, 2, 15, 1, 2, 3, 4, 5, 6, 7, 8, 9, 10, 12, 13, 14, 15, 2, 4, 5, 6, 7, 8, 9, 10, 12, 13, 14, 15, 13, 7, 14, 2, 15, 5, 14, 14, 5, 14, 1, 2, 5, 6, 7, 8, 9, 10, 12, 13, 14, 15, 15, 1, 2, 3, 4, 5, 6, 7, 8, 9, 10, 11, 12, 13, 14, 15, 7, 2, 7, 14, 15, 6, 8, 9, 13, 2, 9, 12, 13, 14, 1, 2, 4, 5, 6, 7, 8, 9, 10, 12, 13, 14, 15, 1, 2, 3, 4, 5, 6, 7, 8, 9, 10, 11, 12, 13, 14, 15, 1, 2, 3, 4, 5, 6, 7, 8, 9, 10, 11, 12, 13, 14, 15, 1, 2, 3, 4, 5, 6, 7, 8, 9, 10, 11, 12, 13, 14, 15, 1, 2, 5, 6, 7, 8, 9, 10, 12, 13, 14, 1, 2, 3, 4, 5, 6, 7, 8, 9, 10, 11, 12, 13, 14, 15, 1, 2, 4, 5, 6, 7, 8, 9, 10, 12, 13, 14, 1, 2, 3, 4, 5, 6, 7, 8, 9, 10, 11, 12, 13, 14, 15, 6, 1, 2, 3, 4, 5, 6, 7, 8, 9, 10, 11, 12, 13, 14, 15, 1, 1, 2, 3, 4, 5, 6, 7, 8, 9, 10, 12, 13, 14, 15, 9, 1, 2, 3, 4, 5, 6, 7, 8, 9, 10, 12, 13, 14, 15, 1, 2, 4, 9, 10, 13, 14, 13, 2, 5, 6, 7, 8, 9, 10, 12, 13, 14, 13, 7, 1, 2, 4, 5, 7, 8, 9, 10, 12, 13, 1, 2, 5, 6, 7, 8, 9, 10, 12, 13, 14, 2, 7, 8, 9, 10, 12, 13, 14, 15, 12, 7, 8, 12, 1, 2, 4, 5, 6, 9, 10, 12, 14, 9, 10, 1, 2, 3, 4, 5, 6, 7, 8, 9, 10, 11, 12, 13, 14, 15, 12, 1, 2, 3, 4, 5, 6, 7, 8, 9, 10, 11, 12, 13, 14, 15, 12, 8, 8, 8, 8, 5, 1, 2, 3, 4, 5, 6, 7, 8, 9, 10, 12, 13, 14, 15, 5, 12, 1, 2, 4, 5, 6, 7, 9, 10, 12, 13, 14, 15, 15, 1, 1, 2, 3, 4, 5, 6, 7, 8, 9, 10, 11, 12, 13, 14, 15, 12, 1, 2, 5, 6, 7, 8, 9, 10, 12, 13, 14, 15, 1, 2, 4, 5, 6, 7, 8, 9, 10, 12, 13, 14, 15, 15, 9, 1, 2, 6, 7, 8, 10, 13, 14, 1, 6, 7, 9, 12, 14, 4, 4, 1, 2, 4, 5, 6, 7, 8, 9, 10, 12, 13, 14, 15, 1, 2, 3, 4, 5, 6, 7, 8, 9, 10, 11, 12, 13, 14, 15, 4, 1, 2, 4, 5, 6, 7, 8, 9, 10, 12, 13, 14, 15, 1, 2, 5, 8, 9, 13, 14, 5, 7, 14, 7, 1, 2, 3, 4, 5, 6, 7, 8, 9, 10, 11, 12, 13, 14, 15, 1, 2, 3, 4, 5, 6, 7, 8, 9, 10, 11, 12, 13, 14, 15, 2, 1, 2, 3, 4, 5, 6, 7, 8, 9, 10, 11, 12, 13, 14, 15, 15, 2, 6, 2, 10, 1, 1, 2, 3, 4, 5, 6, 7, 8, 9, 10, 11, 12, 13, 14, 15, 1, 2, 4, 6, 7, 9, 10, 13, 14, 1, 2, 5, 6, 7, 9, 14, 8, 1, 2, 3, 4, 5, 6, 7, 8, 9, 10, 11, 12, 13, 14, 15, 1, 2, 3, 4, 5, 7, 8, 9, 10, 11, 12, 13, 14, 15, 5, 5, 8, 5, 1, 2, 5, 9, 14, 2, 13, 7, 13, 10, 12, 13, 1, 12, 2, 15, 2, 15, 1, 2, 4, 5, 6, 7, 8, 9, 10, 12, 13, 14, 15, 1, 2, 3, 4, 5, 6, 7, 8, 9, 10, 11, 12, 13, 14, 15, 12, 13, 1, 2, 4, 5, 6, 7, 8, 9, 10, 12, 13, 14, 15, 1, 2, 4, 5, 6, 7, 8, 9, 10, 12, 13, 14, 15, 1, 2, 5, 7, 8, 9, 10, 12, 13, 14, 12, 1, 2, 3, 4, 5, 6, 7, 8, 9, 10, 11, 12, 13, 14, 15, 13, 2, 6, 10, 12, 13, 14, 1, 2, 4, 5, 6, 7, 8, 9, 10, 12, 13, 14, 15, 2, 1, 2, 4, 5, 6, 7, 8, 9, 10, 12, 13, 14, 15, 7, 14, 1, 2, 4, 5, 6, 7, 8, 9, 10, 12, 13, 14, 15, 2, 1, 2, 3, 4, 5, 6, 7, 8, 9, 10, 11, 12, 13, 14, 15, 2, 7, 8, 9, 10, 12, 13, 10, 1, 2, 4, 6, 7, 8, 9, 10, 12, 13, 14, 15, 7, 8, 9, 10, 12, 13, 14, 1, 2, 6, 9, 12, 14, 9, 14, 1, 1, 1, 2, 4, 5, 6, 7, 8, 9, 10, 12, 13, 14, 1, 2, 4, 5, 6, 7, 8, 9, 10, 12, 13, 14, 15, 1, 2, 4, 6, 7, 8, 9, 10, 12, 13, 14, 8, 1, 2, 3, 4, 5, 6, 7, 8, 9, 10, 11, 12, 13, 14, 15, 7, 2, 4, 5, 9, 14, 8, 1, 2, 5, 10, 12, 13, 14, 15, 2, 1, 2, 3, 4, 5, 6, 7, 8, 9, 10, 11, 12, 13, 14, 15, 13, 1, 2, 10, 12, 13, 14, 14, 9, 1, 2, 3, 4, 5, 6, 7, 8, 9, 10, 11, 12, 13, 14, 15, 2, 7, 13, 12, 12, 1, 2, 3, 4, 5, 6, 7, 8, 9, 10, 11, 12, 13, 14, 15, 6, 1, 2, 3, 4, 5, 6, 7, 8, 9, 10, 11, 12, 13, 14, 15, 1, 15, 1, 1, 13, 1, 1, 2, 5, 14, 1, 5, 14, 14, 5, 14, 5, 5, 1, 5, 14, 14, 5, 10, 14, 14, 14, 5, 1, 5, 1, 5, 1, 2, 4, 5, 7, 8, 9, 10, 12, 13, 14, 15, 1, 2, 4, 5, 6, 7, 8, 9, 10, 12, 13, 14, 15, 6, 6, 13, 1, 2, 3, 4, 5, 6, 7, 8, 9, 10, 11, 12, 13, 14, 15, 1, 2, 4, 5, 6, 7, 8, 9, 10, 12, 13, 14, 15, 14, 7, 13, 14, 5, 7, 2, 5, 6, 7, 8, 9, 10, 12, 13, 14, 9, 2, 6, 8, 10, 12, 13, 15, 1, 2, 4, 5, 6, 7, 8, 9, 10, 12, 13, 14, 15, 6, 1, 2, 3, 4, 5, 6, 7, 8, 9, 10, 12, 13, 14, 15, 1, 2, 5, 7, 8, 9, 10, 13, 14, 10, 12, 13, 1, 2, 4, 5, 6, 7, 8, 9, 10, 12, 13, 14, 15, 10, 1, 9, 9, 10, 12, 13, 2, 5, 9, 10, 12, 13, 12, 13, 1, 2, 4, 6, 7, 8, 9, 10, 12, 14, 1, 2, 4, 5, 6, 7, 8, 9, 10, 12, 13, 14, 15, 1, 1, 2, 5, 6, 7, 9, 10, 12, 14, 15, 1, 6, 8, 10, 1, 2, 5, 6, 7, 8, 9, 10, 12, 13, 14, 15, 1, 2, 4, 5, 6, 7, 8, 9, 10, 12, 13, 14, 15, 9, 15, 13, 5, 14, 1, 2, 4, 5, 6, 7, 8, 9, 10, 12, 13, 14, 15, 1, 2, 4, 5, 6, 7, 8, 9, 10, 12, 13, 14, 15, 1, 2, 3, 4, 5, 6, 7, 8, 9, 10, 11, 12, 13, 14, 15, 1, 2, 4, 5, 6, 7, 8, 9, 10, 12, 13, 14, 1, 2, 3, 4, 5, 6, 7, 8, 9, 10, 11, 12, 13, 14, 15, 1, 2, 7, 8, 9, 10, 12, 13, 14, 1, 2, 4, 5, 6, 7, 8, 9, 10, 12, 13, 14, 15, 2, 1, 2, 4, 5, 6, 7, 8, 9, 10, 12, 13, 14, 1, 2, 3, 4, 5, 6, 7, 8, 9, 10, 11, 12, 13, 14, 15, 1, 2, 4, 5, 6, 7, 8, 9, 10, 12, 13, 14, 1, 6, 10, 13, 7, 1, 2, 4, 5, 6, 7, 8, 9, 10, 12, 13, 14, 15, 1, 2, 5, 7, 8, 12, 15, 15, 2, 5, 15, 9, 15, 2, 5, 6, 9, 10, 13, 14, 1, 2, 4, 8, 14, 15, 2, 8, 10, 14, 1, 2, 3, 4, 5, 6, 7, 8, 9, 10, 11, 12, 13, 14, 15, 1, 2, 3, 4, 5, 6, 7, 8, 9, 10, 11, 12, 13, 14, 15, 1, 2, 4, 5, 6, 7, 8, 9, 10, 12, 13, 14, 15, 13, 1, 2, 4, 5, 6, 7, 8, 9, 10, 12, 13, 14, 15, 8, 7, 1, 2, 3, 4, 5, 6, 7, 8, 9, 10, 11, 12, 13, 14, 15, 1, 2, 4, 5, 6, 7, 8, 9, 10, 11, 12, 13, 14, 15, 1, 2, 4, 5, 7, 8, 9, 10, 12, 13, 14, 6, 8, 4, 4, 7, 5, 1, 2, 4, 5, 6, 7, 8, 9, 10, 12, 13, 14, 15, 2, 6, 14, 14, 1, 2, 5, 6, 7, 8, 9, 10, 12, 13, 14, 9, 8, 14, 1, 2, 3, 4, 5, 6, 7, 8, 9, 10, 11, 12, 13, 14, 15, 1, 2, 4, 5, 6, 7, 8, 9, 10, 12, 13, 14, 15, 1, 2, 5, 6, 7, 8, 9, 10, 12, 13, 14, 1, 2, 4, 5, 6, 7, 8, 9, 10, 12, 13, 14, 15, 6, 6, 1, 6, 9, 1, 2, 4, 5, 6, 7, 8, 9, 10, 11, 12, 13, 14, 15, 1, 2, 4, 5, 6, 7, 8, 9, 10, 12, 13, 14, 15, 1, 2, 3, 4, 5, 6, 7, 8, 9, 10, 11, 12, 13, 14, 15, 6, 1, 2, 5, 6, 7, 8, 9, 10, 12, 13, 14, 2, 5, 7, 8, 9, 10, 12, 13, 14, 15, 1, 2, 4, 5, 6, 7, 8, 9, 10, 12, 13, 14, 15, 15, 1, 2, 3, 4, 5, 6, 7, 8, 9, 10, 11, 12, 13, 14, 15, 1, 2, 4, 5, 6, 7, 8, 9, 10, 12, 13, 14, 15, 12, 1, 2, 3, 4, 5, 6, 7, 8, 9, 10, 11, 12, 13, 14, 15, 1, 2, 4, 5, 6, 7, 8, 9, 10, 12, 13, 14, 15, 1, 2, 4, 5, 6, 7, 8, 9, 10, 12, 13, 14, 15, 13, 1, 2, 3, 4, 5, 6, 7, 8, 9, 10, 11, 12, 13, 14, 15, 6, 12, 13, 1, 2, 3, 4, 5, 6, 7, 8, 9, 10, 11, 12, 13, 14, 15, 1, 2, 6, 7, 9, 10, 13, 14, 1, 2, 3, 4, 5, 6, 7, 8, 9, 10, 11, 12, 13, 14, 15, 1, 2, 4, 5, 6, 7, 8, 9, 10, 12, 13, 14, 15, 1, 2, 6, 7, 8, 10, 12, 13, 14, 1, 2, 4, 5, 7, 8, 9, 10, 12, 13, 14, 15, 1, 2, 4, 5, 6, 7, 8, 9, 10, 12, 13, 14, 15, 4, 2, 6, 1, 2, 3, 4, 5, 6, 7, 8, 9, 10, 12, 13, 14, 15, 2, 4, 1, 2, 5, 6, 7, 8, 9, 10, 12, 13, 14, 15, 1, 2, 4, 5, 6, 7, 8, 9, 10, 12, 13, 14, 15, 1, 2, 5, 6, 7, 10, 12, 13, 14, 1, 2, 4, 5, 6, 7, 8, 9, 10, 12, 13, 14, 15, 4, 2, 8, 9, 10, 15, 1, 2, 4, 6, 7, 8, 9, 10, 12, 13, 14, 1, 2, 3, 4, 5, 6, 7, 8, 9, 10, 11, 12, 13, 14, 15, 1, 10, 14, 1, 2, 4, 5, 6, 7, 8, 9, 10, 12, 13, 14, 15, 2, 12, 14, 1, 2, 4, 5, 6, 7, 8, 9, 10, 12, 13, 14, 15, 10, 10, 12, 1, 2, 6, 7, 8, 9, 10, 12, 13, 14, 14, 1, 2, 3, 4, 5, 6, 7, 8, 9, 10, 11, 12, 13, 14, 15, 14, 1, 2, 4, 6, 7, 8, 9, 10, 12, 13, 14, 15, 1, 2, 8, 10, 12, 13, 15, 7, 9, 10, 9, 1, 2, 4, 5, 6, 7, 8, 9, 10, 12, 13, 14, 15, 1, 2, 3, 4, 5, 6, 7, 8, 9, 10, 11, 12, 13, 14, 15, 5, 1, 2, 4, 5, 6, 7, 8, 9, 10, 12, 13, 14, 1, 10, 13, 6, 10, 13, 14, 1, 2, 3, 4, 5, 6, 7, 8, 9, 10, 11, 12, 13, 14, 15, 12, 14, 13, 10, 12, 7, 7, 8, 7, 10, 2, 6, 9, 10, 12, 13, 14, 1, 1, 2, 4, 7, 8, 9, 10, 12, 13, 14, 1, 1, 2, 3, 4, 5, 6, 7, 8, 9, 10, 12, 13, 14, 15, 2, 13, 14, 9, 10, 14, 14, 2, 10, 1, 2, 4, 5, 6, 7, 8, 9, 10, 12, 13, 14, 15, 4, 4, 4, 1, 2, 3, 4, 5, 6, 7, 8, 9, 10, 11, 12, 13, 14, 15, 1, 2, 4, 6, 7, 8, 9, 10, 12, 13, 14, 12, 1, 2, 6, 7, 8, 9, 10, 12, 13, 14, 1, 2, 4, 5, 6, 7, 8, 9, 10, 12, 13, 14, 15, 1, 2, 4, 5, 6, 7, 8, 9, 10, 12, 13, 14, 15, 1, 1, 2, 5, 6, 7, 8, 9, 10, 12, 13, 14, 15, 12, 13, 2, 7, 9, 10, 13, 2, 7, 2, 6, 7, 9, 10, 13, 1, 2, 4, 5, 6, 7, 8, 9, 10, 12, 13, 14, 15, 5, 1, 2, 3, 4, 5, 6, 7, 8, 9, 10, 11, 12, 13, 14, 15, 2, 15, 1, 2, 5, 6, 7, 8, 9, 10, 12, 13, 14, 15, 12, 4, 4, 4, 15, 2, 4, 10, 15, 2, 15, 1, 2, 4, 5, 6, 7, 8, 9, 10, 12, 13, 14, 15, 13, 1, 2, 6, 7, 8, 9, 10, 12, 13, 14, 2, 4, 5, 12, 15, 7, 1, 2, 4, 5, 6, 7, 9, 10, 12, 13, 14, 12, 10, 10, 10, 14, 15, 9, 1, 10, 12, 1, 9, 14, 7, 9, 9, 14, 2, 1, 10, 1, 2, 4, 5, 6, 7, 8, 9, 10, 12, 13, 14, 15, 2, 9, 10, 13, 7, 8, 8, 8, 10, 12, 13, 8, 8, 10, 13, 8, 2, 9, 15, 1, 2, 4, 6, 7, 8, 9, 10, 12, 13, 14, 15, 2, 7, 8, 9, 10, 14, 1, 6, 10, 12, 13, 1, 2, 7, 14, 13, 1, 2, 4, 5, 6, 7, 8, 9, 10, 12, 13, 14, 1, 2, 4, 5, 6, 7, 8, 9, 10, 12, 13, 14, 15, 10, 10, 2, 6, 9, 10, 14, 1, 2, 5, 7, 8, 9, 10, 12, 13, 14, 15, 1, 2, 5, 6, 7, 9, 10, 12, 13, 14, 2, 2, 15, 2, 4, 15, 5, 7, 8, 10, 14, 12, 9, 1, 10, 13, 1, 2, 4, 5, 6, 7, 8, 9, 10, 12, 13, 14, 15, 12, 5, 7, 8, 9, 10, 12, 13, 12, 8, 1, 2, 3, 4, 5, 6, 7, 8, 9, 10, 11, 12, 13, 14, 15, 1, 2, 4, 5, 6, 7, 8, 9, 10, 12, 13, 14, 15, 1, 2, 3, 4, 5, 6, 7, 8, 9, 10, 11, 12, 13, 14, 15, 7, 5, 1, 2, 4, 6, 7, 8, 9, 10, 12, 13, 14, 1, 2, 4, 5, 6, 7, 8, 9, 10, 12, 13, 14, 15, 1, 2, 4, 5, 6, 7, 8, 9, 10, 12, 13, 14, 15, 7, 10, 14, 2, 8, 14, 1, 2, 4, 5, 4, 1, 2, 4, 6, 7, 8, 9, 10, 12, 13, 14, 15, 1, 2, 7, 8, 9, 10, 12, 13, 14, 15, 10, 13, 2, 7, 8, 14, 9, 4, 1, 2, 3, 4, 5, 6, 7, 8, 9, 10, 11, 12, 13, 14, 15, 1, 2, 6, 7, 8, 9, 10, 12, 13, 14, 1, 2, 3, 4, 5, 6, 7, 8, 9, 10, 11, 12, 13, 14, 15, 1, 2, 4, 5, 6, 7, 8, 9, 10, 12, 13, 14, 15, 1, 2, 3, 4, 5, 6, 7, 8, 9, 10, 11, 12, 13, 14, 15, 1, 2, 4, 5, 6, 7, 8, 9, 10, 12, 13, 14, 15, 12, 13, 6, 8, 12, 13, 4, 1, 2, 4, 5, 6, 7, 8, 9, 10, 12, 13, 14, 2, 4, 7, 8, 13, 1, 2, 5, 6, 7, 8, 9, 10, 12, 13, 14, 15, 4, 8, 1, 2, 3, 4, 5, 6, 7, 8, 9, 10, 11, 12, 13, 14, 15, 1, 2, 3, 4, 5, 6, 7, 8, 9, 10, 12, 13, 14, 6, 7, 8, 9, 8, 8, 2, 6, 7, 8, 9, 10, 12, 13, 14, 8, 1, 2, 3, 4, 5, 6, 7, 8, 9, 10, 11, 12, 13, 14, 15, 2, 7, 8, 9, 10, 2, 7, 8, 9, 15, 2, 6, 6, 1, 2, 5, 6, 7, 8, 9, 10, 12, 13, 14, 15, 7, 9, 13, 6, 9, 12, 7, 9, 10, 14, 1, 2, 4, 5, 6, 7, 8, 9, 10, 12, 13, 14, 15, 2, 4, 6, 7, 9, 15, 2, 1, 2, 4, 5, 6, 7, 8, 9, 10, 12, 13, 14, 15, 10, 7, 10, 1, 2, 4, 5, 6, 7, 8, 9, 10, 11, 12, 13, 14, 15, 7, 9, 13, 14, 10, 1, 2, 3, 4, 5, 6, 7, 8, 9, 10, 11, 12, 13, 14, 15, 10, 13, 10, 2, 4, 6, 7, 8, 9, 10, 12, 13, 14, 6, 7, 8, 9, 12, 14, 5, 7, 9, 10, 12, 5, 1, 2, 4, 5, 6, 7, 8, 9, 10, 12, 13, 14, 15, 4, 4, 2, 6, 7, 8, 9, 10, 12, 13, 14, 7, 10, 1, 2, 3, 4, 5, 6, 7, 8, 9, 10, 11, 12, 13, 14, 15, 8, 9, 1, 2, 3, 4, 5, 6, 7, 8, 9, 10, 11, 12, 13, 14, 15, 2, 9, 1, 2, 4, 5, 6, 7, 8, 9, 10, 12, 13, 14, 15, 1, 2, 4, 6, 7, 9, 10, 12, 14, 5, 7, 7, 9, 1, 1, 2, 4, 5, 6, 7, 8, 9, 12, 13, 14, 1, 2, 4, 5, 6, 7, 8, 9, 10, 12, 13, 14, 15, 2, 6, 15, 2, 15, 2, 7, 15, 9, 7, 9, 10, 12, 1, 1, 2, 3, 4, 5, 6, 7, 8, 9, 10, 11, 12, 13, 14, 15, 2, 1, 2, 5, 6, 7, 8, 9, 10, 12, 13, 14, 15, 2, 4, 7, 15, 4, 1, 2, 4, 5, 6, 7, 8, 9, 10, 12, 13, 14, 15, 6, 15, 1, 2, 5, 7, 8, 9, 10, 12, 13, 14, 5, 5, 1, 2, 4, 6, 7, 9, 10, 12, 13, 14, 15, 1, 2, 4, 5, 6, 7, 8, 9, 10, 12, 13, 14, 15, 1, 2, 6, 7, 8, 9, 10, 13, 14, 5, 13, 1, 2, 4, 5, 6, 7, 8, 9, 10, 12, 13, 14, 15, 12, 12, 13, 2, 6, 7, 9, 12, 9, 1, 10, 14, 5, 1, 2, 4, 7, 9, 12, 13, 14, 15, 6, 7, 12, 1, 2, 3, 5, 6, 7, 8, 9, 10, 11, 12, 13, 14, 15, 1, 2, 6, 9, 10, 13, 14, 14, 14, 1, 2, 3, 4, 5, 6, 7, 8, 9, 10, 12, 13, 14, 15, 2, 6, 9, 13, 14, 2, 13, 2, 4, 5, 9, 13, 14, 8, 2, 1, 2, 3, 4, 5, 6, 7, 8, 9, 10, 11, 12, 13, 14, 15, 5, 14, 2, 1, 2, 7, 8, 9, 10, 12, 13, 14, 2, 4, 15, 13, 2, 15, 5, 14, 14, 1, 4, 2, 14, 2, 4, 5, 6, 7, 12, 15, 1, 2, 3, 4, 5, 6, 7, 8, 9, 10, 11, 12, 13, 14, 15, 2, 4, 15, 4, 12, 1, 2, 3, 4, 5, 6, 7, 8, 9, 10, 11, 12, 13, 14, 15, 1, 2, 3, 4, 5, 6, 7, 8, 9, 10, 11, 12, 13, 14, 15, 1, 2, 5, 8, 9, 10, 13, 14, 15, 2, 10, 10], \"Freq\": [0.9743168030375681, 0.023763824464330927, 0.06136230554152247, 0.6995302831733562, 0.20863183884117642, 0.024544922216608988, 0.012272461108304494, 0.03008679056291361, 0.25457055980603194, 0.04746450580183785, 0.014135604186886136, 0.023343199574674352, 0.06497190548284361, 0.01828550633349491, 0.047853559128082424, 0.29153062579926636, 0.03281016384662562, 0.15004489948832347, 0.0198417196384732, 0.004928008799097919, 0.07670487392503439, 0.019480602901596034, 0.000608768840674876, 0.004261381884724132, 0.25994429496817206, 0.06270319058951224, 0.0018263065220246281, 0.06574703479288661, 0.07974871812840877, 0.19906741090068447, 0.17471665727368943, 0.054789195660738844, 0.000608768840674876, 0.9011047446496796, 0.06436462461783425, 0.9672981502066672, 0.9033612805528406, 0.04589698244747323, 0.13769094734241968, 0.008056385216843705, 0.020263029484788714, 0.20140963042109264, 0.040037793198859625, 0.009765315414356006, 0.11010393129686398, 0.1513623889225181, 0.08886437027063966, 0.1413529406228032, 0.035887534147758325, 0.009277049643638206, 0.9529178587675143, 0.9965674388186787, 0.026163421032825842, 0.9418831571817303, 0.026163421032825842, 0.9820445568734941, 1.0095365509325, 1.0102129713575525, 0.9521066492298608, 0.8084645699092179, 0.9863273282507872, 0.9688779304626861, 0.04212512741142114, 0.963337780724196, 0.7689796235814699, 0.07120181699828425, 0.021360545099485272, 0.021360545099485272, 0.007120181699828425, 0.04984127189879897, 0.0284807267993137, 0.0284807267993137, 0.886428344130902, 0.0180965985556184, 0.03558997715938285, 0.0542897956668552, 0.009651519229663147, 0.015080498796348665, 0.007841859374101307, 0.01628693870005656, 0.08384757330769858, 0.45724072350529155, 0.2804972776120852, 0.01990625841118024, 0.0024128798074157867, 0.09212911965179492, 0.22255287337572147, 0.02534475781585523, 0.08213921511123884, 0.026269748977017827, 0.04254959341347958, 0.01701983736539183, 0.11229392696513958, 0.1198788544866729, 0.0001849982322325199, 0.06289939895905677, 0.06234440426235921, 0.12949876256276394, 0.004994952270278037, 0.000532575185211575, 0.02023785703803985, 0.000532575185211575, 0.0021303007408463, 0.08787490555990987, 0.005858327037327325, 0.05272494333594593, 0.05272494333594593, 0.13900212334022108, 0.557606218916519, 0.08148400333737098, 0.8773964354408184, 0.56934735933013, 0.0008937949126061697, 0.0017875898252123395, 0.19574108586075115, 0.005362769475637018, 0.049158720193339334, 0.0008937949126061697, 0.0017875898252123395, 0.0008937949126061697, 0.1733962130455969, 0.05488669285018012, 0.16106285343773785, 0.00011603951976782267, 0.0031910867936151234, 0.01862434292273554, 0.05761362156472395, 0.08760983742470611, 0.030344334419285628, 0.09666091996659629, 0.15143157329700857, 0.00011603951976782267, 0.08499894822993011, 0.16349968335286214, 0.0804153871991011, 0.009399201101193636, 0.04429660874899175, 0.24752555548200336, 0.022878468254973763, 0.006571474924300974, 0.00365081940238943, 0.1776732109162856, 0.011439234127486882, 0.07496349172906297, 0.07009573252587706, 0.009735518406371813, 0.18570501360154235, 0.049407755912336954, 0.09589485630276236, 0.8941162341478658, 0.9846516503279467, 0.006660827871468034, 0.20267947666038447, 0.013321655742936069, 0.6432456630160559, 0.0009515468387811478, 0.0019030936775622956, 0.01237010890415492, 0.002854640516343443, 0.02569176464709099, 0.019982483614404103, 0.013321655742936069, 0.04281960774515165, 0.014273202581717217, 0.9285640155447334, 0.8105910217601491, 1.0051652264365094, 0.05727729725042742, 0.008366346789388275, 0.00032178256882262594, 0.007079216514097771, 0.12967837523551826, 0.01995051926700281, 0.005148521101162015, 0.04537134220399026, 0.0595297752321858, 0.5537878009437393, 0.10232685688559505, 0.011262389908791907, 0.9946129985429657, 0.9654372369320073, 0.9967319426230195, 0.013718852120725801, 0.9740385005715319, 0.0091459014138172, 0.0045729507069086, 1.0152287316382451, 0.7525739749205681, 0.09407174686507101, 0.14894693253636243, 0.03070708301822823, 0.20947703167880447, 0.16691275818819107, 0.035267540892222525, 0.026754686194099847, 0.07266329545897572, 0.045908609264875874, 0.07752778385790296, 0.11887593524878454, 0.03374738826755776, 0.13042909519623674, 0.04195621244074749, 0.00972897679785449, 0.053087009750078434, 0.19253945327267252, 0.10828693531110527, 0.026147333160486393, 0.03618368326249127, 0.1154180261730561, 0.03116550821148883, 0.056256383466501025, 0.15345051077012722, 0.04938940708091874, 0.15424285419923286, 0.016110983058481514, 0.007659319814687934, 0.7136099829242093, 0.015076267244877662, 0.020101689659836882, 0.21609316384324648, 0.010050844829918441, 0.015076267244877662, 0.010050844829918441, 0.2015983388681612, 0.1007991694340806, 0.7055941860385642, 0.012515754639394788, 0.2363196430187203, 0.00012330792748172203, 0.022503696765414274, 0.014242065624138897, 0.02231873487419169, 0.10789443654650678, 0.04636378073312749, 0.1482161288330299, 0.0942689105597765, 0.00012330792748172203, 0.049816402702615704, 0.17990626619583247, 0.055735183221738364, 0.00967967230731518, 0.9533193641448062, 0.036322952856535994, 0.2598488165890652, 0.06146961252644553, 0.013970366483283076, 0.0027940732966566153, 0.10338071197629475, 0.07543997900972861, 0.03352887955987938, 0.008382219889969846, 0.13970366483283075, 0.2626428898857218, 0.1878046103948434, 0.01998910457172838, 0.03672416886433819, 0.007437806352271026, 0.35143635014480595, 0.022313419056813076, 0.0027891773821016345, 0.039513346246439825, 0.20268022309938544, 0.054853821847998814, 0.033005265688202674, 0.04090793493749064, 0.9292847945650389, 0.971338554637564, 0.9796867636420101, 0.9941652118369808, 0.9884574346826324, 0.08876313646579603, 0.018364786854992283, 0.4132077042373264, 0.05815515837414223, 0.0030607978091653806, 0.05203356275581147, 0.09794552989329218, 0.15610068826743442, 0.0948847320841268, 0.006121595618330761, 0.012243191236661522, 0.007132100838495797, 0.05827250571452816, 8.104660043745224e-05, 0.05486854849615517, 0.012886409469554907, 0.002026165010936306, 0.08534207026063721, 0.03809190220560255, 0.07861520242432868, 0.112006401804559, 8.104660043745224e-05, 0.10844035138531109, 0.40685393419601024, 0.032256546974105994, 0.003079770816623185, 0.9910474149288326, 0.9897266392264024, 0.003978168282456176, 0.0026521121883041174, 0.0013260560941520587, 0.0013260560941520587, 0.0026521121883041174, 0.007956336564912353, 0.48931469874210964, 0.4084252769988341, 0.08221547783742764, 0.9846702084447099, 1.0048316582451877, 0.44186322531785815, 0.07797586329138674, 0.0953038329116949, 0.040431929114052384, 0.02310395949374422, 0.0953038329116949, 0.2223756101272881, 0.9898231192883983, 0.9914304435786477, 0.9861620289992116, 0.9524261690892042, 1.0090867895272209, 0.9207536549930619, 0.9585834276110824, 0.1260830109271561, 0.1134747098344405, 0.008405534061810407, 0.008405534061810407, 0.008405534061810407, 0.02101383515452602, 0.659834423852117, 0.046230437339957235, 0.004202767030905203, 0.004202767030905203, 0.9269568783876458, 0.05093169661470581, 0.015279508984411746, 0.005093169661470581, 1.0034945506762643, 1.0005687512078243, 0.9652199085644503, 0.9286066590849892, 0.008708341588163705, 0.03483336635265482, 0.052250049528982226, 0.008708341588163705, 0.8882508419926979, 0.07948783302396749, 0.06056215849445142, 0.31795133209586995, 0.003785134905903214, 0.015140539623612856, 0.003785134905903214, 0.10598377736529, 0.07570269811806428, 0.034066214153128924, 0.011355404717709641, 0.2952405226604507, 0.03225638822842345, 0.11855824812433785, 0.00010680923254444851, 0.003524704673966801, 0.027129545066289923, 0.048918628505357414, 0.186702538487696, 0.02915892048463444, 0.12037400507759347, 0.17303095672200658, 0.00010680923254444851, 0.048811819272812966, 0.13639538995926076, 0.06173573641069124, 0.013137535602967166, 0.668986997218358, 0.3284557098256198, 0.9985760309317788, 0.9877360502577477, 0.012520597820168634, 0.034121150162149595, 0.9553922045401887, 0.034121150162149595, 0.007204483115175223, 0.2957954924716227, 0.042609371566893456, 0.4094204833166719, 0.00041168474943858416, 0.03952173594610408, 0.012556384857876817, 0.018525813724736287, 0.031493883332051685, 0.0259361392146308, 0.01090964586012248, 0.06422282091241913, 0.04137431731857771, 0.9898613487030011, 0.01192604034581929, 0.9944117997356586, 0.9091594190441288, 0.9733197016836754, 0.02630593788334258, 0.012883700105192348, 0.05153480042076939, 0.8760916071530797, 0.06441850052596174, 0.9852068422521382, 0.7059286185115449, 0.01044273104307019, 0.004177092417228076, 0.002088546208614038, 0.018796915877526344, 0.014619823460298267, 0.02297400829475442, 0.01044273104307019, 0.03759383175505269, 0.17334933531496516, 0.07386344459371655, 0.024621148197905514, 0.8371190387287875, 0.06155287049476379, 1.0079152093970438, 0.948434056300533, 0.9435935902874586, 0.05242186612708104, 0.8974574612613515, 0.10558323073662959, 0.9467103123568331, 0.9211177609897624, 0.9659969988379671, 0.05682335287282159, 0.9503090135128217, 0.9480411992362588, 0.9669408472291422, 0.024548205555474722, 0.28505229734566173, 0.012274102777737361, 0.02766253014087077, 0.014655645107746104, 0.20023275128458115, 0.0075110181177198785, 0.08958263072109805, 0.07144626990026226, 0.031143245853960472, 0.09746003996651159, 0.13281678378894907, 0.00494628022386431, 0.007767559807652445, 0.6165500597324128, 0.07039351075685028, 0.027671931814761835, 0.0043692523918045, 0.0480617763098495, 0.0004854724879782778, 0.07476276314865478, 0.02403088815492475, 0.008495768539619862, 0.058256698557393335, 0.05121734748170831, 0.007767559807652445, 0.9899297734954302, 0.9657599366199716, 0.008254358432649331, 0.02476307529794799, 0.8449406309925036, 0.013202197359257869, 0.14522417095183654, 0.9922265943276296, 0.9850229891096502, 0.9925351324255446, 0.04432862261454485, 0.12744479001681644, 0.00012886227504228155, 0.003994730526310728, 0.003479281426141602, 0.05257580821725087, 0.09741987993196485, 0.061080718370041455, 0.04626155674017907, 0.32086706485528105, 0.00012886227504228155, 0.05553964054322335, 0.11816670621377218, 0.06520431117139447, 0.0033504191510993204, 0.09031432695445016, 0.010684507429879147, 0.008063779192361622, 0.007257401273125459, 0.09394302759101289, 0.1139008810921079, 0.0064510233538892965, 0.24050221441218536, 0.06309907218022968, 0.10422434606127395, 0.1546229660135341, 0.10523231846031915, 0.0014111613586632837, 0.015791581183328282, 0.04060692304284415, 0.0022559401690468973, 0.0812138460856883, 0.020303461521422074, 0.5820325636140995, 0.036095042704750356, 0.10377324777615728, 0.015791581183328282, 0.038350982873797256, 0.06767820507140691, 0.010139905657502425, 0.010139905657502425, 0.005069952828751213, 0.0405596226300097, 0.9227314148327207, 0.005069952828751213, 0.005535797892677026, 0.04650070229848702, 0.015500234099495674, 0.0011071595785354053, 0.07528685134040755, 0.008857276628283242, 0.22032475612854563, 0.0420720639843454, 0.36757698007375456, 0.034321946934597565, 0.028786149041920537, 0.15278802183788592, 0.0011071595785354053, 0.0588013779287686, 0.16673035870770192, 0.12803525839328647, 0.027693552185807147, 0.057094241150191447, 0.0927544316360253, 0.020106277614353133, 0.08649493011457575, 0.11342975484323749, 0.05690455928590509, 0.12044798382183244, 0.06240533335020925, 0.008915047621458465, 0.9516710631587791, 0.9684968916963899, 0.026852980222528335, 0.96670728801102, 0.035614588185878794, 0.12753872796294433, 0.00024063910936404588, 0.005053421296644964, 0.01973240696785176, 0.1169506071509263, 0.07411684568412613, 0.019251128749123672, 0.23991719203595374, 0.06882278527811712, 0.06593511596574857, 0.12465105865057577, 0.08542688382423629, 0.016604098546119165, 0.9928127415744533, 0.15587049570161504, 0.3021562129377074, 0.0026711677690800964, 0.013827221392885206, 0.0843774759997654, 0.06127973117301398, 0.10527543560492146, 0.1445573145619817, 0.020269449541843086, 0.10338990541498257, 0.00487095299067547, 0.0012570201266259278, 0.03923590782588291, 0.011941363251355669, 0.019617953912941456, 0.009382499697493739, 0.011941363251355669, 0.015353181323171573, 0.538214300828959, 0.3292404439302348, 0.0025588635538619287, 0.021323862948849408, 1.0002696800471598, 0.9936231751008728, 0.9403159549541084, 0.8229789459531786, 0.01327385396698675, 0.03982156190096025, 0.11946468570288075, 0.8984987910766259, 0.06305254674221936, 0.01576313668555484, 0.01576313668555484, 0.9608560409151856, 0.0600535025571991, 0.15671248734216361, 0.04527249634329171, 0.7557024389611, 0.006964999437429494, 0.003482499718714747, 0.027859997749717976, 0.008477861717637763, 0.12620453238756216, 0.003082858806413732, 0.010790005822448063, 0.011753399199452353, 0.30346891375635177, 0.021965368995697843, 0.1568404417762986, 0.07129110989831755, 0.010982684497848921, 0.15240883224207888, 0.12061685080093727, 0.0019267867540085826, 0.021177464067240664, 0.1592545297856498, 0.045743322385239836, 0.675984653026322, 0.008470985626896266, 0.013553577003034025, 0.00508259137613776, 0.056755603700204986, 0.0016941971253792531, 0.0016941971253792531, 0.00508259137613776, 0.005929689938827387, 0.012546192129996542, 0.07527715277997925, 0.037638576389989624, 0.6398557986298237, 0.012546192129996542, 0.07527715277997925, 0.10036953703997234, 0.025092384259993085, 0.025092384259993085, 0.26046304663247466, 0.02216706779850848, 0.00554176694962712, 0.06650120339552544, 0.6428449661567459, 0.9091779850683692, 0.9931819153112603, 0.9941119854271038, 0.021690785253122125, 0.9327037658842513, 0.04338157050624425, 0.10272926360807469, 0.3203775856907619, 9.305186921021258e-05, 0.0012096742997327636, 0.02624062711727995, 0.010514861220754021, 0.06318221919373435, 0.02019225561861613, 0.1293420982021955, 0.08700349771154876, 9.305186921021258e-05, 0.02633367898649016, 0.04894528320457182, 0.1627477192486618, 0.001116622430522551, 0.9686671647491046, 0.012101565401013313, 0.9802267974820783, 0.006050782700506656, 0.06510935151568199, 0.43993004140629927, 7.36531125743009e-05, 7.36531125743009e-05, 0.04456013310745204, 0.007954536158024496, 0.06901296648211994, 0.026883386089619828, 0.10944852528541113, 0.11703479588056412, 0.012226416687333949, 0.07858787111677906, 0.01576176609090039, 0.01325756026337416, 0.22790429475775215, 0.06058215430269361, 0.0001153945796241783, 0.012001036280914543, 0.0016155241147384962, 0.04050349744808658, 0.04488849147380536, 0.05446624158261216, 0.039003367912972264, 0.31041141918903964, 0.03334903351138753, 0.08896922089024147, 0.08539198892189194, 0.0006923674777450698, 0.8734508961463432, 0.06895664969576394, 0.02298554989858798, 0.01149277494929399, 0.02298554989858798, 0.01149277494929399, 0.024627207236864956, 0.017996805288478235, 0.0009472002783409598, 0.0004736001391704799, 0.008524802505068638, 0.15912964676128125, 0.016576004870966797, 0.038835211411979355, 0.5403777587935176, 0.023680006958523996, 0.09945602922580078, 0.06961922045806054, 0.022142477342545687, 0.009489633146805294, 0.06959064307657216, 0.012652844195740393, 0.07275385412550725, 0.025305688391480785, 0.6927432197167865, 0.09173312041911784, 0.07035509161308107, 0.3337958235420624, 0.005341775474326525, 0.04325535262137577, 0.027620887818468862, 0.030878067985741137, 0.01928250659025185, 0.09523994809104122, 0.1356289821652174, 0.014852741562761559, 0.13732271585219896, 0.07348198457366245, 0.013028720669089087, 0.03984974225705162, 0.06520866914790265, 0.014490815366200588, 0.013283247419017206, 0.23668331764794295, 0.35864768031346456, 0.042264878151418384, 0.10505841140495427, 0.04468001404578515, 0.061585965306352505, 0.016905951260567355, 0.015551346125848929, 0.7464646140407486, 0.025918910209748215, 0.08812429471314394, 0.062205384503395716, 0.05183782041949643, 0.5235525558624172, 0.04155179014781089, 0.02493107408868653, 0.19944859270949225, 0.13712090748777594, 0.0747932222660596, 0.9902271991707983, 0.9494538201016612, 0.9504052745515168, 0.007305539990575205, 0.06018373420807192, 0.00017394142834702868, 0.007653422847269262, 0.02382997568354293, 0.13828343553588782, 0.010610427129168749, 0.1424580298162165, 0.02783062853552459, 0.09618960987590686, 0.3129206295963046, 0.17081048263678217, 0.001565472855123258, 0.03038968408522308, 0.03038968408522308, 0.1606311873076077, 0.004341383440746154, 0.008682766881492308, 0.017365533762984615, 0.004341383440746154, 0.004341383440746154, 0.7380351849268462, 0.058801857556545316, 0.6468204331219986, 0.029400928778272658, 0.26460835900445395, 0.9226352148512373, 0.018383730421294736, 0.26238597055847945, 0.4044420692684842, 0.07186367346506124, 0.0467949501632957, 0.01002748932070622, 0.013369985760941627, 0.0501374466035311, 0.041781205502942585, 0.03509621262247177, 0.013369985760941627, 0.031753716182236366, 0.018334310392840655, 0.05385703677896942, 0.02291788799105082, 0.013750732794630492, 0.003437683198657623, 0.01604252159373557, 0.021771993591498277, 0.002291788799105082, 0.841086489271565, 0.006875366397315246, 0.08038071407152778, 0.9143306225636284, 0.982535076671579, 0.04360591307321445, 0.1915891545819962, 0.0001384314700736967, 0.012181969366485308, 0.04526709071409881, 0.04277532425277227, 0.0833357449843654, 0.020487857570907108, 0.1002243843333564, 0.10728438930711492, 0.044298070423582935, 0.16071893675556184, 0.09537928288077702, 0.05301925303822583, 0.01944695640571538, 0.2152129842232502, 0.015125410537778628, 0.047104849960510585, 0.032843748596319305, 0.07649136186248048, 0.011668173843429226, 0.1279177576909278, 0.15038979620419893, 0.020743420166096403, 0.15643996041931038, 0.05142639582844733, 0.07476274351530579, 0.9863498175445429, 0.01262080544557363, 0.018931208168360445, 0.10254404424528575, 0.004732802042090111, 0.02524161089114726, 0.006310402722786815, 0.8266627566850728, 0.013710820863965035, 0.04487177737297648, 0.10719369039099937, 0.0037393147810813733, 0.01121794434324412, 0.007478629562162747, 0.03614670955045327, 0.03863958607117419, 0.0012464382603604577, 0.737891450133391, 0.006892058416749733, 0.41352350500498397, 0.08978820548487847, 0.03522607635227641, 0.016272915706214648, 0.1690468772775004, 0.00019144606713193704, 0.12367415936723132, 0.022399189854436632, 0.03426884601661673, 0.0377148752249916, 0.021824851653040822, 0.029291248271186367, 0.9462427730453704, 0.9649769986578923, 0.3602135395984095, 0.024921750704773683, 0.028482000805455637, 0.005445088389278283, 0.09424191442981644, 0.09989642929560542, 0.015916412214813443, 0.029947986141030558, 0.1836670198998867, 0.0651316341948287, 0.04921522198001525, 0.04251357473167275, 0.0002094264765107032, 0.27533996743496175, 0.12299767252763598, 0.017481902694283288, 0.0031217683382648727, 0.32653696818250566, 0.07741985478896884, 0.003746122005917847, 0.011862719685406517, 0.08241468413019264, 0.024974146706118982, 0.0062435366765297455, 0.04745087874162607, 0.0334670724428024, 0.04016048693136288, 0.02008024346568144, 0.5773069996383413, 0.026773657954241917, 0.0334670724428024, 0.14558176512619042, 0.015060182599261078, 0.09538115646198683, 0.011713475354980839, 0.0016733536221401198, 0.9159005409819827, 0.0424559125769845, 0.0424559125769845, 0.38210321319286045, 0.5519268635007984, 0.9285708591316258, 0.9474874223117581, 0.016478537465380708, 0.28248921369224067, 0.023540767807686724, 0.011770383903843362, 0.395484899169137, 0.023540767807686724, 0.08003861054613486, 0.025894844588455396, 0.07297638020382885, 0.011770383903843362, 0.05414376595767947, 0.9474424585895179, 0.001164701948599196, 0.061729203275757386, 0.002329403897198392, 0.6126332249631771, 0.012811721434591155, 0.03610576040657507, 0.08735264614493969, 0.0069882116915951755, 0.15839946500949065, 0.016305827280388742, 0.004658807794396784, 0.1190987534736965, 0.1190987534736965, 0.8336912743158755, 0.9350620159955556, 0.09048878823824164, 0.09201925400125628, 9.565411018841609e-05, 0.004447916123761349, 0.015161176464863951, 0.048257498590055924, 0.23808308025896766, 0.022670024114654616, 0.10488473182159826, 0.1645250695240757, 9.565411018841609e-05, 0.06011860825341952, 0.10670215991517816, 0.047922709204396466, 0.004495743178855556, 0.9989149869608402, 0.075106834856025, 0.24624747658837412, 6.772482854465735e-05, 0.002708993141786294, 0.024042314133353358, 0.015373536079637219, 0.08072799562523156, 0.025125911390067878, 0.1645036085349727, 0.15359991113928287, 6.772482854465735e-05, 0.010023274624609288, 0.10747930290037122, 0.08831317642223319, 0.006704758025921078, 0.9816262628473378, 0.9476438023881463, 0.01685259377126485, 0.04312281347353065, 0.001239161306710651, 0.01462210341918568, 0.001239161306710651, 0.07335834935727054, 0.027509381008976447, 0.1486993568052781, 0.1529125052480943, 0.05947974272211124, 0.16381712474714805, 0.2949203909971349, 0.002478322613421302, 0.05932599141130008, 0.6130352445834342, 0.00988766523521668, 0.26696696135085035, 0.02966299570565004, 0.01977533047043336, 0.8094715910035878, 0.9962798813042602, 0.001350185743778143, 0.7740117432227124, 0.0002131872227018121, 0.045906315288456866, 0.08300089203857217, 0.003979494823767159, 0.0002131872227018121, 0.0006395616681054362, 0.0005684992605381656, 0.0017054977816144967, 0.0002131872227018121, 0.006111367050785279, 0.0004263744454036242, 0.013857169475617786, 0.06786459922674351, 0.018415704975167427, 0.09514780903836505, 0.0030692841625279046, 0.09821709320089295, 0.04910854660044647, 0.4020762252911555, 0.11663279817606037, 0.0675242515756139, 0.012277136650111618, 0.018415704975167427, 0.11663279817606037, 0.004082591565274265, 0.05307369034856544, 0.012247774695822793, 0.19188180356789045, 0.5184891287898316, 0.1714688457415191, 0.024495549391645586, 0.004082591565274265, 0.012247774695822793, 0.012247774695822793, 0.9523338013306075, 0.00340532816366933, 0.05720951314964474, 0.07696041649892685, 0.03677754416762876, 0.04426926612770129, 0.03337221600395943, 0.09875451674641056, 0.055847381884177004, 0.563922343903641, 0.026561559676620772, 0.002043196898201598, 0.0009692608914667714, 0.010661869806134486, 0.01841595693786866, 0.015508174263468342, 0.008723348023200943, 0.0203544787208022, 0.0029077826744003145, 0.07366382775147463, 0.8199947141808887, 0.029077826744003145, 0.004990264759043815, 0.05156606917678609, 0.003326843172695877, 0.014970794277131447, 0.04158553965869846, 0.01996105903617526, 0.03992211807235052, 0.04158553965869846, 0.016634215863479386, 0.7285786548203971, 0.03825869648600259, 0.9500959614365992, 0.9722659857643478, 0.032408866192144926, 0.05424032003878698, 0.9220854406593787, 0.02040141560713916, 0.0971107382899824, 0.0032642264971422656, 0.11914426714569269, 0.031010151722851525, 0.07752537930712881, 0.022033528855710294, 0.0628363600699886, 0.47249678546134294, 0.08650200217427004, 0.004080283121427832, 0.004080283121427832, 0.9859650555470008, 0.9891002720262628, 0.03410124525109738, 0.05646872869536555, 0.12063773857646277, 0.0007333601129268254, 0.017967322766707223, 0.00806696124219508, 0.02053408316195111, 0.04950180762256071, 0.004400160677560952, 0.07920289219609714, 0.5991552122612164, 0.008800321355121904, 0.9695398596094598, 0.3752064717814398, 0.007146789938694092, 0.001786697484673523, 0.003573394969347046, 0.17330965601333173, 0.10362845411106433, 0.01965367233140875, 0.06432110944824683, 0.07682799184096148, 0.0696812019022674, 0.005360092454020569, 0.10005505914171728, 0.9722136738687359, 0.9397431649031417, 0.03240493672079799, 0.04454571306418157, 0.7424285510696929, 0.207879994299514, 0.07473713200329794, 0.06477218106952488, 0.0007117822095552186, 0.002491237733443265, 0.0384362393159818, 0.03167430832520723, 0.018506337448435682, 0.06406039885996967, 0.11957941120527672, 0.12527366888171848, 0.43596660335257137, 0.023844704020099822, 0.9884629969413707, 0.012437408249203983, 0.033061464966238435, 0.00015743554745827827, 0.00031487109491655654, 0.010233310584788088, 0.001731791022041061, 0.08973826205121861, 0.007871777372913913, 0.056204490442605344, 0.06722497876468482, 0.00015743554745827827, 0.5348085547157713, 0.13980276614295112, 0.039673757959486126, 0.006612292993247688, 0.025503295526272764, 0.00588537589067833, 0.027465087489832205, 0.007847167854237773, 0.019617919635594432, 0.02354150356271332, 0.8396469604034417, 0.04904479908898608, 0.0019617919635594432, 0.09490717375583665, 0.9016181506804481, 0.9838162197022143, 0.017452900161103686, 0.006981160064441474, 0.4712283043497995, 0.003490580032220737, 0.19198190177214056, 0.06283044057997327, 0.14311378132105024, 0.0942456608699599, 0.006981160064441474, 1.000299267008871, 0.100826016921611, 0.024525247359310786, 0.03270032981241438, 0.051775522202989435, 0.040875412265517976, 0.08720087949977168, 0.6567316237326555, 0.2757658323526523, 0.5625622979994106, 0.005515316647053046, 0.14339823282337918, 0.011030633294106092, 0.9971758830532735, 0.9899552666651991, 0.018737435105889846, 0.14139225456341015, 0.00010768640865453934, 0.036936438168506995, 0.010768640865453934, 0.0227218322261078, 0.15926819840006368, 0.011522445726035708, 0.06935004717352333, 0.15431462360195486, 0.00010768640865453934, 0.06579639568792353, 0.2561859661891491, 0.041459267331997646, 0.01141475931738117, 0.9928674536005156, 0.03428240191713535, 0.9599072536797899, 0.9888850143187032, 0.9897632611172135, 0.002342346879849867, 0.2389193817446864, 0.032792856317898134, 0.002342346879849867, 0.070270406395496, 0.011711734399249333, 0.13585611903129227, 0.2178382598260376, 0.13585611903129227, 0.011711734399249333, 0.140540812790992, 0.014241931219775362, 0.010681448414831521, 0.0035604828049438405, 0.5946006284256213, 0.0035604828049438405, 0.0712096560988768, 0.032044345244494565, 0.22431041671146196, 0.0178024140247192, 0.028483862439550724, 0.8927392550195518, 0.9750824963794372, 0.8941142614624452, 0.9616712793264051, 1.0055910941417496, 0.9499094195249101, 0.036534977674035005, 0.9375070638093903, 0.9836831792571787, 0.0008006257530875796, 0.0864675813334586, 0.011208760543226115, 0.029623152864240446, 0.0744581950371449, 0.4443472929636067, 0.011208760543226115, 0.20496019279042038, 0.012810012049401274, 0.0352275331358535, 0.0056043802716130575, 0.08166382681493312, 0.9931468749319096, 0.9894549279233508, 0.8806389459186402, 0.11741852612248536, 0.004861603498506997, 0.8945350437252874, 0.038892827988055975, 0.012154008746267491, 0.009723206997013994, 0.012154008746267491, 0.009723206997013994, 0.01701561224477449, 0.999771288734836, 0.005485397893954854, 0.9050906525025508, 0.08776636630327767, 0.967098821824803, 1.0218921064851172, 1.0324055521452826, 0.9912255448511904, 0.998204724813034, 0.99782209677573, 0.037017983252625834, 0.03331618492736325, 0.07403596650525167, 0.0037017983252625834, 0.03331618492736325, 0.0037017983252625834, 0.1517737313357659, 0.007403596650525167, 0.0037017983252625834, 0.007403596650525167, 0.6478147069209521, 0.0074435285751805105, 0.08311940242284903, 0.006202940479317092, 0.0012405880958634183, 0.01612764524622444, 0.1079311643401174, 0.6202940479317092, 0.027292938108995204, 0.012405880958634184, 0.11785586910702474, 0.9678473962090258, 0.03508416948190926, 0.003422845803113099, 0.006845691606226198, 0.06845691606226198, 0.009412825958561022, 0.03422845803113099, 0.23189780316091246, 0.5904409010370095, 0.019681363367900318, 0.0008557114507782747, 0.01177470230585782, 0.7653556498807583, 0.09419761844686256, 0.08242291614100473, 0.01177470230585782, 0.02354940461171564, 0.01177470230585782, 0.0158609029025403, 0.03202106812399645, 0.0017955739134951282, 0.031422543486164745, 0.10893148408537111, 0.037108527545565984, 0.0891801710369247, 0.175068456565775, 0.039203363777976966, 0.3905373261851904, 0.07780820291812222, 0.0008977869567475641, 1.0151920829200636, 0.9804331627307333, 0.5068048068643057, 0.45345693245753677, 0.013336968601692258, 0.026673937203384516, 0.8948530010208623, 0.0032959594881063065, 0.006591918976212613, 0.00988787846431892, 0.013183837952425226, 0.02636767590485045, 0.00988787846431892, 0.008239898720265766, 0.021423736672690992, 0.0016479797440531532, 0.0032959594881063065, 0.0018146328342125335, 0.3070762007228543, 0.005847150243573719, 0.013710559191828032, 0.002016258704680593, 0.04919671239420647, 0.0006048776114041779, 0.06331052332697061, 0.0901267640992225, 0.03790566364799515, 0.326432284287788, 0.039115418870803505, 0.0629072715860345, 0.038949391814805195, 0.9542600994627272, 0.020649520515893492, 0.08259808206357397, 0.8879293821834202, 0.9226092437332959, 0.8719921110311173, 1.0079197869518195, 0.23794400527478043, 0.7138320158243413, 0.9916582647938432, 0.8137694395263487, 0.0918338097431613, 0.2782218203619115, 8.243609492204785e-05, 0.0003297443796881914, 0.0024730828476614355, 0.015827730225033188, 0.10996975062601183, 0.05028601790244919, 0.14113059450654591, 0.1459118880120247, 0.02456595628677026, 0.10683717901897401, 0.014920933180890661, 0.01755888821839619, 0.9734962577022338, 0.00924497108920542, 0.9799669354557745, 0.059651673169454904, 0.22004839435843362, 0.2359555072036216, 0.04639574579846492, 0.031814225690375945, 0.03115142932182645, 0.026511854741979955, 0.06893082232914789, 0.11333817902196432, 0.04374456032426693, 0.07820997148884087, 0.037779393007321437, 0.006627963685494989, 0.0013001689024634945, 0.9608248189205224, 0.002600337804926989, 0.007801013414780967, 0.0013001689024634945, 0.0013001689024634945, 0.006500844512317473, 0.0013001689024634945, 0.016902195732025428, 0.06520927027483796, 0.007139701124982258, 0.008091661274979893, 0.007853671237480484, 0.14493593283713985, 0.01856322292495387, 0.0009519601499976344, 0.32152454066170105, 0.04474212704988882, 0.24679566888688673, 0.07330093154981786, 0.060687459562349194, 0.9698397735247726, 0.9131434717301881, 0.05379789018188826, 0.612371296836025, 0.0033623681363680164, 0.037826641534140185, 0.014710360596610073, 0.03068160924435815, 0.006724736272736033, 0.032783089329588164, 0.060102330437578295, 0.03698604950004818, 0.03446427339777217, 0.0609429224716703, 0.015130656613656075, 0.9604757394389709, 0.04262217318406194, 0.002386841698307469, 0.00017048869273624776, 0.0020458643128349733, 0.000681954770944991, 0.06427423716156541, 0.05660224598843426, 0.16827233973067654, 0.31779092326036584, 0.19043586978638877, 0.011081765027856105, 0.04875976612256686, 0.09393926969767252, 0.0010229321564174867, 1.0038954789697954, 0.995688419941169, 0.9371202076350184, 0.05417123224989843, 0.03611415483326562, 0.8667397159983748, 0.05417123224989843, 0.9899822950164613, 0.00676103904445364, 0.010141558566680461, 0.040566234266721846, 0.6051129944786008, 0.023663636655587742, 0.09465454662235097, 0.09465454662235097, 0.10141558566680461, 0.020283117133360923, 0.015397598656574111, 0.7544823341721314, 0.007698799328287056, 0.08468679261115761, 0.0692891939545835, 0.061590394626296445, 0.007698799328287056, 1.0043552052185256, 0.9957161129587568, 0.07688011452715714, 0.23886472792623709, 0.00017879096401664452, 0.004290983136399468, 0.05649794462925967, 0.038261266299561926, 0.020739751825930765, 0.11156556154638618, 0.06865573018239149, 0.23904351889025371, 0.059894972945575914, 0.08456812597987286, 0.0005363728920499335, 0.12199333273169956, 0.03698994627005348, 0.004654364100205405, 0.019352355995590893, 0.14844971814339344, 0.060261766771080506, 0.014697991895385489, 0.19156382770319086, 0.16290274350718917, 0.11929870088421222, 0.04335907609138719, 0.07446982560328648, 0.0022046987843078233, 0.9090446505746391, 0.06992651158266455, 0.9898330923938283, 1.0087071951651034, 0.9474454059520198, 0.9979144218583956, 1.0025839080159973, 0.9883365245124427, 0.027731985916495283, 0.004893879867616815, 0.0032625865784112096, 0.0007529045950179714, 0.0007529045950179714, 0.004140975272598843, 0.018571646677109963, 0.0006274204958483095, 0.854797683543737, 0.02886134280902224, 0.03174747708992446, 0.023214558346387453, 0.0002509681983393238, 0.028601867080828017, 0.9295606801269106, 0.014300933540414009, 0.028601867080828017, 0.020006499583614334, 0.010003249791807167, 0.8602794820954164, 0.04001299916722867, 0.07002274854265017, 0.0018848271449765862, 0.004712067862441466, 0.0037696542899531725, 0.00848172215239464, 0.0028272407174648796, 0.961261843938059, 0.0028272407174648796, 0.007539308579906345, 0.005654481434929759, 0.006741131677945609, 0.0011235219463242682, 0.0022470438926485365, 0.0033705658389728047, 0.012358741409566951, 0.8887058595424961, 0.04494087785297073, 0.014605785302215487, 0.026964526711782438, 0.01127469378831617, 0.9583489720068745, 0.018791156313860285, 0.007516462525544113, 0.00723077561716435, 0.05844876957207849, 0.028320537833893704, 0.013858986599565004, 0.040371830529167624, 0.08917956594502699, 0.18378221360292724, 0.09641034156219133, 0.1156924098746296, 0.10364111717935569, 0.18016682579434506, 0.07833340251928046, 0.003615387808582175, 0.0242483166419689, 0.12105648155608902, 9.255082687774389e-05, 0.00018510165375548778, 0.0046275413438871945, 0.0016659148837993901, 0.0013882624031661584, 9.255082687774389e-05, 0.024063214988213413, 0.41925524575617984, 0.011291200879084756, 0.3641875037639222, 0.027487595582689938, 0.00037020330751097555, 0.07751098214217013, 0.9042947916586515, 0.9490799130963393, 0.9879460481756939, 0.007717647207942647, 0.004630588324765588, 0.0007717647207942647, 0.04630588324765588, 0.002315294162382794, 0.07794823680022074, 0.08335058984578059, 0.1790494152242694, 0.5294305984648656, 0.0679152954298953, 0.9519251327558851, 0.15210785860203385, 0.021557407116046423, 0.00015075109871361136, 0.0003015021974272227, 0.0384415301719709, 0.03467275270413061, 0.14381654817278522, 0.022914167004468924, 0.04221030763981118, 0.07989808231821402, 0.07416954056709679, 0.3280343908008183, 0.05999893728801732, 0.0016582620858497249, 0.010238626584078835, 0.023890128696183947, 0.0011376251760087594, 0.022752503520175188, 0.007963376232061316, 0.8896228876388499, 0.02047725316815767, 0.006825751056052556, 0.01592675246412263, 0.9643115447137758, 0.025783731142079568, 0.010313492456831826, 0.9956886534305438, 0.9708651148490602, 0.9899072432865957, 0.9551427615328132, 0.07805595839981805, 0.23132832942096437, 6.310101729977207e-05, 0.02637622523130472, 0.04505412635203725, 0.02505110386800951, 0.06745498749345634, 0.020570931639725693, 0.10588350702901753, 0.11635827590077968, 0.00012620203459954413, 0.023094972331716576, 0.11093158841299929, 0.13535168210801107, 0.014323930927048258, 0.9891274803543697, 0.07699706516919723, 0.13144229384888692, 9.435914849166327e-05, 0.005378471464024806, 0.01622977354056608, 0.03123287815074054, 0.08209245918774705, 0.020381576074199267, 0.1212515058117873, 0.1335181951157035, 9.435914849166327e-05, 0.05633241164952297, 0.20400447903897598, 0.1191756045449707, 0.001792823821341602, 0.050714865120664095, 0.9255462884521197, 0.025357432560332047, 0.07727228382686879, 0.014527354913353479, 0.0001241654266098588, 0.0006622156085859135, 0.02979970238636611, 0.00310413566524647, 0.0509078249100421, 0.023136157824970353, 0.0644004679349801, 0.1803709763885882, 0.00020694237768309798, 0.0515286520430914, 0.23148574367631342, 0.2676592712953189, 0.0048010631622478735, 0.9891157005128153, 0.9903333953998327, 0.9479601160655595, 0.04608701779328861, 0.22838677706451913, 0.23145924491740502, 0.006144935705771815, 0.02457974282308726, 0.004096623803847877, 0.07988416417503359, 0.04608701779328861, 0.010241559509619691, 0.018434807117315443, 0.29700522577897104, 0.007169091656733784, 0.03949640794260336, 0.09340515415952717, 0.00011001784942229349, 0.008141320857249718, 0.030144890741708414, 0.022003569884458698, 0.11782911673127633, 0.025084069668282916, 0.1754784698285581, 0.1333416334998197, 0.00011001784942229349, 0.03146510493477594, 0.15776559607156887, 0.1637065599403727, 0.001980321289601283, 0.9883351264162505, 0.010403527646486848, 0.04115622018425247, 0.18817813927619048, 0.006942013043126922, 0.01685917453330824, 0.15619529347035574, 0.055288175307760846, 0.03867692981170714, 0.0428917234450342, 0.17330239704091852, 0.07512249828812348, 0.16239351940171906, 0.03942071692347074, 0.003223077484308928, 0.9895094092086159, 0.9901706380293208, 0.027047361773500155, 0.10212710738614714, 0.022384023536689786, 0.030778032362948453, 0.10352610885719025, 0.019119686770922524, 0.004663338236810372, 0.05735906031276757, 0.10865578091768166, 0.514832541343865, 0.006528673531534521, 0.0027980029420862232, 0.02015751712006115, 0.04636228937614064, 0.007055130992021401, 0.012094510272036688, 0.6127885204498589, 0.006047255136018344, 0.008063006848024459, 0.05644104793617121, 0.07458281334422624, 0.13606324056041275, 0.017133889552051976, 0.0020157517120061147, 0.9418956806010409, 0.047094784030052045, 0.011773696007513011, 0.9774503952323149, 0.02247012402832908, 0.992034750691561, 0.8135996113654012, 0.09039995681837791, 0.09039995681837791, 0.03391518247780185, 0.29845360580465624, 0.04748125546892259, 0.01356607299112074, 0.04069821897336222, 0.04748125546892259, 0.00678303649556037, 0.18314198538012996, 0.04069821897336222, 0.2848875328135355, 0.709420863329443, 0.023647362110981434, 0.1418841726658886, 0.023647362110981434, 0.09458944844392574, 0.8329885541333188, 0.12494828311999782, 0.041649427706665944, 0.0632037822795237, 0.5332819129834812, 0.04952988707481905, 0.0021270503651762782, 0.019143453286586502, 0.006077286757646509, 0.05499944515670091, 0.033728941504938124, 0.0012154573515293018, 0.007900472784940462, 0.2041968350569227, 0.02461301136846836, 0.006529262040898407, 0.05424310003207908, 0.006529262040898407, 0.011049520376904997, 0.48768564936248876, 0.024610295384924766, 0.10095243617081384, 0.12606498248196155, 0.03867332131916749, 0.11551771303127951, 0.027623800942262494, 0.2377466810925175, 0.7132400432775525, 0.044461477288813445, 0.11109278708876127, 0.00012181226654469438, 0.005359739727966552, 0.007308735992681663, 0.045192350888081614, 0.19770130860203897, 0.02497151464166235, 0.13472436679843197, 0.16603011930041844, 0.05676451620982758, 0.13021731293627828, 0.07296554766027193, 0.002923494397072665, 0.10121858515413457, 0.2734946619063737, 0.0010224099510518644, 0.0010224099510518644, 0.15336149265777965, 0.0010224099510518644, 0.14824944290252032, 0.01635855921682983, 0.10070738017860864, 0.19630271060195795, 0.005623254730785254, 0.0020448199021037288, 0.9894286523065563, 0.9843406563993188, 1.0328062868859316, 0.1938918878230666, 0.7755675512922664, 0.0616632365507105, 0.9372811955707996, 0.9925815797583538, 0.7909266265341618, 0.19773165663354045, 0.07360700394275524, 0.18515241960930942, 0.14299862880508835, 0.003566859221895628, 0.02691357412884883, 0.012321877312003078, 0.1125181954543439, 0.0758768234475979, 0.006485198585264778, 0.036317112077482755, 0.32199010975839626, 0.0025940794341059114, 0.8944263395510746, 0.056902002264117645, 0.06651211820205752, 0.00012644889392026144, 0.0006322444696013072, 0.05209694429514771, 0.04526870402345359, 0.10052687066660784, 0.03452054804023137, 0.09268703924355162, 0.1537618550070379, 0.00012644889392026144, 0.024278187632690195, 0.1819599583512562, 0.17652265591268496, 0.013909378331228758, 0.9846458748995442, 0.3124830853914143, 0.06944068564253651, 0.034720342821268256, 0.5555254851402921, 0.021174720220302444, 0.021174720220302444, 0.8893382492527027, 0.06352416066090733, 0.07799262026878499, 0.009749077533598124, 0.019498155067196248, 0.05849446520158875, 0.8286715903558406, 0.03206813876942482, 0.393131627136282, 0.00016967269190171862, 0.013573815352137489, 0.024432867633847482, 0.05242886179763105, 0.01747628726587702, 0.022905813406732013, 0.05225918910572933, 0.07363794828534588, 0.2553574013120865, 0.02952304839089904, 0.03308617492083513, 0.045707741306661304, 0.16499020168436773, 0.00014744432679568163, 0.00014744432679568163, 0.05337484630003675, 0.026539978823222694, 0.06413828215612151, 0.022264093346147925, 0.11972479335809348, 0.15334209986750888, 0.00014744432679568163, 0.015923987293933614, 0.17354197263851728, 0.1573230966909923, 0.0028014422091179507, 0.04117295082988903, 0.03854489013861952, 0.00010950252880289636, 0.0005475126440144818, 0.003394578392889787, 0.09176311913682715, 0.06657753751216099, 0.014344831273179422, 0.09198212419443294, 0.15713612883215627, 0.00021900505760579273, 0.1560411035441273, 0.23291187876376054, 0.10293237707472258, 0.00240905563366372, 0.061075776330031285, 0.04168895472646527, 0.00014576557596666177, 0.0016034213356332797, 0.002186483639499927, 0.1021816687526299, 0.034109144776198856, 0.0039356705510998685, 0.13701964140866207, 0.16384050738652783, 0.00014576557596666177, 0.10597157372776311, 0.2222925033491592, 0.12346344284376252, 0.00029153115193332355, 0.04300570516078164, 0.02727191058976397, 0.006293517828407071, 0.4499865247311055, 0.01048919638067845, 0.0209783927613569, 0.007342437466474915, 0.061886258646002855, 0.2821593826402503, 0.06608193719827424, 0.02727191058976397, 0.035972652088163165, 0.09751331025692661, 8.065617060126271e-05, 0.03790840018259347, 0.014195486025822237, 0.0910608166088256, 0.0850116038137309, 0.02621325544541038, 0.06081475263335208, 0.14872997858872844, 8.065617060126271e-05, 0.15332738031300042, 0.2056732350332199, 0.03282706143471392, 0.010565958348765414, 0.05107148550776573, 0.030323694520235905, 0.007979919610588396, 0.0007979919610588396, 0.2617413632272994, 0.03910160609188314, 0.01755582314329447, 0.08698112375541352, 0.20907389379741598, 0.07740522022270745, 0.1532144565232972, 0.06463734884576601, 0.05586822459581302, 0.05494654068750646, 7.089876217742768e-05, 0.0009925826704839877, 0.0017015702922582646, 0.07919391735218673, 0.08486581832638095, 0.02212041379935744, 0.11889722417154623, 0.15221964239493724, 7.089876217742768e-05, 0.10812061232057722, 0.21007303233171823, 0.1093258912775935, 0.0014179752435485536, 0.9501553144568416, 0.07915175038064548, 0.05816369809353497, 0.00011163857599526867, 0.0011163857599526866, 0.012168604783484284, 0.02846783687879351, 0.03438468140654275, 0.024002293838982763, 0.06888100138908076, 0.35322445444903006, 0.00011163857599526867, 0.0723417972449341, 0.18855755485600878, 0.07859355750066914, 0.000669831455971612, 0.9404312644246339, 0.02259176432237573, 0.1315638039950116, 9.492337950578037e-05, 0.004746168975289019, 0.003986781939242776, 0.09748631075243645, 0.062459583714803486, 0.015472510859442202, 0.2631276079900232, 0.1784559534708671, 0.10289694338426593, 0.08068487257991332, 0.009587261330083818, 0.026958239779641627, 0.9618011723916838, 0.10120406525436818, 0.05681404686274633, 0.00012941696324088003, 0.00025883392648176005, 0.012035777581401843, 0.04115459431059985, 0.0926625456804701, 0.003623674970744641, 0.11233392409308386, 0.2686696156880669, 0.024330389089285444, 0.19283127522891125, 0.09110954212157954, 0.0028471731912993606, 0.011452110488878241, 0.011452110488878241, 0.022904220977756483, 0.011452110488878241, 0.06871266293326946, 0.8703603971547463, 0.011452110488878241, 0.9891702742520392, 0.05447299950263537, 0.0068091249378294215, 0.011915968641201488, 0.03915246839251917, 0.051068437033720666, 0.6468668690937951, 0.023831937282402977, 0.010213687406744132, 0.032343343454689755, 0.1225642488809296, 0.9872864340933409, 0.9810323395787216, 0.028013239467832986, 0.16107612694003967, 0.07003309866958246, 0.48322838082011904, 0.09104302827045721, 0.014006619733916493, 0.04201985920174948, 0.07703640853654072, 0.02100992960087474, 0.007003309866958247, 0.015326586589894652, 0.012589696127413464, 0.0005473780924962376, 0.008210671387443564, 0.24960441017828433, 0.11248619800797682, 0.01778978800612772, 0.12288638176540534, 0.01778978800612772, 0.39657542801352413, 0.04597975976968396, 0.03498188745714418, 0.004115516171428727, 0.037039645542858546, 0.07819480725714581, 0.7634282498000289, 0.010288790428571818, 0.010288790428571818, 0.06173274257143091, 0.8086550889293681, 0.9683172955209114, 0.14370696714131143, 0.7903883192772129, 0.07185348357065571, 0.0044623679120233345, 0.1294086694486767, 0.08478499032844336, 0.02677420747214001, 0.013387103736070004, 0.017849471648093338, 0.04462367912023335, 0.013387103736070004, 0.6648928188914769, 0.9277087179549446, 0.046385435897747226, 0.15660083810571748, 0.011780980481347554, 7.183524683748508e-05, 0.00014367049367497016, 0.001867716417774612, 0.04029957347582913, 0.052224224450851654, 0.004741126291274015, 0.13979139034574597, 0.22865159068371502, 7.183524683748508e-05, 0.028877769228669, 0.13785183868113388, 0.19675674108787164, 0.00014367049367497016, 1.003941883593524, 0.07641355517790016, 0.2671410886631745, 8.7529845564605e-05, 0.003588723668148805, 0.035011938225842, 0.03431169946132516, 0.051730138728681554, 0.05032966119964787, 0.041401616952058164, 0.12280437332714082, 8.7529845564605e-05, 0.04096396772423514, 0.16744459456508937, 0.09637035996663011, 0.012341708224609305, 0.9664499686134725, 0.9963193863344922, 0.9323469222240377, 0.9814108808213774, 1.0263547148747008, 0.9601597094347111, 0.004867334247073335, 0.05145467632620383, 0.00023177782128920644, 0.003708445140627303, 0.0006953334638676194, 0.047282675542998115, 0.11681602192976005, 0.11241224332526513, 0.11612068846589242, 0.107776686899481, 0.1399938040586807, 0.21717581854798643, 0.08135401527251146, 0.0006953334638676194, 1.0096064164945595, 0.9691621013514585, 0.004699431125054183, 0.0798903291259211, 0.45302516045522323, 0.0037595449000433464, 0.009398862250108365, 0.08552964647598613, 0.09210885005106198, 0.0742510117758561, 0.047934197475552665, 0.1080869158762462, 0.040415107675465974, 0.0009398862250108366, 0.8081076056344206, 0.941854860195768, 0.11091142642872369, 0.32694321729329784, 0.00012589265201898262, 0.0007553559121138957, 0.05199366528383982, 0.012211587245841314, 0.051741879979801855, 0.028577632008309053, 0.08522932541685123, 0.07830522955580718, 0.00012589265201898262, 0.011204446029689452, 0.02354192592754975, 0.21678714677668806, 0.0015107118242277914, 0.9696898405441114, 0.05857240058839482, 0.04100068041187637, 0.01269068679415221, 0.020500340205938185, 0.031238613647143903, 0.001952413352946494, 0.12983548797094185, 0.0165955135000452, 0.007809653411785976, 0.004881033382366235, 0.6726064000900672, 0.001952413352946494, 0.021572422352042583, 0.2315862987792807, 0.3026483959389504, 0.021995411025612047, 0.0006344830103541937, 0.11314947017983121, 0.0004229886735694624, 0.049066686134057645, 0.06683221042397507, 0.006133335766757206, 0.1626391449874583, 0.01734253561634796, 0.005498852756403012, 0.9948719082800708, 0.9944963659298105, 0.043737753067925794, 0.014579251022641931, 0.019439001363522574, 0.0048597503408806435, 0.0048597503408806435, 0.8164380572679482, 0.009719500681761287, 0.08747550613585159, 0.714601104650897, 0.06252759665695348, 0.17865027616272425, 0.008932513808136212, 0.008932513808136212, 0.017865027616272424, 0.9984824933973018, 1.0104070627073132, 0.06944563534227309, 0.4373597459853794, 0.01034296696587046, 0.025857417414676148, 0.016992017158215755, 0.011081750320575493, 0.008126616901755361, 0.03398403431643151, 0.1736140883556827, 0.014036883739395625, 0.029551334188201314, 0.07683346888932341, 0.09234791933812911, 0.05589454754177369, 0.21358015138145356, 7.872471484756858e-05, 0.010470387074726622, 0.0028340897345124688, 0.0633733954522927, 0.06880540077677494, 0.024168487458203554, 0.13642993083083635, 0.1430428068780321, 7.872471484756858e-05, 0.05951588442476185, 0.17476886696160224, 0.04329859316616272, 0.0034638874532930174, 1.0139343944566703, 0.06179234540309558, 0.03587942636308776, 0.2092966537846786, 0.027906220504623814, 0.40065359438781334, 0.01793971318154388, 0.009966507323079934, 0.04385263222155171, 0.05381913954463164, 0.07773875712002348, 0.04783923515078368, 0.009966507323079934, 0.0019933014646159866, 0.00960989636910578, 0.00960989636910578, 0.01921979273821156, 0.00960989636910578, 0.00960989636910578, 0.03843958547642312, 0.8937203623268376, 0.05817744178158512, 0.023270976712634048, 0.9192035801490449, 0.9810135078237395, 0.008845813278331987, 0.049485274281683284, 0.000128200192439594, 0.003076804618550256, 0.007179210776617264, 0.006666410006858888, 0.7467661209606351, 0.006794610199298482, 0.029486044261106622, 0.033588450419173625, 0.000128200192439594, 0.04781867177996856, 0.03538325311332795, 0.023588835408885296, 0.001410202116835534, 0.08213256214791244, 0.1803005292866078, 0.00016761747377124988, 0.019220136992436652, 0.021063929203920403, 0.14945891411269782, 0.10090571921029243, 0.010951008286388326, 0.06732635196478537, 0.18041227426912196, 0.00016761747377124988, 0.03251778991162248, 0.01966711692249332, 0.13297652919185823, 0.0026260070890829147, 1.0011559826428864, 0.018797615239492443, 0.12420702727867158, 0.000237944496702436, 0.00237944496702436, 0.02308061618013629, 0.03236045155153129, 0.11944813734462287, 0.010707502351609619, 0.1501429774192371, 0.13134536217974466, 0.000237944496702436, 0.041878231419628736, 0.1739374270894807, 0.16204020225435892, 0.008803946377990132, 0.8080045737273717, 0.05382462529060295, 0.9688432552308531, 0.9751923830055788, 0.0186342493567945, 1.0276083650948775, 0.008677020413116366, 0.06946574627872017, 4.9582973789236375e-05, 0.012643658316255276, 0.010114926653004222, 0.003768306007981965, 0.09440598209470606, 0.03827805576529048, 0.07501903934311464, 0.06262329589580555, 4.9582973789236375e-05, 0.10129801545140991, 0.4819465052313776, 0.03996387687412452, 0.0017354040826232733, 0.010156903474652047, 0.13203974517047662, 0.006771268983101365, 0.0575557863563616, 0.01692817245775341, 0.01692817245775341, 0.7008263397509912, 0.01354253796620273, 0.04739888288170955, 0.1191841906660505, 0.020169632266562394, 0.009168014666619269, 0.10634897013278352, 0.007334411733295416, 0.1393538229326129, 0.5959209533302525, 0.9589150651427854, 0.10804992264118676, 0.33984122842408354, 0.00010531181543975318, 0.00010531181543975318, 0.015480836869643718, 0.016323331393161743, 0.06645175554248425, 0.020957051272510883, 0.1194235987086801, 0.09151596761714552, 0.00010531181543975318, 0.02780231927609484, 0.08530257050620008, 0.10552243907063269, 0.003054042647752842, 0.013905552076138703, 0.04635184025379568, 0.001158796006344892, 0.00579398003172446, 0.44034248241105894, 0.0034763880190346757, 0.004635184025379568, 0.0730041483997282, 0.001158796006344892, 0.0034763880190346757, 0.002317592012689784, 0.001158796006344892, 0.39862582618264286, 0.002317592012689784, 0.869891740201429, 0.9461963173261877, 0.03052246184923186, 0.8700009173250665, 0.007224245053202119, 0.021672735159606358, 0.38649711034631334, 0.0036121225266010594, 0.5815517267827706, 0.9894014138957629, 0.9532621251055603, 0.985775340719542, 0.9908000277794147, 0.0035115232639167746, 0.140460930556671, 0.856811676395693, 0.9110942624305964, 0.9704811959441, 0.18948838866784357, 0.7579535546713743, 0.25762234322222566, 0.7728670296666769, 0.2240880335947584, 0.05086660885279792, 0.04426769743405657, 0.002749546424475563, 0.13500272944175015, 0.042343014936923676, 0.0010998185697902252, 0.11355626733084076, 0.1567241461951071, 0.07781216381265844, 0.11163158483370787, 0.039043559227552996, 0.0010998185697902252, 0.07837141406024097, 0.18420440943414623, 0.00011148138557644517, 0.02329960958547704, 0.03901848495175581, 0.030322936876793088, 0.0646592036343382, 0.02835343239827589, 0.10694780922966973, 0.11876483610077293, 0.00011148138557644517, 0.04685934240396579, 0.1283150747984884, 0.14280765492342626, 0.007803696990351162, 0.9463848142143886, 0.054079132240822204, 0.10110861550768226, 0.04200735644293993, 0.0029096004462642374, 0.0029096004462642374, 0.16766572571597668, 0.03709740568986903, 0.01091100167349089, 0.11456551757165434, 0.14675297250845248, 0.13802417116965976, 0.15748212415405186, 0.07564961160287018, 0.0027277504183727225, 0.03964746112440555, 0.06938305696770972, 0.013876611393541944, 0.035682715011964995, 0.3399769791417776, 0.04162983418062583, 0.018832544034092638, 0.0763213626644807, 0.17048408283494387, 0.06442712432715902, 0.04658576682117652, 0.07334780308015028, 0.00792949222488111, 0.030144192083081427, 0.0022608144062311072, 0.0022608144062311072, 0.4619597436732229, 0.048230707332930285, 0.024115353666465143, 0.17558991888394931, 0.039187449708005855, 0.14393851719671383, 0.07234606099939543, 1.0190343930628183, 0.040733432317419965, 0.12355807802950723, 0.00010444469824979478, 0.00010444469824979478, 0.027155621544946645, 0.018800045684963063, 0.09274689204581776, 0.03968898533492202, 0.12606475078750232, 0.13180920919124103, 0.00010444469824979478, 0.01159336150572722, 0.156249268581693, 0.22810722097755182, 0.0031333409474938435, 0.9880046051350454, 0.03434614797180076, 0.003434614797180076, 0.003434614797180076, 0.680053729841655, 0.2575961097885057, 0.020607688783080457, 0.03482538425626459, 0.17387993274049837, 0.0019759083265965724, 0.0004939770816491431, 0.026180785327404584, 0.10620507255456577, 0.026427773868229153, 0.057054352930476025, 0.3398562321746104, 0.02395788845998344, 0.15436783801535722, 0.05409049044058117, 0.0007409656224737146, 0.9892154731272531, 0.058425690485471644, 0.3726302995783501, 0.02797581922268512, 0.0833565225818781, 0.02017303971159607, 0.025882390573368545, 0.010086519855798035, 0.10181675703494245, 0.08659182140354918, 0.0062802859479497205, 0.038252650773875574, 0.15700714869874302, 0.01122839002815253, 0.8694188396498251, 0.12646092213088364, 0.01794896196878063, 0.10346052606532985, 0.006434533535977962, 0.010667779283331884, 0.05740281233411918, 0.06993321974628679, 0.03369663614893722, 0.05757214216401334, 0.0687479109370277, 0.13529453408543135, 0.3643977939322256, 0.07027187940607511, 0.004063915917459765, 1.0010566100873715, 0.03788658687362802, 0.09799357701913068, 0.000159859016344422, 0.003836616392266128, 0.10262948849311893, 0.03980489506976108, 0.03740700982459475, 0.014547170487342402, 0.10854427209786253, 0.06714078686465724, 0.000159859016344422, 0.04747812785429333, 0.04923657703408198, 0.3878179736515678, 0.0055950655720547705, 0.05104358528871919, 0.005104358528871919, 0.020417434115487677, 0.8473235157927386, 0.06125230234646303, 0.005104358528871919, 0.005104358528871919, 0.9974431704489705, 0.0013126492034848218, 0.37673032140014384, 0.555906937675822, 0.004594272212196876, 0.0485680205289384, 0.0032816230087120545, 0.0019689738052272327, 0.0013126492034848218, 0.0006563246017424109, 0.003937947610454465, 0.0006563246017424109, 0.0013126492034848218, 0.961169279368022, 0.024608249622374057, 0.0014475440954337681, 0.0028950881908675363, 0.0014475440954337681, 0.0028950881908675363, 0.0057901763817350725, 0.6638643364029281, 0.0035500766652563, 0.2520554432331973, 0.0071001533305126, 0.07100153330512599, 0.002366717776837533, 0.9943271581276062, 0.972473625471784, 0.9331551364620598, 0.9333315276489811, 0.033380915913639155, 0.017286545740991706, 0.07749141194237662, 0.14425324376965493, 0.0005960877841721279, 0.025035686935229368, 0.0017882633525163835, 0.050071373870458735, 0.09775839660422896, 0.05484007614383576, 0.05484007614383576, 0.44229713585571884, 0.0955969112051237, 0.17429762415073718, 0.00022231839815145047, 0.004224049564877559, 0.04112890365801834, 0.07403202658443302, 0.029568346954142913, 0.2692275801614065, 0.15606751550231823, 0.026455889380022607, 0.07936766814006782, 0.04979932118592491, 0.00022231839815145047, 0.0023548266110500777, 0.02489388131681511, 0.0003364038015785825, 0.007400883634728816, 0.2711414640723375, 0.10428517848936059, 0.08511016179938138, 0.15609136393246228, 0.01715659388050771, 0.3101643050554531, 0.020857035697872117, 0.9931830193299398, 0.24567775538454792, 0.057218581000528554, 0.00014485716708994572, 0.0013037145038095113, 0.02129400356222202, 0.0028971433417989143, 0.06272315334994649, 0.02100428922804213, 0.12747430703915222, 0.12660516403661257, 0.00014485716708994572, 0.03360686276486741, 0.08908715776031662, 0.2097531779462414, 0.0013037145038095113, 0.9794518388455824, 0.10663302898416135, 0.789084414482794, 0.05331651449208068, 0.031989908695248405, 0.010663302898416136, 0.9286266026519943, 0.019380887822186593, 0.06368005998718453, 0.3488559807993587, 0.011074793041249482, 0.008306094780937112, 0.0027686982603123706, 0.5205152729387257, 0.024918284342811334, 0.9895580535394688, 0.09246321680532099, 0.21928073013094038, 9.463993531762641e-05, 0.006814075342869101, 0.020631505899242557, 0.012871031203197192, 0.08309386320887598, 0.02735094130679403, 0.15795405204511848, 0.10836272593868224, 9.463993531762641e-05, 0.00842295424326875, 0.10419856878470667, 0.15568269359749543, 0.002744558124211166, 0.9876710900132599, 0.015827084384465635, 0.007913542192232817, 0.039567710961164085, 0.011870313288349225, 0.7399161949737684, 0.1820114704213548, 0.9604540916728666, 0.9906543280188586, 0.06194114406855316, 0.06515565453917667, 0.00012363501810090451, 0.00494540072403618, 0.033257819869143314, 0.015825282316915778, 0.08345363721811054, 0.01842161769703477, 0.14675476648577365, 0.1863179722780631, 0.00012363501810090451, 0.013352581954897687, 0.13327854951277507, 0.23404108926501224, 0.0030908754525226126, 0.033150393339607905, 0.9613614068486293, 0.9895052636181958, 0.9708379129295429, 0.9701793447010292, 0.04738738154775671, 0.1536420523412333, 0.00010483933970742634, 0.0017822687750262479, 0.018923500817190454, 0.02086302860177784, 0.08345211440711137, 0.027363067663638274, 0.12192815207973684, 0.17340426787608318, 0.00010483933970742634, 0.026104995587149158, 0.1974124766690838, 0.12171847340032198, 0.005871003023615875, 0.950382529245377, 0.0780528799440124, 0.06167542303652603, 0.00012997981672608226, 0.002404626609432522, 0.006174041294488907, 0.028985499129916343, 0.07265871754987999, 0.022746467927064397, 0.05979071569399784, 0.34470647395757015, 6.498990836304113e-05, 0.09300055886751185, 0.15857537640582037, 0.07012411112372138, 0.0009748486254456169, 0.9339379963281973, 1.0131274528071001, 0.9377542502429589, 0.9470165282046002, 0.9899800165566061, 0.9267417675917986, 0.6464902373781259, 0.013193678313839306, 0.09235574819687514, 0.2506798879629468, 0.08913483472522292, 0.8913483472522292, 0.08913483472522292, 0.9948303776677401, 0.6880721180896441, 0.3089303387341259, 0.9529172917416706, 0.918394849252257, 0.004661112287380491, 0.417169549720554, 0.5756473674914907, 0.9402625620989548, 0.728489980208573, 0.022075453945714335, 0.24282999340285766, 0.9666107441556867, 0.9954124657498633, 0.9715447052736279, 0.9268669220263156, 0.9739091852165042, 0.07489044169060842, 0.8986853002873011, 0.0011689689303186154, 0.7811634876854147, 0.005552602419013423, 0.00029224223257965384, 0.03302337228150088, 0.0005844844651593077, 0.0026301800932168845, 0.0029224223257965382, 0.025425074234429884, 0.12391070661377322, 0.008767266977389615, 0.014319869396403038, 0.051439313941723366, 0.1909489684200337, 0.36241334822577825, 0.06468883419943999, 0.0389691772285783, 0.011690753168573492, 0.02416088988171855, 0.050659930397151796, 0.0966435595268742, 0.010131986079430359, 0.03351349241657734, 0.06235068356572529, 0.0031175341782862646, 0.948041143216715, 0.9515279108894972, 0.9885486178274208, 0.05293158762222869, 0.22458823159338154, 8.2447955797864e-05, 0.007172972154414168, 0.00700807624281844, 0.0792324855217473, 0.08714748927834225, 0.04246069723589996, 0.08640545767616148, 0.1326587608787632, 8.2447955797864e-05, 0.08912624021749098, 0.11559203402860532, 0.07172972154414169, 0.0038750539224996082, 0.015303738912401766, 0.04824928795993334, 0.0017004154347113074, 0.012965667689673718, 0.04484845709051073, 0.06504089037770751, 0.00935228489091219, 0.09075967382771603, 0.23699540121288845, 0.18598293817154923, 0.2548497632773572, 0.029969822036786792, 0.003613382798761528, 0.971856747268334, 0.9823071082996289, 0.962861372974812, 0.9518879723061004, 0.770473042418138, 0.21012901156858307, 0.07592986664552386, 0.025309955548507953, 0.013321029236056818, 0.0013321029236056819, 0.003996308770817045, 0.8685311061909046, 0.0013321029236056819, 0.006660514618028409, 0.0013321029236056819, 0.0013321029236056819, 0.9932770622330358, 0.0074752292382664915, 0.029900916953065966, 0.20930641867146174, 0.014950458476532983, 0.7101467776353166, 0.022425687714799473, 0.0074752292382664915, 0.061074003203643895, 0.08582087203421129, 0.0020622390692139497, 0.005234914560312334, 0.07868235217923993, 0.17640075730507015, 0.054887285996002046, 0.09010398394719411, 0.2791954432166578, 0.049652371435689714, 0.07075066345149397, 0.04584516084637165, 0.0001586337745549192, 0.9512361265916865, 0.016120856076718756, 0.03246254579832407, 0.00011041682244327915, 0.008833345795462333, 0.002097919626422304, 0.014685437384956127, 0.07961052898160427, 0.10423348038645552, 0.0418479757060028, 0.4745715028612138, 0.06404175701710191, 0.14530853833535537, 0.016010439254275477, 0.00011041682244327915, 0.022769000338933854, 0.03699962555076751, 0.06973006353798493, 0.044114938156684345, 0.0014230625211833659, 0.07399925110153502, 0.004269187563550098, 0.007115312605916829, 0.7385694484941668, 0.9432569019793249, 0.015379188619228122, 0.04101116965127499, 0.06144259157082868, 0.44627802344278567, 0.0008192345542777158, 0.005325024602805152, 0.01925201202552632, 0.09974180698331189, 0.02314337615834547, 0.03440785127966406, 0.09011580097054873, 0.038708832689622066, 0.08008017768064672, 0.04505790048527437, 0.05550314105231524, 0.9961874396667574, 0.9263024677868954, 0.9937323249685036, 0.9901057535646287, 0.035312235569887426, 0.9534303603869604, 0.035312235569887426, 0.022411606943156307, 0.016808705207367228, 0.17368995380946137, 0.011205803471578154, 0.7675975378031035, 0.016808705207367228, 0.9853785322476942, 0.011457889909856911, 0.018128692881859455, 0.042300283391005396, 0.0030214488136432426, 0.07855766915472431, 0.01208579525457297, 0.5347964400148539, 0.02417159050914594, 0.1329437478003027, 0.006042897627286485, 0.14502954305487564, 0.018461071871654088, 0.03544525799357585, 0.0007384428748661635, 0.0022153286245984905, 0.07975183048554567, 0.008861314498393962, 0.6010925001410571, 0.014768857497323271, 0.12110463147805083, 0.009599757373260126, 0.002953771499464654, 0.10338200248126289, 0.0022153286245984905, 0.9269336453588202, 0.4588935170497435, 0.02868084481560897, 0.011472337926243588, 0.11472337926243588, 0.05162552066809615, 0.005736168963121794, 0.1835574068198974, 0.060229774112778835, 0.07457019652058332, 0.011472337926243588, 1.0274387498446904, 0.23003473164360905, 0.7625225363741855, 0.0042599024378446124, 0.023713856868293585, 0.5687373338912411, 0.03201370677219634, 0.07469864913512479, 0.013833083173171258, 0.0039523094780489305, 0.05177525416244099, 0.06007510406634375, 0.07667480387414925, 0.07153680155268564, 0.016204468860000616, 0.007509388008292968, 0.026190284060753924, 0.21068628511095377, 0.4056583997854552, 0.006693072593303781, 0.008439091530687375, 0.011349123092993367, 0.013095142030376962, 0.08497292161933495, 0.09428502261871412, 0.021243230404833738, 0.10708916149286049, 0.0017460189373835948, 0.008439091530687375, 0.9970901415034157, 0.8105349629231307, 0.9903744356222343, 0.9367079842315141, 0.042577635646887005, 0.038210181234061114, 0.21195836382667863, 0.031721659892428096, 0.1773529166713025, 0.005767574525896017, 0.057675745258960166, 0.011535149051792034, 0.08218793699401825, 0.09300213923007328, 0.046140596207168136, 0.04758248983864214, 0.14707315041034844, 0.049745330285853144, 0.005588079352588442, 0.15087814251988793, 0.002794039676294221, 0.21793509475094922, 0.009779138867029772, 0.1872006583117128, 0.008382119028882662, 0.06426291255476708, 0.0796301307743853, 0.05727781336403153, 0.03911655546811909, 0.1355109243002697, 0.04330761498256042, 0.04861679493623907, 0.1643890848233142, 0.0001891704083122143, 0.09515271538104378, 0.023646301039026783, 0.03111853216735925, 0.09174764803142392, 0.02307878981409014, 0.10555708783821557, 0.13289221183933053, 9.458520415610714e-05, 0.056089026064571536, 0.11889360162422667, 0.10328704293846899, 0.005296771432742, 0.13832494316446456, 0.0291021308995367, 0.005029997933253256, 0.0010778566999828407, 0.07904282466540832, 0.06610854426561423, 0.012934280399794088, 0.0176049927663864, 0.0574856906657515, 0.05425212056580298, 0.41820839959334216, 0.1210792359647391, 0.037776891922278864, 0.05571828488258122, 0.0001052281112041194, 0.005471861782614209, 0.006681985061461582, 0.07213387023042385, 0.10722744531699767, 0.08891775396748089, 0.07686913523460923, 0.35377690986824945, 5.26140556020597e-05, 0.056875794105826535, 0.07644822278979274, 0.06166367316561397, 0.0003156843336123582, 0.0008718161450214803, 0.006974529160171842, 0.48908885735705043, 0.030513565075751807, 0.020923587480515527, 0.05405260099133177, 0.2423648883159715, 0.13774695091339387, 0.018308139045451085, 0.00273177939421817, 0.11044193836624887, 0.007805083983480485, 0.0007805083983480486, 0.15922371326300191, 0.08819744901332949, 0.1635165094539162, 0.1674190514456564, 0.16117498425887203, 0.04878177489675303, 0.04292796190914267, 0.04644024970170889, 0.001170762597522073, 0.9925765913450704, 0.19085725213727142, 0.023715989910548522, 0.006775997117299577, 0.001129332852883263, 0.020327991351898732, 0.018069325646132207, 0.22247857201800278, 0.10728662102390997, 0.16488259652095638, 0.05985464120281293, 0.1705292607853727, 0.012422661381715891, 0.034422554403489125, 0.19355528742220687, 0.0001272552843012537, 6.362764215062685e-05, 0.020233590203899338, 0.03225921457036782, 0.05898282427363109, 0.06655451368955569, 0.15175192652924505, 0.0699267787235389, 0.0001272552843012537, 0.03092303408520465, 0.1277006777963081, 0.21118014429793053, 0.0022269674752719397, 0.15595781874715975, 0.028164372673012878, 0.0009579718596262884, 0.0003831887438505154, 0.18239784207284532, 0.0398516293604536, 0.006705803017384019, 0.010346096083963915, 0.2258897644998788, 0.19983292991804377, 0.12970938979339944, 0.01973422030830154, 0.8800482891449845, 0.03520193156579938, 0.07040386313159876, 0.023467954377199583, 0.9957817832162813, 0.04804922301961624, 0.177911987937498, 0.3077747528553797, 0.02856980828193398, 0.04869853684420565, 0.03506294652782807, 0.04090677094913275, 0.09350119074087485, 0.0668793239327091, 0.03895882947536452, 0.041556084773722156, 0.05908755803763619, 0.012336962667198765, 0.0005380578919980957, 0.9098558953687798, 0.04519686292784004, 0.0010761157839961914, 0.0010761157839961914, 0.0026902894599904782, 0.03874016822386289, 0.8101190116798251, 0.9442637585256543, 0.015967142272445466, 0.03909196901184924, 0.9923126507039117, 0.810273851317255, 0.911731586601866, 0.004070230297329759, 0.008140460594659518, 0.004070230297329759, 0.016280921189319036, 0.04477253327062735, 0.012210690891989277, 0.009767048803628222, 0.9132190631392387, 0.009767048803628222, 0.004883524401814111, 0.029301146410884667, 0.03418467081269878, 0.9941599106280569, 0.9451394877945145, 0.030488370574016595, 0.010162790191338865, 0.06742790918865975, 0.17830362984305242, 0.00012892525657487523, 0.027590004907023298, 0.05466430878774709, 0.04202963364340932, 0.08057828535929701, 0.03326271619631781, 0.08521959459599253, 0.12595997567365308, 0.00012892525657487523, 0.0406114558210857, 0.13085913542349836, 0.12686245246967723, 0.0064462628287437615, 0.05727655198496918, 0.09440333543878303, 5.566234400871641e-05, 0.014305222410240116, 0.0050096109607844766, 0.04430722583093826, 0.05104236945599294, 0.008405013945316177, 0.07898486614836858, 0.10147245312789001, 0.00011132468801743281, 0.08594265914945813, 0.35501443008759326, 0.10102715437582027, 0.0026717925124183873, 0.003618293684454679, 0.1412943683779552, 0.05083702626658824, 0.015377748158932385, 0.026956287949187356, 0.09606569732227173, 0.005246525842459284, 0.09498020921693531, 0.13242954885104125, 0.046495073845242624, 0.3303502133907122, 0.05065611158236551, 0.005608355210904753, 0.9901900493838357, 0.0141982375048896, 0.3456724746382737, 0.0141982375048896, 0.006553032694564431, 0.09938766253422719, 0.06334598271412283, 0.19058403420024886, 0.02293561443097551, 0.1649179894798715, 0.01474432356276997, 0.0032765163472822153, 0.060615552424720984, 0.0005460860578803692, 0.9976832996352187, 0.978439336935858, 0.05918335951631611, 0.3876950519871262, 8.00857368285739e-05, 0.06615081862040204, 0.03932209678282979, 0.007928487946028816, 0.04628955588691572, 0.018179462260086276, 0.11332131761243207, 0.07704247882908809, 8.00857368285739e-05, 0.013214146576714693, 0.03964243973014408, 0.12773675024157538, 0.004004286841428695, 0.008413039012228169, 0.09168300469007744, 0.00019120543209609475, 0.0029636841974894686, 0.018738132345417286, 0.04818376888821588, 0.013288777530678586, 0.16300263086192077, 0.12925487209696004, 9.560271604804738e-05, 0.044550865678390075, 0.33910283382242407, 0.1384327328375726, 0.002103259753057042, 0.004341798040913219, 0.08973049284553986, 0.0255683662409334, 0.002894532027275479, 0.0009648440090918264, 0.0014472660136377396, 0.017367192163652876, 0.04534766842731584, 0.1432793353501362, 0.6387267340187891, 0.02991016428184662, 0.9494311648350536, 0.9682440707139555, 0.9775608128549682, 0.9964226670811102, 0.9866098664627364, 0.8059783091652726, 0.045614522946377495, 0.17673319214446664, 0.0014773934557531173, 0.030655914206877185, 0.04339843276274782, 0.05004670331363685, 0.018098069832975686, 0.2620526642142092, 0.17285503432311472, 0.01680535055919171, 0.0633432444154149, 0.08938230407306359, 0.029178520751124065, 0.01073174389500435, 0.01073174389500435, 0.9765886944453959, 1.002066283544132, 0.16532776629607096, 0.004662171283837143, 0.0003586285602951648, 0.004303542723541978, 0.00753119976619846, 0.0025103999220661534, 0.003227657042656483, 0.44434078620570916, 0.002151771361770989, 0.027973027703022853, 0.3371108466774549, 0.991789977507524, 0.03976173559682423, 0.9542816543237814, 0.07620720580638937, 0.12276253723458014, 9.443272094967703e-05, 0.00018886544189935405, 0.010954195630162537, 0.036451030286575335, 0.07554617675974162, 0.04938831305668109, 0.2141734111138675, 0.09924878971811056, 9.443272094967703e-05, 0.013881609979602524, 0.11199720704631697, 0.188298845573656, 0.0007554617675974162, 0.03625054137240786, 0.1390594537892367, 0.0071312540404736766, 0.12955111506860514, 0.11172297996742094, 0.20145792664338139, 0.01782813510118419, 0.09092348901603937, 0.110534437627342, 0.06358701519422362, 0.043976066582921004, 0.016045321591065774, 0.03149637201209207, 0.04992663135758429, 0.004894767780155322, 0.0009789535560310644, 0.03132651379299406, 0.4317185182096994, 0.020558024676652353, 0.0009789535560310644, 0.15075884762878392, 0.2604016459042631, 0.04013709579727364, 0.007831628448248515, 0.06890095526393925, 0.21142210930304645, 0.005348475979392545, 0.029888542237781864, 0.04467550523963184, 0.05977708447556373, 0.019820822747160606, 0.09249717282008282, 0.11200337933316151, 0.06732787409352968, 0.15636426833871145, 0.09344102152232857, 0.03838318055799355, 0.938848942271448, 0.9847544120556253, 0.99894590014138, 0.9148309521250605, 0.0609887301416707, 0.10563419790851047, 0.027922415370720922, 0.001177451250572569, 0.000672829286041468, 0.1064752345160623, 0.01345658572082936, 0.00504621964531101, 0.18216852919572746, 0.09285044147372258, 0.000168207321510367, 0.2191741399280082, 0.16063799204240048, 0.08242158754007983, 0.002354902501145138, 0.05431029940643159, 0.05288108100099918, 0.0010719138040743076, 0.02215288528420236, 0.0832519721164379, 0.045734988973837126, 0.01250566104753359, 0.07431935708248534, 0.06324291444038416, 0.24618287033573266, 0.2501132209506718, 0.08932615033952564, 0.005002264419013436, 0.08941619309657768, 0.14405460400913242, 0.00017345527273826902, 0.002254918545597497, 0.06625991418601877, 0.10242533855194787, 0.1299179992809635, 0.006070934545839416, 0.06764755636792492, 0.09540040000604796, 0.00017345527273826902, 0.0784017832776976, 0.11682212618922419, 0.07718759636852972, 0.02402355527425026, 0.9557315121380285, 0.07866526857794318, 0.08213579513285243, 0.010411579664727773, 0.010411579664727773, 0.03933263428897159, 0.00462736873987901, 0.0439600030288506, 0.1052726388322475, 0.020823159329455547, 0.0856063216877617, 0.5194221410514189, 0.7224631598335892, 0.022356351851528004, 0.18332208518252965, 0.0007059900584693054, 0.00047066003897953696, 0.0014119801169386109, 0.01082518089652935, 0.0018826401559181478, 0.00023533001948976848, 0.056243874658054666, 0.03158176902960842, 0.5254416822301101, 0.048556969883022945, 0.026844503675167157, 0.07263806876809936, 0.06869034763939831, 0.00039477211287010524, 0.0378981228355301, 0.06947989186513853, 0.009869302821752631, 0.04145107185136105, 0.024475870997946528, 0.04184584396423116, 0.8513609712421082, 0.042970501437643145, 0.13815444692985837, 0.00012242308101892635, 0.015670154370422573, 0.01934284680099036, 0.05141769402794907, 0.10381477270404954, 0.038746905142490184, 0.10063177259755746, 0.17273896731770508, 0.00012242308101892635, 0.0787792526356791, 0.15982333227020834, 0.06623088683123915, 0.01138534653476015, 0.021773116705715325, 0.1896873927401919, 0.18341673512894588, 0.04842341155351088, 0.023166596174881104, 0.05573917876663123, 0.01881197283373804, 0.09597589843879314, 0.1403930565184524, 0.0740285967994321, 0.11374276167065685, 0.02490844551133833, 0.009928541217806187, 0.9705909951870203, 0.09270617921021439, 0.04869002951177681, 9.075494783183004e-05, 0.011026726161567349, 0.008621720044023853, 0.02032910831432993, 0.1644025879973601, 0.0293138481496811, 0.17152685140215876, 0.09465741058859872, 9.075494783183004e-05, 0.05971675567334416, 0.15550860310984077, 0.13572402448250181, 0.007578038143957808, 0.07342389379834596, 0.07221027571903446, 0.008191922035352649, 0.04004939661727962, 0.04126301469659112, 0.03003704746295971, 0.01972129378881193, 0.02336214802674644, 0.136835438442372, 0.31736112773995817, 0.16535546330619236, 0.05795026328712429, 0.014563416951738042, 0.05490392250241534, 0.16403394130351248, 0.3182394026528889, 0.04134739842774488, 0.025079569538140337, 0.03050217916800852, 0.01796239439893835, 0.09252327680962584, 0.13624306695043806, 0.016267828889604544, 0.05998761903041676, 0.031857831575475566, 0.011184132361603124, 0.9885475591754428, 0.13028441367703988, 0.26082403678341776, 0.00012760471466899105, 0.0053593980160976246, 0.0484897915742166, 0.006763049877456526, 0.05384918959031423, 0.02386208164310133, 0.20250868217968881, 0.10297700473787579, 0.00012760471466899105, 0.0037005367254007407, 0.044023626560801915, 0.11025047347400828, 0.006763049877456526, 1.018149304062268, 0.9743082420537726, 0.02118061395769071, 0.026032598180031893, 0.05909240077675951, 0.00012776735303083136, 0.0015332082363699764, 0.005877298239418243, 0.006388367651541569, 0.25607771731204376, 0.024339680752373374, 0.039863414145619384, 0.3537878005423721, 9.582551477312353e-05, 0.0533428698903721, 0.10400262536709673, 0.06787640629762917, 0.0015012663981122686, 0.5896681647850998, 0.0014737098776259913, 0.014368671306853415, 0.002210564816438987, 0.00018421373470324892, 0.3080053644238322, 0.0432902276552635, 0.04052702163471476, 0.05633235762445735, 0.10012847902494283, 0.0001076071778881707, 0.04573305060247254, 0.01490359413751164, 0.040514102474896264, 0.06133609139625729, 0.011298753678257922, 0.05224328486470687, 0.44436384108920085, 0.0001076071778881707, 0.03438049333527053, 0.02749363395042761, 0.10873705325599647, 0.00231355432459567, 0.04132424465393951, 0.404894114286074, 0.046750660618598235, 0.10685865284251025, 0.0037567495139945012, 0.019618580795304617, 0.02713207982329362, 0.046750660618598235, 0.09558840430052676, 0.020453414020636728, 0.016696664506642228, 0.16070539587643143, 0.009183165478653225, 0.02367989820617825, 0.011839949103089125, 0.011839949103089125, 0.011839949103089125, 0.5801575060513671, 0.05919974551544562, 0.22495903295869335, 0.02367989820617825, 0.0473597964123565, 0.005732140090337946, 0.3367632303073543, 0.024361595383936268, 0.2952052146524042, 0.010031245158091404, 0.008598210135506918, 0.012897315203260377, 0.08168299628731572, 0.014330350225844864, 0.005732140090337946, 0.14187046723586416, 0.0630535409937174, 0.08198163974352336, 0.28822771336763087, 0.02020177942104014, 0.027953625012834615, 0.00963108088677495, 0.07610902944670937, 0.03077247795530533, 0.1284927132942902, 0.11815691917189756, 0.014798977947971267, 0.06412890444120882, 0.10594188975452447, 0.03382623530964861, 0.9944127399077034, 0.9898626176506236, 1.0055935257060924, 0.027266026987523985, 0.0659365941092527, 0.00013108666820924993, 0.0030149933688127482, 0.004719120055532997, 0.0701313674919487, 0.11994430141146369, 0.027134940319314734, 0.08363329431750145, 0.11496300801951219, 0.1015921678621687, 0.31840951708026805, 0.059251174030580965, 0.003801513378068248, 0.035111834843962096, 0.9831313756309387, 0.014014364492580202, 0.24160764385208267, 0.024665281506941153, 0.01962011028961228, 0.3469956648362858, 0.0016817237391096242, 0.03419504936189569, 0.026907579825753987, 0.01177206617376737, 0.21189719112781263, 0.05717860712972722, 0.009529767854954537, 0.01025068560454834, 0.03933402615698781, 0.00023838803731507765, 0.005244536820931708, 0.002145492335835699, 0.04362501082865921, 0.009297133455288029, 0.06055056147802972, 0.24244063394943396, 0.08272064894833195, 0.4240923183835231, 0.07962160446323593, 0.00023838803731507765, 0.29522153805087903, 0.02914845565565641, 0.009716151885218804, 0.0007473962988629849, 0.00037369814943149246, 0.5878271890557376, 0.020553398218732085, 0.04633857052950506, 0.010089850034650296, 0.051286869962952474, 0.37056986967451205, 0.18884240558613136, 0.015712162474199313, 0.014229882995501264, 0.029349133678221357, 0.013340515308282435, 0.07678207699655891, 0.06877776781158944, 0.023123559867689554, 0.07233523856046475, 0.05336206123312974, 0.022530648076210334, 1.0004185774938488, 0.17874557460273738, 0.07149822984109495, 0.03574911492054748, 0.17874557460273738, 0.5362367238082121, 0.2917258921131307, 0.017160346594890043, 0.06468130639612402, 0.14652295938713805, 0.03564071985092548, 0.002640053322290776, 0.0759015330158598, 0.2970059987577123, 0.027060546553480454, 0.023760479900616985, 0.01848037325603543, 0.12117406222884247, 0.11191836612718499, 9.444587858834176e-05, 0.0013222423002367846, 0.027011521276265743, 0.10020707718223061, 0.06337318453277732, 0.016244691117194784, 0.04675070990122917, 0.08443461545797754, 9.444587858834176e-05, 0.24659818899416033, 0.09529589149563683, 0.07007884191254958, 0.015394678209899707, 0.7267123155232353, 0.256486699596436, 0.02137389163303633, 0.048676128325590685, 0.283944081899279, 0.12800018930062737, 0.00540845870284341, 0.06129586529889198, 0.045070489190361746, 0.01622537610853023, 0.04056344027132557, 0.08923956859691626, 0.05859163594747027, 0.06129586529889198, 0.020732425027566403, 0.13971851649012143, 0.9896040783952859, 0.9678530779855625, 0.9456653606731139, 0.1018079657006979, 0.04805700394372989, 0.0018220665002362042, 0.01571532356453726, 0.09246987488698737, 0.030291855566426894, 0.009338090813710547, 0.020726006440186823, 0.11524570613993991, 0.272171183472783, 0.2042992063389844, 0.04532390419337558, 0.042590804443021275, 0.9974388596010999, 0.9972751233559166, 0.9686636098130136, 0.017526976868297836, 0.04053113400793874, 0.03067220951952121, 0.5203321257775919, 0.01643154081402922, 0.08325314012441472, 0.051485494550624886, 0.017526976868297836, 0.16650628024882944, 0.05477180271343073, 0.9707170888315759, 0.06395304620337318, 0.26867773903018694, 0.00012490829336596324, 0.05121240028004492, 0.04684061001223621, 0.005246148321370455, 0.04646588513213832, 0.02860399918080558, 0.07681860042006738, 0.10080099274633232, 0.00012490829336596324, 0.01586335325747733, 0.03697285483632512, 0.24744332915797315, 0.010867021522838801, 0.9521829749250896, 0.04679645808274305, 0.08739097593765267, 0.003382876487909136, 0.10712442211712264, 0.05412602380654618, 0.016068663317568396, 0.2909273779601857, 0.11896448982480462, 0.07273184449004642, 0.1863401132089949, 0.003100970113916708, 0.013531505951636545, 0.12689278459751638, 0.10063910502561643, 0.048131745881816554, 0.24503434267106608, 0.10063910502561643, 0.14877085090743297, 0.22753188962313278, 0.017491978192369695, 0.5372536159084979, 0.4447960168916866, 0.990534961496476, 0.1931681163000542, 0.09345006216285807, 0.0005698174522125492, 0.0064579311250755585, 0.11643269940209756, 0.20646385685168034, 0.027351237706202364, 0.008357322632450722, 0.1783528625425279, 0.07578572114426906, 0.04425582212184132, 0.039887221654878444, 0.009876835838350853, 0.0027844509743131488, 0.0540913836813292, 4.564673728382211e-05, 0.028392270590537352, 0.002054103177771995, 0.004884200889368966, 0.05395444346947773, 0.0010498749575279084, 0.263518614339505, 0.05112434575788076, 4.564673728382211e-05, 0.12105514727669624, 0.3175187045462666, 0.0986882460076234, 0.0007303477965411538, 0.9501237795293126, 0.023502275845878707, 0.01226205696306715, 0.0030655142407667877, 0.001021838080255596, 0.1267079219516939, 0.038829847049712644, 0.029633304327412284, 0.047004551691757414, 0.612081010073102, 0.018393085444600728, 0.014305733123578343, 0.07357234177840291, 0.010640245425934712, 0.8831403703525812, 0.10640245425934713, 0.005995986019107413, 0.9413698049998638, 0.029979930095537063, 0.01798795805732224, 0.009362425090487451, 0.16494699485263287, 0.00010519578753356688, 0.0009467620878021019, 0.010624774540890254, 0.025141793220522485, 0.1784120556569294, 0.028508058421596625, 0.09467620878021019, 0.23700610931312618, 0.00010519578753356688, 0.04239390237602745, 0.1137166463237858, 0.05985640310659955, 0.03408343516087567, 0.9524389104458301, 0.028861785165025154, 0.989641195710362, 0.9996327136513843, 0.9683235164943984, 0.9788733287029591, 0.9592745347582138, 0.029068925295703447, 0.982419830038314, 1.0004762032429808, 0.012920507164120937, 0.006460253582060468, 0.019380760746181405, 0.9173560086525865, 0.012920507164120937, 0.019380760746181405, 0.012920507164120937, 0.9287349847802187, 0.001351228489946316, 0.006756142449731581, 0.001351228489946316, 0.0074317566947047385, 0.03513194073860422, 0.027024569798926323, 0.08445178062164475, 0.06553458176239634, 0.6870996871377018, 0.0837761663766716, 0.9939259379763598, 0.1164549831023081, 0.024743322044832206, 0.00013447457633060982, 0.00753057627451415, 0.012775084751407933, 0.27473155944343586, 0.03536681357495038, 0.00779952542717537, 0.017078271193987447, 0.139584610231173, 0.1602936949860869, 0.14348437294476069, 0.05863091528014588, 0.001344745763306098, 0.0277271263397022, 0.9427222955498749, 0.0277271263397022, 0.9922253835882099, 0.9816721223822106, 0.020886640901749163, 0.9612960965830316, 0.03146652590848596, 0.9754623031630648, 0.036139904998980836, 0.10015916528288975, 0.5018283951287054, 0.05730756364124104, 0.07847522228350125, 0.005679127928411274, 0.009293118428309358, 0.03768875807036573, 0.05162843571282977, 0.06247040721252402, 0.04543302342729019, 0.010841971499694252, 0.004646559214154679, 0.9810838679248924, 1.0075489754345432, 1.0093224932614642, 0.017322608325114355, 0.08767616199209505, 0.0002501459685937091, 0.020887188377574712, 0.01613441497429424, 0.01494622162347412, 0.2514592349288261, 0.05052948565592924, 0.08636289565697808, 0.043400325551008534, 6.253649214842728e-05, 0.08861420937432146, 0.2530851837246852, 0.060535324399677605, 0.008692572408631392, 0.004809365520383066, 0.8416389660670366, 0.0288561931222984, 0.0288561931222984, 0.002404682760191533, 0.0144280965611492, 0.0072140482805746, 0.004809365520383066, 0.036070241402872995, 0.0288561931222984, 0.002404682760191533, 0.969628768976954, 0.0068917979264084975, 0.07443141760521177, 0.06478290050823987, 0.057891102581831375, 0.38318396470831245, 0.04962094507014118, 0.17643002691605753, 0.02343211294978889, 0.013783595852816995, 0.14886283521042354, 0.0525962947317639, 0.10706149333724531, 0.10465861692817995, 0.14096874933183423, 0.004004794015108927, 0.01575218979276178, 0.006407670424174282, 0.06434369050941675, 0.07849396269613497, 0.10439163066050602, 0.021625887681588206, 0.28273845746669024, 0.016553148595783565, 0.010148444555085703, 0.15763917208899791, 0.23093349387572798, 0.010373965545198718, 0.04330003010169899, 0.11095632713560367, 0.013531259406780936, 0.10960320119492559, 0.12471310753249763, 0.08434485030226783, 0.060439625350288184, 0.018041679209041248, 0.02616043485310981, 0.9857218361984796, 0.007141971451988628, 0.053564785889914715, 0.0007141971451988629, 0.11427154323181805, 0.02214011150116475, 0.04856540587352268, 0.10355858605383511, 0.10855796607022715, 0.33210167251747125, 0.124984500409801, 0.0807042774074715, 0.0021425914355965884, 0.966976028711762, 0.988571774714955, 0.035607002825572755, 0.8486335673428173, 0.005934500470928792, 0.035607002825572755, 0.07121400565114551, 0.05259854342737714, 0.9380073577882256, 0.01126848855781699, 0.04507395423126796, 0.8564051303940913, 0.01126848855781699, 0.02253697711563398, 0.05634244278908496, 0.02026567768835798, 0.7587469726521228, 0.0004053135537671596, 0.037288846946578684, 0.010538152397946149, 0.02148161834965946, 0.008511584629110351, 0.024724126779796737, 0.027561321656166853, 0.010538152397946149, 0.028371948763701173, 0.03485696562397572, 0.017023169258220703, 0.7881897924416504, 0.019888561964600628, 0.06338152042455467, 0.0001769445014644184, 0.005874557448618691, 0.012740004105438124, 0.06352307602572621, 0.07364430150949094, 0.03921090152451512, 0.12103003900166219, 0.3040260424161637, 0.00014155560117153472, 0.10015058782886081, 0.10542353397250048, 0.08988780674392455, 0.0008493336070292083, 0.23579059749548426, 0.7073717924864528, 0.08207883718264414, 0.1783091980174683, 0.19670617876530233, 0.015566676017398027, 0.053775789878284096, 0.045284875686976075, 0.11887279867831221, 0.08207883718264414, 0.08349398954786215, 0.09764551320004217, 0.032548504400014056, 0.012736371286962022, 0.9761703763822234, 0.9982441060783709, 1.008555407589844, 0.9947287959987168, 0.8085260921826706, 0.883295158044108, 0.04820011649225462, 0.00112093294168034, 0.06725597650082041, 0.18994789092565317, 0.7597915637026127, 0.03077342659054265, 0.05592948166058942, 0.4232567323921461, 0.12016290382973796, 0.0007327006331081583, 0.0017096348105857027, 0.0017096348105857027, 0.06203532026982407, 0.014409779117793781, 0.0017096348105857027, 0.008303940508559128, 0.27500697095992876, 0.004151970254279564, 0.9909252997002002, 0.6964641391454431, 0.03531367466089571, 0.00980935407247103, 0.005885612443482618, 0.011771224886965236, 0.007847483257976825, 0.11575037805515816, 0.025504320588424678, 0.017656837330447855, 0.07455109095077983, 0.9573046938159465, 0.014288129758446963, 0.017145755710136355, 0.008572877855068177, 0.0028576259516893926, 0.9884480912411017, 0.11001456035903698, 0.03010348666540813, 0.002189344484756955, 0.0010946722423784774, 0.22221846520283092, 0.09304714060217058, 0.055280948240113106, 0.2764047412005656, 0.04159754521038214, 0.08593177102671047, 0.08155308205719657, 1.0100245427922627, 0.9991337873077668, 0.9975503162596489, 0.06307303271112415, 0.3784381962667449, 0.5676572944001174, 1.0003702829968473, 0.9565431989342625, 0.046098467418518675, 0.9663561607225758, 0.00797581432816666, 0.9331702763954993, 0.05583070029716662, 0.9826075471776137, 1.0014166923005776, 0.9608790789401495, 0.03625958788453394, 0.9972948269474013, 0.9765764950394776, 0.9982355269684622, 0.005285940558291981, 0.6506992827257428, 0.07576514800218506, 0.004228752446633585, 0.01303865337712022, 0.054621385769017136, 0.0017619801860973268, 0.029777465145044823, 0.02554871269841124, 0.03312522749862974, 0.07858431629994078, 0.0040525544280238515, 0.02361053449370418, 0.9556865968763761, 0.010136069966870656, 0.030408209900611965, 0.002896019990534473, 0.9846586506311096, 0.9323509709842136, 0.9285937946966578, 0.9741761499388646, 0.010475012364934028, 0.0034916707883113425, 0.010475012364934028, 0.9323640077006428, 0.8830599862714645, 0.12041727085519972, 0.9938862080390727, 1.026598397789552, 0.9830916156945164, 0.008331284878767088, 0.008331284878767088, 0.014753416202878594, 0.3116659172858103, 0.0018441770253598243, 0.018441770253598243, 0.027662655380397364, 0.014753416202878594, 0.20101529576422084, 0.10142973639479033, 0.0018441770253598243, 0.08852049721727157, 0.07192290398903314, 0.14753416202878594, 0.025301052030963524, 0.012650526015481762, 0.037951578046445285, 0.847585243037278, 0.012650526015481762, 0.0632526300774088, 0.08294971497732434, 0.7691700843351893, 0.0904905981570811, 0.04524529907854055, 0.015081766359513516, 0.02048769140687283, 0.1331699941446734, 0.051219228517182074, 0.7887761191646039, 0.9933484253435618, 0.032094285518721434, 0.06117973177006274, 0.0982887494010844, 0.009026517802140404, 0.021061874871660943, 0.11333294573798508, 0.09527991013370427, 0.008023571379680359, 0.5255439253690636, 0.02206482129412099, 0.01002946422460045, 0.0030088392673801347, 0.03666916194340094, 0.05077268576778591, 0.33495869082914315, 0.009872466677069482, 0.02115528573657746, 0.038079514325839434, 0.03666916194340094, 0.013398347633165726, 0.3152137574750042, 0.08039008579899436, 0.050067509576566666, 0.008462114294630986, 0.002820704764876995, 0.997474183745347, 0.9980691677670394, 0.010098018982224299, 0.05049009491112149, 0.9290177463646354, 0.005049009491112149, 0.005049009491112149, 0.009723443997686163, 0.017826313995757966, 0.08426984797994674, 0.0016205739996143604, 0.003241147999228721, 0.0048617219988430814, 0.008102869998071803, 0.0048617219988430814, 0.0016205739996143604, 0.8621453677948397, 0.0016205739996143604, 0.08312999291620864, 0.005588570952350161, 0.011177141904700321, 0.011177141904700321, 0.0006985713690437701, 0.1047857053565655, 0.05378999541637029, 0.3611613977956291, 0.22284426672496263, 0.14530284476110417, 0.9892841447682615, 0.39017232210141906, 0.6069347232688741, 0.7783916751364346, 0.003011186364164157, 0.21831101140190137, 0.02014704490070272, 0.02014704490070272, 0.01007352245035136, 0.030220567351054082, 0.9267640654323251, 0.9672023709479368, 0.9940145297616342, 0.9005732183918029, 0.05748339691862572, 0.038322264612417146, 0.025934188563359988, 0.0411564296766365, 0.002818933539495651, 0.0014094667697478254, 0.2889406877983042, 0.017477387944873034, 0.06793629830184518, 0.10627379443898603, 0.14010099691293385, 0.14743022411562254, 0.08597747295461734, 0.07357416538083648, 0.00028189335394956504, 0.9760740466777607, 0.8513014885932381, 0.7798106330227953, 0.01695240506571294, 0.0282540084428549, 0.06215881857428078, 0.09606362870570666, 0.01130160337714196, 0.9677561139136789, 1.0167140658703573, 0.08076987766248846, 0.11522070303281516, 0.00016483648502548664, 0.07120936153101023, 0.09906672750031748, 0.015164956622344771, 0.033296969975148305, 0.00890117019137628, 0.08670399112340597, 0.12511089213434437, 0.00016483648502548664, 0.05934113460917519, 0.06461590212999077, 0.22186990884430502, 0.01829684983782902, 0.06392033860543925, 0.3551747510337016, 0.009449093532977976, 0.028069366083258107, 0.14284806105737294, 0.023066904801093295, 0.005002461282164811, 0.031682254787043805, 0.10310628531573028, 0.01750861448757684, 0.05030252733732393, 0.11533452400546648, 0.054471245072461275, 0.02009870757338544, 0.33152061739326094, 0.00014407675679846193, 0.01707309568061774, 0.034074152982836246, 0.12052020706191341, 0.04934628920347321, 0.05302024650183399, 0.051147248663453986, 0.18686755356760512, 7.203837839923097e-05, 0.02182762865496698, 0.034866575145227785, 0.07254264704802559, 0.006915684326326173, 0.983553516291644, 0.9734285361312535, 0.004343550689717808, 0.1672267015541356, 0.041263731552319174, 0.030404854828024658, 0.01085887672429452, 0.03474840551774246, 0.03474840551774246, 0.013030652069153425, 0.004343550689717808, 0.6298148500090822, 0.02823307948316575, 0.04114934717088702, 0.05015837584143625, 0.00048697452273239084, 0.009982977716014012, 0.018505031863830852, 0.027514060534380082, 0.0021913853522957587, 0.04991488858007006, 0.35476093981054674, 0.1322135829218441, 0.2381305416161391, 0.07402012745532341, 0.0007304617840985863, 0.014999194723546687, 0.06182594898242415, 0.00036583401764748015, 0.017560032847079046, 0.05121676247064722, 0.06420387009713277, 0.0470096712677012, 0.038778405870632894, 0.1532844533942942, 0.15895488066783012, 0.3367502132445055, 0.04774133930299616, 0.007499597361773343, 0.9785273705184557, 0.02549350618977325, 0.9687532352113835, 0.9938933527252378, 0.002466236607258655, 0.002466236607258655, 0.9267729204491613, 0.008891592614727988, 0.8958279559338448, 0.09336172245464387, 1.0095412974102147, 0.015968308710768278, 0.023952463066152417, 0.061211850057945064, 0.5136472635297129, 0.0345980022066646, 0.013306923925640231, 0.12242370011589013, 0.14105339361178645, 0.023952463066152417, 0.007984154355384139, 0.037259386991792647, 0.005322769570256092, 0.06982999896858054, 0.0028119462671911625, 0.07029865667977907, 0.010779127357566124, 0.23807811728885175, 0.40866952416511565, 0.02390154327112488, 0.06561207956779379, 0.10966590442045535, 0.913037171699676, 0.9970438116119783, 0.985743174052612, 0.016792185405186375, 0.9655506607982166, 0.008396092702593188, 0.008396092702593188, 0.9917287687131918, 0.9820494125456529, 0.029780474167544358, 0.08992307238871793, 0.00011632997721697015, 0.003373569339292134, 0.036411282868911654, 0.02326599544339403, 0.07491650532772878, 0.024894615124431613, 0.11760960696635682, 0.11981987653347925, 0.00011632997721697015, 0.13238351407291202, 0.26604665789521076, 0.07549815521381363, 0.006049158815282448, 0.0012409540501653593, 0.04219243770562221, 0.009307155376240194, 0.05584293225744117, 0.005584293225744117, 0.001861431075248039, 0.1036196631888075, 0.20041407910170553, 0.5497426442232541, 0.029162420178885942, 0.03610589376127594, 0.027316266562831214, 0.00010526499638855959, 0.005473779812205099, 0.004105334859153824, 0.07436971994851735, 0.320163486515804, 0.045106050952497784, 0.1427919676010811, 0.1201073608793465, 0.00010526499638855959, 0.037632236208910055, 0.07547500241059722, 0.11079140869895897, 0.00047369248374851814, 0.0467367702120334, 0.17809541982312727, 0.08108121498905795, 0.022660252224016193, 0.10055486924407186, 0.03576071054102556, 0.009913860348007085, 0.14198064284110146, 0.06691855734904782, 0.25528190396118244, 0.03894730851002783, 0.019473654255013916, 0.0024784650870017712, 0.09451544495860499, 0.21368903867298242, 0.00013425489340710938, 0.012261946931182656, 0.024344887337822498, 0.03311620704042031, 0.06860425053103289, 0.028059272722085856, 0.13537368418550194, 0.13949083424998662, 0.00013425489340710938, 0.03763612178512633, 0.10619562068502351, 0.1018547124648603, 0.004609418006977422, 0.03880219665898456, 0.01388046059345789, 0.00047319752023151896, 0.0003154650134876793, 0.061042480109865946, 0.00930621789788654, 0.009621682911374219, 0.011672205499044134, 0.05725689994801379, 0.3195660586630191, 0.4354994511197413, 0.04148364927362983, 0.0009463950404630379, 0.9718911711436524, 0.035995969301616755, 0.951162589513807, 0.8561126041957453, 0.1426854340326242, 0.993797618469411, 1.0075516979513526, 0.031516272218008, 0.21220956626792054, 0.47274408327011996, 0.008404339258135466, 0.004202169629067733, 0.08404339258135467, 0.05252712036334666, 0.027314102588940264, 0.0756390533232192, 0.014707593701737066, 0.008404339258135466, 0.008404339258135466, 0.042280576278941974, 0.9301726781367234, 0.014093525426313992, 0.007046762713156996, 0.007046762713156996, 0.07448079391171294, 0.5619244055517353, 0.03023477772653694, 0.01069278724475087, 0.03982141456665841, 0.013273804855552802, 0.11430220847837136, 0.052357785819124945, 0.0003687168015431334, 0.01401123845863907, 0.08701716516417948, 0.001843584007715667, 1.0096627039195751, 0.9323235567623788, 0.140674804447117, 0.310286788627755, 5.73013460069723e-05, 0.0004584107680557784, 0.011345666509380516, 0.007391873634899427, 0.0732311201969106, 0.03907951797675511, 0.19087078354922474, 0.11059159779345654, 5.73013460069723e-05, 0.009741228821185291, 0.05071169121617049, 0.05500929216669341, 0.0006303148060766953, 0.002663420285427494, 0.026634202854274938, 0.0002663420285427494, 0.0023970782568847443, 0.0007990260856282482, 0.03941862022432691, 0.08283237087679506, 0.4751541789202649, 0.07590747813468357, 0.20455067792083154, 0.015980521712564963, 0.042082040509754406, 0.03116201733950168, 0.02981343121319385, 0.014906715606596925, 0.9391230832156063, 0.014906715606596925, 0.9912427380920947, 0.9371171813360483, 0.00743729133492715, 0.00743729133492715, 0.12271530702629797, 0.5392036217822184, 0.03718645667463575, 0.15618311803347015, 0.04090510234209933, 0.03346781100717217, 0.05206103934449005, 0.9387193737767643, 0.06742344321876663, 0.19273326248659073, 0.00012072236923682475, 0.016478603400826578, 0.027585061370614457, 0.05154845166412417, 0.0785299011885545, 0.0321725114016138, 0.11058169022093148, 0.13351894037592818, 0.00012072236923682475, 0.05661879117207081, 0.09054177692761857, 0.1390118081762037, 0.0029576980463022064, 0.047383738422728035, 0.005922967302841004, 0.011845934605682009, 0.9121369646375147, 0.011845934605682009, 0.02166702077434925, 0.0433340415486985, 0.02166702077434925, 0.8883478517483192, 0.02166702077434925, 0.03212239154124486, 0.9636717462373459, 1.0183486751550526, 0.05137317193154904, 0.3495531209048756, 0.047421389475276035, 0.002874023604562184, 0.027303224243340748, 0.014370118022810921, 0.0797541550266006, 0.0772393843726087, 0.004670288357413549, 0.020118165231935287, 0.3218906437109646, 0.002874023604562184, 0.9486901763050656, 0.037947607052202625, 1.0047168977124639, 0.8854149787791403, 0.08049227079810366, 0.04024613539905183, 0.007832803325190896, 0.04699681995114537, 0.003916401662595448, 0.936019997360312, 0.043811427257445024, 0.06293722798912153, 0.00044478606352736064, 0.004892646698800967, 0.13076710267704403, 0.07183294925966874, 0.012009223715238737, 0.20082090768260333, 0.0949618245630915, 0.23529182760597378, 0.11364283923124065, 0.02735434290693268, 0.0008895721270547213, 0.9303797735612243, 0.009211680926348755, 0.004605840463174377, 0.009211680926348755, 0.013817521389523132, 0.03224088324222064, 1.0023331198870982, 0.11916674641317597, 0.11760105193475469, 0.004871049488421791, 0.0034793210631584226, 0.09272390633317196, 0.1727482907858157, 0.0034793210631584226, 0.02209368875105598, 0.36271922083426555, 0.027486636398951537, 0.022615586910529745, 0.04923239304369168, 0.001391728425263369, 0.9964911611004768, 0.9791566128255151, 0.9972419986939807, 0.01170673525842774, 0.06231585229870766, 0.007204144774417071, 0.0017109843839240543, 0.014228185929473716, 0.10743180894849456, 0.0028816579097668284, 0.2539461032982018, 0.054841552095249956, 9.005180968021339e-05, 0.07834507442178565, 0.34075604782992747, 0.06168548963094617, 0.002791606100086615, 0.04672732565518879, 0.015575775218396265, 0.887819187448587, 0.06230310087358506, 0.9993965191227447, 0.05119175793043517, 0.10920576375626881, 9.959485978683886e-05, 0.0012449357473354858, 0.004382173830620909, 0.11797011141751063, 0.021064312844916416, 0.10870778945733461, 0.029280888777330625, 0.3942462524662016, 9.959485978683886e-05, 0.03226873457093579, 0.026691422422872813, 0.10268230044023086, 0.0008465563081881302, 0.920411865651255, 0.07934585048717716, 1.0038017602946678, 0.0014267078188850782, 0.0014267078188850782, 0.006420185184982851, 0.91309300408645, 0.03424098765324187, 0.004993477366097773, 0.006420185184982851, 0.019260555554948555, 0.00784689300386793, 0.004280123456655234, 0.08192748599589367, 0.866706562377612, 0.004311972947152298, 0.030183810630066088, 0.008623945894304597, 0.008623945894304597, 0.005951854230718448, 0.9731281667224663, 0.004463890673038836, 0.013391672019116509, 0.001487963557679612, 0.8135466220282802, 0.15995771992503346, 0.03056969758567306, 0.13543086953652833, 0.007109231996668153, 0.06860408876784768, 0.1205014823435252, 0.0092420015956686, 0.07571332076451584, 0.1667114903218682, 0.10379478715135504, 0.08424439916051762, 0.035546159983340764, 0.0024882311988338535, 0.9943670170434739, 0.997713221921406, 0.05411472245464008, 0.025768915454590514, 0.6364922117283857, 0.03865337318188577, 0.15461349272754307, 0.05926850554555818, 0.002576891545459051, 0.028345807000049565, 0.002576891545459051, 0.9824350094725155, 0.999414941497139, 0.025515616517825593, 0.02279184202728636, 0.0001054364318918413, 0.0014409645691884976, 0.007239968323239769, 0.017291574830261974, 0.1269806094750742, 0.033722085466740576, 0.17751980582856347, 0.08521020970725642, 0.0001054364318918413, 0.07902460570293506, 0.31824229692687434, 0.1023787753669779, 0.00242503793351235, 0.8483843179204859, 0.11311790905606478, 0.015764327883489776, 0.035942667574356685, 0.0002522292461358364, 0.0007566877384075092, 0.0029006363305621187, 0.04956304686569185, 0.058391070480446124, 0.14099614858993254, 0.11148532679203968, 0.11400761925339806, 0.0001261146230679182, 0.06532737474918163, 0.25399485085878726, 0.14957194295855097, 0.0007566877384075092, 0.07659711017872908, 0.919165322144749, 0.0682093201285683, 0.15421237594285006, 0.33511535541427034, 0.01631092437857068, 0.011862490457142313, 0.037070282678569724, 0.0044484339214283675, 0.047449961828569254, 0.1082452254214236, 0.014828113071427892, 0.09786554627142408, 0.0830374331999962, 0.019276546992856258, 0.006906763209407986, 0.05525410567526389, 0.027627052837631946, 0.7252101369878385, 0.013813526418815973, 0.027627052837631946, 0.09669468493171181, 0.02072028962822396, 0.027627052837631946, 0.007726551242671712, 0.9889985590619791, 0.9851997716738923, 0.991276763110712, 0.9228718581421517, 0.2803512404462677, 0.07322607026581618, 0.0005230433590415442, 0.0005230433590415442, 0.2698903732654368, 0.0020921734361661766, 0.007845650385623163, 0.04079738200524045, 0.021967821079744855, 0.0005230433590415442, 0.3023190615260125, 0.022836890075109778, 0.6325818550805409, 0.025577316884122955, 0.029687957097642714, 0.053438322775756886, 0.05115463376824591, 0.0031971646105153693, 0.02694753028862954, 0.034712072914166864, 0.005024115816524151, 0.0031971646105153693, 0.050241158165241516, 0.061659603202796405, 0.9739973344472307, 0.00885452122224755, 0.00885452122224755, 0.3172521329194116, 0.6345042658388232, 0.3485670021860799, 0.08714175054651997, 0.5664213785523798, 0.9952759723616248, 0.9257321192073491, 0.011020620466754156, 0.022041240933508312, 0.03306186140026247, 0.926297625661443, 0.2697777625197486, 0.1058702330455751, 0.000159443122056589, 0.008609928591055806, 0.019930390257073625, 0.121814545251234, 0.029178091336355787, 0.02407591143054494, 0.12755449764527121, 0.004464407417584492, 0.000318886244113178, 0.03348305563188369, 0.00318886244113178, 0.2506445878729579, 0.0009566587323395341, 0.9997930854725433, 0.09423858201302339, 0.4260321225967732, 0.0382484220395156, 0.019585035381679678, 0.05161232853524997, 0.024654103362820298, 0.06336334976425778, 0.07373189790749995, 0.0228108059151328, 0.05391645034485935, 0.12165763154737494, 0.009907723781320307, 0.17074066535089483, 0.7967897716375092, 0.023713981298735393, 0.0047427962597470785, 0.9896081419615493, 0.009472385193298644, 0.7183225438251472, 0.030785251878220593, 0.02131286668492195, 0.013419212357173079, 0.0181554049538224, 0.004736192596649322, 0.05130875313036765, 0.053676849428692316, 0.013419212357173079, 0.010261750626073532, 0.030785251878220593, 0.024470328416021498, 0.9501113402123897, 0.8048581421292056, 0.0007680751331657762, 0.01804976562939574, 0.0003840375665828881, 0.3490901480238453, 0.023042253994973286, 0.13326103560426217, 0.057605634987433214, 0.10868263134295733, 0.28226761143842277, 0.026882629660802168, 0.828744449583931, 1.072133551366508, 0.11793522609111687, 0.0890077178046165, 0.011125964725577062, 0.0022251929451154125, 0.5674242010044303, 0.0022251929451154125, 0.07343136718880862, 0.026702315341384952, 0.04895424479253908, 0.055629823627885315, 0.0022251929451154125, 0.16951111076124845, 0.11465662694891551, 0.010970896762466587, 0.016779018577890076, 0.08475555538062422, 0.11272058634377434, 0.023232487261693947, 0.03699988712047555, 0.17531923257667192, 0.06690095868876683, 0.13767399858781598, 0.046895205768974824, 0.0034418499646954, 0.03155308520798041, 0.021035390138653607, 0.6310617041596083, 0.08940040808927784, 0.03155308520798041, 0.05258847534663402, 0.08940040808927784, 0.02629423767331701, 0.021035390138653607, 0.9550178186488006, 0.9890925035342193, 0.011430833654077663, 0.02743400076978639, 0.00618609821279497, 0.00013448039593032544, 0.037520030464560795, 0.22928907506120488, 0.025820236018622485, 0.13972513137160814, 0.060247217376785796, 0.1592247887815053, 0.28563636095601125, 0.01707901028315133, 0.00013448039593032544, 1.008445228992107, 0.9640055720905775, 0.03362810135199689, 0.1972383843372586, 0.032873064056209766, 0.0073051253458243925, 0.745122785274088, 0.014610250691648785, 0.9882337230140564, 0.04882482188292038, 0.941621564884893, 0.006974974554702911, 0.921091156576005, 0.9632782190291597, 0.8888690967688798, 0.012155474827608613, 0.054699636724238755, 0.00455830306035323, 0.007597171767255383, 0.010636040474157536, 0.0015194343534510766, 0.019752646594863994, 0.9150932252865526, 0.05083851251591959, 0.05083851251591959, 0.012528824929023833, 0.37472576378625827, 0.001138984084456712, 0.020501713520220816, 0.05922717239174903, 0.11503739253012792, 0.02733561802696109, 0.10934247210784435, 0.04328139520935506, 0.001138984084456712, 0.033030538449244654, 0.05581022013837889, 0.14578996281045914, 0.002277968168913424, 0.010809324847075313, 0.04323729938830125, 0.05044351595301813, 0.014412433129433752, 0.7242247647540461, 0.12610878988254534, 0.028824866258867505, 0.9982991581101915, 0.9675559708011218, 0.10004989968788887, 0.30685218929854347, 0.00012186345881594259, 0.00012186345881594259, 0.03534040305662335, 0.004143357599742048, 0.03716835493886249, 0.03399990500964798, 0.08432951350063227, 0.11138320135777152, 0.008530442117115981, 0.07604279830114817, 0.19924675516406612, 0.002680996093950737, 0.007962235305970759, 0.031848941223883036, 0.7723368246791636, 0.16720694142538595, 0.015924470611941518, 0.022100677461099894, 0.9724298082883953, 0.0034364338557087357, 0.04123720626850483, 0.058419375547048506, 0.06529224325846598, 0.8281805592258054, 0.0034364338557087357, 0.9286250673280066, 1.0031799154815162, 0.06344072159685098, 0.148411099844217, 7.176552216838346e-05, 0.001076482832525752, 0.0177978494977591, 0.03164859527625711, 0.09300811673022497, 0.031863891842762254, 0.10815064190775388, 0.14546871343531328, 0.00014353104433676692, 0.0637995492076929, 0.17302667394797253, 0.12006371858770554, 0.0020812001428831203, 0.023055379132692764, 0.9683259235730961, 0.9903535360703418, 0.9228066701005171, 0.0007434853219437566, 0.011895765151100106, 0.007434853219437566, 0.014869706438875132, 0.28772881959223384, 0.04014820738496286, 0.6118884199597117, 0.025278500946087724, 0.8664222074360701, 0.02834091332734809, 0.10526624950157862, 0.988806205870601, 0.13821499088929246, 0.8569329435136133, 0.9310652013013903, 0.04900343164744159, 0.9532227843005361, 0.9885101389840218, 1.0075531373878697, 0.04328262623943989, 0.9522177772676775, 0.6699168939090638, 0.007388789271055851, 0.2906257113281968, 0.002462929757018617, 0.01724050829913032, 0.004925859514037234, 0.007388789271055851, 0.07529274404611341, 0.2396327785002637, 8.931523611638603e-05, 0.09623716691540594, 0.023981140897249648, 0.07386370026825125, 0.051400918384980156, 0.019961955272012277, 0.0652001223649618, 0.09954183065171222, 4.4657618058193013e-05, 0.08440289812998479, 0.09766621069326811, 0.06689711185117313, 0.005716175111448706, 0.03198988313978607, 0.959696494193582, 0.01066329437992869, 1.0066875487514781, 0.9962849899880586, 0.0884207454073688, 0.2876615664043899, 8.879813749170856e-05, 0.0024197492466490585, 0.026905835659987692, 0.0106335769646321, 0.0704169230309249, 0.023598105038421552, 0.17477693411805537, 0.13162103929708502, 6.659860311878143e-05, 0.011699154614532603, 0.0726368764682176, 0.08802115378865612, 0.011010969048971862, 0.12200734560813602, 0.07807184985589743, 0.00020080208296269916, 0.0022891437457747705, 0.009598339565617021, 0.08847339775336525, 0.055622176980667674, 0.016064166637015934, 0.1025295435607542, 0.12301135602294952, 8.032083318507968e-05, 0.09799141648579719, 0.11473831020488631, 0.18819171215264166, 0.0011646520811836552, 0.0363989089585906, 0.7115399622227712, 0.018786533656046763, 0.004696633414011691, 0.012915741888532149, 0.015264058595537994, 0.0011741583535029227, 0.19725860338849102, 0.0011741583535029227, 0.9892166352066768, 0.9985331259331398, 0.9987772960950336], \"Term\": [\"aaib\", \"aaib\", \"abatement\", \"abatement\", \"abatement\", \"abatement\", \"abatement\", \"access\", \"access\", \"access\", \"access\", \"access\", \"access\", \"access\", \"access\", \"access\", \"access\", \"access\", \"access\", \"access\", \"accident\", \"accident\", \"accident\", \"accident\", \"accident\", \"accident\", \"accident\", \"accident\", \"accident\", \"accident\", \"accident\", \"accident\", \"accident\", \"accident_inquirie\", \"accident_inquirie\", \"accident_investigation_branch_raib\", \"accompanying_nt\", \"account\", \"account\", \"account\", \"account\", \"account\", \"account\", \"account\", \"account\", \"account\", \"account\", \"account\", \"account\", \"account\", \"accounts_qxd_page\", \"acpo\", \"acquired\", \"acquired\", \"acquired\", \"act_schedule_acquisition\", \"act_schedule_protective\", \"acting_jointly\", \"actuarial_valuation\", \"addressee\", \"adelaide\", \"adhesion\", \"adhesion\", \"administration_departmental_unallocate\", \"administrator\", \"administrator\", \"administrator\", \"administrator\", \"administrator\", \"administrator\", \"administrator\", \"administrator\", \"advised\", \"agency\", \"agency\", \"agency\", \"agency\", \"agency\", \"agency\", \"agency\", \"agency\", \"agency\", \"agency\", \"agency\", \"agency\", \"agree\", \"agree\", \"agree\", \"agree\", \"agree\", \"agree\", \"agree\", \"agree\", \"agree\", \"agree\", \"agree\", \"agree\", \"agree\", \"agree\", \"airport\", \"airport\", \"airport\", \"airport\", \"airport\", \"airport\", \"airport\", \"airport\", \"airport\", \"airport\", \"airport\", \"akemative\", \"alignment\", \"alignment\", \"alignment\", \"alignment\", \"alignment\", \"alignment\", \"alignment\", \"alignment\", \"alignment\", \"alignment\", \"also\", \"also\", \"also\", \"also\", \"also\", \"also\", \"also\", \"also\", \"also\", \"also\", \"also\", \"also\", \"also\", \"also\", \"also\", \"alternative\", \"alternative\", \"alternative\", \"alternative\", \"alternative\", \"alternative\", \"alternative\", \"alternative\", \"alternative\", \"alternative\", \"alternative\", \"alternative\", \"alternative\", \"alternatives_studie\", \"ambrose\", \"amendment\", \"amendment\", \"amendment\", \"amendment\", \"amendment\", \"amendment\", \"amendment\", \"amendment\", \"amendment\", \"amendment\", \"amendment\", \"amendment\", \"amendment\", \"ancl\", \"andrew\", \"anglo_scottish\", \"annual\", \"annual\", \"annual\", \"annual\", \"annual\", \"annual\", \"annual\", \"annual\", \"annual\", \"annual\", \"annual\", \"annual\", \"annual_report__full_version_page\", \"annually_managed_expenditure\", \"anti_competitive_practice\", \"apparatus\", \"apparatus\", \"apparatus\", \"apparatus\", \"appeal_mechanisms_exist\", \"appendix_memorandum_submitte\", \"appendix_memorandum_submitte\", \"appendix_memorandum_submitte\", \"apply\", \"apply\", \"apply\", \"apply\", \"apply\", \"apply\", \"apply\", \"apply\", \"apply\", \"apply\", \"apply\", \"apply\", \"apply\", \"appropriate\", \"appropriate\", \"appropriate\", \"appropriate\", \"appropriate\", \"appropriate\", \"appropriate\", \"appropriate\", \"appropriate\", \"appropriate\", \"appropriate\", \"appropriate\", \"appropriate\", \"arbiter\", \"arbiter\", \"arbiter\", \"arbiter\", \"arbiter\", \"arbiter\", \"arbiter\", \"archaeology\", \"archaeology\", \"archaeology\", \"area\", \"area\", \"area\", \"area\", \"area\", \"area\", \"area\", \"area\", \"area\", \"area\", \"area\", \"area\", \"area\", \"area\", \"area\", \"ariy\", \"article\", \"article\", \"article\", \"article\", \"article\", \"article\", \"article\", \"article\", \"article\", \"article\", \"article\", \"asset\", \"asset\", \"asset\", \"asset\", \"asset\", \"asset\", \"asset\", \"asset\", \"asset\", \"asset\", \"asset\", \"asset\", \"asset_register\", \"asylum\", \"athen\", \"athlete\", \"audioritie\", \"audit\", \"audit\", \"audit\", \"audit\", \"audit\", \"audit\", \"audit\", \"audit\", \"audit\", \"audit\", \"audit\", \"authority\", \"authority\", \"authority\", \"authority\", \"authority\", \"authority\", \"authority\", \"authority\", \"authority\", \"authority\", \"authority\", \"authority\", \"authority\", \"authority\", \"authority\", \"automatic_fare_collection\", \"avail_able\", \"aviation\", \"aviation\", \"aviation\", \"aviation\", \"aviation\", \"aviation\", \"aviation\", \"aviation\", \"aviation\", \"awarding_franchise\", \"back_bencher\", \"backlog\", \"backlog\", \"backlog\", \"backlog\", \"backlog\", \"backlog\", \"backlog\", \"bagi\", \"bagier\", \"bahn\", \"bame\", \"barber\", \"barclay\", \"baroness_gardner\", \"baseline\", \"baseline\", \"baseline\", \"baseline\", \"baseline\", \"baseline\", \"baseline\", \"baseline\", \"baseline\", \"baseline\", \"basement\", \"basement\", \"basement\", \"basement\", \"batching_plant\", \"bbfc\", \"beaulieu\", \"becau\", \"bench\", \"bench\", \"bench\", \"bench\", \"bench\", \"benchmark\", \"benchmark\", \"benchmark\", \"benchmark\", \"benchmark\", \"benchmark\", \"benchmark\", \"benchmark\", \"benchmark\", \"benchmark\", \"benchmark\", \"benefit\", \"benefit\", \"benefit\", \"benefit\", \"benefit\", \"benefit\", \"benefit\", \"benefit\", \"benefit\", \"benefit\", \"benefit\", \"benefit\", \"benefit\", \"benefit\", \"benefit\", \"beneht\", \"beneht\", \"bene\\ufb01ts\", \"berryman\", \"berryman\", \"bibliography\", \"bibliography\", \"bibliography\", \"bill\", \"bill\", \"bill\", \"bill\", \"bill\", \"bill\", \"bill\", \"bill\", \"bill\", \"bill\", \"bill\", \"bill\", \"bill\", \"billdocument\", \"billdocument\", \"billingsgate\", \"bindman\", \"biodiversity\", \"biodiversity\", \"biofuel\", \"biofuel\", \"biofuel\", \"biofuel\", \"blaiklock\", \"bond\", \"bond\", \"bond\", \"bond\", \"bond\", \"bond\", \"bond\", \"bond\", \"bond\", \"bond\", \"boot\", \"boot\", \"boot\", \"boot\", \"borrow_pit\", \"botch\", \"bowi\", \"bowi\", \"bowis\", \"bowis\", \"brecon\", \"broadhurst\", \"broken_rail\", \"broken_rail\", \"btec\", \"btp_video_tape\", \"budgeting_rab\", \"build\", \"build\", \"build\", \"build\", \"build\", \"build\", \"build\", \"build\", \"build\", \"build\", \"build\", \"build\", \"build\", \"building\", \"building\", \"building\", \"building\", \"building\", \"building\", \"building\", \"building\", \"building\", \"building\", \"building\", \"building\", \"building\", \"burgesse\", \"busway\", \"busway\", \"busway\", \"byer\", \"byer\", \"byer\", \"caborn\", \"caithness\", \"cally\", \"capacity\", \"capacity\", \"capacity\", \"capacity\", \"capacity\", \"capacity\", \"capacity\", \"capacity\", \"capacity\", \"capacity\", \"capacity\", \"capacity\", \"capacity\", \"capacity\", \"capacity\", \"capital\", \"capital\", \"capital\", \"capital\", \"capital\", \"capital\", \"capital\", \"capital\", \"capital\", \"capital\", \"capital\", \"capital\", \"capital\", \"card\", \"card\", \"card\", \"card\", \"card\", \"card\", \"card\", \"card\", \"card\", \"card\", \"card\", \"cargo\", \"cargo\", \"cargo\", \"cargo\", \"cargo\", \"cargo\", \"carriage\", \"carriage\", \"carriage\", \"carriage\", \"carriage\", \"carriage\", \"carriage\", \"carriage\", \"carriage\", \"carriage\", \"carriage\", \"carriage\", \"carriage\", \"carry\", \"carry\", \"carry\", \"carry\", \"carry\", \"carry\", \"carry\", \"carry\", \"carry\", \"carry\", \"carry\", \"carry\", \"carry\", \"cash_flow_statement\", \"cashable\", \"ceca\", \"ceca\", \"central\", \"central\", \"central\", \"central\", \"central\", \"central\", \"central\", \"central\", \"central\", \"central\", \"central\", \"central\", \"central\", \"central\", \"cfit\", \"chairman\", \"chairman\", \"chairman\", \"chairman\", \"chairman\", \"chairman\", \"chairman\", \"chairman\", \"chairman\", \"chairman\", \"chairman\", \"chairman\", \"chapter\", \"chapter\", \"chapter\", \"chapter\", \"chapter\", \"chapter\", \"chapter\", \"chapter\", \"chapter\", \"chapter\", \"charterail\", \"chemist\", \"chequebook\", \"chief_officer\", \"chief_officer\", \"chief_officer\", \"chief_officer\", \"children_kille\", \"children_kille\", \"children_kille\", \"children_kille\", \"cira\", \"cira\", \"circular\", \"circular\", \"circular\", \"circular\", \"circular\", \"circular\", \"city\", \"city\", \"city\", \"city\", \"city\", \"city\", \"city\", \"city\", \"city\", \"city\", \"city\", \"city\", \"city\", \"clause\", \"clause\", \"clause\", \"clause\", \"clause\", \"clause\", \"clause\", \"clause\", \"clause\", \"clause\", \"clause\", \"clause\", \"cleaning\", \"cleaning\", \"cleaning\", \"cleaning\", \"cleaning\", \"cleaning\", \"cleaning\", \"cleaning\", \"cleaning\", \"clrl\", \"clrl\", \"clrl\", \"clrl\", \"clrl\", \"clrll\", \"clrs\", \"cmnd\", \"coastal_shippe\", \"coastal_shippe\", \"coastal_shippe\", \"come\", \"come\", \"come\", \"come\", \"come\", \"come\", \"come\", \"come\", \"come\", \"come\", \"come\", \"come\", \"come\", \"come\", \"come\", \"comfort_letter\", \"commencing\", \"commencing\", \"commencing\", \"committee\", \"committee\", \"committee\", \"committee\", \"committee\", \"committee\", \"committee\", \"committee\", \"committee\", \"committee\", \"committee\", \"committee\", \"committee\", \"committee\", \"company\", \"company\", \"company\", \"company\", \"company\", \"company\", \"company\", \"company\", \"company\", \"company\", \"company\", \"company\", \"company\", \"company\", \"comparator\", \"comparator\", \"comparator\", \"comparator\", \"comparator\", \"comparator\", \"competition\", \"competition\", \"competition\", \"competition\", \"competition\", \"competition\", \"competition\", \"competition\", \"competition\", \"competition\", \"competition\", \"competition\", \"competitiveness\", \"competitiveness\", \"competitiveness\", \"competitiveness\", \"competitiveness\", \"competitiveness\", \"competitiveness\", \"competitiveness\", \"concern\", \"concern\", \"concern\", \"concern\", \"concern\", \"concern\", \"concern\", \"concern\", \"concern\", \"concern\", \"concern\", \"concern\", \"concern\", \"concession\", \"concession\", \"concession\", \"concession\", \"concession\", \"concession\", \"concession\", \"concession\", \"concession\", \"concession\", \"concession\", \"concessionary\", \"concessionary\", \"concessionary\", \"concessionary\", \"concessionary\", \"concessionary\", \"concessionary_fare\", \"concessionary_fare\", \"concessionary_fare\", \"concessionary_fare\", \"concessionary_fare\", \"concessionary_fare\", \"concrete_batching_plant\", \"confidential_incident_reporte\", \"confidential_reporte\", \"congestion\", \"congestion\", \"congestion\", \"congestion\", \"congestion\", \"congestion\", \"congestion\", \"congestion\", \"congestion\", \"congestion\", \"congestion\", \"congestion\", \"congestion\", \"congratulate\", \"congratulate\", \"congratulate\", \"congratulate\", \"congratulate\", \"congratulate\", \"congratulate\", \"congratulate\", \"congratulate\", \"congratulation\", \"congratulation\", \"congratulation\", \"congratulation\", \"conseiyative\", \"consent\", \"consent\", \"consent\", \"consent\", \"consent\", \"consent\", \"consent\", \"consent\", \"consent\", \"consent\", \"consent\", \"consent\", \"conservative\", \"conservative\", \"conservative\", \"conservative\", \"conservative\", \"conservative\", \"conservative\", \"conservative\", \"conservative\", \"conservative\", \"conservative_party\", \"conservative_party\", \"conservative_party_conference\", \"consider\", \"consider\", \"consider\", \"consider\", \"consider\", \"consider\", \"consider\", \"consider\", \"consider\", \"consider\", \"consider\", \"consider\", \"consider\", \"consider\", \"consideration\", \"consideration\", \"consideration\", \"consideration\", \"consideration\", \"consideration\", \"consideration\", \"consideration\", \"consideration\", \"consideration\", \"consideration\", \"consideration\", \"consideration\", \"consortia_bidde\", \"constituency\", \"constituency\", \"constituency\", \"constituency\", \"constituency\", \"constituency\", \"constituency\", \"constituent\", \"constituent\", \"constituent\", \"constituent\", \"constituent\", \"constituent\", \"constituent\", \"constituent\", \"constituent\", \"constituent\", \"construction\", \"construction\", \"construction\", \"construction\", \"construction\", \"construction\", \"construction\", \"construction\", \"construction\", \"construction\", \"construction\", \"construction\", \"construction\", \"continuous_recorde\", \"continuous_registration\", \"contract\", \"contract\", \"contract\", \"contract\", \"contract\", \"contract\", \"contract\", \"contract\", \"contract\", \"contract\", \"contract\", \"contract\", \"contract\", \"contractor\", \"contractor\", \"contractor\", \"contractor\", \"contractor\", \"contractor\", \"contractor\", \"contractor\", \"contractor\", \"contractor\", \"contractor\", \"contractor\", \"conventional\", \"conventional\", \"conventional\", \"conventional\", \"conventional\", \"conventional\", \"conventional\", \"conventional\", \"conventional\", \"conventional\", \"conventional\", \"conveyor_belt_technology\", \"copyright\", \"copyright\", \"copyright\", \"copyright\", \"coricession\", \"corporate_governance_assurance\", \"corporation\", \"corporation\", \"corporation\", \"corporation\", \"corporation\", \"corporation\", \"corporation\", \"corporation\", \"corporation\", \"corporation\", \"corporation\", \"corporation_single_entity\", \"corridor\", \"corridor\", \"corridor\", \"corridor\", \"corridor\", \"corridor\", \"corridor\", \"corridor\", \"corridor\", \"corridor\", \"corridor\", \"corroborate\", \"corroborate\", \"corroborate\", \"corte\", \"cost\", \"cost\", \"cost\", \"cost\", \"cost\", \"cost\", \"cost\", \"cost\", \"cost\", \"cost\", \"cost\", \"cost\", \"cost\", \"cost\", \"cost\", \"coucher\", \"could\", \"could\", \"could\", \"could\", \"could\", \"could\", \"could\", \"could\", \"could\", \"could\", \"could\", \"could\", \"could\", \"could\", \"could\", \"councillor_leese\", \"counterparty\", \"country\", \"country\", \"country\", \"country\", \"country\", \"country\", \"country\", \"country\", \"country\", \"country\", \"country\", \"country\", \"country\", \"creditor\", \"creditor\", \"creditor\", \"creditor\", \"creditor\", \"creditor\", \"crosrail\", \"cross_validity\", \"crossrail\", \"crossrail\", \"crossrail\", \"crossrail\", \"crossrail\", \"crossrail\", \"crossrail\", \"crossrail\", \"crossrail\", \"crossrail\", \"crossrail\", \"crossrail\", \"crossrail\", \"crossrail\", \"crossrail\", \"crowd\", \"crowd\", \"crowd\", \"crowd\", \"crowd\", \"crowd\", \"crowd\", \"crowd\", \"crowd\", \"crowd\", \"crowd\", \"crowding\", \"crowding\", \"crowding\", \"crowding\", \"crowding\", \"crowding\", \"crowding\", \"crowding\", \"crowding\", \"crowding\", \"curator\", \"cycle\", \"cycle\", \"cycle\", \"cycle\", \"cycle\", \"cycle\", \"cycle\", \"cycle\", \"cycle\", \"cycle\", \"cycle\", \"cycling\", \"cycling\", \"cycling\", \"cycling\", \"cycling\", \"cycling\", \"cycling\", \"cycling\", \"cycling\", \"cycling\", \"cyclist\", \"cyclist\", \"cyclist\", \"cyclist\", \"cyclist\", \"cyclist\", \"cyclist\", \"cyclist\", \"cyclist\", \"cyclist\", \"cyclist\", \"dabinderjit_singh_sidhu\", \"dangerous_good\", \"dangerous_good\", \"dart\", \"dart\", \"datum\", \"datum\", \"datum\", \"datum\", \"datum\", \"datum\", \"datum\", \"datum\", \"datum\", \"datum\", \"datum\", \"datum\", \"dbom\", \"deafblind\", \"debate\", \"debate\", \"debate\", \"debate\", \"debate\", \"debate\", \"debate\", \"debate\", \"debate\", \"debate\", \"debate\", \"debate\", \"debating\", \"debt\", \"debt\", \"debt\", \"debt\", \"debt\", \"debt\", \"debt\", \"debt\", \"debt\", \"debt\", \"debt\", \"debt\", \"deceased\", \"decriminalise\", \"decriminalise\", \"defra\", \"defra\", \"defra\", \"delivery\", \"delivery\", \"delivery\", \"delivery\", \"delivery\", \"delivery\", \"delivery\", \"delivery\", \"delivery\", \"delivery\", \"delivery\", \"delivery\", \"depart_ment\", \"department\", \"department\", \"department\", \"department\", \"department\", \"department\", \"department\", \"department\", \"department\", \"department\", \"department\", \"department\", \"department\", \"department\", \"department\", \"departmental\", \"departmental\", \"departmental\", \"departmental\", \"departmental\", \"departmental\", \"departmental\", \"departmental\", \"departmental\", \"deposited_plan\", \"deposited_plan\", \"deposited_plans_purpose\", \"depreciation\", \"depreciation\", \"depreciation\", \"depreciation\", \"depreciation\", \"depreciation\", \"depreciation\", \"depreciation\", \"depreciation\", \"deputy_prime_minist\", \"deputy_prime_minister\", \"deputy_prime_minister\", \"deputy_prime_minister\", \"deputy_prime_minister\", \"deputy_prime_minister\", \"deputy_prime_minister\", \"deputy_prime_minister\", \"derailment\", \"derailment\", \"derailment\", \"derailment\", \"derailment\", \"derek_twigg\", \"design_criterion\", \"development\", \"development\", \"development\", \"development\", \"development\", \"development\", \"development\", \"development\", \"development\", \"development\", \"development\", \"development\", \"development\", \"development\", \"development\", \"devereux\", \"devon_county_council\", \"devon_county_council\", \"diis\", \"dingeman\", \"directive\", \"directive\", \"directive\", \"directive\", \"directive\", \"directive\", \"directive\", \"directive\", \"directive\", \"directive\", \"directive\", \"directorate\", \"directorate\", \"directorate\", \"directorate\", \"directorate\", \"directorate\", \"directorate\", \"directorate\", \"directorate\", \"directorate\", \"discount_rate\", \"discredit\", \"dismissing_option\", \"dispensed\", \"dispute_arise\", \"diverting_utilitie\", \"diverting_utilitie\", \"dividend_payment\", \"dobb\", \"dockland\", \"dockland\", \"dockland\", \"dockland\", \"dockland\", \"dockland\", \"dockland\", \"dockland\", \"dockland\", \"dockland\", \"dockland\", \"dockland\", \"donnelly\", \"drabble\", \"drink_drive\", \"drink_drive\", \"dust\", \"dust\", \"dust\", \"dust\", \"dust\", \"dust\", \"dust\", \"dust\", \"dutie\", \"dvla\", \"dvla\", \"dvla\", \"easa\", \"eastern_portal_option\", \"eastleigh\", \"economic_instrument\", \"ef\\ufb01ciency\", \"ef\\ufb01cient\", \"election\", \"election\", \"election\", \"election\", \"election\", \"election\", \"election\", \"election\", \"election\", \"election\", \"election\", \"electrification\", \"electrification\", \"electrification\", \"electrification\", \"electrification\", \"electrification\", \"electrification\", \"electrification\", \"electrification\", \"electrification\", \"electronic_vehicle_licensing\", \"emission\", \"emission\", \"emission\", \"emission\", \"emission\", \"emission\", \"emission\", \"emission\", \"emission\", \"emission\", \"enactment\", \"enactment\", \"enactment\", \"enactment\", \"enactment\", \"enactment\", \"enactment\", \"encourage\", \"encourage\", \"encourage\", \"encourage\", \"encourage\", \"encourage\", \"encourage\", \"encourage\", \"encourage\", \"encourage\", \"encourage\", \"encourage\", \"enct\", \"energy_storage\", \"english_heritage\", \"english_heritage\", \"english_heritage\", \"english_heritage\", \"entrance\", \"entrance\", \"entrance\", \"entrance\", \"entrance\", \"entrance\", \"entrance\", \"entrance\", \"entrance\", \"entrance\", \"entrance\", \"environmental\", \"environmental\", \"environmental\", \"environmental\", \"environmental\", \"environmental\", \"environmental\", \"environmental\", \"environmental\", \"environmental\", \"environmental\", \"environmental\", \"environmental\", \"eocal\", \"eocal\", \"epsom\", \"epsom\", \"epsom\", \"equity_stake\", \"equivocal\", \"erection_construction_alteration\", \"errata\", \"errata\", \"essen\", \"ettect\", \"evidence\", \"evidence\", \"evidence\", \"evidence\", \"evidence\", \"evidence\", \"evidence\", \"evidence\", \"evidence\", \"evidence\", \"evidence\", \"evidence\", \"evidence\", \"evidence\", \"ewell_chris_grayle\", \"exercisable\", \"exercisable\", \"exercise\", \"exercise\", \"exercise\", \"exercise\", \"exercise\", \"exercise\", \"exercise\", \"exercise\", \"exercise\", \"exercise\", \"exercise\", \"exercise\", \"exercise\", \"exhibit\", \"exhibit\", \"exhibit\", \"exhibit\", \"exhibit\", \"exhibit\", \"exhibit\", \"exhibit\", \"exhibit\", \"expenditure\", \"expenditure\", \"expenditure\", \"expenditure\", \"expenditure\", \"expenditure\", \"expenditure\", \"expenditure\", \"expenditure\", \"expenditure\", \"expenditure\", \"expenditure\", \"expenditure_core_table\", \"expert_witness_michael_schaba\", \"explain\", \"explain\", \"explain\", \"explain\", \"explain\", \"explain\", \"explain\", \"explain\", \"explain\", \"explain\", \"explain\", \"explain\", \"explain\", \"extraordinary_review\", \"fare\", \"fare\", \"fare\", \"fare\", \"fare\", \"fare\", \"fare\", \"fare\", \"fare\", \"fare\", \"fare\", \"fare\", \"fare\", \"fare\", \"fare_dodge\", \"fare_dodging\", \"fare_evader\", \"fare_evasion\", \"fare_evasion\", \"fare_evasion\", \"fare_evasion\", \"farthe\", \"fatality\", \"fatality\", \"fatality\", \"fatality\", \"fatality\", \"fatality\", \"fatality\", \"fatality\", \"fatality\", \"feeder\", \"feeder\", \"feeder\", \"feeder\", \"feeder\", \"feeder\", \"feeder\", \"ferrotec\", \"fieet\", \"figure\", \"figure\", \"figure\", \"figure\", \"figure\", \"figure\", \"figure\", \"figure\", \"figure\", \"figure\", \"figure\", \"figure\", \"figure\", \"financial\", \"financial\", \"financial\", \"financial\", \"financial\", \"financial\", \"financial\", \"financial\", \"financial\", \"financial\", \"financial\", \"financial\", \"financial\", \"financial_instrument\", \"financial_instrument\", \"findwave\", \"firanchise\", \"fixed_asset_restatement\", \"fldm\", \"floating_slab_track\", \"fqps\", \"franchise\", \"franchise\", \"franchise\", \"franchise\", \"franchise\", \"franchise\", \"franchise\", \"franchise\", \"franchise\", \"franchise\", \"franchise\", \"franchise\", \"franchise\", \"franchise_holder\", \"franchise_holder\", \"franchise_holder\", \"franchise_holder\", \"franchised\", \"franchised\", \"franchised\", \"franchised\", \"franchised\", \"franchisee\", \"franchisee\", \"franchisee\", \"franchisee\", \"franchisee\", \"franchisee\", \"franchisee\", \"franchisee\", \"franchisee\", \"franchising\", \"franchising\", \"franchising\", \"franchising\", \"franchising\", \"franchising\", \"franchising\", \"franchising\", \"franchising\", \"franchising_director\", \"franchising_director\", \"franchising_director\", \"franchising_director\", \"free\", \"free\", \"free\", \"free\", \"free\", \"free\", \"free\", \"free\", \"free\", \"free\", \"free\", \"free\", \"free\", \"freight\", \"freight\", \"freight\", \"freight\", \"freight\", \"freight\", \"freight\", \"freight\", \"freight\", \"freight\", \"freight\", \"freight\", \"freight\", \"freight\", \"front_bench\", \"front_bench\", \"front_bencher\", \"ftea_believe\", \"fuel\", \"fuel\", \"fuel\", \"fuel\", \"fuel\", \"fuel\", \"fuel\", \"fuel\", \"fuel\", \"fuel\", \"fund_earmarked_reserve\", \"funding\", \"funding\", \"funding\", \"funding\", \"funding\", \"funding\", \"funding\", \"funding\", \"funding\", \"funding\", \"funding\", \"funding\", \"funding\", \"funding\", \"game\", \"game\", \"game\", \"game\", \"game\", \"game\", \"game\", \"game\", \"game\", \"gateline\", \"gateline\", \"gateline\", \"gauge_comer_cracke\", \"general_lighthouse_authoritie\", \"geoffrey_myers_continue\", \"geraint_davie\", \"give\", \"give\", \"give\", \"give\", \"give\", \"give\", \"give\", \"give\", \"give\", \"give\", \"give\", \"give\", \"give\", \"give\", \"give\", \"glassborow\", \"good\", \"good\", \"good\", \"good\", \"good\", \"good\", \"good\", \"good\", \"good\", \"good\", \"good\", \"good\", \"good\", \"good\", \"good\", \"gov_uk\", \"gov_uk\", \"gov_uk\", \"government\", \"government\", \"government\", \"government\", \"government\", \"government\", \"government\", \"government\", \"government\", \"government\", \"government\", \"government\", \"government\", \"government\", \"government\", \"graduated_fixed_penalty\", \"grand_central_studio\", \"granny\", \"grateful\", \"grateful\", \"grateful\", \"grateful\", \"grateful\", \"grateful\", \"grateful\", \"grateful\", \"grateful\", \"grateful\", \"grateful\", \"grateful\", \"great\", \"great\", \"great\", \"great\", \"great\", \"great\", \"great\", \"great\", \"great\", \"great\", \"great\", \"great\", \"great\", \"great\", \"great\", \"grenoble\", \"grenoble\", \"group\", \"group\", \"group\", \"group\", \"group\", \"group\", \"group\", \"group\", \"group\", \"group\", \"group\", \"group\", \"group\", \"grout\", \"guards_club_park\", \"guidance\", \"guidance\", \"guidance\", \"guidance\", \"guidance\", \"guidance\", \"guidance\", \"guidance\", \"guidance\", \"guidance\", \"guidance\", \"guidance\", \"guide\", \"guide\", \"guide\", \"guide\", \"guide\", \"guide\", \"guide\", \"guide\", \"guide\", \"guide\", \"guide\", \"guide\", \"guided_busway\", \"guided_busway\", \"guided_busway\", \"guideway\", \"guideway\", \"handley_stevens_continue\", \"haringey\", \"haringey\", \"haringey\", \"harm\", \"harm\", \"harm\", \"harm\", \"harm\", \"harm\", \"harm\", \"harm\", \"harm\", \"harm\", \"hatfield\", \"hatfield\", \"hatfield\", \"hatfield\", \"hatfield\", \"hatfield_accident\", \"hatfield_accident\", \"hatfield_accident\", \"hear\", \"hear\", \"hear\", \"hear\", \"hear\", \"hear\", \"hear\", \"hear\", \"hear\", \"hear\", \"hear\", \"hear\", \"heavy\", \"heavy\", \"heavy\", \"heavy\", \"heavy\", \"heavy\", \"heavy\", \"heavy\", \"heavy\", \"heavy\", \"heavy\", \"heron_tower\", \"heron_tower\", \"high\", \"high\", \"high\", \"high\", \"high\", \"high\", \"high\", \"high\", \"high\", \"high\", \"high\", \"high\", \"high\", \"high\", \"highway\", \"highway\", \"highway\", \"highway\", \"highway\", \"highway\", \"highway\", \"highway\", \"highway\", \"highway\", \"highway\", \"highway\", \"hince\", \"holden\", \"homelessness\", \"homeowner\", \"homeowner\", \"hon_friend\", \"hon_friend\", \"hon_gentleman\", \"honourable_friend\", \"honourable_friend\", \"hope\", \"hope\", \"hope\", \"hope\", \"hope\", \"hope\", \"hope\", \"hope\", \"hope\", \"hope\", \"hope\", \"hope\", \"hormone\", \"however\", \"however\", \"however\", \"however\", \"however\", \"however\", \"however\", \"however\", \"however\", \"however\", \"however\", \"however\", \"however\", \"however\", \"however\", \"hucknall\", \"human_right\", \"human_right\", \"human_right\", \"human_right\", \"illegal_parke\", \"illegal_parke\", \"illegal_parke\", \"illegal_parke\", \"immigration\", \"immigration\", \"immigration\", \"immigration\", \"immigration\", \"impact\", \"impact\", \"impact\", \"impact\", \"impact\", \"impact\", \"impact\", \"impact\", \"impact\", \"impact\", \"impact\", \"impact\", \"impact\", \"important\", \"important\", \"important\", \"important\", \"important\", \"important\", \"important\", \"important\", \"important\", \"important\", \"important\", \"important\", \"important\", \"important\", \"important\", \"improve\", \"improve\", \"improve\", \"improve\", \"improve\", \"improve\", \"improve\", \"improve\", \"improve\", \"improve\", \"improve\", \"improve\", \"improve\", \"improve\", \"improve\", \"improvement\", \"improvement\", \"improvement\", \"improvement\", \"improvement\", \"improvement\", \"improvement\", \"improvement\", \"improvement\", \"improvement\", \"improvement\", \"improvement\", \"improvement\", \"improvement\", \"improvement\", \"incident\", \"incident\", \"incident\", \"incident\", \"incident\", \"incident\", \"incident\", \"incident\", \"incident\", \"incident\", \"incident\", \"include\", \"include\", \"include\", \"include\", \"include\", \"include\", \"include\", \"include\", \"include\", \"include\", \"include\", \"include\", \"include\", \"include\", \"include\", \"income\", \"income\", \"income\", \"income\", \"income\", \"income\", \"income\", \"income\", \"income\", \"income\", \"income\", \"income\", \"increase\", \"increase\", \"increase\", \"increase\", \"increase\", \"increase\", \"increase\", \"increase\", \"increase\", \"increase\", \"increase\", \"increase\", \"increase\", \"increase\", \"increase\", \"indemnitie\", \"industry\", \"industry\", \"industry\", \"industry\", \"industry\", \"industry\", \"industry\", \"industry\", \"industry\", \"industry\", \"industry\", \"industry\", \"industry\", \"industry\", \"industry\", \"inffaco\", \"information\", \"information\", \"information\", \"information\", \"information\", \"information\", \"information\", \"information\", \"information\", \"information\", \"information\", \"information\", \"information\", \"information\", \"infraco_ssl\", \"infrastructure\", \"infrastructure\", \"infrastructure\", \"infrastructure\", \"infrastructure\", \"infrastructure\", \"infrastructure\", \"infrastructure\", \"infrastructure\", \"infrastructure\", \"infrastructure\", \"infrastructure\", \"infrastructure\", \"infrastructure\", \"inland\", \"inland\", \"inland\", \"inland\", \"inland\", \"inland\", \"inland\", \"inland_waterway_shippe\", \"inner\", \"inner\", \"inner\", \"inner\", \"inner\", \"inner\", \"inner\", \"inner\", \"inner\", \"inner\", \"innovation_fund_productivity\", \"inpatient\", \"insert\", \"insert\", \"insert\", \"insert\", \"insert\", \"insert\", \"insert\", \"insert\", \"insert\", \"insert\", \"integrate\", \"integrate\", \"integrate\", \"integrate\", \"integrate\", \"integrate\", \"integrate\", \"integrate\", \"integrate\", \"integrate\", \"integrate\", \"intercity\", \"intercity\", \"intercity\", \"intercity\", \"intercity\", \"intercity\", \"intercity\", \"intercity\", \"interesl\", \"international_maritime_organization\", \"interoperable\", \"interoperable\", \"interoperable\", \"interruption\", \"interruption\", \"interruption\", \"interruption\", \"interruption\", \"interruption\", \"interruption\", \"interruption\", \"interruption\", \"invest_ment\", \"invest_ment\", \"investment\", \"investment\", \"investment\", \"investment\", \"investment\", \"investment\", \"investment\", \"investment\", \"investment\", \"investment\", \"investment\", \"investment\", \"investment\", \"investment\", \"investment\", \"isbn_available\", \"issue\", \"issue\", \"issue\", \"issue\", \"issue\", \"issue\", \"issue\", \"issue\", \"issue\", \"issue\", \"issue\", \"issue\", \"issue\", \"issue\", \"issue\", \"isus\", \"itso\", \"itso_card\", \"itso_compliant\", \"itso_compliant_smartcard\", \"iwaac\", \"journey\", \"journey\", \"journey\", \"journey\", \"journey\", \"journey\", \"journey\", \"journey\", \"journey\", \"journey\", \"journey\", \"journey\", \"journey\", \"journey\", \"juicy\", \"july_isbn_available\", \"junction\", \"junction\", \"junction\", \"junction\", \"junction\", \"junction\", \"junction\", \"junction\", \"junction\", \"junction\", \"junction\", \"junction\", \"kamlet\", \"knapp\", \"know\", \"know\", \"know\", \"know\", \"know\", \"know\", \"know\", \"know\", \"know\", \"know\", \"know\", \"know\", \"know\", \"know\", \"know\", \"kyoto_commitment\", \"labour\", \"labour\", \"labour\", \"labour\", \"labour\", \"labour\", \"labour\", \"labour\", \"labour\", \"labour\", \"labour\", \"labour\", \"land\", \"land\", \"land\", \"land\", \"land\", \"land\", \"land\", \"land\", \"land\", \"land\", \"land\", \"land\", \"land\", \"lawfulness\", \"lcci\", \"leasing\", \"leasing\", \"leasing\", \"leasing\", \"leasing\", \"leasing\", \"leasing\", \"leasing\", \"lender\", \"lender\", \"lender\", \"lender\", \"lender\", \"lender\", \"length_commence\", \"length_forming_siding\", \"letter\", \"letter\", \"letter\", \"letter\", \"letter\", \"letter\", \"letter\", \"letter\", \"letter\", \"letter\", \"letter\", \"letter\", \"letter\", \"level\", \"level\", \"level\", \"level\", \"level\", \"level\", \"level\", \"level\", \"level\", \"level\", \"level\", \"level\", \"level\", \"level\", \"level\", \"lgms\", \"liability\", \"liability\", \"liability\", \"liability\", \"liability\", \"liability\", \"liability\", \"liability\", \"liability\", \"liability\", \"liability\", \"liability\", \"liability\", \"liberal\", \"liberal\", \"liberal\", \"liberal\", \"liberal\", \"liberal\", \"liberal\", \"liberal_democrat\", \"liberal_democrat\", \"liberal_democrat\", \"libertin\", \"light\", \"light\", \"light\", \"light\", \"light\", \"light\", \"light\", \"light\", \"light\", \"light\", \"light\", \"light\", \"light\", \"light\", \"light\", \"line\", \"line\", \"line\", \"line\", \"line\", \"line\", \"line\", \"line\", \"line\", \"line\", \"line\", \"line\", \"line\", \"line\", \"line\", \"linewd\", \"link\", \"link\", \"link\", \"link\", \"link\", \"link\", \"link\", \"link\", \"link\", \"link\", \"link\", \"link\", \"link\", \"link\", \"link\", \"linster\", \"liquidity\", \"liquidity\", \"liverpool_street\", \"liverpool_street\", \"loan_facility\", \"local\", \"local\", \"local\", \"local\", \"local\", \"local\", \"local\", \"local\", \"local\", \"local\", \"local\", \"local\", \"local\", \"local\", \"local\", \"locomotive\", \"locomotive\", \"locomotive\", \"locomotive\", \"locomotive\", \"locomotive\", \"locomotive\", \"locomotive\", \"locomotive\", \"londoner\", \"londoner\", \"londoner\", \"londoner\", \"londoner\", \"londoner\", \"londoner\", \"londori\", \"look\", \"look\", \"look\", \"look\", \"look\", \"look\", \"look\", \"look\", \"look\", \"look\", \"look\", \"look\", \"look\", \"look\", \"look\", \"lord\", \"lord\", \"lord\", \"lord\", \"lord\", \"lord\", \"lord\", \"lord\", \"lord\", \"lord\", \"lord\", \"lord\", \"lord\", \"lord\", \"lord_belstead\", \"lord_davie\", \"lord_davie\", \"lord_stoddart\", \"lordship\", \"lordship\", \"lordship\", \"lordship\", \"lordship\", \"lorry_holding\", \"lpac\", \"lrvs\", \"ltpl\", \"ltps\", \"ltps\", \"ltps\", \"lubricator\", \"maib\", \"main_alternatives_studie\", \"main_alternatives_studie\", \"main_alternatives_studied\", \"main_alternatives_studied\", \"maintenance\", \"maintenance\", \"maintenance\", \"maintenance\", \"maintenance\", \"maintenance\", \"maintenance\", \"maintenance\", \"maintenance\", \"maintenance\", \"maintenance\", \"maintenance\", \"maintenance\", \"make\", \"make\", \"make\", \"make\", \"make\", \"make\", \"make\", \"make\", \"make\", \"make\", \"make\", \"make\", \"make\", \"make\", \"make\", \"making_choices_locally\", \"making_choices_locally\", \"management\", \"management\", \"management\", \"management\", \"management\", \"management\", \"management\", \"management\", \"management\", \"management\", \"management\", \"management\", \"management\", \"manager\", \"manager\", \"manager\", \"manager\", \"manager\", \"manager\", \"manager\", \"manager\", \"manager\", \"manager\", \"manager\", \"manager\", \"manager\", \"manchester\", \"manchester\", \"manchester\", \"manchester\", \"manchester\", \"manchester\", \"manchester\", \"manchester\", \"manchester\", \"manchester\", \"manchester_metrolink_phase\", \"many\", \"many\", \"many\", \"many\", \"many\", \"many\", \"many\", \"many\", \"many\", \"many\", \"many\", \"many\", \"many\", \"many\", \"many\", \"maricet\", \"maritime\", \"maritime\", \"maritime\", \"maritime\", \"maritime\", \"maritime\", \"market\", \"market\", \"market\", \"market\", \"market\", \"market\", \"market\", \"market\", \"market\", \"market\", \"market\", \"market\", \"market\", \"market_trader\", \"matter\", \"matter\", \"matter\", \"matter\", \"matter\", \"matter\", \"matter\", \"matter\", \"matter\", \"matter\", \"matter\", \"matter\", \"matter\", \"mcnulty\", \"mcnulty\", \"measure\", \"measure\", \"measure\", \"measure\", \"measure\", \"measure\", \"measure\", \"measure\", \"measure\", \"measure\", \"measure\", \"measure\", \"measure\", \"melrose\", \"member\", \"member\", \"member\", \"member\", \"member\", \"member\", \"member\", \"member\", \"member\", \"member\", \"member\", \"member\", \"member\", \"member\", \"member\", \"ment\", \"ment\", \"ment\", \"ment\", \"ment\", \"ment\", \"ment\", \"metcalfe\", \"metre\", \"metre\", \"metre\", \"metre\", \"metre\", \"metre\", \"metre\", \"metre\", \"metre\", \"metre\", \"metre\", \"metre\", \"metrolink\", \"metrolink\", \"metrolink\", \"metrolink\", \"metrolink\", \"metrolink\", \"metrolink\", \"metronet\", \"metronet\", \"metronet\", \"metronet\", \"metronet\", \"metronet\", \"midibuse\", \"migrant\", \"mike_grant\", \"mini_railtrack\", \"minister\", \"minister\", \"minister\", \"minister\", \"minister\", \"minister\", \"minister\", \"minister\", \"minister\", \"minister\", \"minister\", \"minister\", \"minute\", \"minute\", \"minute\", \"minute\", \"minute\", \"minute\", \"minute\", \"minute\", \"minute\", \"minute\", \"minute\", \"minute\", \"minute\", \"mode\", \"mode\", \"mode\", \"mode\", \"mode\", \"mode\", \"mode\", \"mode\", \"mode\", \"mode\", \"mode\", \"modern_smartcard_technologie\", \"money\", \"money\", \"money\", \"money\", \"money\", \"money\", \"money\", \"money\", \"money\", \"money\", \"money\", \"money\", \"money\", \"money\", \"money\", \"monometro_slrt\", \"monument\", \"monument\", \"monument\", \"monument\", \"monument\", \"moriey\", \"motion\", \"motion\", \"motion\", \"motion\", \"motion\", \"motion\", \"motion\", \"motion\", \"mrs_sian_james\", \"much\", \"much\", \"much\", \"much\", \"much\", \"much\", \"much\", \"much\", \"much\", \"much\", \"much\", \"much\", \"much\", \"much\", \"much\", \"muirhead\", \"multi_modal_studie\", \"multi_modal_studie\", \"multi_modal_studie\", \"multi_modal_studie\", \"multi_modal_studie\", \"multi_modal_studie\", \"multiple_occupation\", \"municipality\", \"must\", \"must\", \"must\", \"must\", \"must\", \"must\", \"must\", \"must\", \"must\", \"must\", \"must\", \"must\", \"must\", \"must\", \"must\", \"nante\", \"nante\", \"narrowboat\", \"ndpbs\", \"near_cash_resource\", \"need\", \"need\", \"need\", \"need\", \"need\", \"need\", \"need\", \"need\", \"need\", \"need\", \"need\", \"need\", \"need\", \"need\", \"need\", \"net_cash_outflow\", \"network\", \"network\", \"network\", \"network\", \"network\", \"network\", \"network\", \"network\", \"network\", \"network\", \"network\", \"network\", \"network\", \"network\", \"network\", \"neutralise\", \"newly_disclosed_document\", \"newtrack\", \"nicety\", \"ninth_report\", \"noake\", \"noble\", \"noble\", \"noble\", \"noble\", \"noble_baroness_lady\", \"noble_baroness_lady\", \"noble_baroness_lady\", \"noble_baroness_lady_thoma\", \"noble_friend\", \"noble_friend\", \"noble_friend_lord_brabazon\", \"noble_friend_lord_elton\", \"noble_lord\", \"noble_lord\", \"noble_lord\", \"noble_lord_lord_astor\", \"noble_lord_lord_bradshaw\", \"noble_lord_lord_bradshaw\", \"noble_lord_lord_bradshaw\", \"noble_lord_lord_ewe\", \"noble_lord_lord_ezra\", \"noble_lord_lord_hanningfield\", \"noble_lord_lord_shutt\", \"noble_lord_lord_tordoff\", \"noble_viscount_lord_astor\", \"noble_viscount_lord_astor\", \"noise\", \"noise\", \"noise\", \"noise\", \"noise\", \"noise\", \"noise\", \"noise\", \"noise\", \"noise\", \"noise\", \"noise\", \"notice\", \"notice\", \"notice\", \"notice\", \"notice\", \"notice\", \"notice\", \"notice\", \"notice\", \"notice\", \"notice\", \"notice\", \"notice\", \"notifiable\", \"nrcg\", \"nsca\", \"number\", \"number\", \"number\", \"number\", \"number\", \"number\", \"number\", \"number\", \"number\", \"number\", \"number\", \"number\", \"number\", \"number\", \"number\", \"objective\", \"objective\", \"objective\", \"objective\", \"objective\", \"objective\", \"objective\", \"objective\", \"objective\", \"objective\", \"objective\", \"objective\", \"objective\", \"obsess\", \"obtrusive\", \"odier\", \"official_opposition\", \"oldham\", \"oldham\", \"olympic\", \"olympic\", \"olympic\", \"olympic\", \"olympic\", \"olympic\", \"olympic\", \"olympic\", \"olympic\", \"olympic\", \"olympic_family\", \"online\", \"online\", \"online\", \"online\", \"online\", \"online\", \"online\", \"operate\", \"operate\", \"operate\", \"operate\", \"operate\", \"operate\", \"operate\", \"operate\", \"operate\", \"operate\", \"operate\", \"operate\", \"operate\", \"operational_command_unit\", \"operator\", \"operator\", \"operator\", \"operator\", \"operator\", \"operator\", \"operator\", \"operator\", \"operator\", \"operator\", \"operator\", \"operator\", \"operator\", \"operator\", \"opposition\", \"opposition\", \"opposition\", \"opposition\", \"opposition\", \"opposition\", \"opposition\", \"opposition\", \"opposition\", \"opraf\", \"opraf\", \"opraf\", \"option\", \"option\", \"option\", \"option\", \"option\", \"option\", \"option\", \"option\", \"option\", \"option\", \"option\", \"option\", \"option\", \"orcat\", \"os_os_os_os\", \"osmotherly\", \"outer_orbital\", \"outsourcing\", \"outsourcing\", \"outsourcing\", \"outturn\", \"outturn\", \"outturn\", \"outturn\", \"outturn\", \"outturn\", \"outturn_outturn_outturn_outturn\", \"outturn_outturn_outturn_outturn\", \"overcrowd\", \"overcrowd\", \"overcrowd\", \"overcrowd\", \"overcrowd\", \"overcrowd\", \"overcrowd\", \"overcrowd\", \"overcrowd\", \"overcrowd\", \"overcrowding\", \"overcrowding\", \"overcrowding\", \"overcrowding\", \"overcrowding\", \"overcrowding\", \"overcrowding\", \"overcrowding\", \"overcrowding\", \"overcrowding\", \"overcrowding\", \"overcrowding\", \"overcrowding\", \"overreaction\", \"overrun\", \"overrun\", \"overrun\", \"overrun\", \"overrun\", \"overrun\", \"overrun\", \"overrun\", \"overrun\", \"overrun\", \"oversight_exercise\", \"oyster\", \"oyster\", \"oyster\", \"page\", \"page\", \"page\", \"page\", \"page\", \"page\", \"page\", \"page\", \"page\", \"page\", \"page\", \"page\", \"paragraph\", \"paragraph\", \"paragraph\", \"paragraph\", \"paragraph\", \"paragraph\", \"paragraph\", \"paragraph\", \"paragraph\", \"paragraph\", \"paragraph\", \"paragraph\", \"paragraph\", \"paralympic\", \"paras\", \"paridng\", \"parke\", \"parke\", \"parliament\", \"parliament\", \"parliament\", \"parliament\", \"parliament\", \"parliament\", \"parliament\", \"parliament\", \"parliament\", \"parliament\", \"parliament\", \"parliament\", \"parliament\", \"parliamentary\", \"parliamentary\", \"parliamentary\", \"parliamentary\", \"parliamentary\", \"parliamentary\", \"parliamentary\", \"parliamentary\", \"parliamentary\", \"parliamentary\", \"parliamentary\", \"parliamentary\", \"parliamentary\", \"part\", \"part\", \"part\", \"part\", \"part\", \"part\", \"part\", \"part\", \"part\", \"part\", \"part\", \"part\", \"part\", \"part\", \"part\", \"partnership\", \"partnership\", \"partnership\", \"partnership\", \"partnership\", \"partnership\", \"partnership\", \"partnership\", \"partnership\", \"partnership\", \"partnership\", \"partnership\", \"passenger\", \"passenger\", \"passenger\", \"passenger\", \"passenger\", \"passenger\", \"passenger\", \"passenger\", \"passenger\", \"passenger\", \"passenger\", \"passenger\", \"passenger\", \"passenger\", \"passenger\", \"patronage\", \"patronage\", \"patronage\", \"patronage\", \"patronage\", \"patronage\", \"patronage\", \"patronage\", \"patronage\", \"peak\", \"peak\", \"peak\", \"peak\", \"peak\", \"peak\", \"peak\", \"peak\", \"peak\", \"peak\", \"peak\", \"peak\", \"peak\", \"pedroute\", \"penalty\", \"penalty\", \"penalty\", \"penalty\", \"penalty\", \"penalty\", \"penalty\", \"penalty\", \"penalty\", \"penalty\", \"penalty\", \"penalty\", \"people\", \"people\", \"people\", \"people\", \"people\", \"people\", \"people\", \"people\", \"people\", \"people\", \"people\", \"people\", \"people\", \"people\", \"people\", \"performance\", \"performance\", \"performance\", \"performance\", \"performance\", \"performance\", \"performance\", \"performance\", \"performance\", \"performance\", \"performance\", \"performance\", \"periodic_review\", \"periodic_review\", \"periodic_review\", \"periodic_review\", \"permanence\", \"person\", \"person\", \"person\", \"person\", \"person\", \"person\", \"person\", \"person\", \"person\", \"person\", \"person\", \"person\", \"person\", \"petition\", \"petition\", \"petition\", \"petition\", \"petition\", \"petition\", \"petition\", \"petitionei\", \"petitioner\", \"petitioner\", \"petitioner\", \"pewp\", \"photocopying\", \"photograph\", \"photograph\", \"photograph\", \"photograph\", \"photograph\", \"photograph\", \"photograph\", \"pile\", \"pile\", \"pile\", \"pile\", \"pile\", \"pile\", \"pink\", \"pixc\", \"pixc\", \"pixc\", \"place\", \"place\", \"place\", \"place\", \"place\", \"place\", \"place\", \"place\", \"place\", \"place\", \"place\", \"place\", \"place\", \"place\", \"place\", \"plan\", \"plan\", \"plan\", \"plan\", \"plan\", \"plan\", \"plan\", \"plan\", \"plan\", \"plan\", \"plan\", \"plan\", \"plan\", \"plan\", \"plan\", \"planning\", \"planning\", \"planning\", \"planning\", \"planning\", \"planning\", \"planning\", \"planning\", \"planning\", \"planning\", \"planning\", \"planning\", \"planning\", \"plarme\", \"platform\", \"platform\", \"platform\", \"platform\", \"platform\", \"platform\", \"platform\", \"platform\", \"platform\", \"platform\", \"platform\", \"platform\", \"platform\", \"plusbus\", \"pmol\", \"point\", \"point\", \"point\", \"point\", \"point\", \"point\", \"point\", \"point\", \"point\", \"point\", \"point\", \"point\", \"point\", \"point\", \"point\", \"policy\", \"policy\", \"policy\", \"policy\", \"policy\", \"policy\", \"policy\", \"policy\", \"policy\", \"policy\", \"policy\", \"policy\", \"policy\", \"policy\", \"port\", \"port\", \"port\", \"port\", \"port\", \"port\", \"port\", \"port\", \"port\", \"port\", \"port\", \"post_retirement_liabilitie\", \"postcode_lottery\", \"power_conferre\", \"powers_conferred\", \"pphpd\", \"premeditate\", \"present\", \"present\", \"present\", \"present\", \"present\", \"present\", \"present\", \"present\", \"present\", \"present\", \"present\", \"present\", \"present\", \"prison\", \"prison\", \"prison\", \"prisoner\", \"privatisation\", \"privatisation\", \"privatisation\", \"privatisation\", \"privatisation\", \"privatisation\", \"privatisation\", \"privatisation\", \"privatisation\", \"privatisation\", \"privatisation\", \"prob_lem\", \"probation\", \"probation\", \"problem\", \"problem\", \"problem\", \"problem\", \"problem\", \"problem\", \"problem\", \"problem\", \"problem\", \"problem\", \"problem\", \"problem\", \"problem\", \"problem\", \"problem\", \"procedure\", \"procedure\", \"procedure\", \"procedure\", \"procedure\", \"procedure\", \"procedure\", \"procedure\", \"procedure\", \"procedure\", \"procedure\", \"procedure\", \"procedure\", \"procurement\", \"procurement\", \"procurement\", \"procurement\", \"procurement\", \"procurement\", \"procurement\", \"procurement\", \"procurement\", \"procurement\", \"procurement\", \"produce\", \"produce\", \"produce\", \"produce\", \"produce\", \"produce\", \"produce\", \"produce\", \"produce\", \"produce\", \"produce\", \"produce\", \"produce\", \"professor_david_begg\", \"professor_davie\", \"professor_glaister\", \"professor_stephen_glaister\", \"professor_stephen_glaister\", \"programme\", \"programme\", \"programme\", \"programme\", \"programme\", \"programme\", \"programme\", \"programme\", \"programme\", \"programme\", \"programme\", \"programme\", \"programme\", \"programme\", \"progress\", \"progress\", \"progress\", \"progress\", \"progress\", \"progress\", \"progress\", \"progress\", \"progress\", \"progress\", \"progress\", \"progress\", \"progress\", \"project\", \"project\", \"project\", \"project\", \"project\", \"project\", \"project\", \"project\", \"project\", \"project\", \"project\", \"project\", \"project\", \"project\", \"project\", \"projecting\", \"promise\", \"promise\", \"promise\", \"promise\", \"promise\", \"promise\", \"promise\", \"promise\", \"promise\", \"promise\", \"promise\", \"promoter\", \"promoter\", \"promoter\", \"promoter\", \"promoter\", \"promoter\", \"promoter\", \"promoter\", \"promoter\", \"promoter\", \"property\", \"property\", \"property\", \"property\", \"property\", \"property\", \"property\", \"property\", \"property\", \"property\", \"property\", \"property\", \"property\", \"protected_specie\", \"provide\", \"provide\", \"provide\", \"provide\", \"provide\", \"provide\", \"provide\", \"provide\", \"provide\", \"provide\", \"provide\", \"provide\", \"provide\", \"provide\", \"provide\", \"provision\", \"provision\", \"provision\", \"provision\", \"provision\", \"provision\", \"provision\", \"provision\", \"provision\", \"provision\", \"provision\", \"provision\", \"provision\", \"psa_targets\", \"public\", \"public\", \"public\", \"public\", \"public\", \"public\", \"public\", \"public\", \"public\", \"public\", \"public\", \"public\", \"public\", \"public\", \"public\", \"publish\", \"publish\", \"publish\", \"publish\", \"publish\", \"publish\", \"publish\", \"publish\", \"publish\", \"publish\", \"publish\", \"publish\", \"publish\", \"purpose\", \"purpose\", \"purpose\", \"purpose\", \"purpose\", \"purpose\", \"purpose\", \"purpose\", \"purpose\", \"purpose\", \"purpose\", \"purpose\", \"purpose\", \"qualiqr\", \"question\", \"question\", \"question\", \"question\", \"question\", \"question\", \"question\", \"question\", \"question\", \"question\", \"question\", \"question\", \"question\", \"question\", \"question\", \"qxd_page_annual\", \"raib\", \"raib\", \"rail\", \"rail\", \"rail\", \"rail\", \"rail\", \"rail\", \"rail\", \"rail\", \"rail\", \"rail\", \"rail\", \"rail\", \"rail\", \"rail\", \"rail\", \"railtrack\", \"railtrack\", \"railtrack\", \"railtrack\", \"railtrack\", \"railtrack\", \"railtrack\", \"railtrack\", \"railway\", \"railway\", \"railway\", \"railway\", \"railway\", \"railway\", \"railway\", \"railway\", \"railway\", \"railway\", \"railway\", \"railway\", \"railway\", \"railway\", \"railway\", \"read\", \"read\", \"read\", \"read\", \"read\", \"read\", \"read\", \"read\", \"read\", \"read\", \"read\", \"read\", \"read\", \"reader\", \"reader\", \"reader\", \"reader\", \"reader\", \"reader\", \"reader\", \"reader\", \"reader\", \"reading\", \"reading\", \"reading\", \"reading\", \"reading\", \"reading\", \"reading\", \"reading\", \"reading\", \"reading\", \"reading\", \"reading\", \"reason\", \"reason\", \"reason\", \"reason\", \"reason\", \"reason\", \"reason\", \"reason\", \"reason\", \"reason\", \"reason\", \"reason\", \"reason\", \"reasonably_incurre\", \"recalled_examine\", \"receivable\", \"reduce\", \"reduce\", \"reduce\", \"reduce\", \"reduce\", \"reduce\", \"reduce\", \"reduce\", \"reduce\", \"reduce\", \"reduce\", \"reduce\", \"reduce\", \"reduce\", \"reduce_prejudicial_effect\", \"reduce_prejudicial_effect\", \"regeneration\", \"regeneration\", \"regeneration\", \"regeneration\", \"regeneration\", \"regeneration\", \"regeneration\", \"regeneration\", \"regeneration\", \"regeneration\", \"regeneration\", \"regeneration\", \"regional\", \"regional\", \"regional\", \"regional\", \"regional\", \"regional\", \"regional\", \"regional\", \"regional\", \"regional\", \"regional\", \"regional\", \"regional\", \"regulator\", \"regulator\", \"regulator\", \"regulator\", \"regulator\", \"regulator\", \"regulator\", \"regulator\", \"regulator\", \"relation\", \"relation\", \"relation\", \"relation\", \"relation\", \"relation\", \"relation\", \"relation\", \"relation\", \"relation\", \"relation\", \"relation\", \"relation\", \"relevant_limit\", \"relied_upon\", \"relied_upon\", \"relied_upon\", \"relied_upon\", \"relied_upon\", \"renewal\", \"renewal\", \"renewal\", \"renewal\", \"renewal\", \"renewal\", \"renewal\", \"renewal\", \"renewal\", \"renewal\", \"renewal\", \"report\", \"report\", \"report\", \"report\", \"report\", \"report\", \"report\", \"report\", \"report\", \"report\", \"report\", \"report\", \"report\", \"report\", \"report\", \"reporter\", \"reporter\", \"reporter\", \"request\", \"request\", \"request\", \"request\", \"request\", \"request\", \"request\", \"request\", \"request\", \"request\", \"request\", \"request\", \"request\", \"residents_association\", \"resource_del\", \"revelation\", \"review\", \"review\", \"review\", \"review\", \"review\", \"review\", \"review\", \"review\", \"review\", \"review\", \"review\", \"review\", \"review\", \"re\\ufb02ect\", \"re\\ufb02ecte\", \"rfrl\", \"ride\", \"ride\", \"ride\", \"ride\", \"ride\", \"ride\", \"ride\", \"ride\", \"ride\", \"ride\", \"rifkind\", \"right\", \"right\", \"right\", \"right\", \"right\", \"right\", \"right\", \"right\", \"right\", \"right\", \"right\", \"right\", \"right\", \"right\", \"right\", \"right_reverend_prelate\", \"rights_reserve\", \"rights_reserve\", \"rights_reserve\", \"rights_reserve\", \"rights_reserve\", \"rights_reserve\", \"rights_reserve\", \"rights_reserve\", \"rights_reserve\", \"rights_reserve\", \"rights_reserve\", \"rights_reserve\", \"rights_reserved\", \"rights_reserved\", \"rights_reserved\", \"rights_reserved\", \"rights_reserved\", \"rights_reserved\", \"rights_reserved\", \"rights_reserved_appendice\", \"rights_reserved_appendice\", \"rights_reserved_appendice\", \"ringway\", \"risk\", \"risk\", \"risk\", \"risk\", \"risk\", \"risk\", \"risk\", \"risk\", \"risk\", \"risk\", \"risk\", \"risk\", \"risk\", \"road\", \"road\", \"road\", \"road\", \"road\", \"road\", \"road\", \"road\", \"road\", \"road\", \"road\", \"road\", \"road\", \"road\", \"road\", \"roding\", \"rolling_stock\", \"rolling_stock\", \"rolling_stock\", \"rolling_stock\", \"rolling_stock\", \"rolling_stock\", \"rolling_stock\", \"rolling_stock\", \"rolling_stock\", \"rolling_stock\", \"rolling_stock\", \"rolling_stock\", \"rolling_stock_leasing\", \"rolling_stock_leasing\", \"rolling_stock_leasing\", \"roscos\", \"roscos\", \"roscos\", \"roscos\", \"route\", \"route\", \"route\", \"route\", \"route\", \"route\", \"route\", \"route\", \"route\", \"route\", \"route\", \"route\", \"route\", \"route\", \"route\", \"rowland\", \"rowland\", \"rspb\", \"rssb\", \"rtfo\", \"rtrt\", \"rubber_tyre\", \"rubber_tyre\", \"rubber_tyred\", \"ruccs\", \"rugby\", \"rugby\", \"rugby\", \"rugby\", \"rugby\", \"rugby\", \"rugby\", \"runabout\", \"rural\", \"rural\", \"rural\", \"rural\", \"rural\", \"rural\", \"rural\", \"rural\", \"rural\", \"rural\", \"ryedale\", \"safety\", \"safety\", \"safety\", \"safety\", \"safety\", \"safety\", \"safety\", \"safety\", \"safety\", \"safety\", \"safety\", \"safety\", \"safety\", \"safety\", \"safeway\", \"safeway\", \"safeway\", \"sailing_event\", \"sanctions_available\", \"sanctions_available\", \"sardine\", \"scat\", \"scat\", \"schedule\", \"schedule\", \"schedule\", \"schedule\", \"schedule\", \"schedule\", \"schedule\", \"schedule\", \"schedule\", \"schedule\", \"schedule\", \"schedule\", \"schedule\", \"schedule_acquisition\", \"schedule_heritage_disapplication\", \"schedule_protective_provision\", \"scheme\", \"scheme\", \"scheme\", \"scheme\", \"scheme\", \"scheme\", \"scheme\", \"scheme\", \"scheme\", \"scheme\", \"scheme\", \"scheme\", \"scheme\", \"scheme\", \"scheme\", \"screen\", \"screen\", \"screen\", \"screen\", \"screen\", \"screen\", \"screen\", \"screen\", \"screen\", \"screen\", \"screen\", \"seasonally_adjuste\", \"seat\", \"seat\", \"seat\", \"seat\", \"seat\", \"seat\", \"seat\", \"seat\", \"seat\", \"seat\", \"secretary\", \"secretary\", \"secretary\", \"secretary\", \"secretary\", \"secretary\", \"secretary\", \"secretary\", \"secretary\", \"secretary\", \"secretary\", \"secretary\", \"secretary\", \"section\", \"section\", \"section\", \"section\", \"section\", \"section\", \"section\", \"section\", \"section\", \"section\", \"section\", \"section\", \"section\", \"sector_comparator\", \"security\", \"security\", \"security\", \"security\", \"security\", \"security\", \"security\", \"security\", \"security\", \"security\", \"security\", \"security\", \"see_useful_addresse\", \"seeda\", \"segregate\", \"segregate\", \"segregate\", \"segregate\", \"segregate\", \"segregated\", \"segregated\", \"segregation\", \"segregation\", \"segregation\", \"segregation\", \"segregation\", \"segregation\", \"select\", \"select\", \"select\", \"select\", \"select\", \"select\", \"select\", \"select\", \"select\", \"select\", \"select\", \"select\", \"select\", \"serrie\", \"service\", \"service\", \"service\", \"service\", \"service\", \"service\", \"service\", \"service\", \"service\", \"service\", \"service\", \"service\", \"service\", \"service\", \"service\", \"sess\", \"sess\", \"session\", \"session\", \"session\", \"session\", \"session\", \"session\", \"session\", \"session\", \"session\", \"session\", \"session\", \"session\", \"severe_weather\", \"sewer_beneath_point\", \"sewer_commencing\", \"sewerage_undertaker\", \"shafi\", \"shaft\", \"shaft\", \"shaft\", \"shaft\", \"shaft_sinke\", \"shaft_sinke\", \"shall\", \"shall\", \"shall\", \"shall\", \"shall\", \"shall\", \"shall\", \"shall\", \"shall\", \"shall\", \"shall\", \"shall\", \"shall\", \"shared_prioritie\", \"shareholder\", \"shareholder\", \"shareholder\", \"shareholder\", \"shareholder\", \"shareholder\", \"shareholder\", \"shareholder\", \"shareholder\", \"shareholder\", \"shenfield\", \"shenfield\", \"shenfield\", \"shenfield\", \"shenfield\", \"shrt\", \"signal\", \"signal\", \"signal\", \"signal\", \"signal\", \"signal\", \"signal\", \"signal\", \"signal\", \"signal\", \"signal\", \"significantly_higher_incidence\", \"signi\\ufb01cant\", \"signi\\ufb01cantly\", \"sincerely\", \"sincerely\", \"sincerely\", \"sir_alan_bailey\", \"sir_alastair_morton\", \"sir_alastair_morton\", \"sir_david_rowland\", \"sir_george_young\", \"sir_george_young\", \"sir_george_young\", \"sir_howard_bernstein\", \"sir_peter_masefield\", \"sir_peter_parker\", \"sir_peter_parker\", \"sir_peter_soulsby\", \"sir_philip_beck\", \"sir_robert_horton\", \"site\", \"site\", \"site\", \"site\", \"site\", \"site\", \"site\", \"site\", \"site\", \"site\", \"site\", \"site\", \"site\", \"slide\", \"slide\", \"slide\", \"slide\", \"slrt\", \"smaftcard\", \"smartcafd\", \"smartcard\", \"smartcard\", \"smartcard\", \"smartcard\", \"smartcard_technologie\", \"smartcard_technology\", \"smartcard_technology\", \"smarter_choice\", \"sniartcard\", \"soho\", \"soho\", \"soho\", \"southern\", \"southern\", \"southern\", \"southern\", \"southern\", \"southern\", \"southern\", \"southern\", \"southern\", \"southern\", \"southern\", \"southern\", \"southern_region\", \"southern_region\", \"southern_region\", \"southern_region\", \"southern_region\", \"southern_region\", \"spad\", \"spad\", \"spad\", \"spad\", \"spad\", \"speaker\", \"speaker\", \"speaker\", \"speaker\", \"species\", \"specification\", \"specification\", \"specification\", \"specification\", \"specification\", \"specification\", \"specification\", \"specification\", \"specification\", \"specification\", \"specification\", \"specification\", \"specify\", \"specify\", \"specify\", \"specify\", \"specify\", \"specify\", \"specify\", \"specify\", \"specify\", \"specify\", \"specify\", \"specify\", \"specify\", \"speci\\ufb01c\", \"speci\\ufb01cation\", \"spectator\", \"spectator\", \"spectator\", \"spectator\", \"spectator\", \"speech\", \"speech\", \"speech\", \"speech\", \"speech\", \"speech\", \"speech\", \"speech\", \"speech\", \"speech\", \"speech\", \"spending\", \"spending\", \"spending\", \"spending\", \"spending\", \"spending\", \"spending\", \"spending\", \"spending\", \"spending\", \"spitaifield\", \"spitalfieid\", \"spitalfieid\", \"spitalfield\", \"spitalfield\", \"spitalfield\", \"spokesman\", \"spokesman\", \"spokesman\", \"spokesman\", \"spokesman\", \"spring_supplementary_estimate\", \"ssas\", \"ssra\", \"ssra\", \"ssra\", \"staff\", \"staff\", \"staff\", \"staff\", \"staff\", \"staff\", \"staff\", \"staff\", \"staff\", \"staff\", \"staff\", \"staff\", \"staff\", \"stakeholder_equity\", \"stamina\", \"standardisation\", \"standardisation\", \"standardisation\", \"standardisation\", \"standardisation\", \"standardisation\", \"standards_agency_dsa\", \"standee\", \"state\", \"state\", \"state\", \"state\", \"state\", \"state\", \"state\", \"state\", \"state\", \"state\", \"state\", \"state\", \"state\", \"state\", \"state\", \"statement\", \"statement\", \"statement\", \"statement\", \"statement\", \"statement\", \"statement\", \"statement\", \"statement\", \"statement\", \"statement\", \"statement\", \"statement\", \"station\", \"station\", \"station\", \"station\", \"station\", \"station\", \"station\", \"station\", \"station\", \"station\", \"station\", \"station\", \"station\", \"station\", \"station\", \"steeper_gradient\", \"stephen_hammond\", \"store\", \"store\", \"store\", \"store\", \"store\", \"store\", \"store\", \"store\", \"store\", \"store\", \"store\", \"strategic\", \"strategic\", \"strategic\", \"strategic\", \"strategic\", \"strategic\", \"strategic\", \"strategic\", \"strategic\", \"strategic\", \"strategic\", \"strategic\", \"strategic\", \"strategy\", \"strategy\", \"strategy\", \"strategy\", \"strategy\", \"strategy\", \"strategy\", \"strategy\", \"strategy\", \"strategy\", \"strategy\", \"strategy\", \"strategy\", \"stray_current\", \"streatham\", \"streatham\", \"studio\", \"studio\", \"studio\", \"subordinated\", \"subsection\", \"subsection\", \"subsection\", \"subsection_applie\", \"subsidiary\", \"subsidiary\", \"subsidiary\", \"subsidiary\", \"subsidiary\", \"subsidiary\", \"subsidiary\", \"subsidiary\", \"subsidiary\", \"subsidiary\", \"subsidiary\", \"subsidiary\", \"subsidy\", \"subsidy\", \"subsidy\", \"subsidy\", \"subsidy\", \"subsidy\", \"subsidy\", \"subsidy\", \"subsidy\", \"substandard_curvature\", \"suf\\ufb01cient\", \"suitable_methodfor_allocate\", \"supertram\", \"supertram\", \"supertram\", \"supertram\", \"supplementary_license\", \"supplementary_provision\", \"support\", \"support\", \"support\", \"support\", \"support\", \"support\", \"support\", \"support\", \"support\", \"support\", \"support\", \"support\", \"support\", \"support\", \"support\", \"sustainable\", \"sustainable\", \"sustainable\", \"sustainable\", \"sustainable\", \"sustainable\", \"sustainable\", \"sustainable\", \"sustainable\", \"sustainable\", \"system\", \"system\", \"system\", \"system\", \"system\", \"system\", \"system\", \"system\", \"system\", \"system\", \"system\", \"system\", \"system\", \"system\", \"system\", \"table\", \"table\", \"table\", \"table\", \"table\", \"table\", \"table\", \"table\", \"table\", \"table\", \"table\", \"table\", \"table\", \"take\", \"take\", \"take\", \"take\", \"take\", \"take\", \"take\", \"take\", \"take\", \"take\", \"take\", \"take\", \"take\", \"take\", \"take\", \"target\", \"target\", \"target\", \"target\", \"target\", \"target\", \"target\", \"target\", \"target\", \"target\", \"target\", \"target\", \"target\", \"tast\", \"tast\", \"taxicard\", \"tcas\", \"tcas\", \"teleworke\", \"temporary_stoppe\", \"terminate\", \"terminate\", \"terminate\", \"terminate\", \"terminate\", \"terminate\", \"terminate\", \"terminate\", \"terminate\", \"terminate\", \"terminate\", \"terminate\", \"terminating\", \"terminating\", \"terminating\", \"terminating\", \"terminating\", \"thank\", \"thank\", \"thank\", \"thank\", \"thank\", \"thank\", \"thank\", \"thank\", \"thank\", \"thank\", \"thank\", \"thank\", \"thereto\", \"thetrainline\", \"think\", \"think\", \"think\", \"think\", \"think\", \"think\", \"think\", \"think\", \"think\", \"think\", \"think\", \"think\", \"think\", \"think\", \"think\", \"ticket\", \"ticket\", \"ticket\", \"ticket\", \"ticket\", \"ticket\", \"ticket\", \"ticket\", \"ticket\", \"ticket\", \"ticket\", \"ticket\", \"ticket\", \"ticket_inspector\", \"ticket_inspector\", \"ticket_inspector\", \"ticket_inspector\", \"ticket_inspectors_function\", \"ticket_vending_machine\", \"ticketing\", \"ticketing\", \"ticketing\", \"ticketing\", \"ticketing\", \"ticketing\", \"ticketing\", \"ticketing\", \"ticketing\", \"ticketirig\", \"time\", \"time\", \"time\", \"time\", \"time\", \"time\", \"time\", \"time\", \"time\", \"time\", \"time\", \"time\", \"time\", \"time\", \"time\", \"tion\", \"tion\", \"tion\", \"tion\", \"tion\", \"tive\", \"tive\", \"tive\", \"tive\", \"tive\", \"tlrn\", \"tlrn\", \"tocu\", \"today\", \"today\", \"today\", \"today\", \"today\", \"today\", \"today\", \"today\", \"today\", \"today\", \"today\", \"today\", \"tom_worsley_continue\", \"tom_worsley_continue\", \"tonne_lorrie\", \"toole\", \"toole\", \"toole\", \"tory\", \"tory\", \"tory\", \"tory\", \"total\", \"total\", \"total\", \"total\", \"total\", \"total\", \"total\", \"total\", \"total\", \"total\", \"total\", \"total\", \"total\", \"tower_hamlet\", \"tower_hamlet\", \"tower_hamlet\", \"tower_hamlet\", \"tower_hamlet\", \"tower_hamlet\", \"towhlb\", \"track\", \"track\", \"track\", \"track\", \"track\", \"track\", \"track\", \"track\", \"track\", \"track\", \"track\", \"track\", \"track\", \"track_electri\\ufb01ed_annual\", \"trackway\", \"trackwork_speed_restriction\", \"traffic\", \"traffic\", \"traffic\", \"traffic\", \"traffic\", \"traffic\", \"traffic\", \"traffic\", \"traffic\", \"traffic\", \"traffic\", \"traffic\", \"traffic\", \"traffic\", \"traffic_calme\", \"traffic_calme\", \"traffic_calme\", \"traffic_calme\", \"traf\\ufb01c\", \"train\", \"train\", \"train\", \"train\", \"train\", \"train\", \"train\", \"train\", \"train\", \"train\", \"train\", \"train\", \"train\", \"train\", \"train\", \"trainload\", \"trainload\", \"trallic\", \"tram\", \"tram\", \"tram\", \"tram\", \"tram\", \"tram\", \"tram\", \"tram\", \"tram\", \"tram\", \"tramlink\", \"tramlink\", \"tramlink\", \"tramlink\", \"tramlink\", \"tramlink\", \"tramway\", \"tramway\", \"tramway\", \"tramway\", \"tramway\", \"tranquility\", \"transfer\", \"transfer\", \"transfer\", \"transfer\", \"transfer\", \"transfer\", \"transfer\", \"transfer\", \"transfer\", \"transfer\", \"transfer\", \"transfer\", \"transfer\", \"transferee\", \"transferor\", \"transit\", \"transit\", \"transit\", \"transit\", \"transit\", \"transit\", \"transit\", \"transit\", \"transit\", \"transitway\", \"transpennine\", \"transport\", \"transport\", \"transport\", \"transport\", \"transport\", \"transport\", \"transport\", \"transport\", \"transport\", \"transport\", \"transport\", \"transport\", \"transport\", \"transport\", \"transport\", \"trarisport\", \"trarisport\", \"travel\", \"travel\", \"travel\", \"travel\", \"travel\", \"travel\", \"travel\", \"travel\", \"travel\", \"travel\", \"travel\", \"travel\", \"travel\", \"travel\", \"travel\", \"travelator\", \"travelator\", \"treat\", \"treat\", \"treat\", \"treat\", \"treat\", \"treat\", \"treat\", \"treat\", \"treat\", \"treat\", \"treat\", \"treat\", \"treat\", \"trespass\", \"trespass\", \"trespass\", \"trespass\", \"trespass\", \"trespass\", \"trespass\", \"trespass\", \"trespass\", \"trolleybus\", \"trolleybus\", \"trolleybuse\", \"trrl\", \"ttci\", \"tube\", \"tube\", \"tube\", \"tube\", \"tube\", \"tube\", \"tube\", \"tube\", \"tube\", \"tube\", \"tube\", \"tunnel\", \"tunnel\", \"tunnel\", \"tunnel\", \"tunnel\", \"tunnel\", \"tunnel\", \"tunnel\", \"tunnel\", \"tunnel\", \"tunnel\", \"tunnel\", \"tunnel\", \"tunnel_boring_machine\", \"tunnel_boring_machine\", \"tunnel_boring_machine\", \"tunnel_drive\", \"tunnel_drive\", \"tunneling\", \"tunneling\", \"tunneling\", \"ture\", \"ultra\", \"ultra\", \"ultra\", \"ultra\", \"unchallengeable\", \"underground\", \"underground\", \"underground\", \"underground\", \"underground\", \"underground\", \"underground\", \"underground\", \"underground\", \"underground\", \"underground\", \"underground\", \"underground\", \"underground\", \"underground\", \"underneath\", \"understand\", \"understand\", \"understand\", \"understand\", \"understand\", \"understand\", \"understand\", \"understand\", \"understand\", \"understand\", \"understand\", \"understand\", \"undertaker\", \"undertaker\", \"undertaker\", \"undertaker\", \"undertakers\", \"undertaking\", \"undertaking\", \"undertaking\", \"undertaking\", \"undertaking\", \"undertaking\", \"undertaking\", \"undertaking\", \"undertaking\", \"undertaking\", \"undertaking\", \"undertaking\", \"undertaking\", \"unfunded_pension_liabilitie\", \"urance\", \"urban\", \"urban\", \"urban\", \"urban\", \"urban\", \"urban\", \"urban\", \"urban\", \"urban\", \"urban\", \"urging\", \"urine\", \"utility\", \"utility\", \"utility\", \"utility\", \"utility\", \"utility\", \"utility\", \"utility\", \"utility\", \"utility\", \"utility\", \"value\", \"value\", \"value\", \"value\", \"value\", \"value\", \"value\", \"value\", \"value\", \"value\", \"value\", \"value\", \"value\", \"vandalism\", \"vandalism\", \"vandalism\", \"vandalism\", \"vandalism\", \"vandalism\", \"vandalism\", \"vandalism\", \"vandalism\", \"vaux\", \"vdiicle\", \"vehicle\", \"vehicle\", \"vehicle\", \"vehicle\", \"vehicle\", \"vehicle\", \"vehicle\", \"vehicle\", \"vehicle\", \"vehicle\", \"vehicle\", \"vehicle\", \"vehicle\", \"vehicle_certification_agency\", \"vehicle_licensing_agency\", \"vehicle_licensing_agency\", \"venue\", \"venue\", \"venue\", \"venue\", \"venue\", \"verbund\", \"vertical_integration\", \"vertical_integration\", \"vertical_integration\", \"vestry\", \"via_external_cladde\", \"vibration\", \"vibration\", \"vibration\", \"vibration\", \"vibration\", \"vibration\", \"vibration\", \"vibration\", \"victoria_coach_station\", \"victoria_coach_station\", \"victoria_coach_station\", \"visit\", \"visit\", \"visit\", \"visit\", \"visit\", \"visit\", \"visit\", \"visit\", \"visit\", \"visit\", \"visit\", \"visit\", \"visit\", \"visit\", \"wagon\", \"wagon\", \"wagon\", \"wagon\", \"wagon\", \"wagon\", \"wagon\", \"walliswood\", \"wanstead_harry_cohen\", \"want\", \"want\", \"want\", \"want\", \"want\", \"want\", \"want\", \"want\", \"want\", \"want\", \"want\", \"want\", \"want\", \"want\", \"warden\", \"warden\", \"warden\", \"warden\", \"warden\", \"waterborne\", \"waterborne\", \"waterway\", \"waterway\", \"waterway\", \"waterway\", \"waterway\", \"waterway\", \"wdbc\", \"weiss\", \"well\", \"well\", \"well\", \"well\", \"well\", \"well\", \"well\", \"well\", \"well\", \"well\", \"well\", \"well\", \"well\", \"well\", \"well\", \"west_bromwich_east\", \"west_bromwich_east\", \"westcc\", \"wheelwear\", \"white_paper\", \"white_paper\", \"white_paper\", \"white_paper\", \"white_paper\", \"white_paper\", \"white_paper\", \"white_paper\", \"whitechapel\", \"whitechapel\", \"whitechapel\", \"whitehead\", \"whra\", \"whra\", \"wimbledon_stephen_hammond\", \"wimbledon_stephen_hammond\", \"winding\", \"winsor\", \"without_material_detriment\", \"wokingham\", \"wokingham\", \"woolwich\", \"woolwich\", \"woolwich\", \"woolwich\", \"woolwich\", \"woolwich\", \"woolwich\", \"work\", \"work\", \"work\", \"work\", \"work\", \"work\", \"work\", \"work\", \"work\", \"work\", \"work\", \"work\", \"work\", \"work\", \"work\", \"works_authorise\", \"works_authorise\", \"works_authorise\", \"works_authorised\", \"workstream\", \"would\", \"would\", \"would\", \"would\", \"would\", \"would\", \"would\", \"would\", \"would\", \"would\", \"would\", \"would\", \"would\", \"would\", \"would\", \"year\", \"year\", \"year\", \"year\", \"year\", \"year\", \"year\", \"year\", \"year\", \"year\", \"year\", \"year\", \"year\", \"year\", \"year\", \"yesterday\", \"yesterday\", \"yesterday\", \"yesterday\", \"yesterday\", \"yesterday\", \"yesterday\", \"yesterday\", \"yesterday\", \"zoom\", \"\\ufb01nance\", \"\\ufb01nancial\"]}, \"R\": 30, \"lambda.step\": 0.01, \"plot.opts\": {\"xlab\": \"PC1\", \"ylab\": \"PC2\"}, \"topic.order\": [1, 2, 3, 4, 5, 6, 7, 8, 9, 10, 11, 12, 13, 14, 15]};\n",
       "\n",
       "function LDAvis_load_lib(url, callback){\n",
       "  var s = document.createElement('script');\n",
       "  s.src = url;\n",
       "  s.async = true;\n",
       "  s.onreadystatechange = s.onload = callback;\n",
       "  s.onerror = function(){console.warn(\"failed to load library \" + url);};\n",
       "  document.getElementsByTagName(\"head\")[0].appendChild(s);\n",
       "}\n",
       "\n",
       "if(typeof(LDAvis) !== \"undefined\"){\n",
       "   // already loaded: just create the visualization\n",
       "   !function(LDAvis){\n",
       "       new LDAvis(\"#\" + \"ldavis_el5914825697843250568386149803\", ldavis_el5914825697843250568386149803_data);\n",
       "   }(LDAvis);\n",
       "}else if(typeof define === \"function\" && define.amd){\n",
       "   // require.js is available: use it to load d3/LDAvis\n",
       "   require.config({paths: {d3: \"https://d3js.org/d3.v5\"}});\n",
       "   require([\"d3\"], function(d3){\n",
       "      window.d3 = d3;\n",
       "      LDAvis_load_lib(\"https://cdn.jsdelivr.net/gh/bmabey/pyLDAvis@3.3.1/pyLDAvis/js/ldavis.v3.0.0.js\", function(){\n",
       "        new LDAvis(\"#\" + \"ldavis_el5914825697843250568386149803\", ldavis_el5914825697843250568386149803_data);\n",
       "      });\n",
       "    });\n",
       "}else{\n",
       "    // require.js not available: dynamically load d3 & LDAvis\n",
       "    LDAvis_load_lib(\"https://d3js.org/d3.v5.js\", function(){\n",
       "         LDAvis_load_lib(\"https://cdn.jsdelivr.net/gh/bmabey/pyLDAvis@3.3.1/pyLDAvis/js/ldavis.v3.0.0.js\", function(){\n",
       "                 new LDAvis(\"#\" + \"ldavis_el5914825697843250568386149803\", ldavis_el5914825697843250568386149803_data);\n",
       "            })\n",
       "         });\n",
       "}\n",
       "</script>"
      ],
      "text/plain": [
       "PreparedData(topic_coordinates=              x         y  topics  cluster       Freq\n",
       "topic                                                \n",
       "0     -0.027717 -0.064967       1        1   6.167942\n",
       "1     -0.049193  0.027274       2        1  16.789193\n",
       "2      0.227472  0.073583       3        1   0.015954\n",
       "3     -0.152409  0.257116       4        1   1.817635\n",
       "4     -0.060260  0.041610       5        1   2.128205\n",
       "5     -0.041533 -0.068096       6        1   4.647017\n",
       "6     -0.020552 -0.059430       7        1   8.801259\n",
       "7     -0.008348 -0.079281       8        1   2.975757\n",
       "8     -0.007669 -0.043043       9        1  10.885544\n",
       "9     -0.006176 -0.052507      10        1  14.845282\n",
       "10     0.252074  0.090694      11        1   0.015587\n",
       "11    -0.030278 -0.074784      12        1   6.039199\n",
       "12    -0.015840 -0.075587      13        1  14.186474\n",
       "13     0.020919 -0.049160      14        1   9.919835\n",
       "14    -0.080490  0.076577      15        1   0.765117, topic_info=           Term          Freq         Total Category  logprob  loglift\n",
       "258   transport  56906.000000  56906.000000  Default  30.0000  30.0000\n",
       "56    crossrail  14072.000000  14072.000000  Default  29.0000  29.0000\n",
       "273       would  45045.000000  45045.000000  Default  28.0000  28.0000\n",
       "102  government  24161.000000  24161.000000  Default  27.0000  27.0000\n",
       "198        rail  31306.000000  31306.000000  Default  26.0000  26.0000\n",
       "..          ...           ...           ...      ...      ...      ...\n",
       "193     provide    186.050543  16336.788646  Topic15  -5.1273   0.3977\n",
       "214      report    163.379781  10588.074514  Topic15  -5.2573   0.7015\n",
       "195      public    167.127638  22037.365981  Topic15  -5.2346  -0.0088\n",
       "6          also    162.314777  17235.507386  Topic15  -5.2638   0.2077\n",
       "13         area    156.999865  16219.557338  Topic15  -5.2971   0.2352\n",
       "\n",
       "[1382 rows x 6 columns], token_table=       Topic      Freq       Term\n",
       "term                             \n",
       "23223     12  0.974317       aaib\n",
       "23223     13  0.023764       aaib\n",
       "11946      2  0.061362  abatement\n",
       "11946      6  0.699530  abatement\n",
       "11946     12  0.208632  abatement\n",
       "...      ...       ...        ...\n",
       "7299      14  0.197259  yesterday\n",
       "7299      15  0.001174  yesterday\n",
       "22597      2  0.989217       zoom\n",
       "39913     10  0.998533     ﬁnance\n",
       "39915     10  0.998777   ﬁnancial\n",
       "\n",
       "[5114 rows x 3 columns], R=30, lambda_step=0.01, plot_opts={'xlab': 'PC1', 'ylab': 'PC2'}, topic_order=[1, 2, 3, 4, 5, 6, 7, 8, 9, 10, 11, 12, 13, 14, 15])"
      ]
     },
     "execution_count": 227,
     "metadata": {},
     "output_type": "execute_result"
    }
   ],
   "source": [
    "# Visualize the topics\n",
    "pyLDAvis.enable_notebook()\n",
    "vis = pyLDAvis.gensim_models.prepare(lda_model, corpus, id2word, sort_topics = False )\n",
    "vis"
   ]
  },
  {
   "cell_type": "markdown",
   "metadata": {},
   "source": [
    "### Prototypical texts for each topic\n",
    "I followed the method of extraction of prototypical text suggested by PTBI proposed by Marchetti and Puranam (2020). Its heart lies in that for parameter L (probability that a document belongs to a topic), at least 1/L documents with probablity that they belong to the topic >= L are needed to interpret the topics, this method tries to find out the opitimal value of L to maximize the percentage of interpretable topics (Marchetti and Puranam, 2020, p. 20)"
   ]
  },
  {
   "cell_type": "code",
   "execution_count": 228,
   "metadata": {},
   "outputs": [],
   "source": [
    "List_num_doc = [x for x in range(1, 20, 1)] # generate a list of 1/L (minimum number of documents to interpret a topic)\n",
    "list_L = [1/x for x in List_num_doc]        # generate a list of L"
   ]
  },
  {
   "cell_type": "code",
   "execution_count": 229,
   "metadata": {},
   "outputs": [],
   "source": [
    "# create the function for computing the percentage of potentially interpretable topics against parameter L\n",
    "def perc(i, df):\n",
    "    list_num_topics = []\n",
    "    for j in df:                                  \n",
    "        topic_filter = df[j] >= i         \n",
    "        m = df[j][topic_filter].count()           \n",
    "        list_num_topics.append(m)                                             \n",
    "        count1 = sum(map(lambda x : x >= 1/i, list_num_topics))                                     \n",
    "        perc1 = count1 / k\n",
    "    return(perc1)"
   ]
  },
  {
   "cell_type": "markdown",
   "metadata": {},
   "source": [
    "The following chart shows that the percentage of potentially interpretable topics for “high enough” levels of L is not large enough, so the paragraph-based interpretation can be explored. "
   ]
  },
  {
   "cell_type": "code",
   "execution_count": 230,
   "metadata": {},
   "outputs": [
    {
     "data": {
      "application/vnd.plotly.v1+json": {
       "config": {
        "plotlyServerURL": "https://plotly.com"
       },
       "data": [
        {
         "hovertemplate": "Parameter L=%{x}<br>Percentage of interpretable topics=%{y}<extra></extra>",
         "legendgroup": "",
         "line": {
          "color": "#636efa",
          "dash": "solid"
         },
         "mode": "lines+markers",
         "name": "",
         "orientation": "v",
         "showlegend": false,
         "type": "scatter",
         "x": [
          1,
          0.5,
          0.3333333333333333,
          0.25,
          0.2,
          0.16666666666666666,
          0.14285714285714285,
          0.125,
          0.1111111111111111,
          0.1,
          0.09090909090909091,
          0.08333333333333333,
          0.07692307692307693,
          0.07142857142857142,
          0.06666666666666667,
          0.0625,
          0.058823529411764705,
          0.05555555555555555,
          0.05263157894736842
         ],
         "xaxis": "x",
         "y": [
          0,
          0.7333333333333333,
          0.6666666666666666,
          0.6,
          0.6,
          0.6666666666666666,
          0.6666666666666666,
          0.6666666666666666,
          0.7333333333333333,
          0.8,
          0.7333333333333333,
          0.7333333333333333,
          0.7333333333333333,
          0.7333333333333333,
          0.7333333333333333,
          0.7333333333333333,
          0.7333333333333333,
          0.7333333333333333,
          0.7333333333333333
         ],
         "yaxis": "y"
        }
       ],
       "layout": {
        "autosize": false,
        "height": 400,
        "legend": {
         "tracegroupgap": 0
        },
        "template": {
         "data": {
          "bar": [
           {
            "error_x": {
             "color": "#2a3f5f"
            },
            "error_y": {
             "color": "#2a3f5f"
            },
            "marker": {
             "line": {
              "color": "#E5ECF6",
              "width": 0.5
             }
            },
            "type": "bar"
           }
          ],
          "barpolar": [
           {
            "marker": {
             "line": {
              "color": "#E5ECF6",
              "width": 0.5
             }
            },
            "type": "barpolar"
           }
          ],
          "carpet": [
           {
            "aaxis": {
             "endlinecolor": "#2a3f5f",
             "gridcolor": "white",
             "linecolor": "white",
             "minorgridcolor": "white",
             "startlinecolor": "#2a3f5f"
            },
            "baxis": {
             "endlinecolor": "#2a3f5f",
             "gridcolor": "white",
             "linecolor": "white",
             "minorgridcolor": "white",
             "startlinecolor": "#2a3f5f"
            },
            "type": "carpet"
           }
          ],
          "choropleth": [
           {
            "colorbar": {
             "outlinewidth": 0,
             "ticks": ""
            },
            "type": "choropleth"
           }
          ],
          "contour": [
           {
            "colorbar": {
             "outlinewidth": 0,
             "ticks": ""
            },
            "colorscale": [
             [
              0,
              "#0d0887"
             ],
             [
              0.1111111111111111,
              "#46039f"
             ],
             [
              0.2222222222222222,
              "#7201a8"
             ],
             [
              0.3333333333333333,
              "#9c179e"
             ],
             [
              0.4444444444444444,
              "#bd3786"
             ],
             [
              0.5555555555555556,
              "#d8576b"
             ],
             [
              0.6666666666666666,
              "#ed7953"
             ],
             [
              0.7777777777777778,
              "#fb9f3a"
             ],
             [
              0.8888888888888888,
              "#fdca26"
             ],
             [
              1,
              "#f0f921"
             ]
            ],
            "type": "contour"
           }
          ],
          "contourcarpet": [
           {
            "colorbar": {
             "outlinewidth": 0,
             "ticks": ""
            },
            "type": "contourcarpet"
           }
          ],
          "heatmap": [
           {
            "colorbar": {
             "outlinewidth": 0,
             "ticks": ""
            },
            "colorscale": [
             [
              0,
              "#0d0887"
             ],
             [
              0.1111111111111111,
              "#46039f"
             ],
             [
              0.2222222222222222,
              "#7201a8"
             ],
             [
              0.3333333333333333,
              "#9c179e"
             ],
             [
              0.4444444444444444,
              "#bd3786"
             ],
             [
              0.5555555555555556,
              "#d8576b"
             ],
             [
              0.6666666666666666,
              "#ed7953"
             ],
             [
              0.7777777777777778,
              "#fb9f3a"
             ],
             [
              0.8888888888888888,
              "#fdca26"
             ],
             [
              1,
              "#f0f921"
             ]
            ],
            "type": "heatmap"
           }
          ],
          "heatmapgl": [
           {
            "colorbar": {
             "outlinewidth": 0,
             "ticks": ""
            },
            "colorscale": [
             [
              0,
              "#0d0887"
             ],
             [
              0.1111111111111111,
              "#46039f"
             ],
             [
              0.2222222222222222,
              "#7201a8"
             ],
             [
              0.3333333333333333,
              "#9c179e"
             ],
             [
              0.4444444444444444,
              "#bd3786"
             ],
             [
              0.5555555555555556,
              "#d8576b"
             ],
             [
              0.6666666666666666,
              "#ed7953"
             ],
             [
              0.7777777777777778,
              "#fb9f3a"
             ],
             [
              0.8888888888888888,
              "#fdca26"
             ],
             [
              1,
              "#f0f921"
             ]
            ],
            "type": "heatmapgl"
           }
          ],
          "histogram": [
           {
            "marker": {
             "colorbar": {
              "outlinewidth": 0,
              "ticks": ""
             }
            },
            "type": "histogram"
           }
          ],
          "histogram2d": [
           {
            "colorbar": {
             "outlinewidth": 0,
             "ticks": ""
            },
            "colorscale": [
             [
              0,
              "#0d0887"
             ],
             [
              0.1111111111111111,
              "#46039f"
             ],
             [
              0.2222222222222222,
              "#7201a8"
             ],
             [
              0.3333333333333333,
              "#9c179e"
             ],
             [
              0.4444444444444444,
              "#bd3786"
             ],
             [
              0.5555555555555556,
              "#d8576b"
             ],
             [
              0.6666666666666666,
              "#ed7953"
             ],
             [
              0.7777777777777778,
              "#fb9f3a"
             ],
             [
              0.8888888888888888,
              "#fdca26"
             ],
             [
              1,
              "#f0f921"
             ]
            ],
            "type": "histogram2d"
           }
          ],
          "histogram2dcontour": [
           {
            "colorbar": {
             "outlinewidth": 0,
             "ticks": ""
            },
            "colorscale": [
             [
              0,
              "#0d0887"
             ],
             [
              0.1111111111111111,
              "#46039f"
             ],
             [
              0.2222222222222222,
              "#7201a8"
             ],
             [
              0.3333333333333333,
              "#9c179e"
             ],
             [
              0.4444444444444444,
              "#bd3786"
             ],
             [
              0.5555555555555556,
              "#d8576b"
             ],
             [
              0.6666666666666666,
              "#ed7953"
             ],
             [
              0.7777777777777778,
              "#fb9f3a"
             ],
             [
              0.8888888888888888,
              "#fdca26"
             ],
             [
              1,
              "#f0f921"
             ]
            ],
            "type": "histogram2dcontour"
           }
          ],
          "mesh3d": [
           {
            "colorbar": {
             "outlinewidth": 0,
             "ticks": ""
            },
            "type": "mesh3d"
           }
          ],
          "parcoords": [
           {
            "line": {
             "colorbar": {
              "outlinewidth": 0,
              "ticks": ""
             }
            },
            "type": "parcoords"
           }
          ],
          "pie": [
           {
            "automargin": true,
            "type": "pie"
           }
          ],
          "scatter": [
           {
            "marker": {
             "colorbar": {
              "outlinewidth": 0,
              "ticks": ""
             }
            },
            "type": "scatter"
           }
          ],
          "scatter3d": [
           {
            "line": {
             "colorbar": {
              "outlinewidth": 0,
              "ticks": ""
             }
            },
            "marker": {
             "colorbar": {
              "outlinewidth": 0,
              "ticks": ""
             }
            },
            "type": "scatter3d"
           }
          ],
          "scattercarpet": [
           {
            "marker": {
             "colorbar": {
              "outlinewidth": 0,
              "ticks": ""
             }
            },
            "type": "scattercarpet"
           }
          ],
          "scattergeo": [
           {
            "marker": {
             "colorbar": {
              "outlinewidth": 0,
              "ticks": ""
             }
            },
            "type": "scattergeo"
           }
          ],
          "scattergl": [
           {
            "marker": {
             "colorbar": {
              "outlinewidth": 0,
              "ticks": ""
             }
            },
            "type": "scattergl"
           }
          ],
          "scattermapbox": [
           {
            "marker": {
             "colorbar": {
              "outlinewidth": 0,
              "ticks": ""
             }
            },
            "type": "scattermapbox"
           }
          ],
          "scatterpolar": [
           {
            "marker": {
             "colorbar": {
              "outlinewidth": 0,
              "ticks": ""
             }
            },
            "type": "scatterpolar"
           }
          ],
          "scatterpolargl": [
           {
            "marker": {
             "colorbar": {
              "outlinewidth": 0,
              "ticks": ""
             }
            },
            "type": "scatterpolargl"
           }
          ],
          "scatterternary": [
           {
            "marker": {
             "colorbar": {
              "outlinewidth": 0,
              "ticks": ""
             }
            },
            "type": "scatterternary"
           }
          ],
          "surface": [
           {
            "colorbar": {
             "outlinewidth": 0,
             "ticks": ""
            },
            "colorscale": [
             [
              0,
              "#0d0887"
             ],
             [
              0.1111111111111111,
              "#46039f"
             ],
             [
              0.2222222222222222,
              "#7201a8"
             ],
             [
              0.3333333333333333,
              "#9c179e"
             ],
             [
              0.4444444444444444,
              "#bd3786"
             ],
             [
              0.5555555555555556,
              "#d8576b"
             ],
             [
              0.6666666666666666,
              "#ed7953"
             ],
             [
              0.7777777777777778,
              "#fb9f3a"
             ],
             [
              0.8888888888888888,
              "#fdca26"
             ],
             [
              1,
              "#f0f921"
             ]
            ],
            "type": "surface"
           }
          ],
          "table": [
           {
            "cells": {
             "fill": {
              "color": "#EBF0F8"
             },
             "line": {
              "color": "white"
             }
            },
            "header": {
             "fill": {
              "color": "#C8D4E3"
             },
             "line": {
              "color": "white"
             }
            },
            "type": "table"
           }
          ]
         },
         "layout": {
          "annotationdefaults": {
           "arrowcolor": "#2a3f5f",
           "arrowhead": 0,
           "arrowwidth": 1
          },
          "autotypenumbers": "strict",
          "coloraxis": {
           "colorbar": {
            "outlinewidth": 0,
            "ticks": ""
           }
          },
          "colorscale": {
           "diverging": [
            [
             0,
             "#8e0152"
            ],
            [
             0.1,
             "#c51b7d"
            ],
            [
             0.2,
             "#de77ae"
            ],
            [
             0.3,
             "#f1b6da"
            ],
            [
             0.4,
             "#fde0ef"
            ],
            [
             0.5,
             "#f7f7f7"
            ],
            [
             0.6,
             "#e6f5d0"
            ],
            [
             0.7,
             "#b8e186"
            ],
            [
             0.8,
             "#7fbc41"
            ],
            [
             0.9,
             "#4d9221"
            ],
            [
             1,
             "#276419"
            ]
           ],
           "sequential": [
            [
             0,
             "#0d0887"
            ],
            [
             0.1111111111111111,
             "#46039f"
            ],
            [
             0.2222222222222222,
             "#7201a8"
            ],
            [
             0.3333333333333333,
             "#9c179e"
            ],
            [
             0.4444444444444444,
             "#bd3786"
            ],
            [
             0.5555555555555556,
             "#d8576b"
            ],
            [
             0.6666666666666666,
             "#ed7953"
            ],
            [
             0.7777777777777778,
             "#fb9f3a"
            ],
            [
             0.8888888888888888,
             "#fdca26"
            ],
            [
             1,
             "#f0f921"
            ]
           ],
           "sequentialminus": [
            [
             0,
             "#0d0887"
            ],
            [
             0.1111111111111111,
             "#46039f"
            ],
            [
             0.2222222222222222,
             "#7201a8"
            ],
            [
             0.3333333333333333,
             "#9c179e"
            ],
            [
             0.4444444444444444,
             "#bd3786"
            ],
            [
             0.5555555555555556,
             "#d8576b"
            ],
            [
             0.6666666666666666,
             "#ed7953"
            ],
            [
             0.7777777777777778,
             "#fb9f3a"
            ],
            [
             0.8888888888888888,
             "#fdca26"
            ],
            [
             1,
             "#f0f921"
            ]
           ]
          },
          "colorway": [
           "#636efa",
           "#EF553B",
           "#00cc96",
           "#ab63fa",
           "#FFA15A",
           "#19d3f3",
           "#FF6692",
           "#B6E880",
           "#FF97FF",
           "#FECB52"
          ],
          "font": {
           "color": "#2a3f5f"
          },
          "geo": {
           "bgcolor": "white",
           "lakecolor": "white",
           "landcolor": "#E5ECF6",
           "showlakes": true,
           "showland": true,
           "subunitcolor": "white"
          },
          "hoverlabel": {
           "align": "left"
          },
          "hovermode": "closest",
          "mapbox": {
           "style": "light"
          },
          "paper_bgcolor": "white",
          "plot_bgcolor": "#E5ECF6",
          "polar": {
           "angularaxis": {
            "gridcolor": "white",
            "linecolor": "white",
            "ticks": ""
           },
           "bgcolor": "#E5ECF6",
           "radialaxis": {
            "gridcolor": "white",
            "linecolor": "white",
            "ticks": ""
           }
          },
          "scene": {
           "xaxis": {
            "backgroundcolor": "#E5ECF6",
            "gridcolor": "white",
            "gridwidth": 2,
            "linecolor": "white",
            "showbackground": true,
            "ticks": "",
            "zerolinecolor": "white"
           },
           "yaxis": {
            "backgroundcolor": "#E5ECF6",
            "gridcolor": "white",
            "gridwidth": 2,
            "linecolor": "white",
            "showbackground": true,
            "ticks": "",
            "zerolinecolor": "white"
           },
           "zaxis": {
            "backgroundcolor": "#E5ECF6",
            "gridcolor": "white",
            "gridwidth": 2,
            "linecolor": "white",
            "showbackground": true,
            "ticks": "",
            "zerolinecolor": "white"
           }
          },
          "shapedefaults": {
           "line": {
            "color": "#2a3f5f"
           }
          },
          "ternary": {
           "aaxis": {
            "gridcolor": "white",
            "linecolor": "white",
            "ticks": ""
           },
           "baxis": {
            "gridcolor": "white",
            "linecolor": "white",
            "ticks": ""
           },
           "bgcolor": "#E5ECF6",
           "caxis": {
            "gridcolor": "white",
            "linecolor": "white",
            "ticks": ""
           }
          },
          "title": {
           "x": 0.05
          },
          "xaxis": {
           "automargin": true,
           "gridcolor": "white",
           "linecolor": "white",
           "ticks": "",
           "title": {
            "standoff": 15
           },
           "zerolinecolor": "white",
           "zerolinewidth": 2
          },
          "yaxis": {
           "automargin": true,
           "gridcolor": "white",
           "linecolor": "white",
           "ticks": "",
           "title": {
            "standoff": 15
           },
           "zerolinecolor": "white",
           "zerolinewidth": 2
          }
         }
        },
        "title": {
         "text": "Value selection for parameter L (document-based)"
        },
        "width": 1200,
        "xaxis": {
         "anchor": "y",
         "domain": [
          0,
          1
         ],
         "title": {
          "text": "Parameter L"
         }
        },
        "yaxis": {
         "anchor": "x",
         "domain": [
          0,
          1
         ],
         "title": {
          "text": "Percentage of interpretable topics"
         }
        }
       }
      },
      "text/html": [
       "<div>                            <div id=\"2f03170b-e048-41d5-9e40-903953c2092f\" class=\"plotly-graph-div\" style=\"height:400px; width:1200px;\"></div>            <script type=\"text/javascript\">                require([\"plotly\"], function(Plotly) {                    window.PLOTLYENV=window.PLOTLYENV || {};                                    if (document.getElementById(\"2f03170b-e048-41d5-9e40-903953c2092f\")) {                    Plotly.newPlot(                        \"2f03170b-e048-41d5-9e40-903953c2092f\",                        [{\"hovertemplate\": \"Parameter L=%{x}<br>Percentage of interpretable topics=%{y}<extra></extra>\", \"legendgroup\": \"\", \"line\": {\"color\": \"#636efa\", \"dash\": \"solid\"}, \"mode\": \"lines+markers\", \"name\": \"\", \"orientation\": \"v\", \"showlegend\": false, \"type\": \"scatter\", \"x\": [1.0, 0.5, 0.3333333333333333, 0.25, 0.2, 0.16666666666666666, 0.14285714285714285, 0.125, 0.1111111111111111, 0.1, 0.09090909090909091, 0.08333333333333333, 0.07692307692307693, 0.07142857142857142, 0.06666666666666667, 0.0625, 0.058823529411764705, 0.05555555555555555, 0.05263157894736842], \"xaxis\": \"x\", \"y\": [0.0, 0.7333333333333333, 0.6666666666666666, 0.6, 0.6, 0.6666666666666666, 0.6666666666666666, 0.6666666666666666, 0.7333333333333333, 0.8, 0.7333333333333333, 0.7333333333333333, 0.7333333333333333, 0.7333333333333333, 0.7333333333333333, 0.7333333333333333, 0.7333333333333333, 0.7333333333333333, 0.7333333333333333], \"yaxis\": \"y\"}],                        {\"autosize\": false, \"height\": 400, \"legend\": {\"tracegroupgap\": 0}, \"template\": {\"data\": {\"bar\": [{\"error_x\": {\"color\": \"#2a3f5f\"}, \"error_y\": {\"color\": \"#2a3f5f\"}, \"marker\": {\"line\": {\"color\": \"#E5ECF6\", \"width\": 0.5}}, \"type\": \"bar\"}], \"barpolar\": [{\"marker\": {\"line\": {\"color\": \"#E5ECF6\", \"width\": 0.5}}, \"type\": \"barpolar\"}], \"carpet\": [{\"aaxis\": {\"endlinecolor\": \"#2a3f5f\", \"gridcolor\": \"white\", \"linecolor\": \"white\", \"minorgridcolor\": \"white\", \"startlinecolor\": \"#2a3f5f\"}, \"baxis\": {\"endlinecolor\": \"#2a3f5f\", \"gridcolor\": \"white\", \"linecolor\": \"white\", \"minorgridcolor\": \"white\", \"startlinecolor\": \"#2a3f5f\"}, \"type\": \"carpet\"}], \"choropleth\": [{\"colorbar\": {\"outlinewidth\": 0, \"ticks\": \"\"}, \"type\": \"choropleth\"}], \"contour\": [{\"colorbar\": {\"outlinewidth\": 0, \"ticks\": \"\"}, \"colorscale\": [[0.0, \"#0d0887\"], [0.1111111111111111, \"#46039f\"], [0.2222222222222222, \"#7201a8\"], [0.3333333333333333, \"#9c179e\"], [0.4444444444444444, \"#bd3786\"], [0.5555555555555556, \"#d8576b\"], [0.6666666666666666, \"#ed7953\"], [0.7777777777777778, \"#fb9f3a\"], [0.8888888888888888, \"#fdca26\"], [1.0, \"#f0f921\"]], \"type\": \"contour\"}], \"contourcarpet\": [{\"colorbar\": {\"outlinewidth\": 0, \"ticks\": \"\"}, \"type\": \"contourcarpet\"}], \"heatmap\": [{\"colorbar\": {\"outlinewidth\": 0, \"ticks\": \"\"}, \"colorscale\": [[0.0, \"#0d0887\"], [0.1111111111111111, \"#46039f\"], [0.2222222222222222, \"#7201a8\"], [0.3333333333333333, \"#9c179e\"], [0.4444444444444444, \"#bd3786\"], [0.5555555555555556, \"#d8576b\"], [0.6666666666666666, \"#ed7953\"], [0.7777777777777778, \"#fb9f3a\"], [0.8888888888888888, \"#fdca26\"], [1.0, \"#f0f921\"]], \"type\": \"heatmap\"}], \"heatmapgl\": [{\"colorbar\": {\"outlinewidth\": 0, \"ticks\": \"\"}, \"colorscale\": [[0.0, \"#0d0887\"], [0.1111111111111111, \"#46039f\"], [0.2222222222222222, \"#7201a8\"], [0.3333333333333333, \"#9c179e\"], [0.4444444444444444, \"#bd3786\"], [0.5555555555555556, \"#d8576b\"], [0.6666666666666666, \"#ed7953\"], [0.7777777777777778, \"#fb9f3a\"], [0.8888888888888888, \"#fdca26\"], [1.0, \"#f0f921\"]], \"type\": \"heatmapgl\"}], \"histogram\": [{\"marker\": {\"colorbar\": {\"outlinewidth\": 0, \"ticks\": \"\"}}, \"type\": \"histogram\"}], \"histogram2d\": [{\"colorbar\": {\"outlinewidth\": 0, \"ticks\": \"\"}, \"colorscale\": [[0.0, \"#0d0887\"], [0.1111111111111111, \"#46039f\"], [0.2222222222222222, \"#7201a8\"], [0.3333333333333333, \"#9c179e\"], [0.4444444444444444, \"#bd3786\"], [0.5555555555555556, \"#d8576b\"], [0.6666666666666666, \"#ed7953\"], [0.7777777777777778, \"#fb9f3a\"], [0.8888888888888888, \"#fdca26\"], [1.0, \"#f0f921\"]], \"type\": \"histogram2d\"}], \"histogram2dcontour\": [{\"colorbar\": {\"outlinewidth\": 0, \"ticks\": \"\"}, \"colorscale\": [[0.0, \"#0d0887\"], [0.1111111111111111, \"#46039f\"], [0.2222222222222222, \"#7201a8\"], [0.3333333333333333, \"#9c179e\"], [0.4444444444444444, \"#bd3786\"], [0.5555555555555556, \"#d8576b\"], [0.6666666666666666, \"#ed7953\"], [0.7777777777777778, \"#fb9f3a\"], [0.8888888888888888, \"#fdca26\"], [1.0, \"#f0f921\"]], \"type\": \"histogram2dcontour\"}], \"mesh3d\": [{\"colorbar\": {\"outlinewidth\": 0, \"ticks\": \"\"}, \"type\": \"mesh3d\"}], \"parcoords\": [{\"line\": {\"colorbar\": {\"outlinewidth\": 0, \"ticks\": \"\"}}, \"type\": \"parcoords\"}], \"pie\": [{\"automargin\": true, \"type\": \"pie\"}], \"scatter\": [{\"marker\": {\"colorbar\": {\"outlinewidth\": 0, \"ticks\": \"\"}}, \"type\": \"scatter\"}], \"scatter3d\": [{\"line\": {\"colorbar\": {\"outlinewidth\": 0, \"ticks\": \"\"}}, \"marker\": {\"colorbar\": {\"outlinewidth\": 0, \"ticks\": \"\"}}, \"type\": \"scatter3d\"}], \"scattercarpet\": [{\"marker\": {\"colorbar\": {\"outlinewidth\": 0, \"ticks\": \"\"}}, \"type\": \"scattercarpet\"}], \"scattergeo\": [{\"marker\": {\"colorbar\": {\"outlinewidth\": 0, \"ticks\": \"\"}}, \"type\": \"scattergeo\"}], \"scattergl\": [{\"marker\": {\"colorbar\": {\"outlinewidth\": 0, \"ticks\": \"\"}}, \"type\": \"scattergl\"}], \"scattermapbox\": [{\"marker\": {\"colorbar\": {\"outlinewidth\": 0, \"ticks\": \"\"}}, \"type\": \"scattermapbox\"}], \"scatterpolar\": [{\"marker\": {\"colorbar\": {\"outlinewidth\": 0, \"ticks\": \"\"}}, \"type\": \"scatterpolar\"}], \"scatterpolargl\": [{\"marker\": {\"colorbar\": {\"outlinewidth\": 0, \"ticks\": \"\"}}, \"type\": \"scatterpolargl\"}], \"scatterternary\": [{\"marker\": {\"colorbar\": {\"outlinewidth\": 0, \"ticks\": \"\"}}, \"type\": \"scatterternary\"}], \"surface\": [{\"colorbar\": {\"outlinewidth\": 0, \"ticks\": \"\"}, \"colorscale\": [[0.0, \"#0d0887\"], [0.1111111111111111, \"#46039f\"], [0.2222222222222222, \"#7201a8\"], [0.3333333333333333, \"#9c179e\"], [0.4444444444444444, \"#bd3786\"], [0.5555555555555556, \"#d8576b\"], [0.6666666666666666, \"#ed7953\"], [0.7777777777777778, \"#fb9f3a\"], [0.8888888888888888, \"#fdca26\"], [1.0, \"#f0f921\"]], \"type\": \"surface\"}], \"table\": [{\"cells\": {\"fill\": {\"color\": \"#EBF0F8\"}, \"line\": {\"color\": \"white\"}}, \"header\": {\"fill\": {\"color\": \"#C8D4E3\"}, \"line\": {\"color\": \"white\"}}, \"type\": \"table\"}]}, \"layout\": {\"annotationdefaults\": {\"arrowcolor\": \"#2a3f5f\", \"arrowhead\": 0, \"arrowwidth\": 1}, \"autotypenumbers\": \"strict\", \"coloraxis\": {\"colorbar\": {\"outlinewidth\": 0, \"ticks\": \"\"}}, \"colorscale\": {\"diverging\": [[0, \"#8e0152\"], [0.1, \"#c51b7d\"], [0.2, \"#de77ae\"], [0.3, \"#f1b6da\"], [0.4, \"#fde0ef\"], [0.5, \"#f7f7f7\"], [0.6, \"#e6f5d0\"], [0.7, \"#b8e186\"], [0.8, \"#7fbc41\"], [0.9, \"#4d9221\"], [1, \"#276419\"]], \"sequential\": [[0.0, \"#0d0887\"], [0.1111111111111111, \"#46039f\"], [0.2222222222222222, \"#7201a8\"], [0.3333333333333333, \"#9c179e\"], [0.4444444444444444, \"#bd3786\"], [0.5555555555555556, \"#d8576b\"], [0.6666666666666666, \"#ed7953\"], [0.7777777777777778, \"#fb9f3a\"], [0.8888888888888888, \"#fdca26\"], [1.0, \"#f0f921\"]], \"sequentialminus\": [[0.0, \"#0d0887\"], [0.1111111111111111, \"#46039f\"], [0.2222222222222222, \"#7201a8\"], [0.3333333333333333, \"#9c179e\"], [0.4444444444444444, \"#bd3786\"], [0.5555555555555556, \"#d8576b\"], [0.6666666666666666, \"#ed7953\"], [0.7777777777777778, \"#fb9f3a\"], [0.8888888888888888, \"#fdca26\"], [1.0, \"#f0f921\"]]}, \"colorway\": [\"#636efa\", \"#EF553B\", \"#00cc96\", \"#ab63fa\", \"#FFA15A\", \"#19d3f3\", \"#FF6692\", \"#B6E880\", \"#FF97FF\", \"#FECB52\"], \"font\": {\"color\": \"#2a3f5f\"}, \"geo\": {\"bgcolor\": \"white\", \"lakecolor\": \"white\", \"landcolor\": \"#E5ECF6\", \"showlakes\": true, \"showland\": true, \"subunitcolor\": \"white\"}, \"hoverlabel\": {\"align\": \"left\"}, \"hovermode\": \"closest\", \"mapbox\": {\"style\": \"light\"}, \"paper_bgcolor\": \"white\", \"plot_bgcolor\": \"#E5ECF6\", \"polar\": {\"angularaxis\": {\"gridcolor\": \"white\", \"linecolor\": \"white\", \"ticks\": \"\"}, \"bgcolor\": \"#E5ECF6\", \"radialaxis\": {\"gridcolor\": \"white\", \"linecolor\": \"white\", \"ticks\": \"\"}}, \"scene\": {\"xaxis\": {\"backgroundcolor\": \"#E5ECF6\", \"gridcolor\": \"white\", \"gridwidth\": 2, \"linecolor\": \"white\", \"showbackground\": true, \"ticks\": \"\", \"zerolinecolor\": \"white\"}, \"yaxis\": {\"backgroundcolor\": \"#E5ECF6\", \"gridcolor\": \"white\", \"gridwidth\": 2, \"linecolor\": \"white\", \"showbackground\": true, \"ticks\": \"\", \"zerolinecolor\": \"white\"}, \"zaxis\": {\"backgroundcolor\": \"#E5ECF6\", \"gridcolor\": \"white\", \"gridwidth\": 2, \"linecolor\": \"white\", \"showbackground\": true, \"ticks\": \"\", \"zerolinecolor\": \"white\"}}, \"shapedefaults\": {\"line\": {\"color\": \"#2a3f5f\"}}, \"ternary\": {\"aaxis\": {\"gridcolor\": \"white\", \"linecolor\": \"white\", \"ticks\": \"\"}, \"baxis\": {\"gridcolor\": \"white\", \"linecolor\": \"white\", \"ticks\": \"\"}, \"bgcolor\": \"#E5ECF6\", \"caxis\": {\"gridcolor\": \"white\", \"linecolor\": \"white\", \"ticks\": \"\"}}, \"title\": {\"x\": 0.05}, \"xaxis\": {\"automargin\": true, \"gridcolor\": \"white\", \"linecolor\": \"white\", \"ticks\": \"\", \"title\": {\"standoff\": 15}, \"zerolinecolor\": \"white\", \"zerolinewidth\": 2}, \"yaxis\": {\"automargin\": true, \"gridcolor\": \"white\", \"linecolor\": \"white\", \"ticks\": \"\", \"title\": {\"standoff\": 15}, \"zerolinecolor\": \"white\", \"zerolinewidth\": 2}}}, \"title\": {\"text\": \"Value selection for parameter L (document-based)\"}, \"width\": 1200, \"xaxis\": {\"anchor\": \"y\", \"domain\": [0.0, 1.0], \"title\": {\"text\": \"Parameter L\"}}, \"yaxis\": {\"anchor\": \"x\", \"domain\": [0.0, 1.0], \"title\": {\"text\": \"Percentage of interpretable topics\"}}},                        {\"responsive\": true}                    ).then(function(){\n",
       "                            \n",
       "var gd = document.getElementById('2f03170b-e048-41d5-9e40-903953c2092f');\n",
       "var x = new MutationObserver(function (mutations, observer) {{\n",
       "        var display = window.getComputedStyle(gd).display;\n",
       "        if (!display || display === 'none') {{\n",
       "            console.log([gd, 'removed!']);\n",
       "            Plotly.purge(gd);\n",
       "            observer.disconnect();\n",
       "        }}\n",
       "}});\n",
       "\n",
       "// Listen for the removal of the full notebook cells\n",
       "var notebookContainer = gd.closest('#notebook-container');\n",
       "if (notebookContainer) {{\n",
       "    x.observe(notebookContainer, {childList: true});\n",
       "}}\n",
       "\n",
       "// Listen for the clearing of the current output cell\n",
       "var outputEl = gd.closest('.output');\n",
       "if (outputEl) {{\n",
       "    x.observe(outputEl, {childList: true});\n",
       "}}\n",
       "\n",
       "                        })                };                });            </script>        </div>"
      ]
     },
     "metadata": {},
     "output_type": "display_data"
    }
   ],
   "source": [
    "list_perc1 = []\n",
    "for i in list_L:\n",
    "    num = perc(i, df_topic_distribution)\n",
    "    list_perc1.append(num)\n",
    "\n",
    "df_L1 = pd.DataFrame({'Parameter L': list_L, 'Percentage of interpretable topics': list_perc1})\n",
    "fig_L1 = px.line(df_L1, x = 'Parameter L', y=\"Percentage of interpretable topics\", title = 'Value selection for parameter L (document-based)')\n",
    "fig_L1.update_layout(autosize=False, width=1200, height=400)\n",
    "fig_L1.update_traces(mode = \"lines + markers\")\n",
    "fig_L1.show()"
   ]
  },
  {
   "cell_type": "markdown",
   "metadata": {},
   "source": [
    "The following chart shows that when L = 0.5, the the percentage of interpretable topics is 86.7%, so we set L = 0.5 - ie, each topic needs at least 2(1/L) paragraphs to be interpreted."
   ]
  },
  {
   "cell_type": "code",
   "execution_count": 231,
   "metadata": {},
   "outputs": [
    {
     "data": {
      "text/html": [
       "<div>\n",
       "<style scoped>\n",
       "    .dataframe tbody tr th:only-of-type {\n",
       "        vertical-align: middle;\n",
       "    }\n",
       "\n",
       "    .dataframe tbody tr th {\n",
       "        vertical-align: top;\n",
       "    }\n",
       "\n",
       "    .dataframe thead th {\n",
       "        text-align: right;\n",
       "    }\n",
       "</style>\n",
       "<table border=\"1\" class=\"dataframe\">\n",
       "  <thead>\n",
       "    <tr style=\"text-align: right;\">\n",
       "      <th></th>\n",
       "      <th>0</th>\n",
       "      <th>1</th>\n",
       "      <th>2</th>\n",
       "      <th>3</th>\n",
       "      <th>4</th>\n",
       "      <th>5</th>\n",
       "      <th>6</th>\n",
       "      <th>7</th>\n",
       "      <th>8</th>\n",
       "      <th>9</th>\n",
       "      <th>10</th>\n",
       "      <th>11</th>\n",
       "      <th>12</th>\n",
       "      <th>13</th>\n",
       "      <th>14</th>\n",
       "    </tr>\n",
       "  </thead>\n",
       "  <tbody>\n",
       "    <tr>\n",
       "      <th>0</th>\n",
       "      <td>0.072448</td>\n",
       "      <td>0.062922</td>\n",
       "      <td>0.056170</td>\n",
       "      <td>0.059287</td>\n",
       "      <td>0.065967</td>\n",
       "      <td>0.075801</td>\n",
       "      <td>0.064500</td>\n",
       "      <td>0.060214</td>\n",
       "      <td>0.068891</td>\n",
       "      <td>0.064993</td>\n",
       "      <td>0.055450</td>\n",
       "      <td>0.077713</td>\n",
       "      <td>0.076425</td>\n",
       "      <td>0.068982</td>\n",
       "      <td>0.070236</td>\n",
       "    </tr>\n",
       "    <tr>\n",
       "      <th>1</th>\n",
       "      <td>0.070747</td>\n",
       "      <td>0.070882</td>\n",
       "      <td>0.050330</td>\n",
       "      <td>0.061963</td>\n",
       "      <td>0.076724</td>\n",
       "      <td>0.062193</td>\n",
       "      <td>0.065695</td>\n",
       "      <td>0.061436</td>\n",
       "      <td>0.068397</td>\n",
       "      <td>0.062524</td>\n",
       "      <td>0.049954</td>\n",
       "      <td>0.093780</td>\n",
       "      <td>0.076701</td>\n",
       "      <td>0.064980</td>\n",
       "      <td>0.063693</td>\n",
       "    </tr>\n",
       "    <tr>\n",
       "      <th>2</th>\n",
       "      <td>0.086332</td>\n",
       "      <td>0.063053</td>\n",
       "      <td>0.037152</td>\n",
       "      <td>0.042598</td>\n",
       "      <td>0.099212</td>\n",
       "      <td>0.065017</td>\n",
       "      <td>0.061546</td>\n",
       "      <td>0.050136</td>\n",
       "      <td>0.055723</td>\n",
       "      <td>0.066761</td>\n",
       "      <td>0.037708</td>\n",
       "      <td>0.116469</td>\n",
       "      <td>0.081088</td>\n",
       "      <td>0.071017</td>\n",
       "      <td>0.066188</td>\n",
       "    </tr>\n",
       "    <tr>\n",
       "      <th>3</th>\n",
       "      <td>0.131403</td>\n",
       "      <td>0.068612</td>\n",
       "      <td>0.025374</td>\n",
       "      <td>0.029843</td>\n",
       "      <td>0.091810</td>\n",
       "      <td>0.044684</td>\n",
       "      <td>0.044783</td>\n",
       "      <td>0.040568</td>\n",
       "      <td>0.055095</td>\n",
       "      <td>0.052669</td>\n",
       "      <td>0.024974</td>\n",
       "      <td>0.061665</td>\n",
       "      <td>0.052602</td>\n",
       "      <td>0.235253</td>\n",
       "      <td>0.040666</td>\n",
       "    </tr>\n",
       "    <tr>\n",
       "      <th>4</th>\n",
       "      <td>0.069285</td>\n",
       "      <td>0.069053</td>\n",
       "      <td>0.044518</td>\n",
       "      <td>0.049888</td>\n",
       "      <td>0.058232</td>\n",
       "      <td>0.078048</td>\n",
       "      <td>0.061086</td>\n",
       "      <td>0.068690</td>\n",
       "      <td>0.062046</td>\n",
       "      <td>0.102345</td>\n",
       "      <td>0.043165</td>\n",
       "      <td>0.064314</td>\n",
       "      <td>0.079124</td>\n",
       "      <td>0.093914</td>\n",
       "      <td>0.056291</td>\n",
       "    </tr>\n",
       "    <tr>\n",
       "      <th>...</th>\n",
       "      <td>...</td>\n",
       "      <td>...</td>\n",
       "      <td>...</td>\n",
       "      <td>...</td>\n",
       "      <td>...</td>\n",
       "      <td>...</td>\n",
       "      <td>...</td>\n",
       "      <td>...</td>\n",
       "      <td>...</td>\n",
       "      <td>...</td>\n",
       "      <td>...</td>\n",
       "      <td>...</td>\n",
       "      <td>...</td>\n",
       "      <td>...</td>\n",
       "      <td>...</td>\n",
       "    </tr>\n",
       "    <tr>\n",
       "      <th>52692</th>\n",
       "      <td>0.096125</td>\n",
       "      <td>0.071386</td>\n",
       "      <td>0.027858</td>\n",
       "      <td>0.041813</td>\n",
       "      <td>0.095278</td>\n",
       "      <td>0.052810</td>\n",
       "      <td>0.040474</td>\n",
       "      <td>0.051293</td>\n",
       "      <td>0.056721</td>\n",
       "      <td>0.133052</td>\n",
       "      <td>0.026874</td>\n",
       "      <td>0.047339</td>\n",
       "      <td>0.051183</td>\n",
       "      <td>0.162787</td>\n",
       "      <td>0.045006</td>\n",
       "    </tr>\n",
       "    <tr>\n",
       "      <th>52693</th>\n",
       "      <td>0.085474</td>\n",
       "      <td>0.068257</td>\n",
       "      <td>0.047044</td>\n",
       "      <td>0.056173</td>\n",
       "      <td>0.070794</td>\n",
       "      <td>0.066754</td>\n",
       "      <td>0.061583</td>\n",
       "      <td>0.050914</td>\n",
       "      <td>0.060732</td>\n",
       "      <td>0.076330</td>\n",
       "      <td>0.047374</td>\n",
       "      <td>0.057462</td>\n",
       "      <td>0.060376</td>\n",
       "      <td>0.128952</td>\n",
       "      <td>0.061780</td>\n",
       "    </tr>\n",
       "    <tr>\n",
       "      <th>52694</th>\n",
       "      <td>0.073769</td>\n",
       "      <td>0.074035</td>\n",
       "      <td>0.047510</td>\n",
       "      <td>0.057346</td>\n",
       "      <td>0.090340</td>\n",
       "      <td>0.059344</td>\n",
       "      <td>0.056209</td>\n",
       "      <td>0.057094</td>\n",
       "      <td>0.060466</td>\n",
       "      <td>0.061084</td>\n",
       "      <td>0.047341</td>\n",
       "      <td>0.054888</td>\n",
       "      <td>0.058834</td>\n",
       "      <td>0.131114</td>\n",
       "      <td>0.070625</td>\n",
       "    </tr>\n",
       "    <tr>\n",
       "      <th>52695</th>\n",
       "      <td>0.083192</td>\n",
       "      <td>0.059174</td>\n",
       "      <td>0.047981</td>\n",
       "      <td>0.057561</td>\n",
       "      <td>0.065598</td>\n",
       "      <td>0.068059</td>\n",
       "      <td>0.071295</td>\n",
       "      <td>0.062680</td>\n",
       "      <td>0.064459</td>\n",
       "      <td>0.084050</td>\n",
       "      <td>0.046833</td>\n",
       "      <td>0.059579</td>\n",
       "      <td>0.062758</td>\n",
       "      <td>0.117769</td>\n",
       "      <td>0.049012</td>\n",
       "    </tr>\n",
       "    <tr>\n",
       "      <th>52696</th>\n",
       "      <td>0.065911</td>\n",
       "      <td>0.068391</td>\n",
       "      <td>0.044016</td>\n",
       "      <td>0.043735</td>\n",
       "      <td>0.069573</td>\n",
       "      <td>0.087748</td>\n",
       "      <td>0.063180</td>\n",
       "      <td>0.086749</td>\n",
       "      <td>0.068249</td>\n",
       "      <td>0.082650</td>\n",
       "      <td>0.043095</td>\n",
       "      <td>0.060870</td>\n",
       "      <td>0.063127</td>\n",
       "      <td>0.098716</td>\n",
       "      <td>0.053991</td>\n",
       "    </tr>\n",
       "  </tbody>\n",
       "</table>\n",
       "<p>52697 rows × 15 columns</p>\n",
       "</div>"
      ],
      "text/plain": [
       "             0         1         2         3         4         5         6   \\\n",
       "0      0.072448  0.062922  0.056170  0.059287  0.065967  0.075801  0.064500   \n",
       "1      0.070747  0.070882  0.050330  0.061963  0.076724  0.062193  0.065695   \n",
       "2      0.086332  0.063053  0.037152  0.042598  0.099212  0.065017  0.061546   \n",
       "3      0.131403  0.068612  0.025374  0.029843  0.091810  0.044684  0.044783   \n",
       "4      0.069285  0.069053  0.044518  0.049888  0.058232  0.078048  0.061086   \n",
       "...         ...       ...       ...       ...       ...       ...       ...   \n",
       "52692  0.096125  0.071386  0.027858  0.041813  0.095278  0.052810  0.040474   \n",
       "52693  0.085474  0.068257  0.047044  0.056173  0.070794  0.066754  0.061583   \n",
       "52694  0.073769  0.074035  0.047510  0.057346  0.090340  0.059344  0.056209   \n",
       "52695  0.083192  0.059174  0.047981  0.057561  0.065598  0.068059  0.071295   \n",
       "52696  0.065911  0.068391  0.044016  0.043735  0.069573  0.087748  0.063180   \n",
       "\n",
       "             7         8         9         10        11        12        13  \\\n",
       "0      0.060214  0.068891  0.064993  0.055450  0.077713  0.076425  0.068982   \n",
       "1      0.061436  0.068397  0.062524  0.049954  0.093780  0.076701  0.064980   \n",
       "2      0.050136  0.055723  0.066761  0.037708  0.116469  0.081088  0.071017   \n",
       "3      0.040568  0.055095  0.052669  0.024974  0.061665  0.052602  0.235253   \n",
       "4      0.068690  0.062046  0.102345  0.043165  0.064314  0.079124  0.093914   \n",
       "...         ...       ...       ...       ...       ...       ...       ...   \n",
       "52692  0.051293  0.056721  0.133052  0.026874  0.047339  0.051183  0.162787   \n",
       "52693  0.050914  0.060732  0.076330  0.047374  0.057462  0.060376  0.128952   \n",
       "52694  0.057094  0.060466  0.061084  0.047341  0.054888  0.058834  0.131114   \n",
       "52695  0.062680  0.064459  0.084050  0.046833  0.059579  0.062758  0.117769   \n",
       "52696  0.086749  0.068249  0.082650  0.043095  0.060870  0.063127  0.098716   \n",
       "\n",
       "             14  \n",
       "0      0.070236  \n",
       "1      0.063693  \n",
       "2      0.066188  \n",
       "3      0.040666  \n",
       "4      0.056291  \n",
       "...         ...  \n",
       "52692  0.045006  \n",
       "52693  0.061780  \n",
       "52694  0.070625  \n",
       "52695  0.049012  \n",
       "52696  0.053991  \n",
       "\n",
       "[52697 rows x 15 columns]"
      ]
     },
     "execution_count": 231,
     "metadata": {},
     "output_type": "execute_result"
    }
   ],
   "source": [
    "df_topic_para"
   ]
  },
  {
   "cell_type": "code",
   "execution_count": 232,
   "metadata": {},
   "outputs": [
    {
     "data": {
      "application/vnd.plotly.v1+json": {
       "config": {
        "plotlyServerURL": "https://plotly.com"
       },
       "data": [
        {
         "hovertemplate": "Parameter L=%{x}<br>Percentage of interpretable topics=%{y}<extra></extra>",
         "legendgroup": "",
         "line": {
          "color": "#636efa",
          "dash": "solid"
         },
         "mode": "lines+markers",
         "name": "",
         "orientation": "v",
         "showlegend": false,
         "type": "scatter",
         "x": [
          1,
          0.5,
          0.3333333333333333,
          0.25,
          0.2,
          0.16666666666666666,
          0.14285714285714285,
          0.125,
          0.1111111111111111,
          0.1,
          0.09090909090909091,
          0.08333333333333333,
          0.07692307692307693,
          0.07142857142857142,
          0.06666666666666667,
          0.0625,
          0.058823529411764705,
          0.05555555555555555,
          0.05263157894736842
         ],
         "xaxis": "x",
         "y": [
          0,
          0.8666666666666667,
          0.8666666666666667,
          0.8666666666666667,
          0.8666666666666667,
          0.8666666666666667,
          0.8666666666666667,
          0.8666666666666667,
          0.8666666666666667,
          0.8666666666666667,
          0.8666666666666667,
          0.8666666666666667,
          0.8666666666666667,
          0.8666666666666667,
          1,
          1,
          1,
          1,
          1
         ],
         "yaxis": "y"
        }
       ],
       "layout": {
        "autosize": false,
        "height": 400,
        "legend": {
         "tracegroupgap": 0
        },
        "template": {
         "data": {
          "bar": [
           {
            "error_x": {
             "color": "#2a3f5f"
            },
            "error_y": {
             "color": "#2a3f5f"
            },
            "marker": {
             "line": {
              "color": "#E5ECF6",
              "width": 0.5
             }
            },
            "type": "bar"
           }
          ],
          "barpolar": [
           {
            "marker": {
             "line": {
              "color": "#E5ECF6",
              "width": 0.5
             }
            },
            "type": "barpolar"
           }
          ],
          "carpet": [
           {
            "aaxis": {
             "endlinecolor": "#2a3f5f",
             "gridcolor": "white",
             "linecolor": "white",
             "minorgridcolor": "white",
             "startlinecolor": "#2a3f5f"
            },
            "baxis": {
             "endlinecolor": "#2a3f5f",
             "gridcolor": "white",
             "linecolor": "white",
             "minorgridcolor": "white",
             "startlinecolor": "#2a3f5f"
            },
            "type": "carpet"
           }
          ],
          "choropleth": [
           {
            "colorbar": {
             "outlinewidth": 0,
             "ticks": ""
            },
            "type": "choropleth"
           }
          ],
          "contour": [
           {
            "colorbar": {
             "outlinewidth": 0,
             "ticks": ""
            },
            "colorscale": [
             [
              0,
              "#0d0887"
             ],
             [
              0.1111111111111111,
              "#46039f"
             ],
             [
              0.2222222222222222,
              "#7201a8"
             ],
             [
              0.3333333333333333,
              "#9c179e"
             ],
             [
              0.4444444444444444,
              "#bd3786"
             ],
             [
              0.5555555555555556,
              "#d8576b"
             ],
             [
              0.6666666666666666,
              "#ed7953"
             ],
             [
              0.7777777777777778,
              "#fb9f3a"
             ],
             [
              0.8888888888888888,
              "#fdca26"
             ],
             [
              1,
              "#f0f921"
             ]
            ],
            "type": "contour"
           }
          ],
          "contourcarpet": [
           {
            "colorbar": {
             "outlinewidth": 0,
             "ticks": ""
            },
            "type": "contourcarpet"
           }
          ],
          "heatmap": [
           {
            "colorbar": {
             "outlinewidth": 0,
             "ticks": ""
            },
            "colorscale": [
             [
              0,
              "#0d0887"
             ],
             [
              0.1111111111111111,
              "#46039f"
             ],
             [
              0.2222222222222222,
              "#7201a8"
             ],
             [
              0.3333333333333333,
              "#9c179e"
             ],
             [
              0.4444444444444444,
              "#bd3786"
             ],
             [
              0.5555555555555556,
              "#d8576b"
             ],
             [
              0.6666666666666666,
              "#ed7953"
             ],
             [
              0.7777777777777778,
              "#fb9f3a"
             ],
             [
              0.8888888888888888,
              "#fdca26"
             ],
             [
              1,
              "#f0f921"
             ]
            ],
            "type": "heatmap"
           }
          ],
          "heatmapgl": [
           {
            "colorbar": {
             "outlinewidth": 0,
             "ticks": ""
            },
            "colorscale": [
             [
              0,
              "#0d0887"
             ],
             [
              0.1111111111111111,
              "#46039f"
             ],
             [
              0.2222222222222222,
              "#7201a8"
             ],
             [
              0.3333333333333333,
              "#9c179e"
             ],
             [
              0.4444444444444444,
              "#bd3786"
             ],
             [
              0.5555555555555556,
              "#d8576b"
             ],
             [
              0.6666666666666666,
              "#ed7953"
             ],
             [
              0.7777777777777778,
              "#fb9f3a"
             ],
             [
              0.8888888888888888,
              "#fdca26"
             ],
             [
              1,
              "#f0f921"
             ]
            ],
            "type": "heatmapgl"
           }
          ],
          "histogram": [
           {
            "marker": {
             "colorbar": {
              "outlinewidth": 0,
              "ticks": ""
             }
            },
            "type": "histogram"
           }
          ],
          "histogram2d": [
           {
            "colorbar": {
             "outlinewidth": 0,
             "ticks": ""
            },
            "colorscale": [
             [
              0,
              "#0d0887"
             ],
             [
              0.1111111111111111,
              "#46039f"
             ],
             [
              0.2222222222222222,
              "#7201a8"
             ],
             [
              0.3333333333333333,
              "#9c179e"
             ],
             [
              0.4444444444444444,
              "#bd3786"
             ],
             [
              0.5555555555555556,
              "#d8576b"
             ],
             [
              0.6666666666666666,
              "#ed7953"
             ],
             [
              0.7777777777777778,
              "#fb9f3a"
             ],
             [
              0.8888888888888888,
              "#fdca26"
             ],
             [
              1,
              "#f0f921"
             ]
            ],
            "type": "histogram2d"
           }
          ],
          "histogram2dcontour": [
           {
            "colorbar": {
             "outlinewidth": 0,
             "ticks": ""
            },
            "colorscale": [
             [
              0,
              "#0d0887"
             ],
             [
              0.1111111111111111,
              "#46039f"
             ],
             [
              0.2222222222222222,
              "#7201a8"
             ],
             [
              0.3333333333333333,
              "#9c179e"
             ],
             [
              0.4444444444444444,
              "#bd3786"
             ],
             [
              0.5555555555555556,
              "#d8576b"
             ],
             [
              0.6666666666666666,
              "#ed7953"
             ],
             [
              0.7777777777777778,
              "#fb9f3a"
             ],
             [
              0.8888888888888888,
              "#fdca26"
             ],
             [
              1,
              "#f0f921"
             ]
            ],
            "type": "histogram2dcontour"
           }
          ],
          "mesh3d": [
           {
            "colorbar": {
             "outlinewidth": 0,
             "ticks": ""
            },
            "type": "mesh3d"
           }
          ],
          "parcoords": [
           {
            "line": {
             "colorbar": {
              "outlinewidth": 0,
              "ticks": ""
             }
            },
            "type": "parcoords"
           }
          ],
          "pie": [
           {
            "automargin": true,
            "type": "pie"
           }
          ],
          "scatter": [
           {
            "marker": {
             "colorbar": {
              "outlinewidth": 0,
              "ticks": ""
             }
            },
            "type": "scatter"
           }
          ],
          "scatter3d": [
           {
            "line": {
             "colorbar": {
              "outlinewidth": 0,
              "ticks": ""
             }
            },
            "marker": {
             "colorbar": {
              "outlinewidth": 0,
              "ticks": ""
             }
            },
            "type": "scatter3d"
           }
          ],
          "scattercarpet": [
           {
            "marker": {
             "colorbar": {
              "outlinewidth": 0,
              "ticks": ""
             }
            },
            "type": "scattercarpet"
           }
          ],
          "scattergeo": [
           {
            "marker": {
             "colorbar": {
              "outlinewidth": 0,
              "ticks": ""
             }
            },
            "type": "scattergeo"
           }
          ],
          "scattergl": [
           {
            "marker": {
             "colorbar": {
              "outlinewidth": 0,
              "ticks": ""
             }
            },
            "type": "scattergl"
           }
          ],
          "scattermapbox": [
           {
            "marker": {
             "colorbar": {
              "outlinewidth": 0,
              "ticks": ""
             }
            },
            "type": "scattermapbox"
           }
          ],
          "scatterpolar": [
           {
            "marker": {
             "colorbar": {
              "outlinewidth": 0,
              "ticks": ""
             }
            },
            "type": "scatterpolar"
           }
          ],
          "scatterpolargl": [
           {
            "marker": {
             "colorbar": {
              "outlinewidth": 0,
              "ticks": ""
             }
            },
            "type": "scatterpolargl"
           }
          ],
          "scatterternary": [
           {
            "marker": {
             "colorbar": {
              "outlinewidth": 0,
              "ticks": ""
             }
            },
            "type": "scatterternary"
           }
          ],
          "surface": [
           {
            "colorbar": {
             "outlinewidth": 0,
             "ticks": ""
            },
            "colorscale": [
             [
              0,
              "#0d0887"
             ],
             [
              0.1111111111111111,
              "#46039f"
             ],
             [
              0.2222222222222222,
              "#7201a8"
             ],
             [
              0.3333333333333333,
              "#9c179e"
             ],
             [
              0.4444444444444444,
              "#bd3786"
             ],
             [
              0.5555555555555556,
              "#d8576b"
             ],
             [
              0.6666666666666666,
              "#ed7953"
             ],
             [
              0.7777777777777778,
              "#fb9f3a"
             ],
             [
              0.8888888888888888,
              "#fdca26"
             ],
             [
              1,
              "#f0f921"
             ]
            ],
            "type": "surface"
           }
          ],
          "table": [
           {
            "cells": {
             "fill": {
              "color": "#EBF0F8"
             },
             "line": {
              "color": "white"
             }
            },
            "header": {
             "fill": {
              "color": "#C8D4E3"
             },
             "line": {
              "color": "white"
             }
            },
            "type": "table"
           }
          ]
         },
         "layout": {
          "annotationdefaults": {
           "arrowcolor": "#2a3f5f",
           "arrowhead": 0,
           "arrowwidth": 1
          },
          "autotypenumbers": "strict",
          "coloraxis": {
           "colorbar": {
            "outlinewidth": 0,
            "ticks": ""
           }
          },
          "colorscale": {
           "diverging": [
            [
             0,
             "#8e0152"
            ],
            [
             0.1,
             "#c51b7d"
            ],
            [
             0.2,
             "#de77ae"
            ],
            [
             0.3,
             "#f1b6da"
            ],
            [
             0.4,
             "#fde0ef"
            ],
            [
             0.5,
             "#f7f7f7"
            ],
            [
             0.6,
             "#e6f5d0"
            ],
            [
             0.7,
             "#b8e186"
            ],
            [
             0.8,
             "#7fbc41"
            ],
            [
             0.9,
             "#4d9221"
            ],
            [
             1,
             "#276419"
            ]
           ],
           "sequential": [
            [
             0,
             "#0d0887"
            ],
            [
             0.1111111111111111,
             "#46039f"
            ],
            [
             0.2222222222222222,
             "#7201a8"
            ],
            [
             0.3333333333333333,
             "#9c179e"
            ],
            [
             0.4444444444444444,
             "#bd3786"
            ],
            [
             0.5555555555555556,
             "#d8576b"
            ],
            [
             0.6666666666666666,
             "#ed7953"
            ],
            [
             0.7777777777777778,
             "#fb9f3a"
            ],
            [
             0.8888888888888888,
             "#fdca26"
            ],
            [
             1,
             "#f0f921"
            ]
           ],
           "sequentialminus": [
            [
             0,
             "#0d0887"
            ],
            [
             0.1111111111111111,
             "#46039f"
            ],
            [
             0.2222222222222222,
             "#7201a8"
            ],
            [
             0.3333333333333333,
             "#9c179e"
            ],
            [
             0.4444444444444444,
             "#bd3786"
            ],
            [
             0.5555555555555556,
             "#d8576b"
            ],
            [
             0.6666666666666666,
             "#ed7953"
            ],
            [
             0.7777777777777778,
             "#fb9f3a"
            ],
            [
             0.8888888888888888,
             "#fdca26"
            ],
            [
             1,
             "#f0f921"
            ]
           ]
          },
          "colorway": [
           "#636efa",
           "#EF553B",
           "#00cc96",
           "#ab63fa",
           "#FFA15A",
           "#19d3f3",
           "#FF6692",
           "#B6E880",
           "#FF97FF",
           "#FECB52"
          ],
          "font": {
           "color": "#2a3f5f"
          },
          "geo": {
           "bgcolor": "white",
           "lakecolor": "white",
           "landcolor": "#E5ECF6",
           "showlakes": true,
           "showland": true,
           "subunitcolor": "white"
          },
          "hoverlabel": {
           "align": "left"
          },
          "hovermode": "closest",
          "mapbox": {
           "style": "light"
          },
          "paper_bgcolor": "white",
          "plot_bgcolor": "#E5ECF6",
          "polar": {
           "angularaxis": {
            "gridcolor": "white",
            "linecolor": "white",
            "ticks": ""
           },
           "bgcolor": "#E5ECF6",
           "radialaxis": {
            "gridcolor": "white",
            "linecolor": "white",
            "ticks": ""
           }
          },
          "scene": {
           "xaxis": {
            "backgroundcolor": "#E5ECF6",
            "gridcolor": "white",
            "gridwidth": 2,
            "linecolor": "white",
            "showbackground": true,
            "ticks": "",
            "zerolinecolor": "white"
           },
           "yaxis": {
            "backgroundcolor": "#E5ECF6",
            "gridcolor": "white",
            "gridwidth": 2,
            "linecolor": "white",
            "showbackground": true,
            "ticks": "",
            "zerolinecolor": "white"
           },
           "zaxis": {
            "backgroundcolor": "#E5ECF6",
            "gridcolor": "white",
            "gridwidth": 2,
            "linecolor": "white",
            "showbackground": true,
            "ticks": "",
            "zerolinecolor": "white"
           }
          },
          "shapedefaults": {
           "line": {
            "color": "#2a3f5f"
           }
          },
          "ternary": {
           "aaxis": {
            "gridcolor": "white",
            "linecolor": "white",
            "ticks": ""
           },
           "baxis": {
            "gridcolor": "white",
            "linecolor": "white",
            "ticks": ""
           },
           "bgcolor": "#E5ECF6",
           "caxis": {
            "gridcolor": "white",
            "linecolor": "white",
            "ticks": ""
           }
          },
          "title": {
           "x": 0.05
          },
          "xaxis": {
           "automargin": true,
           "gridcolor": "white",
           "linecolor": "white",
           "ticks": "",
           "title": {
            "standoff": 15
           },
           "zerolinecolor": "white",
           "zerolinewidth": 2
          },
          "yaxis": {
           "automargin": true,
           "gridcolor": "white",
           "linecolor": "white",
           "ticks": "",
           "title": {
            "standoff": 15
           },
           "zerolinecolor": "white",
           "zerolinewidth": 2
          }
         }
        },
        "title": {
         "text": "Value selection for parameter L (paragraph-based )"
        },
        "width": 1200,
        "xaxis": {
         "anchor": "y",
         "domain": [
          0,
          1
         ],
         "title": {
          "text": "Parameter L"
         }
        },
        "yaxis": {
         "anchor": "x",
         "domain": [
          0,
          1
         ],
         "title": {
          "text": "Percentage of interpretable topics"
         }
        }
       }
      },
      "text/html": [
       "<div>                            <div id=\"c60bcaaa-9878-4e05-9267-4b190fa56f52\" class=\"plotly-graph-div\" style=\"height:400px; width:1200px;\"></div>            <script type=\"text/javascript\">                require([\"plotly\"], function(Plotly) {                    window.PLOTLYENV=window.PLOTLYENV || {};                                    if (document.getElementById(\"c60bcaaa-9878-4e05-9267-4b190fa56f52\")) {                    Plotly.newPlot(                        \"c60bcaaa-9878-4e05-9267-4b190fa56f52\",                        [{\"hovertemplate\": \"Parameter L=%{x}<br>Percentage of interpretable topics=%{y}<extra></extra>\", \"legendgroup\": \"\", \"line\": {\"color\": \"#636efa\", \"dash\": \"solid\"}, \"mode\": \"lines+markers\", \"name\": \"\", \"orientation\": \"v\", \"showlegend\": false, \"type\": \"scatter\", \"x\": [1.0, 0.5, 0.3333333333333333, 0.25, 0.2, 0.16666666666666666, 0.14285714285714285, 0.125, 0.1111111111111111, 0.1, 0.09090909090909091, 0.08333333333333333, 0.07692307692307693, 0.07142857142857142, 0.06666666666666667, 0.0625, 0.058823529411764705, 0.05555555555555555, 0.05263157894736842], \"xaxis\": \"x\", \"y\": [0.0, 0.8666666666666667, 0.8666666666666667, 0.8666666666666667, 0.8666666666666667, 0.8666666666666667, 0.8666666666666667, 0.8666666666666667, 0.8666666666666667, 0.8666666666666667, 0.8666666666666667, 0.8666666666666667, 0.8666666666666667, 0.8666666666666667, 1.0, 1.0, 1.0, 1.0, 1.0], \"yaxis\": \"y\"}],                        {\"autosize\": false, \"height\": 400, \"legend\": {\"tracegroupgap\": 0}, \"template\": {\"data\": {\"bar\": [{\"error_x\": {\"color\": \"#2a3f5f\"}, \"error_y\": {\"color\": \"#2a3f5f\"}, \"marker\": {\"line\": {\"color\": \"#E5ECF6\", \"width\": 0.5}}, \"type\": \"bar\"}], \"barpolar\": [{\"marker\": {\"line\": {\"color\": \"#E5ECF6\", \"width\": 0.5}}, \"type\": \"barpolar\"}], \"carpet\": [{\"aaxis\": {\"endlinecolor\": \"#2a3f5f\", \"gridcolor\": \"white\", \"linecolor\": \"white\", \"minorgridcolor\": \"white\", \"startlinecolor\": \"#2a3f5f\"}, \"baxis\": {\"endlinecolor\": \"#2a3f5f\", \"gridcolor\": \"white\", \"linecolor\": \"white\", \"minorgridcolor\": \"white\", \"startlinecolor\": \"#2a3f5f\"}, \"type\": \"carpet\"}], \"choropleth\": [{\"colorbar\": {\"outlinewidth\": 0, \"ticks\": \"\"}, \"type\": \"choropleth\"}], \"contour\": [{\"colorbar\": {\"outlinewidth\": 0, \"ticks\": \"\"}, \"colorscale\": [[0.0, \"#0d0887\"], [0.1111111111111111, \"#46039f\"], [0.2222222222222222, \"#7201a8\"], [0.3333333333333333, \"#9c179e\"], [0.4444444444444444, \"#bd3786\"], [0.5555555555555556, \"#d8576b\"], [0.6666666666666666, \"#ed7953\"], [0.7777777777777778, \"#fb9f3a\"], [0.8888888888888888, \"#fdca26\"], [1.0, \"#f0f921\"]], \"type\": \"contour\"}], \"contourcarpet\": [{\"colorbar\": {\"outlinewidth\": 0, \"ticks\": \"\"}, \"type\": \"contourcarpet\"}], \"heatmap\": [{\"colorbar\": {\"outlinewidth\": 0, \"ticks\": \"\"}, \"colorscale\": [[0.0, \"#0d0887\"], [0.1111111111111111, \"#46039f\"], [0.2222222222222222, \"#7201a8\"], [0.3333333333333333, \"#9c179e\"], [0.4444444444444444, \"#bd3786\"], [0.5555555555555556, \"#d8576b\"], [0.6666666666666666, \"#ed7953\"], [0.7777777777777778, \"#fb9f3a\"], [0.8888888888888888, \"#fdca26\"], [1.0, \"#f0f921\"]], \"type\": \"heatmap\"}], \"heatmapgl\": [{\"colorbar\": {\"outlinewidth\": 0, \"ticks\": \"\"}, \"colorscale\": [[0.0, \"#0d0887\"], [0.1111111111111111, \"#46039f\"], [0.2222222222222222, \"#7201a8\"], [0.3333333333333333, \"#9c179e\"], [0.4444444444444444, \"#bd3786\"], [0.5555555555555556, \"#d8576b\"], [0.6666666666666666, \"#ed7953\"], [0.7777777777777778, \"#fb9f3a\"], [0.8888888888888888, \"#fdca26\"], [1.0, \"#f0f921\"]], \"type\": \"heatmapgl\"}], \"histogram\": [{\"marker\": {\"colorbar\": {\"outlinewidth\": 0, \"ticks\": \"\"}}, \"type\": \"histogram\"}], \"histogram2d\": [{\"colorbar\": {\"outlinewidth\": 0, \"ticks\": \"\"}, \"colorscale\": [[0.0, \"#0d0887\"], [0.1111111111111111, \"#46039f\"], [0.2222222222222222, \"#7201a8\"], [0.3333333333333333, \"#9c179e\"], [0.4444444444444444, \"#bd3786\"], [0.5555555555555556, \"#d8576b\"], [0.6666666666666666, \"#ed7953\"], [0.7777777777777778, \"#fb9f3a\"], [0.8888888888888888, \"#fdca26\"], [1.0, \"#f0f921\"]], \"type\": \"histogram2d\"}], \"histogram2dcontour\": [{\"colorbar\": {\"outlinewidth\": 0, \"ticks\": \"\"}, \"colorscale\": [[0.0, \"#0d0887\"], [0.1111111111111111, \"#46039f\"], [0.2222222222222222, \"#7201a8\"], [0.3333333333333333, \"#9c179e\"], [0.4444444444444444, \"#bd3786\"], [0.5555555555555556, \"#d8576b\"], [0.6666666666666666, \"#ed7953\"], [0.7777777777777778, \"#fb9f3a\"], [0.8888888888888888, \"#fdca26\"], [1.0, \"#f0f921\"]], \"type\": \"histogram2dcontour\"}], \"mesh3d\": [{\"colorbar\": {\"outlinewidth\": 0, \"ticks\": \"\"}, \"type\": \"mesh3d\"}], \"parcoords\": [{\"line\": {\"colorbar\": {\"outlinewidth\": 0, \"ticks\": \"\"}}, \"type\": \"parcoords\"}], \"pie\": [{\"automargin\": true, \"type\": \"pie\"}], \"scatter\": [{\"marker\": {\"colorbar\": {\"outlinewidth\": 0, \"ticks\": \"\"}}, \"type\": \"scatter\"}], \"scatter3d\": [{\"line\": {\"colorbar\": {\"outlinewidth\": 0, \"ticks\": \"\"}}, \"marker\": {\"colorbar\": {\"outlinewidth\": 0, \"ticks\": \"\"}}, \"type\": \"scatter3d\"}], \"scattercarpet\": [{\"marker\": {\"colorbar\": {\"outlinewidth\": 0, \"ticks\": \"\"}}, \"type\": \"scattercarpet\"}], \"scattergeo\": [{\"marker\": {\"colorbar\": {\"outlinewidth\": 0, \"ticks\": \"\"}}, \"type\": \"scattergeo\"}], \"scattergl\": [{\"marker\": {\"colorbar\": {\"outlinewidth\": 0, \"ticks\": \"\"}}, \"type\": \"scattergl\"}], \"scattermapbox\": [{\"marker\": {\"colorbar\": {\"outlinewidth\": 0, \"ticks\": \"\"}}, \"type\": \"scattermapbox\"}], \"scatterpolar\": [{\"marker\": {\"colorbar\": {\"outlinewidth\": 0, \"ticks\": \"\"}}, \"type\": \"scatterpolar\"}], \"scatterpolargl\": [{\"marker\": {\"colorbar\": {\"outlinewidth\": 0, \"ticks\": \"\"}}, \"type\": \"scatterpolargl\"}], \"scatterternary\": [{\"marker\": {\"colorbar\": {\"outlinewidth\": 0, \"ticks\": \"\"}}, \"type\": \"scatterternary\"}], \"surface\": [{\"colorbar\": {\"outlinewidth\": 0, \"ticks\": \"\"}, \"colorscale\": [[0.0, \"#0d0887\"], [0.1111111111111111, \"#46039f\"], [0.2222222222222222, \"#7201a8\"], [0.3333333333333333, \"#9c179e\"], [0.4444444444444444, \"#bd3786\"], [0.5555555555555556, \"#d8576b\"], [0.6666666666666666, \"#ed7953\"], [0.7777777777777778, \"#fb9f3a\"], [0.8888888888888888, \"#fdca26\"], [1.0, \"#f0f921\"]], \"type\": \"surface\"}], \"table\": [{\"cells\": {\"fill\": {\"color\": \"#EBF0F8\"}, \"line\": {\"color\": \"white\"}}, \"header\": {\"fill\": {\"color\": \"#C8D4E3\"}, \"line\": {\"color\": \"white\"}}, \"type\": \"table\"}]}, \"layout\": {\"annotationdefaults\": {\"arrowcolor\": \"#2a3f5f\", \"arrowhead\": 0, \"arrowwidth\": 1}, \"autotypenumbers\": \"strict\", \"coloraxis\": {\"colorbar\": {\"outlinewidth\": 0, \"ticks\": \"\"}}, \"colorscale\": {\"diverging\": [[0, \"#8e0152\"], [0.1, \"#c51b7d\"], [0.2, \"#de77ae\"], [0.3, \"#f1b6da\"], [0.4, \"#fde0ef\"], [0.5, \"#f7f7f7\"], [0.6, \"#e6f5d0\"], [0.7, \"#b8e186\"], [0.8, \"#7fbc41\"], [0.9, \"#4d9221\"], [1, \"#276419\"]], \"sequential\": [[0.0, \"#0d0887\"], [0.1111111111111111, \"#46039f\"], [0.2222222222222222, \"#7201a8\"], [0.3333333333333333, \"#9c179e\"], [0.4444444444444444, \"#bd3786\"], [0.5555555555555556, \"#d8576b\"], [0.6666666666666666, \"#ed7953\"], [0.7777777777777778, \"#fb9f3a\"], [0.8888888888888888, \"#fdca26\"], [1.0, \"#f0f921\"]], \"sequentialminus\": [[0.0, \"#0d0887\"], [0.1111111111111111, \"#46039f\"], [0.2222222222222222, \"#7201a8\"], [0.3333333333333333, \"#9c179e\"], [0.4444444444444444, \"#bd3786\"], [0.5555555555555556, \"#d8576b\"], [0.6666666666666666, \"#ed7953\"], [0.7777777777777778, \"#fb9f3a\"], [0.8888888888888888, \"#fdca26\"], [1.0, \"#f0f921\"]]}, \"colorway\": [\"#636efa\", \"#EF553B\", \"#00cc96\", \"#ab63fa\", \"#FFA15A\", \"#19d3f3\", \"#FF6692\", \"#B6E880\", \"#FF97FF\", \"#FECB52\"], \"font\": {\"color\": \"#2a3f5f\"}, \"geo\": {\"bgcolor\": \"white\", \"lakecolor\": \"white\", \"landcolor\": \"#E5ECF6\", \"showlakes\": true, \"showland\": true, \"subunitcolor\": \"white\"}, \"hoverlabel\": {\"align\": \"left\"}, \"hovermode\": \"closest\", \"mapbox\": {\"style\": \"light\"}, \"paper_bgcolor\": \"white\", \"plot_bgcolor\": \"#E5ECF6\", \"polar\": {\"angularaxis\": {\"gridcolor\": \"white\", \"linecolor\": \"white\", \"ticks\": \"\"}, \"bgcolor\": \"#E5ECF6\", \"radialaxis\": {\"gridcolor\": \"white\", \"linecolor\": \"white\", \"ticks\": \"\"}}, \"scene\": {\"xaxis\": {\"backgroundcolor\": \"#E5ECF6\", \"gridcolor\": \"white\", \"gridwidth\": 2, \"linecolor\": \"white\", \"showbackground\": true, \"ticks\": \"\", \"zerolinecolor\": \"white\"}, \"yaxis\": {\"backgroundcolor\": \"#E5ECF6\", \"gridcolor\": \"white\", \"gridwidth\": 2, \"linecolor\": \"white\", \"showbackground\": true, \"ticks\": \"\", \"zerolinecolor\": \"white\"}, \"zaxis\": {\"backgroundcolor\": \"#E5ECF6\", \"gridcolor\": \"white\", \"gridwidth\": 2, \"linecolor\": \"white\", \"showbackground\": true, \"ticks\": \"\", \"zerolinecolor\": \"white\"}}, \"shapedefaults\": {\"line\": {\"color\": \"#2a3f5f\"}}, \"ternary\": {\"aaxis\": {\"gridcolor\": \"white\", \"linecolor\": \"white\", \"ticks\": \"\"}, \"baxis\": {\"gridcolor\": \"white\", \"linecolor\": \"white\", \"ticks\": \"\"}, \"bgcolor\": \"#E5ECF6\", \"caxis\": {\"gridcolor\": \"white\", \"linecolor\": \"white\", \"ticks\": \"\"}}, \"title\": {\"x\": 0.05}, \"xaxis\": {\"automargin\": true, \"gridcolor\": \"white\", \"linecolor\": \"white\", \"ticks\": \"\", \"title\": {\"standoff\": 15}, \"zerolinecolor\": \"white\", \"zerolinewidth\": 2}, \"yaxis\": {\"automargin\": true, \"gridcolor\": \"white\", \"linecolor\": \"white\", \"ticks\": \"\", \"title\": {\"standoff\": 15}, \"zerolinecolor\": \"white\", \"zerolinewidth\": 2}}}, \"title\": {\"text\": \"Value selection for parameter L (paragraph-based )\"}, \"width\": 1200, \"xaxis\": {\"anchor\": \"y\", \"domain\": [0.0, 1.0], \"title\": {\"text\": \"Parameter L\"}}, \"yaxis\": {\"anchor\": \"x\", \"domain\": [0.0, 1.0], \"title\": {\"text\": \"Percentage of interpretable topics\"}}},                        {\"responsive\": true}                    ).then(function(){\n",
       "                            \n",
       "var gd = document.getElementById('c60bcaaa-9878-4e05-9267-4b190fa56f52');\n",
       "var x = new MutationObserver(function (mutations, observer) {{\n",
       "        var display = window.getComputedStyle(gd).display;\n",
       "        if (!display || display === 'none') {{\n",
       "            console.log([gd, 'removed!']);\n",
       "            Plotly.purge(gd);\n",
       "            observer.disconnect();\n",
       "        }}\n",
       "}});\n",
       "\n",
       "// Listen for the removal of the full notebook cells\n",
       "var notebookContainer = gd.closest('#notebook-container');\n",
       "if (notebookContainer) {{\n",
       "    x.observe(notebookContainer, {childList: true});\n",
       "}}\n",
       "\n",
       "// Listen for the clearing of the current output cell\n",
       "var outputEl = gd.closest('.output');\n",
       "if (outputEl) {{\n",
       "    x.observe(outputEl, {childList: true});\n",
       "}}\n",
       "\n",
       "                        })                };                });            </script>        </div>"
      ]
     },
     "metadata": {},
     "output_type": "display_data"
    }
   ],
   "source": [
    "#df_topic_para2 = df_topic_para1.drop(['document_id', 'paragraphs'], axis = 1)\n",
    "list_perc2 = []\n",
    "for i in list_L:\n",
    "    num = perc(i, df_topic_para)\n",
    "    list_perc2.append(num)\n",
    "\n",
    "df_L2 = pd.DataFrame({'Parameter L': list_L, 'Percentage of interpretable topics': list_perc2})\n",
    "fig_L2 = px.line(df_L2, x = 'Parameter L', y=\"Percentage of interpretable topics\", title = 'Value selection for parameter L (paragraph-based )')\n",
    "fig_L2.update_layout(autosize=False, width=1200, height=400)\n",
    "fig_L2.update_traces(mode = \"lines + markers\")\n",
    "fig_L2.show()"
   ]
  },
  {
   "cell_type": "markdown",
   "metadata": {},
   "source": [
    "# Build topic model on paragraphs"
   ]
  },
  {
   "cell_type": "code",
   "execution_count": null,
   "metadata": {},
   "outputs": [],
   "source": [
    "# tokenization\n",
    "#data2 = df_para.paragraphs.values.tolist()\n",
    "#data_words2_2 = list(sent_to_words(data2))"
   ]
  },
  {
   "cell_type": "code",
   "execution_count": null,
   "metadata": {},
   "outputs": [],
   "source": [
    "# set the length of word threshold for removing the words less than the threshold\n",
    "#minimum_len = 4 \n",
    "#data_words2 = []\n",
    "#for i in data_words2_2:\n",
    "    new_element = [x for x in i if len(x) >= minimum_len]\n",
    "    data_words2.append(new_element)"
   ]
  },
  {
   "cell_type": "code",
   "execution_count": null,
   "metadata": {},
   "outputs": [],
   "source": [
    "# Bigram & Trigram\n",
    "#bigram2 = gensim.models.Phrases(data_words2, min_count=5, threshold=100) # higher threshold fewer phrases.\n",
    "#trigram2 = gensim.models.Phrases(bigram2[data_words2], threshold=100)  \n",
    "#bigram_mod2 = gensim.models.phrases.Phraser(bigram2)\n",
    "#trigram_mod2 = gensim.models.phrases.Phraser(trigram2)"
   ]
  },
  {
   "cell_type": "code",
   "execution_count": null,
   "metadata": {},
   "outputs": [],
   "source": [
    "# Remove Stop Words\n",
    "#data_words_nostops2 = remove_stopwords(data_words2)\n",
    "\n",
    "# Form Trigrams\n",
    "#data_words_trigrams2 = make_trigrams(data_words_nostops2)\n",
    "\n",
    "# Do lemmatization keeping only noun, adj, vb, adv\n",
    "#data_lemmatized2 = lemmatization(data_words_trigrams2, allowed_postags=['NOUN', 'ADJ', 'VERB', 'ADV'])"
   ]
  },
  {
   "cell_type": "code",
   "execution_count": null,
   "metadata": {},
   "outputs": [],
   "source": [
    "# Create Dictionary\n",
    "#id2word2 = corpora.Dictionary(data_lemmatized2)\n",
    "\n",
    "# Create Corpus\n",
    "#texts2 = data_lemmatized2\n",
    "\n",
    "# Term Document Frequency\n",
    "#corpus2 = [id2word2.doc2bow(text) for text in texts]"
   ]
  },
  {
   "cell_type": "code",
   "execution_count": null,
   "metadata": {},
   "outputs": [],
   "source": [
    "#lda_model2 = gensim.models.LdaModel(\n",
    "#    corpus=corpus2,\n",
    "#    id2word=id2word2,\n",
    "#   alpha=alpha,\n",
    "#    eta=eta,\n",
    "#    iterations=iterations,\n",
    "#    num_topics=k, \n",
    "#   passes=passes)"
   ]
  },
  {
   "cell_type": "code",
   "execution_count": null,
   "metadata": {},
   "outputs": [],
   "source": [
    "# Compute Coherence Score\n",
    "#coherence_model_lda2 = CoherenceModel(model=lda_model2, texts=data_lemmatized2, dictionary=id2word2, coherence='c_v')\n",
    "#coherence_lda2 = coherence_model_lda2.get_coherence()\n",
    "#print('\\nCoherence Score: ', coherence_lda2)"
   ]
  },
  {
   "cell_type": "code",
   "execution_count": null,
   "metadata": {},
   "outputs": [],
   "source": [
    "# Visualize the topics\n",
    "#vis2 = pyLDAvis.gensim_models.prepare(lda_model2, corpus2, id2word2, sort_topics = False)\n",
    "#vis2"
   ]
  },
  {
   "cell_type": "code",
   "execution_count": null,
   "metadata": {},
   "outputs": [],
   "source": []
  }
 ],
 "metadata": {
  "kernelspec": {
   "display_name": "Python 3",
   "language": "python",
   "name": "python3"
  },
  "language_info": {
   "codemirror_mode": {
    "name": "ipython",
    "version": 3
   },
   "file_extension": ".py",
   "mimetype": "text/x-python",
   "name": "python",
   "nbconvert_exporter": "python",
   "pygments_lexer": "ipython3",
   "version": "3.8.3"
  }
 },
 "nbformat": 4,
 "nbformat_minor": 4
}
